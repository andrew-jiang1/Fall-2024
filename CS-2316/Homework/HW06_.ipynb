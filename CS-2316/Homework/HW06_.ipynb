{
 "cells": [
  {
   "cell_type": "markdown",
   "id": "58f56fa9",
   "metadata": {},
   "source": [
    "# CS 2316 - Fall 2024 - HW06 Data Visualization\n",
    "# HW06: This homework is due by Sunday, October 20th @ 11:59PM.\n",
    "\n",
    "You are required to complete the missing bodies of the functions below.\n",
    "Further instructions are provided in the comments ...\n",
    "# A few tips:\n",
    "   - Make sure you return the right value and datatype\n",
    "   - <b> Some questions may involve data manipulation. <b>\n",
    "   - <b>Pay attention to capitalization and small details. They matter.</b> \n",
    "   - Do not import modules within functions\n",
    "   - Do not leave any print statements within your functions\n",
    "   - Submit in Canvas as HW06_GTID.ipynb  - Your submission should be named exactly HW06_GTID.ipynb\n",
    "   - <b>All outputs should be displayed before you submit. We will not run your code to see the output.</b>\n",
    "   - Print your variables as you code in order to see what values they have\n",
    "   - Don't try to do everything at once! Generate the graph before worrying about colors, axis titles, etc.\n",
    "   - <b> TAs are NOT allowed to provide ANY help with the extra credit assignment. This should be done entirely on your own. </b>\n",
    "   - Here is the Plotly documentation: https://plotly.com/python/\n",
    "\n",
    "## HW06 Problem Setup:\n",
    "    You love Costco. You want to know everything about the Costcos of every country to find the top Costcos in the world. To do so, you are combing through information about every Costco in the world and comparing them to see which countries or locations stand out.\n",
    "\n",
    "    The following questions will walk you through the process of loading, cleaning,\n",
    "    and transforming data to generate analysis points and visualizations.\n",
    "    \n",
    "    Note: You must use Plotly for Q2 - Q5. You can use whichever module you'd like for the Q6. \n",
    "    \n",
    "## Extra Credit Opportunity:\n",
    "    The final cell in this assignment gives you an opportunity to create an extra credit function.\n",
    "    In order to receive a bonus 5pts, create a function that creates another visual with the given data frame.\n",
    "    This visual must be significantly more advanced than the questions within this homework. If you simply submit a plain \n",
    "    bar chart, box plot, histogram, scatterplot, pie chart, or trendline- you will not receive full credit.\n",
    "    \n",
    "    You are allowed to use any of the libraries we have discussed, and we recommend you peruse the documentation \n",
    "    for the matplotlib, seaborn, and plotly.express libraries. Try to make your visual interactive, engaging, and \n",
    "    draw a clear analysis. A 1-2 sentence description of your visual, describing the analysis point generated from \n",
    "    the visual, is necessary to receive any credit!"
   ]
  },
  {
   "cell_type": "code",
   "execution_count": 5,
   "id": "30b224bd",
   "metadata": {},
   "outputs": [
    {
     "data": {
      "text/plain": [
       "' Run this cell before completing any of the other problems.'"
      ]
     },
     "execution_count": 5,
     "metadata": {},
     "output_type": "execute_result"
    }
   ],
   "source": [
    "## Import Modules: Do not Change this cell###\n",
    "import plotly.express as px\n",
    "import pandas as pd\n",
    "import numpy as np\n",
    "\"\"\" Run this cell before completing any of the other problems.\"\"\""
   ]
  },
  {
   "cell_type": "markdown",
   "id": "ffd2f566",
   "metadata": {},
   "source": [
    "# Q1\n",
    "\n",
    "You begin your quest by loading in a dataset about Costcos around the world (as one does).\n",
    "\n",
    "Given a file name input (str), return a pandas DataFrame where column 0 of the file is the indices.\n",
    "\n",
    "HINT: Specify your encoding type as latin1\n",
    "\n",
    "**Input:**\n",
    "\n",
    "    file: str\n",
    "\n",
    "**Returns:**\n",
    "\n",
    "    costco: Pandas DataFrame\n",
    "\n",
    "**Expected Output**:\n",
    "![q1.png](q1.png)"
   ]
  },
  {
   "cell_type": "code",
   "execution_count": 419,
   "id": "5a3133f7",
   "metadata": {},
   "outputs": [],
   "source": [
    "#### Write your code here####\n",
    "def load_data(file):\n",
    "    cdf = pd.read_csv(file,encoding = 'latin1')\n",
    "    return cdf"
   ]
  },
  {
   "cell_type": "code",
   "execution_count": 625,
   "id": "cd6af934",
   "metadata": {},
   "outputs": [
    {
     "data": {
      "text/html": [
       "<div>\n",
       "<style scoped>\n",
       "    .dataframe tbody tr th:only-of-type {\n",
       "        vertical-align: middle;\n",
       "    }\n",
       "\n",
       "    .dataframe tbody tr th {\n",
       "        vertical-align: top;\n",
       "    }\n",
       "\n",
       "    .dataframe thead th {\n",
       "        text-align: right;\n",
       "    }\n",
       "</style>\n",
       "<table border=\"1\" class=\"dataframe\">\n",
       "  <thead>\n",
       "    <tr style=\"text-align: right;\">\n",
       "      <th></th>\n",
       "      <th>identifier</th>\n",
       "      <th>city</th>\n",
       "      <th>state</th>\n",
       "      <th>country</th>\n",
       "      <th>openDate</th>\n",
       "      <th>distance</th>\n",
       "      <th>latitude</th>\n",
       "      <th>longitude</th>\n",
       "      <th>parentGeoNodeID</th>\n",
       "      <th>active</th>\n",
       "      <th>...</th>\n",
       "      <th>hasPharmacyDepartment</th>\n",
       "      <th>hasOpticalDepartment</th>\n",
       "      <th>hasBusinessDepartment</th>\n",
       "      <th>hasPhotoCenterDepartment</th>\n",
       "      <th>gasPrices</th>\n",
       "      <th>locationName</th>\n",
       "      <th>isShipToWarehouse</th>\n",
       "      <th>isWarehousePickup</th>\n",
       "      <th>enableShipToHome</th>\n",
       "      <th>isBusinessWarehouse</th>\n",
       "    </tr>\n",
       "  </thead>\n",
       "  <tbody>\n",
       "    <tr>\n",
       "      <th>0</th>\n",
       "      <td>1</td>\n",
       "      <td>SEATTLE</td>\n",
       "      <td>WA</td>\n",
       "      <td>US</td>\n",
       "      <td>9/15/1983</td>\n",
       "      <td>304.625765</td>\n",
       "      <td>47.565</td>\n",
       "      <td>-122.329</td>\n",
       "      <td>10935</td>\n",
       "      <td>1</td>\n",
       "      <td>...</td>\n",
       "      <td>True</td>\n",
       "      <td>True</td>\n",
       "      <td>False</td>\n",
       "      <td>True</td>\n",
       "      <td>2.799</td>\n",
       "      <td>Seattle</td>\n",
       "      <td>True</td>\n",
       "      <td>True</td>\n",
       "      <td>False</td>\n",
       "      <td>False</td>\n",
       "    </tr>\n",
       "    <tr>\n",
       "      <th>1</th>\n",
       "      <td>2</td>\n",
       "      <td>PORTLAND</td>\n",
       "      <td>OR</td>\n",
       "      <td>US</td>\n",
       "      <td>10/27/1983</td>\n",
       "      <td>166.925870</td>\n",
       "      <td>45.556</td>\n",
       "      <td>-122.521</td>\n",
       "      <td>10776</td>\n",
       "      <td>1</td>\n",
       "      <td>...</td>\n",
       "      <td>True</td>\n",
       "      <td>True</td>\n",
       "      <td>False</td>\n",
       "      <td>True</td>\n",
       "      <td>2.699</td>\n",
       "      <td>Portland</td>\n",
       "      <td>True</td>\n",
       "      <td>True</td>\n",
       "      <td>False</td>\n",
       "      <td>False</td>\n",
       "    </tr>\n",
       "    <tr>\n",
       "      <th>2</th>\n",
       "      <td>6</td>\n",
       "      <td>TUKWILA</td>\n",
       "      <td>WA</td>\n",
       "      <td>US</td>\n",
       "      <td>8/30/1984</td>\n",
       "      <td>297.111836</td>\n",
       "      <td>47.445</td>\n",
       "      <td>-122.251</td>\n",
       "      <td>10935</td>\n",
       "      <td>1</td>\n",
       "      <td>...</td>\n",
       "      <td>True</td>\n",
       "      <td>True</td>\n",
       "      <td>False</td>\n",
       "      <td>True</td>\n",
       "      <td>2.769</td>\n",
       "      <td>Tukwila</td>\n",
       "      <td>True</td>\n",
       "      <td>True</td>\n",
       "      <td>False</td>\n",
       "      <td>False</td>\n",
       "    </tr>\n",
       "    <tr>\n",
       "      <th>3</th>\n",
       "      <td>8</td>\n",
       "      <td>KIRKLAND</td>\n",
       "      <td>WA</td>\n",
       "      <td>US</td>\n",
       "      <td>8/29/1985</td>\n",
       "      <td>313.711778</td>\n",
       "      <td>47.681</td>\n",
       "      <td>-122.183</td>\n",
       "      <td>10935</td>\n",
       "      <td>1</td>\n",
       "      <td>...</td>\n",
       "      <td>True</td>\n",
       "      <td>True</td>\n",
       "      <td>False</td>\n",
       "      <td>True</td>\n",
       "      <td>2.739</td>\n",
       "      <td>Kirkland</td>\n",
       "      <td>True</td>\n",
       "      <td>True</td>\n",
       "      <td>False</td>\n",
       "      <td>False</td>\n",
       "    </tr>\n",
       "    <tr>\n",
       "      <th>4</th>\n",
       "      <td>9</td>\n",
       "      <td>ALOHA</td>\n",
       "      <td>OR</td>\n",
       "      <td>US</td>\n",
       "      <td>10/29/1985</td>\n",
       "      <td>160.533261</td>\n",
       "      <td>45.508</td>\n",
       "      <td>-122.841</td>\n",
       "      <td>10776</td>\n",
       "      <td>1</td>\n",
       "      <td>...</td>\n",
       "      <td>True</td>\n",
       "      <td>True</td>\n",
       "      <td>False</td>\n",
       "      <td>True</td>\n",
       "      <td>2.759</td>\n",
       "      <td>Aloha</td>\n",
       "      <td>True</td>\n",
       "      <td>True</td>\n",
       "      <td>False</td>\n",
       "      <td>False</td>\n",
       "    </tr>\n",
       "    <tr>\n",
       "      <th>...</th>\n",
       "      <td>...</td>\n",
       "      <td>...</td>\n",
       "      <td>...</td>\n",
       "      <td>...</td>\n",
       "      <td>...</td>\n",
       "      <td>...</td>\n",
       "      <td>...</td>\n",
       "      <td>...</td>\n",
       "      <td>...</td>\n",
       "      <td>...</td>\n",
       "      <td>...</td>\n",
       "      <td>...</td>\n",
       "      <td>...</td>\n",
       "      <td>...</td>\n",
       "      <td>...</td>\n",
       "      <td>...</td>\n",
       "      <td>...</td>\n",
       "      <td>...</td>\n",
       "      <td>...</td>\n",
       "      <td>...</td>\n",
       "      <td>...</td>\n",
       "    </tr>\n",
       "    <tr>\n",
       "      <th>777</th>\n",
       "      <td>5314</td>\n",
       "      <td>VILLA HERMOSA</td>\n",
       "      <td>NaN</td>\n",
       "      <td>MX</td>\n",
       "      <td>8/23/2018</td>\n",
       "      <td>9.063586</td>\n",
       "      <td>19.408</td>\n",
       "      <td>-99.270</td>\n",
       "      <td>11009</td>\n",
       "      <td>1</td>\n",
       "      <td>...</td>\n",
       "      <td>True</td>\n",
       "      <td>False</td>\n",
       "      <td>False</td>\n",
       "      <td>True</td>\n",
       "      <td>NaN</td>\n",
       "      <td>Villahermosa</td>\n",
       "      <td>True</td>\n",
       "      <td>True</td>\n",
       "      <td>False</td>\n",
       "      <td>False</td>\n",
       "    </tr>\n",
       "    <tr>\n",
       "      <th>778</th>\n",
       "      <td>5401</td>\n",
       "      <td>VILLEBON(PARIS)</td>\n",
       "      <td>NaN</td>\n",
       "      <td>FR</td>\n",
       "      <td>6/22/2017</td>\n",
       "      <td>314.587380</td>\n",
       "      <td>48.686</td>\n",
       "      <td>2.218</td>\n",
       "      <td>0</td>\n",
       "      <td>1</td>\n",
       "      <td>...</td>\n",
       "      <td>False</td>\n",
       "      <td>True</td>\n",
       "      <td>False</td>\n",
       "      <td>False</td>\n",
       "      <td>NaN</td>\n",
       "      <td>Villebon</td>\n",
       "      <td>True</td>\n",
       "      <td>True</td>\n",
       "      <td>False</td>\n",
       "      <td>False</td>\n",
       "    </tr>\n",
       "    <tr>\n",
       "      <th>779</th>\n",
       "      <td>5476</td>\n",
       "      <td>SEVILLE</td>\n",
       "      <td>Sevilla</td>\n",
       "      <td>ES</td>\n",
       "      <td>5/15/2014</td>\n",
       "      <td>1069.388906</td>\n",
       "      <td>37.434</td>\n",
       "      <td>-5.972</td>\n",
       "      <td>13015</td>\n",
       "      <td>1</td>\n",
       "      <td>...</td>\n",
       "      <td>False</td>\n",
       "      <td>True</td>\n",
       "      <td>False</td>\n",
       "      <td>False</td>\n",
       "      <td>2.559</td>\n",
       "      <td>Seville</td>\n",
       "      <td>True</td>\n",
       "      <td>True</td>\n",
       "      <td>False</td>\n",
       "      <td>False</td>\n",
       "    </tr>\n",
       "    <tr>\n",
       "      <th>780</th>\n",
       "      <td>5477</td>\n",
       "      <td>GETAFE (MADRID)</td>\n",
       "      <td>NaN</td>\n",
       "      <td>ES</td>\n",
       "      <td>10/24/2015</td>\n",
       "      <td>856.809589</td>\n",
       "      <td>40.283</td>\n",
       "      <td>-3.689</td>\n",
       "      <td>13014</td>\n",
       "      <td>1</td>\n",
       "      <td>...</td>\n",
       "      <td>False</td>\n",
       "      <td>True</td>\n",
       "      <td>False</td>\n",
       "      <td>False</td>\n",
       "      <td>NaN</td>\n",
       "      <td>Getafe</td>\n",
       "      <td>True</td>\n",
       "      <td>True</td>\n",
       "      <td>False</td>\n",
       "      <td>False</td>\n",
       "    </tr>\n",
       "    <tr>\n",
       "      <th>781</th>\n",
       "      <td>5557</td>\n",
       "      <td>SHANGHAI</td>\n",
       "      <td>NaN</td>\n",
       "      <td>CH</td>\n",
       "      <td>8/27/2019</td>\n",
       "      <td>545.709399</td>\n",
       "      <td>31.220</td>\n",
       "      <td>121.272</td>\n",
       "      <td>0</td>\n",
       "      <td>1</td>\n",
       "      <td>...</td>\n",
       "      <td>False</td>\n",
       "      <td>True</td>\n",
       "      <td>False</td>\n",
       "      <td>False</td>\n",
       "      <td>NaN</td>\n",
       "      <td>Minhang Warehouse</td>\n",
       "      <td>True</td>\n",
       "      <td>True</td>\n",
       "      <td>False</td>\n",
       "      <td>False</td>\n",
       "    </tr>\n",
       "  </tbody>\n",
       "</table>\n",
       "<p>782 rows × 25 columns</p>\n",
       "</div>"
      ],
      "text/plain": [
       "     identifier             city    state country    openDate     distance  \\\n",
       "0             1          SEATTLE       WA      US   9/15/1983   304.625765   \n",
       "1             2         PORTLAND       OR      US  10/27/1983   166.925870   \n",
       "2             6          TUKWILA       WA      US   8/30/1984   297.111836   \n",
       "3             8         KIRKLAND       WA      US   8/29/1985   313.711778   \n",
       "4             9            ALOHA       OR      US  10/29/1985   160.533261   \n",
       "..          ...              ...      ...     ...         ...          ...   \n",
       "777        5314    VILLA HERMOSA      NaN      MX   8/23/2018     9.063586   \n",
       "778        5401  VILLEBON(PARIS)      NaN      FR   6/22/2017   314.587380   \n",
       "779        5476          SEVILLE  Sevilla      ES   5/15/2014  1069.388906   \n",
       "780        5477  GETAFE (MADRID)      NaN      ES  10/24/2015   856.809589   \n",
       "781        5557         SHANGHAI      NaN      CH   8/27/2019   545.709399   \n",
       "\n",
       "     latitude  longitude  parentGeoNodeID  active  ...  hasPharmacyDepartment  \\\n",
       "0      47.565   -122.329            10935       1  ...                   True   \n",
       "1      45.556   -122.521            10776       1  ...                   True   \n",
       "2      47.445   -122.251            10935       1  ...                   True   \n",
       "3      47.681   -122.183            10935       1  ...                   True   \n",
       "4      45.508   -122.841            10776       1  ...                   True   \n",
       "..        ...        ...              ...     ...  ...                    ...   \n",
       "777    19.408    -99.270            11009       1  ...                   True   \n",
       "778    48.686      2.218                0       1  ...                  False   \n",
       "779    37.434     -5.972            13015       1  ...                  False   \n",
       "780    40.283     -3.689            13014       1  ...                  False   \n",
       "781    31.220    121.272                0       1  ...                  False   \n",
       "\n",
       "     hasOpticalDepartment  hasBusinessDepartment  hasPhotoCenterDepartment  \\\n",
       "0                    True                  False                      True   \n",
       "1                    True                  False                      True   \n",
       "2                    True                  False                      True   \n",
       "3                    True                  False                      True   \n",
       "4                    True                  False                      True   \n",
       "..                    ...                    ...                       ...   \n",
       "777                 False                  False                      True   \n",
       "778                  True                  False                     False   \n",
       "779                  True                  False                     False   \n",
       "780                  True                  False                     False   \n",
       "781                  True                  False                     False   \n",
       "\n",
       "     gasPrices       locationName  isShipToWarehouse  isWarehousePickup  \\\n",
       "0        2.799            Seattle               True               True   \n",
       "1        2.699           Portland               True               True   \n",
       "2        2.769            Tukwila               True               True   \n",
       "3        2.739           Kirkland               True               True   \n",
       "4        2.759              Aloha               True               True   \n",
       "..         ...                ...                ...                ...   \n",
       "777        NaN       Villahermosa               True               True   \n",
       "778        NaN           Villebon               True               True   \n",
       "779      2.559            Seville               True               True   \n",
       "780        NaN             Getafe               True               True   \n",
       "781        NaN  Minhang Warehouse               True               True   \n",
       "\n",
       "     enableShipToHome  isBusinessWarehouse  \n",
       "0               False                False  \n",
       "1               False                False  \n",
       "2               False                False  \n",
       "3               False                False  \n",
       "4               False                False  \n",
       "..                ...                  ...  \n",
       "777             False                False  \n",
       "778             False                False  \n",
       "779             False                False  \n",
       "780             False                False  \n",
       "781             False                False  \n",
       "\n",
       "[782 rows x 25 columns]"
      ]
     },
     "execution_count": 625,
     "metadata": {},
     "output_type": "execute_result"
    }
   ],
   "source": [
    "####Test Case####\n",
    "\"\"\" Run this cell before completing any of the other problems. This dataset is used as input.\"\"\"\n",
    "costco = load_data('costco.csv')\n",
    "costco"
   ]
  },
  {
   "cell_type": "markdown",
   "id": "336f587e",
   "metadata": {},
   "source": [
    "# Q2\n",
    "\n",
    "You have not taken care of your car in quite some time. What better place to do it than Costco??? You want to see where you can fill your gas tank and get new tires. Create a pie chart titled Costco Gas and Tires showing the amounts of Costcos with a Gas Department and Tire Department, Gas Department and no Tire Department, Tire Department and no Gas Department, and no Tire Department or Gas Department. You also want to stay on brand, so you want your pie chart to be in Costco colors. Make your pie slices Royal Blue, Red, Ghost White, and Dark Blue. It does not matter which slice is which color. \n",
    "\n",
    "Hint: The color_discrete_sequence parameter may be helpful for this question.  \n",
    "\n",
    "**Input:**\n",
    "\n",
    "    file: str\n",
    "\n",
    "**Returns:**\n",
    "\n",
    "    None: when function is run, pie chart is displayed\n",
    "\n",
    "**Expected Output**:\n",
    "![q2.png](q2.png)"
   ]
  },
  {
   "cell_type": "code",
   "execution_count": 447,
   "id": "6621290a",
   "metadata": {},
   "outputs": [],
   "source": [
    "def q2(costco):\n",
    "    both = ((costco[\"hasGasDepartment\"] == True) & (costco[\"hasTiresDepartment\"] == True)).sum()\n",
    "    gas = ((costco[\"hasGasDepartment\"] == True) & (costco[\"hasTiresDepartment\"] == False)).sum()\n",
    "    tires = ((costco[\"hasGasDepartment\"] == False) & (costco[\"hasTiresDepartment\"] == True)).sum()\n",
    "    none = ((costco[\"hasGasDepartment\"] == False) & (costco[\"hasTiresDepartment\"] == False)).sum()\n",
    "\n",
    "    fig1 = px.pie(costco, values = [both,tires,gas,none], names = [\"Gas, Tires\",\"No Gas, Tires\", \"No Gas, No Tires\",\"Gas, No Tires\"],\n",
    "            color_discrete_sequence = [\"royalblue\",\"red\",\"ghostwhite\", \"darkblue\"])\n",
    "\n",
    "    fig1.show()"
   ]
  },
  {
   "cell_type": "code",
   "execution_count": 449,
   "id": "2e398ff1",
   "metadata": {},
   "outputs": [
    {
     "data": {
      "application/vnd.plotly.v1+json": {
       "config": {
        "plotlyServerURL": "https://plot.ly"
       },
       "data": [
        {
         "domain": {
          "x": [
           0,
           1
          ],
          "y": [
           0,
           1
          ]
         },
         "hovertemplate": "label=%{label}<br>value=%{value}<extra></extra>",
         "labels": [
          "Gas, Tires",
          "No Gas, Tires",
          "No Gas, No Tires",
          "Gas, No Tires"
         ],
         "legendgroup": "",
         "name": "",
         "showlegend": true,
         "type": "pie",
         "values": [
          560,
          147,
          19,
          56
         ]
        }
       ],
       "layout": {
        "autosize": true,
        "legend": {
         "tracegroupgap": 0
        },
        "margin": {
         "t": 60
        },
        "piecolorway": [
         "royalblue",
         "red",
         "ghostwhite",
         "darkblue"
        ],
        "template": {
         "data": {
          "bar": [
           {
            "error_x": {
             "color": "#2a3f5f"
            },
            "error_y": {
             "color": "#2a3f5f"
            },
            "marker": {
             "line": {
              "color": "#E5ECF6",
              "width": 0.5
             },
             "pattern": {
              "fillmode": "overlay",
              "size": 10,
              "solidity": 0.2
             }
            },
            "type": "bar"
           }
          ],
          "barpolar": [
           {
            "marker": {
             "line": {
              "color": "#E5ECF6",
              "width": 0.5
             },
             "pattern": {
              "fillmode": "overlay",
              "size": 10,
              "solidity": 0.2
             }
            },
            "type": "barpolar"
           }
          ],
          "carpet": [
           {
            "aaxis": {
             "endlinecolor": "#2a3f5f",
             "gridcolor": "white",
             "linecolor": "white",
             "minorgridcolor": "white",
             "startlinecolor": "#2a3f5f"
            },
            "baxis": {
             "endlinecolor": "#2a3f5f",
             "gridcolor": "white",
             "linecolor": "white",
             "minorgridcolor": "white",
             "startlinecolor": "#2a3f5f"
            },
            "type": "carpet"
           }
          ],
          "choropleth": [
           {
            "colorbar": {
             "outlinewidth": 0,
             "ticks": ""
            },
            "type": "choropleth"
           }
          ],
          "contour": [
           {
            "colorbar": {
             "outlinewidth": 0,
             "ticks": ""
            },
            "colorscale": [
             [
              0,
              "#0d0887"
             ],
             [
              0.1111111111111111,
              "#46039f"
             ],
             [
              0.2222222222222222,
              "#7201a8"
             ],
             [
              0.3333333333333333,
              "#9c179e"
             ],
             [
              0.4444444444444444,
              "#bd3786"
             ],
             [
              0.5555555555555556,
              "#d8576b"
             ],
             [
              0.6666666666666666,
              "#ed7953"
             ],
             [
              0.7777777777777778,
              "#fb9f3a"
             ],
             [
              0.8888888888888888,
              "#fdca26"
             ],
             [
              1,
              "#f0f921"
             ]
            ],
            "type": "contour"
           }
          ],
          "contourcarpet": [
           {
            "colorbar": {
             "outlinewidth": 0,
             "ticks": ""
            },
            "type": "contourcarpet"
           }
          ],
          "heatmap": [
           {
            "colorbar": {
             "outlinewidth": 0,
             "ticks": ""
            },
            "colorscale": [
             [
              0,
              "#0d0887"
             ],
             [
              0.1111111111111111,
              "#46039f"
             ],
             [
              0.2222222222222222,
              "#7201a8"
             ],
             [
              0.3333333333333333,
              "#9c179e"
             ],
             [
              0.4444444444444444,
              "#bd3786"
             ],
             [
              0.5555555555555556,
              "#d8576b"
             ],
             [
              0.6666666666666666,
              "#ed7953"
             ],
             [
              0.7777777777777778,
              "#fb9f3a"
             ],
             [
              0.8888888888888888,
              "#fdca26"
             ],
             [
              1,
              "#f0f921"
             ]
            ],
            "type": "heatmap"
           }
          ],
          "heatmapgl": [
           {
            "colorbar": {
             "outlinewidth": 0,
             "ticks": ""
            },
            "colorscale": [
             [
              0,
              "#0d0887"
             ],
             [
              0.1111111111111111,
              "#46039f"
             ],
             [
              0.2222222222222222,
              "#7201a8"
             ],
             [
              0.3333333333333333,
              "#9c179e"
             ],
             [
              0.4444444444444444,
              "#bd3786"
             ],
             [
              0.5555555555555556,
              "#d8576b"
             ],
             [
              0.6666666666666666,
              "#ed7953"
             ],
             [
              0.7777777777777778,
              "#fb9f3a"
             ],
             [
              0.8888888888888888,
              "#fdca26"
             ],
             [
              1,
              "#f0f921"
             ]
            ],
            "type": "heatmapgl"
           }
          ],
          "histogram": [
           {
            "marker": {
             "pattern": {
              "fillmode": "overlay",
              "size": 10,
              "solidity": 0.2
             }
            },
            "type": "histogram"
           }
          ],
          "histogram2d": [
           {
            "colorbar": {
             "outlinewidth": 0,
             "ticks": ""
            },
            "colorscale": [
             [
              0,
              "#0d0887"
             ],
             [
              0.1111111111111111,
              "#46039f"
             ],
             [
              0.2222222222222222,
              "#7201a8"
             ],
             [
              0.3333333333333333,
              "#9c179e"
             ],
             [
              0.4444444444444444,
              "#bd3786"
             ],
             [
              0.5555555555555556,
              "#d8576b"
             ],
             [
              0.6666666666666666,
              "#ed7953"
             ],
             [
              0.7777777777777778,
              "#fb9f3a"
             ],
             [
              0.8888888888888888,
              "#fdca26"
             ],
             [
              1,
              "#f0f921"
             ]
            ],
            "type": "histogram2d"
           }
          ],
          "histogram2dcontour": [
           {
            "colorbar": {
             "outlinewidth": 0,
             "ticks": ""
            },
            "colorscale": [
             [
              0,
              "#0d0887"
             ],
             [
              0.1111111111111111,
              "#46039f"
             ],
             [
              0.2222222222222222,
              "#7201a8"
             ],
             [
              0.3333333333333333,
              "#9c179e"
             ],
             [
              0.4444444444444444,
              "#bd3786"
             ],
             [
              0.5555555555555556,
              "#d8576b"
             ],
             [
              0.6666666666666666,
              "#ed7953"
             ],
             [
              0.7777777777777778,
              "#fb9f3a"
             ],
             [
              0.8888888888888888,
              "#fdca26"
             ],
             [
              1,
              "#f0f921"
             ]
            ],
            "type": "histogram2dcontour"
           }
          ],
          "mesh3d": [
           {
            "colorbar": {
             "outlinewidth": 0,
             "ticks": ""
            },
            "type": "mesh3d"
           }
          ],
          "parcoords": [
           {
            "line": {
             "colorbar": {
              "outlinewidth": 0,
              "ticks": ""
             }
            },
            "type": "parcoords"
           }
          ],
          "pie": [
           {
            "automargin": true,
            "type": "pie"
           }
          ],
          "scatter": [
           {
            "fillpattern": {
             "fillmode": "overlay",
             "size": 10,
             "solidity": 0.2
            },
            "type": "scatter"
           }
          ],
          "scatter3d": [
           {
            "line": {
             "colorbar": {
              "outlinewidth": 0,
              "ticks": ""
             }
            },
            "marker": {
             "colorbar": {
              "outlinewidth": 0,
              "ticks": ""
             }
            },
            "type": "scatter3d"
           }
          ],
          "scattercarpet": [
           {
            "marker": {
             "colorbar": {
              "outlinewidth": 0,
              "ticks": ""
             }
            },
            "type": "scattercarpet"
           }
          ],
          "scattergeo": [
           {
            "marker": {
             "colorbar": {
              "outlinewidth": 0,
              "ticks": ""
             }
            },
            "type": "scattergeo"
           }
          ],
          "scattergl": [
           {
            "marker": {
             "colorbar": {
              "outlinewidth": 0,
              "ticks": ""
             }
            },
            "type": "scattergl"
           }
          ],
          "scattermapbox": [
           {
            "marker": {
             "colorbar": {
              "outlinewidth": 0,
              "ticks": ""
             }
            },
            "type": "scattermapbox"
           }
          ],
          "scatterpolar": [
           {
            "marker": {
             "colorbar": {
              "outlinewidth": 0,
              "ticks": ""
             }
            },
            "type": "scatterpolar"
           }
          ],
          "scatterpolargl": [
           {
            "marker": {
             "colorbar": {
              "outlinewidth": 0,
              "ticks": ""
             }
            },
            "type": "scatterpolargl"
           }
          ],
          "scatterternary": [
           {
            "marker": {
             "colorbar": {
              "outlinewidth": 0,
              "ticks": ""
             }
            },
            "type": "scatterternary"
           }
          ],
          "surface": [
           {
            "colorbar": {
             "outlinewidth": 0,
             "ticks": ""
            },
            "colorscale": [
             [
              0,
              "#0d0887"
             ],
             [
              0.1111111111111111,
              "#46039f"
             ],
             [
              0.2222222222222222,
              "#7201a8"
             ],
             [
              0.3333333333333333,
              "#9c179e"
             ],
             [
              0.4444444444444444,
              "#bd3786"
             ],
             [
              0.5555555555555556,
              "#d8576b"
             ],
             [
              0.6666666666666666,
              "#ed7953"
             ],
             [
              0.7777777777777778,
              "#fb9f3a"
             ],
             [
              0.8888888888888888,
              "#fdca26"
             ],
             [
              1,
              "#f0f921"
             ]
            ],
            "type": "surface"
           }
          ],
          "table": [
           {
            "cells": {
             "fill": {
              "color": "#EBF0F8"
             },
             "line": {
              "color": "white"
             }
            },
            "header": {
             "fill": {
              "color": "#C8D4E3"
             },
             "line": {
              "color": "white"
             }
            },
            "type": "table"
           }
          ]
         },
         "layout": {
          "annotationdefaults": {
           "arrowcolor": "#2a3f5f",
           "arrowhead": 0,
           "arrowwidth": 1
          },
          "autotypenumbers": "strict",
          "coloraxis": {
           "colorbar": {
            "outlinewidth": 0,
            "ticks": ""
           }
          },
          "colorscale": {
           "diverging": [
            [
             0,
             "#8e0152"
            ],
            [
             0.1,
             "#c51b7d"
            ],
            [
             0.2,
             "#de77ae"
            ],
            [
             0.3,
             "#f1b6da"
            ],
            [
             0.4,
             "#fde0ef"
            ],
            [
             0.5,
             "#f7f7f7"
            ],
            [
             0.6,
             "#e6f5d0"
            ],
            [
             0.7,
             "#b8e186"
            ],
            [
             0.8,
             "#7fbc41"
            ],
            [
             0.9,
             "#4d9221"
            ],
            [
             1,
             "#276419"
            ]
           ],
           "sequential": [
            [
             0,
             "#0d0887"
            ],
            [
             0.1111111111111111,
             "#46039f"
            ],
            [
             0.2222222222222222,
             "#7201a8"
            ],
            [
             0.3333333333333333,
             "#9c179e"
            ],
            [
             0.4444444444444444,
             "#bd3786"
            ],
            [
             0.5555555555555556,
             "#d8576b"
            ],
            [
             0.6666666666666666,
             "#ed7953"
            ],
            [
             0.7777777777777778,
             "#fb9f3a"
            ],
            [
             0.8888888888888888,
             "#fdca26"
            ],
            [
             1,
             "#f0f921"
            ]
           ],
           "sequentialminus": [
            [
             0,
             "#0d0887"
            ],
            [
             0.1111111111111111,
             "#46039f"
            ],
            [
             0.2222222222222222,
             "#7201a8"
            ],
            [
             0.3333333333333333,
             "#9c179e"
            ],
            [
             0.4444444444444444,
             "#bd3786"
            ],
            [
             0.5555555555555556,
             "#d8576b"
            ],
            [
             0.6666666666666666,
             "#ed7953"
            ],
            [
             0.7777777777777778,
             "#fb9f3a"
            ],
            [
             0.8888888888888888,
             "#fdca26"
            ],
            [
             1,
             "#f0f921"
            ]
           ]
          },
          "colorway": [
           "#636efa",
           "#EF553B",
           "#00cc96",
           "#ab63fa",
           "#FFA15A",
           "#19d3f3",
           "#FF6692",
           "#B6E880",
           "#FF97FF",
           "#FECB52"
          ],
          "font": {
           "color": "#2a3f5f"
          },
          "geo": {
           "bgcolor": "white",
           "lakecolor": "white",
           "landcolor": "#E5ECF6",
           "showlakes": true,
           "showland": true,
           "subunitcolor": "white"
          },
          "hoverlabel": {
           "align": "left"
          },
          "hovermode": "closest",
          "mapbox": {
           "style": "light"
          },
          "paper_bgcolor": "white",
          "plot_bgcolor": "#E5ECF6",
          "polar": {
           "angularaxis": {
            "gridcolor": "white",
            "linecolor": "white",
            "ticks": ""
           },
           "bgcolor": "#E5ECF6",
           "radialaxis": {
            "gridcolor": "white",
            "linecolor": "white",
            "ticks": ""
           }
          },
          "scene": {
           "xaxis": {
            "backgroundcolor": "#E5ECF6",
            "gridcolor": "white",
            "gridwidth": 2,
            "linecolor": "white",
            "showbackground": true,
            "ticks": "",
            "zerolinecolor": "white"
           },
           "yaxis": {
            "backgroundcolor": "#E5ECF6",
            "gridcolor": "white",
            "gridwidth": 2,
            "linecolor": "white",
            "showbackground": true,
            "ticks": "",
            "zerolinecolor": "white"
           },
           "zaxis": {
            "backgroundcolor": "#E5ECF6",
            "gridcolor": "white",
            "gridwidth": 2,
            "linecolor": "white",
            "showbackground": true,
            "ticks": "",
            "zerolinecolor": "white"
           }
          },
          "shapedefaults": {
           "line": {
            "color": "#2a3f5f"
           }
          },
          "ternary": {
           "aaxis": {
            "gridcolor": "white",
            "linecolor": "white",
            "ticks": ""
           },
           "baxis": {
            "gridcolor": "white",
            "linecolor": "white",
            "ticks": ""
           },
           "bgcolor": "#E5ECF6",
           "caxis": {
            "gridcolor": "white",
            "linecolor": "white",
            "ticks": ""
           }
          },
          "title": {
           "x": 0.05
          },
          "xaxis": {
           "automargin": true,
           "gridcolor": "white",
           "linecolor": "white",
           "ticks": "",
           "title": {
            "standoff": 15
           },
           "zerolinecolor": "white",
           "zerolinewidth": 2
          },
          "yaxis": {
           "automargin": true,
           "gridcolor": "white",
           "linecolor": "white",
           "ticks": "",
           "title": {
            "standoff": 15
           },
           "zerolinecolor": "white",
           "zerolinewidth": 2
          }
         }
        }
       }
      },
      "image/png": "[encoded data removed]",
      "text/html": [
       "<div>                            <div id=\"828777f9-6d76-40c8-95c8-8aa0cdb4e3eb\" class=\"plotly-graph-div\" style=\"height:525px; width:100%;\"></div>            <script type=\"text/javascript\">                require([\"plotly\"], function(Plotly) {                    window.PLOTLYENV=window.PLOTLYENV || {};                                    if (document.getElementById(\"828777f9-6d76-40c8-95c8-8aa0cdb4e3eb\")) {                    Plotly.newPlot(                        \"828777f9-6d76-40c8-95c8-8aa0cdb4e3eb\",                        [{\"domain\":{\"x\":[0.0,1.0],\"y\":[0.0,1.0]},\"hovertemplate\":\"label=%{label}\\u003cbr\\u003evalue=%{value}\\u003cextra\\u003e\\u003c\\u002fextra\\u003e\",\"labels\":[\"Gas, Tires\",\"No Gas, Tires\",\"No Gas, No Tires\",\"Gas, No Tires\"],\"legendgroup\":\"\",\"name\":\"\",\"showlegend\":true,\"values\":[560,147,19,56],\"type\":\"pie\"}],                        {\"template\":{\"data\":{\"histogram2dcontour\":[{\"type\":\"histogram2dcontour\",\"colorbar\":{\"outlinewidth\":0,\"ticks\":\"\"},\"colorscale\":[[0.0,\"#0d0887\"],[0.1111111111111111,\"#46039f\"],[0.2222222222222222,\"#7201a8\"],[0.3333333333333333,\"#9c179e\"],[0.4444444444444444,\"#bd3786\"],[0.5555555555555556,\"#d8576b\"],[0.6666666666666666,\"#ed7953\"],[0.7777777777777778,\"#fb9f3a\"],[0.8888888888888888,\"#fdca26\"],[1.0,\"#f0f921\"]]}],\"choropleth\":[{\"type\":\"choropleth\",\"colorbar\":{\"outlinewidth\":0,\"ticks\":\"\"}}],\"histogram2d\":[{\"type\":\"histogram2d\",\"colorbar\":{\"outlinewidth\":0,\"ticks\":\"\"},\"colorscale\":[[0.0,\"#0d0887\"],[0.1111111111111111,\"#46039f\"],[0.2222222222222222,\"#7201a8\"],[0.3333333333333333,\"#9c179e\"],[0.4444444444444444,\"#bd3786\"],[0.5555555555555556,\"#d8576b\"],[0.6666666666666666,\"#ed7953\"],[0.7777777777777778,\"#fb9f3a\"],[0.8888888888888888,\"#fdca26\"],[1.0,\"#f0f921\"]]}],\"heatmap\":[{\"type\":\"heatmap\",\"colorbar\":{\"outlinewidth\":0,\"ticks\":\"\"},\"colorscale\":[[0.0,\"#0d0887\"],[0.1111111111111111,\"#46039f\"],[0.2222222222222222,\"#7201a8\"],[0.3333333333333333,\"#9c179e\"],[0.4444444444444444,\"#bd3786\"],[0.5555555555555556,\"#d8576b\"],[0.6666666666666666,\"#ed7953\"],[0.7777777777777778,\"#fb9f3a\"],[0.8888888888888888,\"#fdca26\"],[1.0,\"#f0f921\"]]}],\"heatmapgl\":[{\"type\":\"heatmapgl\",\"colorbar\":{\"outlinewidth\":0,\"ticks\":\"\"},\"colorscale\":[[0.0,\"#0d0887\"],[0.1111111111111111,\"#46039f\"],[0.2222222222222222,\"#7201a8\"],[0.3333333333333333,\"#9c179e\"],[0.4444444444444444,\"#bd3786\"],[0.5555555555555556,\"#d8576b\"],[0.6666666666666666,\"#ed7953\"],[0.7777777777777778,\"#fb9f3a\"],[0.8888888888888888,\"#fdca26\"],[1.0,\"#f0f921\"]]}],\"contourcarpet\":[{\"type\":\"contourcarpet\",\"colorbar\":{\"outlinewidth\":0,\"ticks\":\"\"}}],\"contour\":[{\"type\":\"contour\",\"colorbar\":{\"outlinewidth\":0,\"ticks\":\"\"},\"colorscale\":[[0.0,\"#0d0887\"],[0.1111111111111111,\"#46039f\"],[0.2222222222222222,\"#7201a8\"],[0.3333333333333333,\"#9c179e\"],[0.4444444444444444,\"#bd3786\"],[0.5555555555555556,\"#d8576b\"],[0.6666666666666666,\"#ed7953\"],[0.7777777777777778,\"#fb9f3a\"],[0.8888888888888888,\"#fdca26\"],[1.0,\"#f0f921\"]]}],\"surface\":[{\"type\":\"surface\",\"colorbar\":{\"outlinewidth\":0,\"ticks\":\"\"},\"colorscale\":[[0.0,\"#0d0887\"],[0.1111111111111111,\"#46039f\"],[0.2222222222222222,\"#7201a8\"],[0.3333333333333333,\"#9c179e\"],[0.4444444444444444,\"#bd3786\"],[0.5555555555555556,\"#d8576b\"],[0.6666666666666666,\"#ed7953\"],[0.7777777777777778,\"#fb9f3a\"],[0.8888888888888888,\"#fdca26\"],[1.0,\"#f0f921\"]]}],\"mesh3d\":[{\"type\":\"mesh3d\",\"colorbar\":{\"outlinewidth\":0,\"ticks\":\"\"}}],\"scatter\":[{\"fillpattern\":{\"fillmode\":\"overlay\",\"size\":10,\"solidity\":0.2},\"type\":\"scatter\"}],\"parcoords\":[{\"type\":\"parcoords\",\"line\":{\"colorbar\":{\"outlinewidth\":0,\"ticks\":\"\"}}}],\"scatterpolargl\":[{\"type\":\"scatterpolargl\",\"marker\":{\"colorbar\":{\"outlinewidth\":0,\"ticks\":\"\"}}}],\"bar\":[{\"error_x\":{\"color\":\"#2a3f5f\"},\"error_y\":{\"color\":\"#2a3f5f\"},\"marker\":{\"line\":{\"color\":\"#E5ECF6\",\"width\":0.5},\"pattern\":{\"fillmode\":\"overlay\",\"size\":10,\"solidity\":0.2}},\"type\":\"bar\"}],\"scattergeo\":[{\"type\":\"scattergeo\",\"marker\":{\"colorbar\":{\"outlinewidth\":0,\"ticks\":\"\"}}}],\"scatterpolar\":[{\"type\":\"scatterpolar\",\"marker\":{\"colorbar\":{\"outlinewidth\":0,\"ticks\":\"\"}}}],\"histogram\":[{\"marker\":{\"pattern\":{\"fillmode\":\"overlay\",\"size\":10,\"solidity\":0.2}},\"type\":\"histogram\"}],\"scattergl\":[{\"type\":\"scattergl\",\"marker\":{\"colorbar\":{\"outlinewidth\":0,\"ticks\":\"\"}}}],\"scatter3d\":[{\"type\":\"scatter3d\",\"line\":{\"colorbar\":{\"outlinewidth\":0,\"ticks\":\"\"}},\"marker\":{\"colorbar\":{\"outlinewidth\":0,\"ticks\":\"\"}}}],\"scattermapbox\":[{\"type\":\"scattermapbox\",\"marker\":{\"colorbar\":{\"outlinewidth\":0,\"ticks\":\"\"}}}],\"scatterternary\":[{\"type\":\"scatterternary\",\"marker\":{\"colorbar\":{\"outlinewidth\":0,\"ticks\":\"\"}}}],\"scattercarpet\":[{\"type\":\"scattercarpet\",\"marker\":{\"colorbar\":{\"outlinewidth\":0,\"ticks\":\"\"}}}],\"carpet\":[{\"aaxis\":{\"endlinecolor\":\"#2a3f5f\",\"gridcolor\":\"white\",\"linecolor\":\"white\",\"minorgridcolor\":\"white\",\"startlinecolor\":\"#2a3f5f\"},\"baxis\":{\"endlinecolor\":\"#2a3f5f\",\"gridcolor\":\"white\",\"linecolor\":\"white\",\"minorgridcolor\":\"white\",\"startlinecolor\":\"#2a3f5f\"},\"type\":\"carpet\"}],\"table\":[{\"cells\":{\"fill\":{\"color\":\"#EBF0F8\"},\"line\":{\"color\":\"white\"}},\"header\":{\"fill\":{\"color\":\"#C8D4E3\"},\"line\":{\"color\":\"white\"}},\"type\":\"table\"}],\"barpolar\":[{\"marker\":{\"line\":{\"color\":\"#E5ECF6\",\"width\":0.5},\"pattern\":{\"fillmode\":\"overlay\",\"size\":10,\"solidity\":0.2}},\"type\":\"barpolar\"}],\"pie\":[{\"automargin\":true,\"type\":\"pie\"}]},\"layout\":{\"autotypenumbers\":\"strict\",\"colorway\":[\"#636efa\",\"#EF553B\",\"#00cc96\",\"#ab63fa\",\"#FFA15A\",\"#19d3f3\",\"#FF6692\",\"#B6E880\",\"#FF97FF\",\"#FECB52\"],\"font\":{\"color\":\"#2a3f5f\"},\"hovermode\":\"closest\",\"hoverlabel\":{\"align\":\"left\"},\"paper_bgcolor\":\"white\",\"plot_bgcolor\":\"#E5ECF6\",\"polar\":{\"bgcolor\":\"#E5ECF6\",\"angularaxis\":{\"gridcolor\":\"white\",\"linecolor\":\"white\",\"ticks\":\"\"},\"radialaxis\":{\"gridcolor\":\"white\",\"linecolor\":\"white\",\"ticks\":\"\"}},\"ternary\":{\"bgcolor\":\"#E5ECF6\",\"aaxis\":{\"gridcolor\":\"white\",\"linecolor\":\"white\",\"ticks\":\"\"},\"baxis\":{\"gridcolor\":\"white\",\"linecolor\":\"white\",\"ticks\":\"\"},\"caxis\":{\"gridcolor\":\"white\",\"linecolor\":\"white\",\"ticks\":\"\"}},\"coloraxis\":{\"colorbar\":{\"outlinewidth\":0,\"ticks\":\"\"}},\"colorscale\":{\"sequential\":[[0.0,\"#0d0887\"],[0.1111111111111111,\"#46039f\"],[0.2222222222222222,\"#7201a8\"],[0.3333333333333333,\"#9c179e\"],[0.4444444444444444,\"#bd3786\"],[0.5555555555555556,\"#d8576b\"],[0.6666666666666666,\"#ed7953\"],[0.7777777777777778,\"#fb9f3a\"],[0.8888888888888888,\"#fdca26\"],[1.0,\"#f0f921\"]],\"sequentialminus\":[[0.0,\"#0d0887\"],[0.1111111111111111,\"#46039f\"],[0.2222222222222222,\"#7201a8\"],[0.3333333333333333,\"#9c179e\"],[0.4444444444444444,\"#bd3786\"],[0.5555555555555556,\"#d8576b\"],[0.6666666666666666,\"#ed7953\"],[0.7777777777777778,\"#fb9f3a\"],[0.8888888888888888,\"#fdca26\"],[1.0,\"#f0f921\"]],\"diverging\":[[0,\"#8e0152\"],[0.1,\"#c51b7d\"],[0.2,\"#de77ae\"],[0.3,\"#f1b6da\"],[0.4,\"#fde0ef\"],[0.5,\"#f7f7f7\"],[0.6,\"#e6f5d0\"],[0.7,\"#b8e186\"],[0.8,\"#7fbc41\"],[0.9,\"#4d9221\"],[1,\"#276419\"]]},\"xaxis\":{\"gridcolor\":\"white\",\"linecolor\":\"white\",\"ticks\":\"\",\"title\":{\"standoff\":15},\"zerolinecolor\":\"white\",\"automargin\":true,\"zerolinewidth\":2},\"yaxis\":{\"gridcolor\":\"white\",\"linecolor\":\"white\",\"ticks\":\"\",\"title\":{\"standoff\":15},\"zerolinecolor\":\"white\",\"automargin\":true,\"zerolinewidth\":2},\"scene\":{\"xaxis\":{\"backgroundcolor\":\"#E5ECF6\",\"gridcolor\":\"white\",\"linecolor\":\"white\",\"showbackground\":true,\"ticks\":\"\",\"zerolinecolor\":\"white\",\"gridwidth\":2},\"yaxis\":{\"backgroundcolor\":\"#E5ECF6\",\"gridcolor\":\"white\",\"linecolor\":\"white\",\"showbackground\":true,\"ticks\":\"\",\"zerolinecolor\":\"white\",\"gridwidth\":2},\"zaxis\":{\"backgroundcolor\":\"#E5ECF6\",\"gridcolor\":\"white\",\"linecolor\":\"white\",\"showbackground\":true,\"ticks\":\"\",\"zerolinecolor\":\"white\",\"gridwidth\":2}},\"shapedefaults\":{\"line\":{\"color\":\"#2a3f5f\"}},\"annotationdefaults\":{\"arrowcolor\":\"#2a3f5f\",\"arrowhead\":0,\"arrowwidth\":1},\"geo\":{\"bgcolor\":\"white\",\"landcolor\":\"#E5ECF6\",\"subunitcolor\":\"white\",\"showland\":true,\"showlakes\":true,\"lakecolor\":\"white\"},\"title\":{\"x\":0.05},\"mapbox\":{\"style\":\"light\"}}},\"legend\":{\"tracegroupgap\":0},\"margin\":{\"t\":60},\"piecolorway\":[\"royalblue\",\"red\",\"ghostwhite\",\"darkblue\"]},                        {\"responsive\": true}                    ).then(function(){\n",
       "                            \n",
       "var gd = document.getElementById('828777f9-6d76-40c8-95c8-8aa0cdb4e3eb');\n",
       "var x = new MutationObserver(function (mutations, observer) {{\n",
       "        var display = window.getComputedStyle(gd).display;\n",
       "        if (!display || display === 'none') {{\n",
       "            console.log([gd, 'removed!']);\n",
       "            Plotly.purge(gd);\n",
       "            observer.disconnect();\n",
       "        }}\n",
       "}});\n",
       "\n",
       "// Listen for the removal of the full notebook cells\n",
       "var notebookContainer = gd.closest('#notebook-container');\n",
       "if (notebookContainer) {{\n",
       "    x.observe(notebookContainer, {childList: true});\n",
       "}}\n",
       "\n",
       "// Listen for the clearing of the current output cell\n",
       "var outputEl = gd.closest('.output');\n",
       "if (outputEl) {{\n",
       "    x.observe(outputEl, {childList: true});\n",
       "}}\n",
       "\n",
       "                        })                };                });            </script>        </div>"
      ]
     },
     "metadata": {},
     "output_type": "display_data"
    }
   ],
   "source": [
    "###Test Case###\n",
    "q2(costco)"
   ]
  },
  {
   "cell_type": "markdown",
   "id": "e4a09234",
   "metadata": {},
   "source": [
    "# Q3\n",
    "\n",
    "We want to see how Costco gas prices range across countries.\n",
    "\n",
    "Given a pandas dataframe, create a histogram with 20 bins, with the x axis representing a Costco's gas price, the y axis representing a the number of Costcos, and the bar's color representing a Costco's parentGeoNodeID. \n",
    "\n",
    "Make sure your graph matches the one shown below, including labels.\n",
    "\n",
    "**Input:**\n",
    "\n",
    "    costco: Pandas DataFrame\n",
    "\n",
    "**Returns:**\n",
    "\n",
    "    None: when function is run XXXX chart is displayed\n",
    "\n",
    "**Expected Output**:\n",
    "![q3.png](q3.png)\n"
   ]
  },
  {
   "cell_type": "code",
   "execution_count": 443,
   "id": "b911d63c",
   "metadata": {},
   "outputs": [],
   "source": [
    "def q3(costco):\n",
    "    fig2 = px.histogram(costco, nbins = 20, x = 'gasPrices', color = 'parentGeoNodeID', title = 'Costco Gas Price Brackets',\n",
    "                       labels = {\"y\": \"Number of Costcos\", \"parentGeoNodeID\" : \"Parent ID\"})\n",
    "    fig2.update_yaxes(title = \"Number of Costcos\")\n",
    "    fig2.show()"
   ]
  },
  {
   "cell_type": "code",
   "execution_count": 445,
   "id": "b22a94d0",
   "metadata": {},
   "outputs": [
    {
     "data": {
      "application/vnd.plotly.v1+json": {
       "config": {
        "plotlyServerURL": "https://plot.ly"
       },
       "data": [
        {
         "alignmentgroup": "True",
         "bingroup": "x",
         "hovertemplate": "Parent ID=10935<br>gasPrices=%{x}<br>count=%{y}<extra></extra>",
         "legendgroup": "10935",
         "marker": {
          "color": "#636efa",
          "pattern": {
           "shape": ""
          }
         },
         "name": "10935",
         "nbinsx": 20,
         "offsetgroup": "10935",
         "orientation": "v",
         "showlegend": true,
         "type": "histogram",
         "x": [
          2.799,
          2.769,
          2.739,
          2.659,
          2.759,
          2.839,
          2.739,
          2.509,
          2.759,
          2.759,
          2.859,
          2.779,
          2.759,
          2.579,
          2.659,
          2.569,
          2.699,
          2.699,
          2.499,
          2.529,
          2.839,
          2.799,
          null,
          2.579,
          2.759,
          2.769,
          2.579,
          2.759,
          2.539,
          2.739,
          2.699,
          2.529
         ],
         "xaxis": "x",
         "yaxis": "y"
        },
        {
         "alignmentgroup": "True",
         "bingroup": "x",
         "hovertemplate": "Parent ID=10776<br>gasPrices=%{x}<br>count=%{y}<extra></extra>",
         "legendgroup": "10776",
         "marker": {
          "color": "#EF553B",
          "pattern": {
           "shape": ""
          }
         },
         "name": "10776",
         "nbinsx": 20,
         "offsetgroup": "10776",
         "orientation": "v",
         "showlegend": true,
         "type": "histogram",
         "x": [
          2.699,
          2.759,
          2.599,
          2.549,
          2.679,
          null,
          2.699,
          2.649,
          2.759,
          2.699,
          2.799,
          2.659,
          2.699
         ],
         "xaxis": "x",
         "yaxis": "y"
        },
        {
         "alignmentgroup": "True",
         "bingroup": "x",
         "hovertemplate": "Parent ID=10133<br>gasPrices=%{x}<br>count=%{y}<extra></extra>",
         "legendgroup": "10133",
         "marker": {
          "color": "#00cc96",
          "pattern": {
           "shape": ""
          }
         },
         "name": "10133",
         "nbinsx": 20,
         "offsetgroup": "10133",
         "orientation": "v",
         "showlegend": true,
         "type": "histogram",
         "x": [
          2.699,
          2.699,
          null,
          2.699
         ],
         "xaxis": "x",
         "yaxis": "y"
        },
        {
         "alignmentgroup": "True",
         "bingroup": "x",
         "hovertemplate": "Parent ID=10175<br>gasPrices=%{x}<br>count=%{y}<extra></extra>",
         "legendgroup": "10175",
         "marker": {
          "color": "#ab63fa",
          "pattern": {
           "shape": ""
          }
         },
         "name": "10175",
         "nbinsx": 20,
         "offsetgroup": "10175",
         "orientation": "v",
         "showlegend": true,
         "type": "histogram",
         "x": [
          null,
          3.399,
          3.079,
          2.979,
          2.969,
          3.339,
          3.279,
          null,
          3.059,
          3.179,
          null,
          3.259,
          3.499,
          3.099,
          3.299,
          3.059,
          null,
          null,
          2.979,
          null,
          null,
          2.919,
          null,
          null,
          3.159,
          null,
          3.029,
          3.139,
          3.239,
          3.219,
          3.039,
          3.099,
          3.159,
          3.069,
          3.259,
          3.179,
          3.029,
          3.039,
          3.199,
          3.399,
          3.159,
          3.199,
          2.979,
          3.089,
          3.199,
          3.299,
          3.199,
          2.999,
          3.199,
          3.139,
          3.259,
          3.299,
          3.069,
          null,
          null,
          2.969,
          null,
          3.159,
          null,
          3.179,
          3.079,
          3.199,
          3.199,
          3.199,
          3.299,
          3.199,
          3.079,
          3.099,
          null,
          3.099,
          3.099,
          3.199,
          null,
          null,
          2.979,
          2.999,
          3.379,
          2.899,
          3.099,
          3.079,
          3.299,
          3.159,
          3.179,
          3.119,
          3.199,
          3.399,
          2.999,
          3.139,
          3.259,
          3.039,
          3.199,
          3.349,
          2.999,
          3.099,
          2.919,
          3.199,
          3.079,
          3.099,
          3.199,
          2.899,
          null,
          null,
          3.159,
          3.149,
          3.079,
          3.039,
          3.179,
          3.049,
          3.099,
          2.999,
          2.919,
          3.159,
          3.039,
          3.099,
          3.279,
          3.159,
          2.999,
          3.099,
          3.079,
          3.199,
          2.999,
          3.099,
          3.069,
          3.239,
          2.819,
          3.099,
          3.159,
          2.979
         ],
         "xaxis": "x",
         "yaxis": "y"
        },
        {
         "alignmentgroup": "True",
         "bingroup": "x",
         "hovertemplate": "Parent ID=10629<br>gasPrices=%{x}<br>count=%{y}<extra></extra>",
         "legendgroup": "10629",
         "marker": {
          "color": "#FFA15A",
          "pattern": {
           "shape": ""
          }
         },
         "name": "10629",
         "nbinsx": 20,
         "offsetgroup": "10629",
         "orientation": "v",
         "showlegend": true,
         "type": "histogram",
         "x": [
          2.829,
          2.859,
          2.659,
          2.829,
          2.689,
          2.699,
          2.669,
          2.689
         ],
         "xaxis": "x",
         "yaxis": "y"
        },
        {
         "alignmentgroup": "True",
         "bingroup": "x",
         "hovertemplate": "Parent ID=10011<br>gasPrices=%{x}<br>count=%{y}<extra></extra>",
         "legendgroup": "10011",
         "marker": {
          "color": "#19d3f3",
          "pattern": {
           "shape": ""
          }
         },
         "name": "10011",
         "nbinsx": 20,
         "offsetgroup": "10011",
         "orientation": "v",
         "showlegend": true,
         "type": "histogram",
         "x": [
          null,
          null,
          null,
          null,
          null,
          0.959,
          0.909,
          0.909,
          0.949,
          0.909,
          0.909,
          null,
          null,
          0.909
         ],
         "xaxis": "x",
         "yaxis": "y"
        },
        {
         "alignmentgroup": "True",
         "bingroup": "x",
         "hovertemplate": "Parent ID=10003<br>gasPrices=%{x}<br>count=%{y}<extra></extra>",
         "legendgroup": "10003",
         "marker": {
          "color": "#FF6692",
          "pattern": {
           "shape": ""
          }
         },
         "name": "10003",
         "nbinsx": 20,
         "offsetgroup": "10003",
         "orientation": "v",
         "showlegend": true,
         "type": "histogram",
         "x": [
          null,
          0.909,
          0.909,
          0.869,
          1.009,
          0.869,
          0.909,
          0.909,
          0.909,
          0.869,
          1.009,
          0.909,
          0.909,
          0.909,
          0.909,
          0.909,
          0.909
         ],
         "xaxis": "x",
         "yaxis": "y"
        },
        {
         "alignmentgroup": "True",
         "bingroup": "x",
         "hovertemplate": "Parent ID=10032<br>gasPrices=%{x}<br>count=%{y}<extra></extra>",
         "legendgroup": "10032",
         "marker": {
          "color": "#B6E880",
          "pattern": {
           "shape": ""
          }
         },
         "name": "10032",
         "nbinsx": 20,
         "offsetgroup": "10032",
         "orientation": "v",
         "showlegend": true,
         "type": "histogram",
         "x": [
          null,
          0.909,
          0.909
         ],
         "xaxis": "x",
         "yaxis": "y"
        },
        {
         "alignmentgroup": "True",
         "bingroup": "x",
         "hovertemplate": "Parent ID=10611<br>gasPrices=%{x}<br>count=%{y}<extra></extra>",
         "legendgroup": "10611",
         "marker": {
          "color": "#FF97FF",
          "pattern": {
           "shape": ""
          }
         },
         "name": "10611",
         "nbinsx": 20,
         "offsetgroup": "10611",
         "orientation": "v",
         "showlegend": true,
         "type": "histogram",
         "x": [
          2.329,
          2.319,
          2.439,
          2.469,
          2.429
         ],
         "xaxis": "x",
         "yaxis": "y"
        },
        {
         "alignmentgroup": "True",
         "bingroup": "x",
         "hovertemplate": "Parent ID=10290<br>gasPrices=%{x}<br>count=%{y}<extra></extra>",
         "legendgroup": "10290",
         "marker": {
          "color": "#FECB52",
          "pattern": {
           "shape": ""
          }
         },
         "name": "10290",
         "nbinsx": 20,
         "offsetgroup": "10290",
         "orientation": "v",
         "showlegend": true,
         "type": "histogram",
         "x": [
          2.239,
          2.319,
          null,
          2.279,
          2.169,
          2.229,
          2.149,
          2.249,
          2.239,
          2.289,
          2.259,
          null,
          2.159,
          2.289,
          2.279,
          2.249,
          2.339,
          2.349,
          2.239,
          2.199,
          2.319,
          2.249,
          2.229,
          2.199,
          2.129,
          2.259,
          2.239,
          2.169
         ],
         "xaxis": "x",
         "yaxis": "y"
        },
        {
         "alignmentgroup": "True",
         "bingroup": "x",
         "hovertemplate": "Parent ID=10885<br>gasPrices=%{x}<br>count=%{y}<extra></extra>",
         "legendgroup": "10885",
         "marker": {
          "color": "#636efa",
          "pattern": {
           "shape": ""
          }
         },
         "name": "10885",
         "nbinsx": 20,
         "offsetgroup": "10885",
         "orientation": "v",
         "showlegend": true,
         "type": "histogram",
         "x": [
          2.269,
          2.399,
          2.259,
          2.269,
          2.559,
          2.319,
          2.349,
          2.269,
          2.369,
          2.249,
          2.349
         ],
         "xaxis": "x",
         "yaxis": "y"
        },
        {
         "alignmentgroup": "True",
         "bingroup": "x",
         "hovertemplate": "Parent ID=10674<br>gasPrices=%{x}<br>count=%{y}<extra></extra>",
         "legendgroup": "10674",
         "marker": {
          "color": "#EF553B",
          "pattern": {
           "shape": ""
          }
         },
         "name": "10674",
         "nbinsx": 20,
         "offsetgroup": "10674",
         "orientation": "v",
         "showlegend": true,
         "type": "histogram",
         "x": [
          2.039,
          2.039,
          2.039
         ],
         "xaxis": "x",
         "yaxis": "y"
        },
        {
         "alignmentgroup": "True",
         "bingroup": "x",
         "hovertemplate": "Parent ID=10354<br>gasPrices=%{x}<br>count=%{y}<extra></extra>",
         "legendgroup": "10354",
         "marker": {
          "color": "#00cc96",
          "pattern": {
           "shape": ""
          }
         },
         "name": "10354",
         "nbinsx": 20,
         "offsetgroup": "10354",
         "orientation": "v",
         "showlegend": true,
         "type": "histogram",
         "x": [
          3.019,
          null,
          3.199,
          3.059,
          3.199,
          3.059,
          3.059
         ],
         "xaxis": "x",
         "yaxis": "y"
        },
        {
         "alignmentgroup": "True",
         "bingroup": "x",
         "hovertemplate": "Parent ID=10365<br>gasPrices=%{x}<br>count=%{y}<extra></extra>",
         "legendgroup": "10365",
         "marker": {
          "color": "#ab63fa",
          "pattern": {
           "shape": ""
          }
         },
         "name": "10365",
         "nbinsx": 20,
         "offsetgroup": "10365",
         "orientation": "v",
         "showlegend": true,
         "type": "histogram",
         "x": [
          2.459,
          2.379,
          2.379,
          2.289,
          2.459
         ],
         "xaxis": "x",
         "yaxis": "y"
        },
        {
         "alignmentgroup": "True",
         "bingroup": "x",
         "hovertemplate": "Parent ID=10044<br>gasPrices=%{x}<br>count=%{y}<extra></extra>",
         "legendgroup": "10044",
         "marker": {
          "color": "#FFA15A",
          "pattern": {
           "shape": ""
          }
         },
         "name": "10044",
         "nbinsx": 20,
         "offsetgroup": "10044",
         "orientation": "v",
         "showlegend": true,
         "type": "histogram",
         "x": [
          null,
          0.869,
          null,
          0.869,
          null,
          null,
          null,
          0.869,
          null,
          null,
          null,
          7.779,
          0.909,
          0.909,
          null,
          null,
          0.869,
          null,
          7.779,
          0.869,
          null,
          null,
          0.869,
          0.869,
          null,
          null,
          0.869,
          0.869,
          7.779,
          0.869,
          0.869,
          0.869,
          0.869,
          0.869,
          null
         ],
         "xaxis": "x",
         "yaxis": "y"
        },
        {
         "alignmentgroup": "True",
         "bingroup": "x",
         "hovertemplate": "Parent ID=10109<br>gasPrices=%{x}<br>count=%{y}<extra></extra>",
         "legendgroup": "10109",
         "marker": {
          "color": "#19d3f3",
          "pattern": {
           "shape": ""
          }
         },
         "name": "10109",
         "nbinsx": 20,
         "offsetgroup": "10109",
         "orientation": "v",
         "showlegend": true,
         "type": "histogram",
         "x": [
          0.909,
          0.909,
          0.909
         ],
         "xaxis": "x",
         "yaxis": "y"
        },
        {
         "alignmentgroup": "True",
         "bingroup": "x",
         "hovertemplate": "Parent ID=10332<br>gasPrices=%{x}<br>count=%{y}<extra></extra>",
         "legendgroup": "10332",
         "marker": {
          "color": "#FF6692",
          "pattern": {
           "shape": ""
          }
         },
         "name": "10332",
         "nbinsx": 20,
         "offsetgroup": "10332",
         "orientation": "v",
         "showlegend": true,
         "type": "histogram",
         "x": [
          2.129,
          2.239,
          2.149,
          2.059,
          2.119,
          2.199,
          2.109,
          2.029,
          2.239,
          2.009,
          2.189,
          2.169,
          2.199
         ],
         "xaxis": "x",
         "yaxis": "y"
        },
        {
         "alignmentgroup": "True",
         "bingroup": "x",
         "hovertemplate": "Parent ID=10910<br>gasPrices=%{x}<br>count=%{y}<extra></extra>",
         "legendgroup": "10910",
         "marker": {
          "color": "#B6E880",
          "pattern": {
           "shape": ""
          }
         },
         "name": "10910",
         "nbinsx": 20,
         "offsetgroup": "10910",
         "orientation": "v",
         "showlegend": true,
         "type": "histogram",
         "x": [
          2.169,
          2.259,
          2.079,
          2.299,
          2.299,
          null,
          null,
          2.119,
          2.259,
          2.099,
          2.259,
          2.299,
          1.989,
          2.199,
          1.969,
          null,
          2.099
         ],
         "xaxis": "x",
         "yaxis": "y"
        },
        {
         "alignmentgroup": "True",
         "bingroup": "x",
         "hovertemplate": "Parent ID=10497<br>gasPrices=%{x}<br>count=%{y}<extra></extra>",
         "legendgroup": "10497",
         "marker": {
          "color": "#FF97FF",
          "pattern": {
           "shape": ""
          }
         },
         "name": "10497",
         "nbinsx": 20,
         "offsetgroup": "10497",
         "orientation": "v",
         "showlegend": true,
         "type": "histogram",
         "x": [
          2.159,
          2.219,
          null,
          2.179,
          2.199,
          2.229,
          2.229,
          2.249,
          2.209,
          null,
          2.179
         ],
         "xaxis": "x",
         "yaxis": "y"
        },
        {
         "alignmentgroup": "True",
         "bingroup": "x",
         "hovertemplate": "Parent ID=10685<br>gasPrices=%{x}<br>count=%{y}<extra></extra>",
         "legendgroup": "10685",
         "marker": {
          "color": "#FECB52",
          "pattern": {
           "shape": ""
          }
         },
         "name": "10685",
         "nbinsx": 20,
         "offsetgroup": "10685",
         "orientation": "v",
         "showlegend": true,
         "type": "histogram",
         "x": [
          null,
          null,
          2.289,
          null,
          null,
          2.559,
          null,
          2.379,
          null,
          2.479,
          null,
          null,
          null,
          2.399,
          null,
          null,
          2.309,
          2.399,
          2.399
         ],
         "xaxis": "x",
         "yaxis": "y"
        },
        {
         "alignmentgroup": "True",
         "bingroup": "x",
         "hovertemplate": "Parent ID=10657<br>gasPrices=%{x}<br>count=%{y}<extra></extra>",
         "legendgroup": "10657",
         "marker": {
          "color": "#636efa",
          "pattern": {
           "shape": ""
          }
         },
         "name": "10657",
         "nbinsx": 20,
         "offsetgroup": "10657",
         "orientation": "v",
         "showlegend": true,
         "type": "histogram",
         "x": [
          null,
          null,
          2.399,
          2.359,
          2.309,
          null,
          2.219,
          2.299,
          null,
          2.419,
          2.319,
          2.399,
          2.399,
          2.259,
          2.229,
          2.339,
          2.399,
          2.399,
          2.459,
          2.399
         ],
         "xaxis": "x",
         "yaxis": "y"
        },
        {
         "alignmentgroup": "True",
         "bingroup": "x",
         "hovertemplate": "Parent ID=10789<br>gasPrices=%{x}<br>count=%{y}<extra></extra>",
         "legendgroup": "10789",
         "marker": {
          "color": "#EF553B",
          "pattern": {
           "shape": ""
          }
         },
         "name": "10789",
         "nbinsx": 20,
         "offsetgroup": "10789",
         "orientation": "v",
         "showlegend": true,
         "type": "histogram",
         "x": [
          null,
          null,
          2.459,
          2.559,
          2.679,
          2.649,
          2.459,
          2.559,
          2.489,
          2.499,
          2.499
         ],
         "xaxis": "x",
         "yaxis": "y"
        },
        {
         "alignmentgroup": "True",
         "bingroup": "x",
         "hovertemplate": "Parent ID=10279<br>gasPrices=%{x}<br>count=%{y}<extra></extra>",
         "legendgroup": "10279",
         "marker": {
          "color": "#00cc96",
          "pattern": {
           "shape": ""
          }
         },
         "name": "10279",
         "nbinsx": 20,
         "offsetgroup": "10279",
         "orientation": "v",
         "showlegend": true,
         "type": "histogram",
         "x": [
          2.129
         ],
         "xaxis": "x",
         "yaxis": "y"
        },
        {
         "alignmentgroup": "True",
         "bingroup": "x",
         "hovertemplate": "Parent ID=10710<br>gasPrices=%{x}<br>count=%{y}<extra></extra>",
         "legendgroup": "10710",
         "marker": {
          "color": "#ab63fa",
          "pattern": {
           "shape": ""
          }
         },
         "name": "10710",
         "nbinsx": 20,
         "offsetgroup": "10710",
         "orientation": "v",
         "showlegend": true,
         "type": "histogram",
         "x": [
          2.259,
          2.189,
          2.159,
          2.149,
          2.069,
          2.229,
          2.059,
          2.059,
          2.259
         ],
         "xaxis": "x",
         "yaxis": "y"
        },
        {
         "alignmentgroup": "True",
         "bingroup": "x",
         "hovertemplate": "Parent ID=10517<br>gasPrices=%{x}<br>count=%{y}<extra></extra>",
         "legendgroup": "10517",
         "marker": {
          "color": "#FFA15A",
          "pattern": {
           "shape": ""
          }
         },
         "name": "10517",
         "nbinsx": 20,
         "offsetgroup": "10517",
         "orientation": "v",
         "showlegend": true,
         "type": "histogram",
         "x": [
          2.199,
          2.259,
          null,
          null,
          2.299,
          null
         ],
         "xaxis": "x",
         "yaxis": "y"
        },
        {
         "alignmentgroup": "True",
         "bingroup": "x",
         "hovertemplate": "Parent ID=10268<br>gasPrices=%{x}<br>count=%{y}<extra></extra>",
         "legendgroup": "10268",
         "marker": {
          "color": "#19d3f3",
          "pattern": {
           "shape": ""
          }
         },
         "name": "10268",
         "nbinsx": 20,
         "offsetgroup": "10268",
         "orientation": "v",
         "showlegend": true,
         "type": "histogram",
         "x": [
          2.379,
          2.439,
          2.399,
          null,
          2.459,
          2.359,
          2.369
         ],
         "xaxis": "x",
         "yaxis": "y"
        },
        {
         "alignmentgroup": "True",
         "bingroup": "x",
         "hovertemplate": "Parent ID=10642<br>gasPrices=%{x}<br>count=%{y}<extra></extra>",
         "legendgroup": "10642",
         "marker": {
          "color": "#FF6692",
          "pattern": {
           "shape": ""
          }
         },
         "name": "10642",
         "nbinsx": 20,
         "offsetgroup": "10642",
         "orientation": "v",
         "showlegend": true,
         "type": "histogram",
         "x": [
          null
         ],
         "xaxis": "x",
         "yaxis": "y"
        },
        {
         "alignmentgroup": "True",
         "bingroup": "x",
         "hovertemplate": "Parent ID=10899<br>gasPrices=%{x}<br>count=%{y}<extra></extra>",
         "legendgroup": "10899",
         "marker": {
          "color": "#B6E880",
          "pattern": {
           "shape": ""
          }
         },
         "name": "10899",
         "nbinsx": 20,
         "offsetgroup": "10899",
         "orientation": "v",
         "showlegend": true,
         "type": "histogram",
         "x": [
          null
         ],
         "xaxis": "x",
         "yaxis": "y"
        },
        {
         "alignmentgroup": "True",
         "bingroup": "x",
         "hovertemplate": "Parent ID=10817<br>gasPrices=%{x}<br>count=%{y}<extra></extra>",
         "legendgroup": "10817",
         "marker": {
          "color": "#FF97FF",
          "pattern": {
           "shape": ""
          }
         },
         "name": "10817",
         "nbinsx": 20,
         "offsetgroup": "10817",
         "orientation": "v",
         "showlegend": true,
         "type": "histogram",
         "x": [
          2.079,
          2.099,
          1.999,
          1.989,
          1.969,
          2.179
         ],
         "xaxis": "x",
         "yaxis": "y"
        },
        {
         "alignmentgroup": "True",
         "bingroup": "x",
         "hovertemplate": "Parent ID=10540<br>gasPrices=%{x}<br>count=%{y}<extra></extra>",
         "legendgroup": "10540",
         "marker": {
          "color": "#FECB52",
          "pattern": {
           "shape": ""
          }
         },
         "name": "10540",
         "nbinsx": 20,
         "offsetgroup": "10540",
         "orientation": "v",
         "showlegend": true,
         "type": "histogram",
         "x": [
          2.239,
          2.139,
          2.169,
          2.199,
          2.279,
          2.129,
          2.119,
          2.179,
          2.119,
          2.259,
          2.199,
          2.159,
          2.099,
          2.089,
          2.239
         ],
         "xaxis": "x",
         "yaxis": "y"
        },
        {
         "alignmentgroup": "True",
         "bingroup": "x",
         "hovertemplate": "Parent ID=10376<br>gasPrices=%{x}<br>count=%{y}<extra></extra>",
         "legendgroup": "10376",
         "marker": {
          "color": "#636efa",
          "pattern": {
           "shape": ""
          }
         },
         "name": "10376",
         "nbinsx": 20,
         "offsetgroup": "10376",
         "orientation": "v",
         "showlegend": true,
         "type": "histogram",
         "x": [
          2.329,
          2.599,
          2.399,
          2.449,
          2.649,
          2.599,
          2.589,
          2.449,
          2.469,
          2.409,
          2.379,
          2.479,
          2.399,
          2.299,
          2.469,
          2.499,
          2.649,
          2.319,
          2.449,
          2.179
         ],
         "xaxis": "x",
         "yaxis": "y"
        },
        {
         "alignmentgroup": "True",
         "bingroup": "x",
         "hovertemplate": "Parent ID=10740<br>gasPrices=%{x}<br>count=%{y}<extra></extra>",
         "legendgroup": "10740",
         "marker": {
          "color": "#EF553B",
          "pattern": {
           "shape": ""
          }
         },
         "name": "10740",
         "nbinsx": 20,
         "offsetgroup": "10740",
         "orientation": "v",
         "showlegend": true,
         "type": "histogram",
         "x": [
          2.219,
          2.059,
          2.269,
          2.339,
          2.159,
          2.299,
          2.039,
          2.349,
          2.189,
          2.069,
          2.069,
          2.389
         ],
         "xaxis": "x",
         "yaxis": "y"
        },
        {
         "alignmentgroup": "True",
         "bingroup": "x",
         "hovertemplate": "Parent ID=10410<br>gasPrices=%{x}<br>count=%{y}<extra></extra>",
         "legendgroup": "10410",
         "marker": {
          "color": "#00cc96",
          "pattern": {
           "shape": ""
          }
         },
         "name": "10410",
         "nbinsx": 20,
         "offsetgroup": "10410",
         "orientation": "v",
         "showlegend": true,
         "type": "histogram",
         "x": [
          2.239,
          2.239,
          2.149,
          2.129,
          2.159,
          2.249,
          2.139
         ],
         "xaxis": "x",
         "yaxis": "y"
        },
        {
         "alignmentgroup": "True",
         "bingroup": "x",
         "hovertemplate": "Parent ID=10440<br>gasPrices=%{x}<br>count=%{y}<extra></extra>",
         "legendgroup": "10440",
         "marker": {
          "color": "#ab63fa",
          "pattern": {
           "shape": ""
          }
         },
         "name": "10440",
         "nbinsx": 20,
         "offsetgroup": "10440",
         "orientation": "v",
         "showlegend": true,
         "type": "histogram",
         "x": [
          2.109,
          2.119,
          2.049
         ],
         "xaxis": "x",
         "yaxis": "y"
        },
        {
         "alignmentgroup": "True",
         "bingroup": "x",
         "hovertemplate": "Parent ID=10837<br>gasPrices=%{x}<br>count=%{y}<extra></extra>",
         "legendgroup": "10837",
         "marker": {
          "color": "#FFA15A",
          "pattern": {
           "shape": ""
          }
         },
         "name": "10837",
         "nbinsx": 20,
         "offsetgroup": "10837",
         "orientation": "v",
         "showlegend": true,
         "type": "histogram",
         "x": [
          2.129,
          2.059,
          2.199,
          2.129,
          2.159
         ],
         "xaxis": "x",
         "yaxis": "y"
        },
        {
         "alignmentgroup": "True",
         "bingroup": "x",
         "hovertemplate": "Parent ID=10112<br>gasPrices=%{x}<br>count=%{y}<extra></extra>",
         "legendgroup": "10112",
         "marker": {
          "color": "#19d3f3",
          "pattern": {
           "shape": ""
          }
         },
         "name": "10112",
         "nbinsx": 20,
         "offsetgroup": "10112",
         "orientation": "v",
         "showlegend": true,
         "type": "histogram",
         "x": [
          2.179,
          2.099,
          2.129,
          2.079
         ],
         "xaxis": "x",
         "yaxis": "y"
        },
        {
         "alignmentgroup": "True",
         "bingroup": "x",
         "hovertemplate": "Parent ID=10594<br>gasPrices=%{x}<br>count=%{y}<extra></extra>",
         "legendgroup": "10594",
         "marker": {
          "color": "#FF6692",
          "pattern": {
           "shape": ""
          }
         },
         "name": "10594",
         "nbinsx": 20,
         "offsetgroup": "10594",
         "orientation": "v",
         "showlegend": true,
         "type": "histogram",
         "x": [
          1.929,
          2.049,
          1.999,
          2.029,
          1.979,
          1.999
         ],
         "xaxis": "x",
         "yaxis": "y"
        },
        {
         "alignmentgroup": "True",
         "bingroup": "x",
         "hovertemplate": "Parent ID=10562<br>gasPrices=%{x}<br>count=%{y}<extra></extra>",
         "legendgroup": "10562",
         "marker": {
          "color": "#B6E880",
          "pattern": {
           "shape": ""
          }
         },
         "name": "10562",
         "nbinsx": 20,
         "offsetgroup": "10562",
         "orientation": "v",
         "showlegend": true,
         "type": "histogram",
         "x": [
          2.139,
          2.249,
          2.139,
          null,
          2.299,
          2.239,
          2.299,
          2.259,
          2.319,
          2.239,
          2.209,
          2.239
         ],
         "xaxis": "x",
         "yaxis": "y"
        },
        {
         "alignmentgroup": "True",
         "bingroup": "x",
         "hovertemplate": "Parent ID=10144<br>gasPrices=%{x}<br>count=%{y}<extra></extra>",
         "legendgroup": "10144",
         "marker": {
          "color": "#FF97FF",
          "pattern": {
           "shape": ""
          }
         },
         "name": "10144",
         "nbinsx": 20,
         "offsetgroup": "10144",
         "orientation": "v",
         "showlegend": true,
         "type": "histogram",
         "x": [
          2.339,
          2.799,
          2.339,
          2.739,
          2.779,
          2.699,
          2.759,
          2.799,
          2.759,
          2.779,
          2.799,
          2.759,
          2.789,
          2.839,
          2.759,
          2.759,
          2.839,
          2.339
         ],
         "xaxis": "x",
         "yaxis": "y"
        },
        {
         "alignmentgroup": "True",
         "bingroup": "x",
         "hovertemplate": "Parent ID=10254<br>gasPrices=%{x}<br>count=%{y}<extra></extra>",
         "legendgroup": "10254",
         "marker": {
          "color": "#FECB52",
          "pattern": {
           "shape": ""
          }
         },
         "name": "10254",
         "nbinsx": 20,
         "offsetgroup": "10254",
         "orientation": "v",
         "showlegend": true,
         "type": "histogram",
         "x": [
          2.159,
          2.179,
          2.199,
          2.119,
          2.199,
          2.179,
          2.559,
          null,
          2.199,
          2.319,
          2.119,
          2.199,
          2.319,
          2.279
         ],
         "xaxis": "x",
         "yaxis": "y"
        },
        {
         "alignmentgroup": "True",
         "bingroup": "x",
         "hovertemplate": "Parent ID=10852<br>gasPrices=%{x}<br>count=%{y}<extra></extra>",
         "legendgroup": "10852",
         "marker": {
          "color": "#636efa",
          "pattern": {
           "shape": ""
          }
         },
         "name": "10852",
         "nbinsx": 20,
         "offsetgroup": "10852",
         "orientation": "v",
         "showlegend": true,
         "type": "histogram",
         "x": [
          1.969,
          1.929,
          null,
          null,
          1.939,
          1.919,
          1.939,
          1.949,
          1.939,
          1.949,
          1.949,
          1.939,
          1.959,
          null,
          1.989,
          1.939,
          1.999,
          1.919,
          1.969,
          1.939,
          1.999,
          1.949,
          2.059,
          1.959,
          1.919,
          1.979,
          1.949,
          1.969,
          1.969,
          1.999,
          1.949,
          1.999,
          1.999
         ],
         "xaxis": "x",
         "yaxis": "y"
        },
        {
         "alignmentgroup": "True",
         "bingroup": "x",
         "hovertemplate": "Parent ID=10090<br>gasPrices=%{x}<br>count=%{y}<extra></extra>",
         "legendgroup": "10090",
         "marker": {
          "color": "#EF553B",
          "pattern": {
           "shape": ""
          }
         },
         "name": "10090",
         "nbinsx": 20,
         "offsetgroup": "10090",
         "orientation": "v",
         "showlegend": true,
         "type": "histogram",
         "x": [
          0.869,
          0.909,
          0.869,
          null,
          0.869,
          0.909,
          0.909,
          0.869,
          0.869,
          null,
          null,
          0.869,
          0.909,
          null,
          null,
          null,
          0.869,
          0.869,
          0.869,
          0.909,
          0.909
         ],
         "xaxis": "x",
         "yaxis": "y"
        },
        {
         "alignmentgroup": "True",
         "bingroup": "x",
         "hovertemplate": "Parent ID=10040<br>gasPrices=%{x}<br>count=%{y}<extra></extra>",
         "legendgroup": "10040",
         "marker": {
          "color": "#00cc96",
          "pattern": {
           "shape": ""
          }
         },
         "name": "10040",
         "nbinsx": 20,
         "offsetgroup": "10040",
         "orientation": "v",
         "showlegend": true,
         "type": "histogram",
         "x": [
          null,
          null
         ],
         "xaxis": "x",
         "yaxis": "y"
        },
        {
         "alignmentgroup": "True",
         "bingroup": "x",
         "hovertemplate": "Parent ID=11019<br>gasPrices=%{x}<br>count=%{y}<extra></extra>",
         "legendgroup": "11019",
         "marker": {
          "color": "#ab63fa",
          "pattern": {
           "shape": ""
          }
         },
         "name": "11019",
         "nbinsx": 20,
         "offsetgroup": "11019",
         "orientation": "v",
         "showlegend": true,
         "type": "histogram",
         "x": [
          null,
          null,
          null,
          null,
          null,
          null,
          null,
          null,
          null,
          null,
          null,
          null,
          null,
          null,
          null,
          null,
          null,
          null,
          null,
          null,
          null,
          null
         ],
         "xaxis": "x",
         "yaxis": "y"
        },
        {
         "alignmentgroup": "True",
         "bingroup": "x",
         "hovertemplate": "Parent ID=11043<br>gasPrices=%{x}<br>count=%{y}<extra></extra>",
         "legendgroup": "11043",
         "marker": {
          "color": "#FFA15A",
          "pattern": {
           "shape": ""
          }
         },
         "name": "11043",
         "nbinsx": 20,
         "offsetgroup": "11043",
         "orientation": "v",
         "showlegend": true,
         "type": "histogram",
         "x": [
          null,
          null,
          null
         ],
         "xaxis": "x",
         "yaxis": "y"
        },
        {
         "alignmentgroup": "True",
         "bingroup": "x",
         "hovertemplate": "Parent ID=11050<br>gasPrices=%{x}<br>count=%{y}<extra></extra>",
         "legendgroup": "11050",
         "marker": {
          "color": "#19d3f3",
          "pattern": {
           "shape": ""
          }
         },
         "name": "11050",
         "nbinsx": 20,
         "offsetgroup": "11050",
         "orientation": "v",
         "showlegend": true,
         "type": "histogram",
         "x": [
          null
         ],
         "xaxis": "x",
         "yaxis": "y"
        },
        {
         "alignmentgroup": "True",
         "bingroup": "x",
         "hovertemplate": "Parent ID=10964<br>gasPrices=%{x}<br>count=%{y}<extra></extra>",
         "legendgroup": "10964",
         "marker": {
          "color": "#FF6692",
          "pattern": {
           "shape": ""
          }
         },
         "name": "10964",
         "nbinsx": 20,
         "offsetgroup": "10964",
         "orientation": "v",
         "showlegend": true,
         "type": "histogram",
         "x": [
          2.299,
          2.199,
          2.179,
          2.199,
          2.189,
          2.169,
          2.199,
          2.179,
          2.259
         ],
         "xaxis": "x",
         "yaxis": "y"
        },
        {
         "alignmentgroup": "True",
         "bingroup": "x",
         "hovertemplate": "Parent ID=10451<br>gasPrices=%{x}<br>count=%{y}<extra></extra>",
         "legendgroup": "10451",
         "marker": {
          "color": "#B6E880",
          "pattern": {
           "shape": ""
          }
         },
         "name": "10451",
         "nbinsx": 20,
         "offsetgroup": "10451",
         "orientation": "v",
         "showlegend": true,
         "type": "histogram",
         "x": [
          2.189,
          2.229,
          2.309,
          2.089
         ],
         "xaxis": "x",
         "yaxis": "y"
        },
        {
         "alignmentgroup": "True",
         "bingroup": "x",
         "hovertemplate": "Parent ID=11031<br>gasPrices=%{x}<br>count=%{y}<extra></extra>",
         "legendgroup": "11031",
         "marker": {
          "color": "#FF97FF",
          "pattern": {
           "shape": ""
          }
         },
         "name": "11031",
         "nbinsx": 20,
         "offsetgroup": "11031",
         "orientation": "v",
         "showlegend": true,
         "type": "histogram",
         "x": [
          null,
          null,
          null,
          null
         ],
         "xaxis": "x",
         "yaxis": "y"
        },
        {
         "alignmentgroup": "True",
         "bingroup": "x",
         "hovertemplate": "Parent ID=11032<br>gasPrices=%{x}<br>count=%{y}<extra></extra>",
         "legendgroup": "11032",
         "marker": {
          "color": "#FECB52",
          "pattern": {
           "shape": ""
          }
         },
         "name": "11032",
         "nbinsx": 20,
         "offsetgroup": "11032",
         "orientation": "v",
         "showlegend": true,
         "type": "histogram",
         "x": [
          null,
          null,
          null
         ],
         "xaxis": "x",
         "yaxis": "y"
        },
        {
         "alignmentgroup": "True",
         "bingroup": "x",
         "hovertemplate": "Parent ID=11027<br>gasPrices=%{x}<br>count=%{y}<extra></extra>",
         "legendgroup": "11027",
         "marker": {
          "color": "#636efa",
          "pattern": {
           "shape": ""
          }
         },
         "name": "11027",
         "nbinsx": 20,
         "offsetgroup": "11027",
         "orientation": "v",
         "showlegend": true,
         "type": "histogram",
         "x": [
          null,
          null,
          null
         ],
         "xaxis": "x",
         "yaxis": "y"
        },
        {
         "alignmentgroup": "True",
         "bingroup": "x",
         "hovertemplate": "Parent ID=11039<br>gasPrices=%{x}<br>count=%{y}<extra></extra>",
         "legendgroup": "11039",
         "marker": {
          "color": "#EF553B",
          "pattern": {
           "shape": ""
          }
         },
         "name": "11039",
         "nbinsx": 20,
         "offsetgroup": "11039",
         "orientation": "v",
         "showlegend": true,
         "type": "histogram",
         "x": [
          null
         ],
         "xaxis": "x",
         "yaxis": "y"
        },
        {
         "alignmentgroup": "True",
         "bingroup": "x",
         "hovertemplate": "Parent ID=11021<br>gasPrices=%{x}<br>count=%{y}<extra></extra>",
         "legendgroup": "11021",
         "marker": {
          "color": "#00cc96",
          "pattern": {
           "shape": ""
          }
         },
         "name": "11021",
         "nbinsx": 20,
         "offsetgroup": "11021",
         "orientation": "v",
         "showlegend": true,
         "type": "histogram",
         "x": [
          null,
          null,
          null
         ],
         "xaxis": "x",
         "yaxis": "y"
        },
        {
         "alignmentgroup": "True",
         "bingroup": "x",
         "hovertemplate": "Parent ID=11013<br>gasPrices=%{x}<br>count=%{y}<extra></extra>",
         "legendgroup": "11013",
         "marker": {
          "color": "#ab63fa",
          "pattern": {
           "shape": ""
          }
         },
         "name": "11013",
         "nbinsx": 20,
         "offsetgroup": "11013",
         "orientation": "v",
         "showlegend": true,
         "type": "histogram",
         "x": [
          null
         ],
         "xaxis": "x",
         "yaxis": "y"
        },
        {
         "alignmentgroup": "True",
         "bingroup": "x",
         "hovertemplate": "Parent ID=11033<br>gasPrices=%{x}<br>count=%{y}<extra></extra>",
         "legendgroup": "11033",
         "marker": {
          "color": "#FFA15A",
          "pattern": {
           "shape": ""
          }
         },
         "name": "11033",
         "nbinsx": 20,
         "offsetgroup": "11033",
         "orientation": "v",
         "showlegend": true,
         "type": "histogram",
         "x": [
          null
         ],
         "xaxis": "x",
         "yaxis": "y"
        },
        {
         "alignmentgroup": "True",
         "bingroup": "x",
         "hovertemplate": "Parent ID=11040<br>gasPrices=%{x}<br>count=%{y}<extra></extra>",
         "legendgroup": "11040",
         "marker": {
          "color": "#19d3f3",
          "pattern": {
           "shape": ""
          }
         },
         "name": "11040",
         "nbinsx": 20,
         "offsetgroup": "11040",
         "orientation": "v",
         "showlegend": true,
         "type": "histogram",
         "x": [
          null
         ],
         "xaxis": "x",
         "yaxis": "y"
        },
        {
         "alignmentgroup": "True",
         "bingroup": "x",
         "hovertemplate": "Parent ID=11034<br>gasPrices=%{x}<br>count=%{y}<extra></extra>",
         "legendgroup": "11034",
         "marker": {
          "color": "#FF6692",
          "pattern": {
           "shape": ""
          }
         },
         "name": "11034",
         "nbinsx": 20,
         "offsetgroup": "11034",
         "orientation": "v",
         "showlegend": true,
         "type": "histogram",
         "x": [
          null
         ],
         "xaxis": "x",
         "yaxis": "y"
        },
        {
         "alignmentgroup": "True",
         "bingroup": "x",
         "hovertemplate": "Parent ID=11038<br>gasPrices=%{x}<br>count=%{y}<extra></extra>",
         "legendgroup": "11038",
         "marker": {
          "color": "#B6E880",
          "pattern": {
           "shape": ""
          }
         },
         "name": "11038",
         "nbinsx": 20,
         "offsetgroup": "11038",
         "orientation": "v",
         "showlegend": true,
         "type": "histogram",
         "x": [
          null
         ],
         "xaxis": "x",
         "yaxis": "y"
        },
        {
         "alignmentgroup": "True",
         "bingroup": "x",
         "hovertemplate": "Parent ID=11036<br>gasPrices=%{x}<br>count=%{y}<extra></extra>",
         "legendgroup": "11036",
         "marker": {
          "color": "#FF97FF",
          "pattern": {
           "shape": ""
          }
         },
         "name": "11036",
         "nbinsx": 20,
         "offsetgroup": "11036",
         "orientation": "v",
         "showlegend": true,
         "type": "histogram",
         "x": [
          null,
          null,
          null
         ],
         "xaxis": "x",
         "yaxis": "y"
        },
        {
         "alignmentgroup": "True",
         "bingroup": "x",
         "hovertemplate": "Parent ID=11042<br>gasPrices=%{x}<br>count=%{y}<extra></extra>",
         "legendgroup": "11042",
         "marker": {
          "color": "#FECB52",
          "pattern": {
           "shape": ""
          }
         },
         "name": "11042",
         "nbinsx": 20,
         "offsetgroup": "11042",
         "orientation": "v",
         "showlegend": true,
         "type": "histogram",
         "x": [
          null
         ],
         "xaxis": "x",
         "yaxis": "y"
        },
        {
         "alignmentgroup": "True",
         "bingroup": "x",
         "hovertemplate": "Parent ID=11048<br>gasPrices=%{x}<br>count=%{y}<extra></extra>",
         "legendgroup": "11048",
         "marker": {
          "color": "#636efa",
          "pattern": {
           "shape": ""
          }
         },
         "name": "11048",
         "nbinsx": 20,
         "offsetgroup": "11048",
         "orientation": "v",
         "showlegend": true,
         "type": "histogram",
         "x": [
          null,
          null
         ],
         "xaxis": "x",
         "yaxis": "y"
        },
        {
         "alignmentgroup": "True",
         "bingroup": "x",
         "hovertemplate": "Parent ID=11016<br>gasPrices=%{x}<br>count=%{y}<extra></extra>",
         "legendgroup": "11016",
         "marker": {
          "color": "#EF553B",
          "pattern": {
           "shape": ""
          }
         },
         "name": "11016",
         "nbinsx": 20,
         "offsetgroup": "11016",
         "orientation": "v",
         "showlegend": true,
         "type": "histogram",
         "x": [
          null
         ],
         "xaxis": "x",
         "yaxis": "y"
        },
        {
         "alignmentgroup": "True",
         "bingroup": "x",
         "hovertemplate": "Parent ID=11015<br>gasPrices=%{x}<br>count=%{y}<extra></extra>",
         "legendgroup": "11015",
         "marker": {
          "color": "#00cc96",
          "pattern": {
           "shape": ""
          }
         },
         "name": "11015",
         "nbinsx": 20,
         "offsetgroup": "11015",
         "orientation": "v",
         "showlegend": true,
         "type": "histogram",
         "x": [
          null,
          null,
          null,
          null
         ],
         "xaxis": "x",
         "yaxis": "y"
        },
        {
         "alignmentgroup": "True",
         "bingroup": "x",
         "hovertemplate": "Parent ID=11044<br>gasPrices=%{x}<br>count=%{y}<extra></extra>",
         "legendgroup": "11044",
         "marker": {
          "color": "#ab63fa",
          "pattern": {
           "shape": ""
          }
         },
         "name": "11044",
         "nbinsx": 20,
         "offsetgroup": "11044",
         "orientation": "v",
         "showlegend": true,
         "type": "histogram",
         "x": [
          null
         ],
         "xaxis": "x",
         "yaxis": "y"
        },
        {
         "alignmentgroup": "True",
         "bingroup": "x",
         "hovertemplate": "Parent ID=11018<br>gasPrices=%{x}<br>count=%{y}<extra></extra>",
         "legendgroup": "11018",
         "marker": {
          "color": "#FFA15A",
          "pattern": {
           "shape": ""
          }
         },
         "name": "11018",
         "nbinsx": 20,
         "offsetgroup": "11018",
         "orientation": "v",
         "showlegend": true,
         "type": "histogram",
         "x": [
          null,
          null
         ],
         "xaxis": "x",
         "yaxis": "y"
        },
        {
         "alignmentgroup": "True",
         "bingroup": "x",
         "hovertemplate": "Parent ID=10427<br>gasPrices=%{x}<br>count=%{y}<extra></extra>",
         "legendgroup": "10427",
         "marker": {
          "color": "#19d3f3",
          "pattern": {
           "shape": ""
          }
         },
         "name": "10427",
         "nbinsx": 20,
         "offsetgroup": "10427",
         "orientation": "v",
         "showlegend": true,
         "type": "histogram",
         "x": [
          2.199,
          2.109,
          2.139
         ],
         "xaxis": "x",
         "yaxis": "y"
        },
        {
         "alignmentgroup": "True",
         "bingroup": "x",
         "hovertemplate": "Parent ID=13008<br>gasPrices=%{x}<br>count=%{y}<extra></extra>",
         "legendgroup": "13008",
         "marker": {
          "color": "#FF6692",
          "pattern": {
           "shape": ""
          }
         },
         "name": "13008",
         "nbinsx": 20,
         "offsetgroup": "13008",
         "orientation": "v",
         "showlegend": true,
         "type": "histogram",
         "x": [
          null,
          null,
          null,
          null
         ],
         "xaxis": "x",
         "yaxis": "y"
        },
        {
         "alignmentgroup": "True",
         "bingroup": "x",
         "hovertemplate": "Parent ID=13005<br>gasPrices=%{x}<br>count=%{y}<extra></extra>",
         "legendgroup": "13005",
         "marker": {
          "color": "#B6E880",
          "pattern": {
           "shape": ""
          }
         },
         "name": "13005",
         "nbinsx": 20,
         "offsetgroup": "13005",
         "orientation": "v",
         "showlegend": true,
         "type": "histogram",
         "x": [
          null
         ],
         "xaxis": "x",
         "yaxis": "y"
        },
        {
         "alignmentgroup": "True",
         "bingroup": "x",
         "hovertemplate": "Parent ID=13006<br>gasPrices=%{x}<br>count=%{y}<extra></extra>",
         "legendgroup": "13006",
         "marker": {
          "color": "#FF97FF",
          "pattern": {
           "shape": ""
          }
         },
         "name": "13006",
         "nbinsx": 20,
         "offsetgroup": "13006",
         "orientation": "v",
         "showlegend": true,
         "type": "histogram",
         "x": [
          null,
          null
         ],
         "xaxis": "x",
         "yaxis": "y"
        },
        {
         "alignmentgroup": "True",
         "bingroup": "x",
         "hovertemplate": "Parent ID=13007<br>gasPrices=%{x}<br>count=%{y}<extra></extra>",
         "legendgroup": "13007",
         "marker": {
          "color": "#FECB52",
          "pattern": {
           "shape": ""
          }
         },
         "name": "13007",
         "nbinsx": 20,
         "offsetgroup": "13007",
         "orientation": "v",
         "showlegend": true,
         "type": "histogram",
         "x": [
          null,
          null
         ],
         "xaxis": "x",
         "yaxis": "y"
        },
        {
         "alignmentgroup": "True",
         "bingroup": "x",
         "hovertemplate": "Parent ID=13004<br>gasPrices=%{x}<br>count=%{y}<extra></extra>",
         "legendgroup": "13004",
         "marker": {
          "color": "#636efa",
          "pattern": {
           "shape": ""
          }
         },
         "name": "13004",
         "nbinsx": 20,
         "offsetgroup": "13004",
         "orientation": "v",
         "showlegend": true,
         "type": "histogram",
         "x": [
          null
         ],
         "xaxis": "x",
         "yaxis": "y"
        },
        {
         "alignmentgroup": "True",
         "bingroup": "x",
         "hovertemplate": "Parent ID=11047<br>gasPrices=%{x}<br>count=%{y}<extra></extra>",
         "legendgroup": "11047",
         "marker": {
          "color": "#EF553B",
          "pattern": {
           "shape": ""
          }
         },
         "name": "11047",
         "nbinsx": 20,
         "offsetgroup": "11047",
         "orientation": "v",
         "showlegend": true,
         "type": "histogram",
         "x": [
          null,
          null
         ],
         "xaxis": "x",
         "yaxis": "y"
        },
        {
         "alignmentgroup": "True",
         "bingroup": "x",
         "hovertemplate": "Parent ID=11026<br>gasPrices=%{x}<br>count=%{y}<extra></extra>",
         "legendgroup": "11026",
         "marker": {
          "color": "#00cc96",
          "pattern": {
           "shape": ""
          }
         },
         "name": "11026",
         "nbinsx": 20,
         "offsetgroup": "11026",
         "orientation": "v",
         "showlegend": true,
         "type": "histogram",
         "x": [
          null,
          null
         ],
         "xaxis": "x",
         "yaxis": "y"
        },
        {
         "alignmentgroup": "True",
         "bingroup": "x",
         "hovertemplate": "Parent ID=11028<br>gasPrices=%{x}<br>count=%{y}<extra></extra>",
         "legendgroup": "11028",
         "marker": {
          "color": "#ab63fa",
          "pattern": {
           "shape": ""
          }
         },
         "name": "11028",
         "nbinsx": 20,
         "offsetgroup": "11028",
         "orientation": "v",
         "showlegend": true,
         "type": "histogram",
         "x": [
          null,
          null,
          null
         ],
         "xaxis": "x",
         "yaxis": "y"
        },
        {
         "alignmentgroup": "True",
         "bingroup": "x",
         "hovertemplate": "Parent ID=11024<br>gasPrices=%{x}<br>count=%{y}<extra></extra>",
         "legendgroup": "11024",
         "marker": {
          "color": "#FFA15A",
          "pattern": {
           "shape": ""
          }
         },
         "name": "11024",
         "nbinsx": 20,
         "offsetgroup": "11024",
         "orientation": "v",
         "showlegend": true,
         "type": "histogram",
         "x": [
          null
         ],
         "xaxis": "x",
         "yaxis": "y"
        },
        {
         "alignmentgroup": "True",
         "bingroup": "x",
         "hovertemplate": "Parent ID=11041<br>gasPrices=%{x}<br>count=%{y}<extra></extra>",
         "legendgroup": "11041",
         "marker": {
          "color": "#19d3f3",
          "pattern": {
           "shape": ""
          }
         },
         "name": "11041",
         "nbinsx": 20,
         "offsetgroup": "11041",
         "orientation": "v",
         "showlegend": true,
         "type": "histogram",
         "x": [
          null,
          null
         ],
         "xaxis": "x",
         "yaxis": "y"
        },
        {
         "alignmentgroup": "True",
         "bingroup": "x",
         "hovertemplate": "Parent ID=11045<br>gasPrices=%{x}<br>count=%{y}<extra></extra>",
         "legendgroup": "11045",
         "marker": {
          "color": "#FF6692",
          "pattern": {
           "shape": ""
          }
         },
         "name": "11045",
         "nbinsx": 20,
         "offsetgroup": "11045",
         "orientation": "v",
         "showlegend": true,
         "type": "histogram",
         "x": [
          null
         ],
         "xaxis": "x",
         "yaxis": "y"
        },
        {
         "alignmentgroup": "True",
         "bingroup": "x",
         "hovertemplate": "Parent ID=11046<br>gasPrices=%{x}<br>count=%{y}<extra></extra>",
         "legendgroup": "11046",
         "marker": {
          "color": "#B6E880",
          "pattern": {
           "shape": ""
          }
         },
         "name": "11046",
         "nbinsx": 20,
         "offsetgroup": "11046",
         "orientation": "v",
         "showlegend": true,
         "type": "histogram",
         "x": [
          null,
          null,
          null
         ],
         "xaxis": "x",
         "yaxis": "y"
        },
        {
         "alignmentgroup": "True",
         "bingroup": "x",
         "hovertemplate": "Parent ID=11029<br>gasPrices=%{x}<br>count=%{y}<extra></extra>",
         "legendgroup": "11029",
         "marker": {
          "color": "#FF97FF",
          "pattern": {
           "shape": ""
          }
         },
         "name": "11029",
         "nbinsx": 20,
         "offsetgroup": "11029",
         "orientation": "v",
         "showlegend": true,
         "type": "histogram",
         "x": [
          null,
          null
         ],
         "xaxis": "x",
         "yaxis": "y"
        },
        {
         "alignmentgroup": "True",
         "bingroup": "x",
         "hovertemplate": "Parent ID=11020<br>gasPrices=%{x}<br>count=%{y}<extra></extra>",
         "legendgroup": "11020",
         "marker": {
          "color": "#FECB52",
          "pattern": {
           "shape": ""
          }
         },
         "name": "11020",
         "nbinsx": 20,
         "offsetgroup": "11020",
         "orientation": "v",
         "showlegend": true,
         "type": "histogram",
         "x": [
          null,
          null
         ],
         "xaxis": "x",
         "yaxis": "y"
        },
        {
         "alignmentgroup": "True",
         "bingroup": "x",
         "hovertemplate": "Parent ID=11017<br>gasPrices=%{x}<br>count=%{y}<extra></extra>",
         "legendgroup": "11017",
         "marker": {
          "color": "#636efa",
          "pattern": {
           "shape": ""
          }
         },
         "name": "11017",
         "nbinsx": 20,
         "offsetgroup": "11017",
         "orientation": "v",
         "showlegend": true,
         "type": "histogram",
         "x": [
          null,
          null
         ],
         "xaxis": "x",
         "yaxis": "y"
        },
        {
         "alignmentgroup": "True",
         "bingroup": "x",
         "hovertemplate": "Parent ID=10620<br>gasPrices=%{x}<br>count=%{y}<extra></extra>",
         "legendgroup": "10620",
         "marker": {
          "color": "#EF553B",
          "pattern": {
           "shape": ""
          }
         },
         "name": "10620",
         "nbinsx": 20,
         "offsetgroup": "10620",
         "orientation": "v",
         "showlegend": true,
         "type": "histogram",
         "x": [
          2.149,
          2.149,
          2.269
         ],
         "xaxis": "x",
         "yaxis": "y"
        },
        {
         "alignmentgroup": "True",
         "bingroup": "x",
         "hovertemplate": "Parent ID=10034<br>gasPrices=%{x}<br>count=%{y}<extra></extra>",
         "legendgroup": "10034",
         "marker": {
          "color": "#00cc96",
          "pattern": {
           "shape": ""
          }
         },
         "name": "10034",
         "nbinsx": 20,
         "offsetgroup": "10034",
         "orientation": "v",
         "showlegend": true,
         "type": "histogram",
         "x": [
          null,
          0.019,
          0.909
         ],
         "xaxis": "x",
         "yaxis": "y"
        },
        {
         "alignmentgroup": "True",
         "bingroup": "x",
         "hovertemplate": "Parent ID=10731<br>gasPrices=%{x}<br>count=%{y}<extra></extra>",
         "legendgroup": "10731",
         "marker": {
          "color": "#ab63fa",
          "pattern": {
           "shape": ""
          }
         },
         "name": "10731",
         "nbinsx": 20,
         "offsetgroup": "10731",
         "orientation": "v",
         "showlegend": true,
         "type": "histogram",
         "x": [
          2.189
         ],
         "xaxis": "x",
         "yaxis": "y"
        },
        {
         "alignmentgroup": "True",
         "bingroup": "x",
         "hovertemplate": "Parent ID=10288<br>gasPrices=%{x}<br>count=%{y}<extra></extra>",
         "legendgroup": "10288",
         "marker": {
          "color": "#FFA15A",
          "pattern": {
           "shape": ""
          }
         },
         "name": "10288",
         "nbinsx": 20,
         "offsetgroup": "10288",
         "orientation": "v",
         "showlegend": true,
         "type": "histogram",
         "x": [
          null
         ],
         "xaxis": "x",
         "yaxis": "y"
        },
        {
         "alignmentgroup": "True",
         "bingroup": "x",
         "hovertemplate": "Parent ID=10465<br>gasPrices=%{x}<br>count=%{y}<extra></extra>",
         "legendgroup": "10465",
         "marker": {
          "color": "#19d3f3",
          "pattern": {
           "shape": ""
          }
         },
         "name": "10465",
         "nbinsx": 20,
         "offsetgroup": "10465",
         "orientation": "v",
         "showlegend": true,
         "type": "histogram",
         "x": [
          1.909,
          1.879,
          1.959
         ],
         "xaxis": "x",
         "yaxis": "y"
        },
        {
         "alignmentgroup": "True",
         "bingroup": "x",
         "hovertemplate": "Parent ID=10828<br>gasPrices=%{x}<br>count=%{y}<extra></extra>",
         "legendgroup": "10828",
         "marker": {
          "color": "#FF6692",
          "pattern": {
           "shape": ""
          }
         },
         "name": "10828",
         "nbinsx": 20,
         "offsetgroup": "10828",
         "orientation": "v",
         "showlegend": true,
         "type": "histogram",
         "x": [
          2.159
         ],
         "xaxis": "x",
         "yaxis": "y"
        },
        {
         "alignmentgroup": "True",
         "bingroup": "x",
         "hovertemplate": "Parent ID=10761<br>gasPrices=%{x}<br>count=%{y}<extra></extra>",
         "legendgroup": "10761",
         "marker": {
          "color": "#B6E880",
          "pattern": {
           "shape": ""
          }
         },
         "name": "10761",
         "nbinsx": 20,
         "offsetgroup": "10761",
         "orientation": "v",
         "showlegend": true,
         "type": "histogram",
         "x": [
          1.979,
          1.899
         ],
         "xaxis": "x",
         "yaxis": "y"
        },
        {
         "alignmentgroup": "True",
         "bingroup": "x",
         "hovertemplate": "Parent ID=10038<br>gasPrices=%{x}<br>count=%{y}<extra></extra>",
         "legendgroup": "10038",
         "marker": {
          "color": "#FF97FF",
          "pattern": {
           "shape": ""
          }
         },
         "name": "10038",
         "nbinsx": 20,
         "offsetgroup": "10038",
         "orientation": "v",
         "showlegend": true,
         "type": "histogram",
         "x": [
          0.019
         ],
         "xaxis": "x",
         "yaxis": "y"
        },
        {
         "alignmentgroup": "True",
         "bingroup": "x",
         "hovertemplate": "Parent ID=10575<br>gasPrices=%{x}<br>count=%{y}<extra></extra>",
         "legendgroup": "10575",
         "marker": {
          "color": "#FECB52",
          "pattern": {
           "shape": ""
          }
         },
         "name": "10575",
         "nbinsx": 20,
         "offsetgroup": "10575",
         "orientation": "v",
         "showlegend": true,
         "type": "histogram",
         "x": [
          1.999
         ],
         "xaxis": "x",
         "yaxis": "y"
        },
        {
         "alignmentgroup": "True",
         "bingroup": "x",
         "hovertemplate": "Parent ID=11025<br>gasPrices=%{x}<br>count=%{y}<extra></extra>",
         "legendgroup": "11025",
         "marker": {
          "color": "#636efa",
          "pattern": {
           "shape": ""
          }
         },
         "name": "11025",
         "nbinsx": 20,
         "offsetgroup": "11025",
         "orientation": "v",
         "showlegend": true,
         "type": "histogram",
         "x": [
          null
         ],
         "xaxis": "x",
         "yaxis": "y"
        },
        {
         "alignmentgroup": "True",
         "bingroup": "x",
         "hovertemplate": "Parent ID=13003<br>gasPrices=%{x}<br>count=%{y}<extra></extra>",
         "legendgroup": "13003",
         "marker": {
          "color": "#EF553B",
          "pattern": {
           "shape": ""
          }
         },
         "name": "13003",
         "nbinsx": 20,
         "offsetgroup": "13003",
         "orientation": "v",
         "showlegend": true,
         "type": "histogram",
         "x": [
          null
         ],
         "xaxis": "x",
         "yaxis": "y"
        },
        {
         "alignmentgroup": "True",
         "bingroup": "x",
         "hovertemplate": "Parent ID=11011<br>gasPrices=%{x}<br>count=%{y}<extra></extra>",
         "legendgroup": "11011",
         "marker": {
          "color": "#00cc96",
          "pattern": {
           "shape": ""
          }
         },
         "name": "11011",
         "nbinsx": 20,
         "offsetgroup": "11011",
         "orientation": "v",
         "showlegend": true,
         "type": "histogram",
         "x": [
          null,
          null,
          null,
          null
         ],
         "xaxis": "x",
         "yaxis": "y"
        },
        {
         "alignmentgroup": "True",
         "bingroup": "x",
         "hovertemplate": "Parent ID=13002<br>gasPrices=%{x}<br>count=%{y}<extra></extra>",
         "legendgroup": "13002",
         "marker": {
          "color": "#ab63fa",
          "pattern": {
           "shape": ""
          }
         },
         "name": "13002",
         "nbinsx": 20,
         "offsetgroup": "13002",
         "orientation": "v",
         "showlegend": true,
         "type": "histogram",
         "x": [
          null
         ],
         "xaxis": "x",
         "yaxis": "y"
        },
        {
         "alignmentgroup": "True",
         "bingroup": "x",
         "hovertemplate": "Parent ID=13009<br>gasPrices=%{x}<br>count=%{y}<extra></extra>",
         "legendgroup": "13009",
         "marker": {
          "color": "#FFA15A",
          "pattern": {
           "shape": ""
          }
         },
         "name": "13009",
         "nbinsx": 20,
         "offsetgroup": "13009",
         "orientation": "v",
         "showlegend": true,
         "type": "histogram",
         "x": [
          null
         ],
         "xaxis": "x",
         "yaxis": "y"
        },
        {
         "alignmentgroup": "True",
         "bingroup": "x",
         "hovertemplate": "Parent ID=11008<br>gasPrices=%{x}<br>count=%{y}<extra></extra>",
         "legendgroup": "11008",
         "marker": {
          "color": "#19d3f3",
          "pattern": {
           "shape": ""
          }
         },
         "name": "11008",
         "nbinsx": 20,
         "offsetgroup": "11008",
         "orientation": "v",
         "showlegend": true,
         "type": "histogram",
         "x": [
          null,
          null,
          null,
          null,
          null
         ],
         "xaxis": "x",
         "yaxis": "y"
        },
        {
         "alignmentgroup": "True",
         "bingroup": "x",
         "hovertemplate": "Parent ID=11006<br>gasPrices=%{x}<br>count=%{y}<extra></extra>",
         "legendgroup": "11006",
         "marker": {
          "color": "#FF6692",
          "pattern": {
           "shape": ""
          }
         },
         "name": "11006",
         "nbinsx": 20,
         "offsetgroup": "11006",
         "orientation": "v",
         "showlegend": true,
         "type": "histogram",
         "x": [
          null,
          null,
          null,
          null,
          null,
          null,
          null,
          null
         ],
         "xaxis": "x",
         "yaxis": "y"
        },
        {
         "alignmentgroup": "True",
         "bingroup": "x",
         "hovertemplate": "Parent ID=11035<br>gasPrices=%{x}<br>count=%{y}<extra></extra>",
         "legendgroup": "11035",
         "marker": {
          "color": "#B6E880",
          "pattern": {
           "shape": ""
          }
         },
         "name": "11035",
         "nbinsx": 20,
         "offsetgroup": "11035",
         "orientation": "v",
         "showlegend": true,
         "type": "histogram",
         "x": [
          null,
          2.559
         ],
         "xaxis": "x",
         "yaxis": "y"
        },
        {
         "alignmentgroup": "True",
         "bingroup": "x",
         "hovertemplate": "Parent ID=13000<br>gasPrices=%{x}<br>count=%{y}<extra></extra>",
         "legendgroup": "13000",
         "marker": {
          "color": "#FF97FF",
          "pattern": {
           "shape": ""
          }
         },
         "name": "13000",
         "nbinsx": 20,
         "offsetgroup": "13000",
         "orientation": "v",
         "showlegend": true,
         "type": "histogram",
         "x": [
          null
         ],
         "xaxis": "x",
         "yaxis": "y"
        },
        {
         "alignmentgroup": "True",
         "bingroup": "x",
         "hovertemplate": "Parent ID=13012<br>gasPrices=%{x}<br>count=%{y}<extra></extra>",
         "legendgroup": "13012",
         "marker": {
          "color": "#FECB52",
          "pattern": {
           "shape": ""
          }
         },
         "name": "13012",
         "nbinsx": 20,
         "offsetgroup": "13012",
         "orientation": "v",
         "showlegend": true,
         "type": "histogram",
         "x": [
          null
         ],
         "xaxis": "x",
         "yaxis": "y"
        },
        {
         "alignmentgroup": "True",
         "bingroup": "x",
         "hovertemplate": "Parent ID=13001<br>gasPrices=%{x}<br>count=%{y}<extra></extra>",
         "legendgroup": "13001",
         "marker": {
          "color": "#636efa",
          "pattern": {
           "shape": ""
          }
         },
         "name": "13001",
         "nbinsx": 20,
         "offsetgroup": "13001",
         "orientation": "v",
         "showlegend": true,
         "type": "histogram",
         "x": [
          null
         ],
         "xaxis": "x",
         "yaxis": "y"
        },
        {
         "alignmentgroup": "True",
         "bingroup": "x",
         "hovertemplate": "Parent ID=13010<br>gasPrices=%{x}<br>count=%{y}<extra></extra>",
         "legendgroup": "13010",
         "marker": {
          "color": "#EF553B",
          "pattern": {
           "shape": ""
          }
         },
         "name": "13010",
         "nbinsx": 20,
         "offsetgroup": "13010",
         "orientation": "v",
         "showlegend": true,
         "type": "histogram",
         "x": [
          null
         ],
         "xaxis": "x",
         "yaxis": "y"
        },
        {
         "alignmentgroup": "True",
         "bingroup": "x",
         "hovertemplate": "Parent ID=13013<br>gasPrices=%{x}<br>count=%{y}<extra></extra>",
         "legendgroup": "13013",
         "marker": {
          "color": "#00cc96",
          "pattern": {
           "shape": ""
          }
         },
         "name": "13013",
         "nbinsx": 20,
         "offsetgroup": "13013",
         "orientation": "v",
         "showlegend": true,
         "type": "histogram",
         "x": [
          null
         ],
         "xaxis": "x",
         "yaxis": "y"
        },
        {
         "alignmentgroup": "True",
         "bingroup": "x",
         "hovertemplate": "Parent ID=11007<br>gasPrices=%{x}<br>count=%{y}<extra></extra>",
         "legendgroup": "11007",
         "marker": {
          "color": "#ab63fa",
          "pattern": {
           "shape": ""
          }
         },
         "name": "11007",
         "nbinsx": 20,
         "offsetgroup": "11007",
         "orientation": "v",
         "showlegend": true,
         "type": "histogram",
         "x": [
          null,
          null,
          null,
          null,
          null,
          null,
          null,
          null
         ],
         "xaxis": "x",
         "yaxis": "y"
        },
        {
         "alignmentgroup": "True",
         "bingroup": "x",
         "hovertemplate": "Parent ID=13011<br>gasPrices=%{x}<br>count=%{y}<extra></extra>",
         "legendgroup": "13011",
         "marker": {
          "color": "#FFA15A",
          "pattern": {
           "shape": ""
          }
         },
         "name": "13011",
         "nbinsx": 20,
         "offsetgroup": "13011",
         "orientation": "v",
         "showlegend": true,
         "type": "histogram",
         "x": [
          null
         ],
         "xaxis": "x",
         "yaxis": "y"
        },
        {
         "alignmentgroup": "True",
         "bingroup": "x",
         "hovertemplate": "Parent ID=11012<br>gasPrices=%{x}<br>count=%{y}<extra></extra>",
         "legendgroup": "11012",
         "marker": {
          "color": "#19d3f3",
          "pattern": {
           "shape": ""
          }
         },
         "name": "11012",
         "nbinsx": 20,
         "offsetgroup": "11012",
         "orientation": "v",
         "showlegend": true,
         "type": "histogram",
         "x": [
          null,
          null,
          null
         ],
         "xaxis": "x",
         "yaxis": "y"
        },
        {
         "alignmentgroup": "True",
         "bingroup": "x",
         "hovertemplate": "Parent ID=13018<br>gasPrices=%{x}<br>count=%{y}<extra></extra>",
         "legendgroup": "13018",
         "marker": {
          "color": "#FF6692",
          "pattern": {
           "shape": ""
          }
         },
         "name": "13018",
         "nbinsx": 20,
         "offsetgroup": "13018",
         "orientation": "v",
         "showlegend": true,
         "type": "histogram",
         "x": [
          null
         ],
         "xaxis": "x",
         "yaxis": "y"
        },
        {
         "alignmentgroup": "True",
         "bingroup": "x",
         "hovertemplate": "Parent ID=11009<br>gasPrices=%{x}<br>count=%{y}<extra></extra>",
         "legendgroup": "11009",
         "marker": {
          "color": "#B6E880",
          "pattern": {
           "shape": ""
          }
         },
         "name": "11009",
         "nbinsx": 20,
         "offsetgroup": "11009",
         "orientation": "v",
         "showlegend": true,
         "type": "histogram",
         "x": [
          null,
          null,
          null,
          null,
          null,
          null
         ],
         "xaxis": "x",
         "yaxis": "y"
        },
        {
         "alignmentgroup": "True",
         "bingroup": "x",
         "hovertemplate": "Parent ID=0<br>gasPrices=%{x}<br>count=%{y}<extra></extra>",
         "legendgroup": "0",
         "marker": {
          "color": "#FF97FF",
          "pattern": {
           "shape": ""
          }
         },
         "name": "0",
         "nbinsx": 20,
         "offsetgroup": "0",
         "orientation": "v",
         "showlegend": true,
         "type": "histogram",
         "x": [
          null,
          null
         ],
         "xaxis": "x",
         "yaxis": "y"
        },
        {
         "alignmentgroup": "True",
         "bingroup": "x",
         "hovertemplate": "Parent ID=13015<br>gasPrices=%{x}<br>count=%{y}<extra></extra>",
         "legendgroup": "13015",
         "marker": {
          "color": "#FECB52",
          "pattern": {
           "shape": ""
          }
         },
         "name": "13015",
         "nbinsx": 20,
         "offsetgroup": "13015",
         "orientation": "v",
         "showlegend": true,
         "type": "histogram",
         "x": [
          2.559
         ],
         "xaxis": "x",
         "yaxis": "y"
        },
        {
         "alignmentgroup": "True",
         "bingroup": "x",
         "hovertemplate": "Parent ID=13014<br>gasPrices=%{x}<br>count=%{y}<extra></extra>",
         "legendgroup": "13014",
         "marker": {
          "color": "#636efa",
          "pattern": {
           "shape": ""
          }
         },
         "name": "13014",
         "nbinsx": 20,
         "offsetgroup": "13014",
         "orientation": "v",
         "showlegend": true,
         "type": "histogram",
         "x": [
          null
         ],
         "xaxis": "x",
         "yaxis": "y"
        }
       ],
       "layout": {
        "autosize": true,
        "barmode": "relative",
        "legend": {
         "title": {
          "text": "Parent ID"
         },
         "tracegroupgap": 0
        },
        "template": {
         "data": {
          "bar": [
           {
            "error_x": {
             "color": "#2a3f5f"
            },
            "error_y": {
             "color": "#2a3f5f"
            },
            "marker": {
             "line": {
              "color": "#E5ECF6",
              "width": 0.5
             },
             "pattern": {
              "fillmode": "overlay",
              "size": 10,
              "solidity": 0.2
             }
            },
            "type": "bar"
           }
          ],
          "barpolar": [
           {
            "marker": {
             "line": {
              "color": "#E5ECF6",
              "width": 0.5
             },
             "pattern": {
              "fillmode": "overlay",
              "size": 10,
              "solidity": 0.2
             }
            },
            "type": "barpolar"
           }
          ],
          "carpet": [
           {
            "aaxis": {
             "endlinecolor": "#2a3f5f",
             "gridcolor": "white",
             "linecolor": "white",
             "minorgridcolor": "white",
             "startlinecolor": "#2a3f5f"
            },
            "baxis": {
             "endlinecolor": "#2a3f5f",
             "gridcolor": "white",
             "linecolor": "white",
             "minorgridcolor": "white",
             "startlinecolor": "#2a3f5f"
            },
            "type": "carpet"
           }
          ],
          "choropleth": [
           {
            "colorbar": {
             "outlinewidth": 0,
             "ticks": ""
            },
            "type": "choropleth"
           }
          ],
          "contour": [
           {
            "colorbar": {
             "outlinewidth": 0,
             "ticks": ""
            },
            "colorscale": [
             [
              0,
              "#0d0887"
             ],
             [
              0.1111111111111111,
              "#46039f"
             ],
             [
              0.2222222222222222,
              "#7201a8"
             ],
             [
              0.3333333333333333,
              "#9c179e"
             ],
             [
              0.4444444444444444,
              "#bd3786"
             ],
             [
              0.5555555555555556,
              "#d8576b"
             ],
             [
              0.6666666666666666,
              "#ed7953"
             ],
             [
              0.7777777777777778,
              "#fb9f3a"
             ],
             [
              0.8888888888888888,
              "#fdca26"
             ],
             [
              1,
              "#f0f921"
             ]
            ],
            "type": "contour"
           }
          ],
          "contourcarpet": [
           {
            "colorbar": {
             "outlinewidth": 0,
             "ticks": ""
            },
            "type": "contourcarpet"
           }
          ],
          "heatmap": [
           {
            "colorbar": {
             "outlinewidth": 0,
             "ticks": ""
            },
            "colorscale": [
             [
              0,
              "#0d0887"
             ],
             [
              0.1111111111111111,
              "#46039f"
             ],
             [
              0.2222222222222222,
              "#7201a8"
             ],
             [
              0.3333333333333333,
              "#9c179e"
             ],
             [
              0.4444444444444444,
              "#bd3786"
             ],
             [
              0.5555555555555556,
              "#d8576b"
             ],
             [
              0.6666666666666666,
              "#ed7953"
             ],
             [
              0.7777777777777778,
              "#fb9f3a"
             ],
             [
              0.8888888888888888,
              "#fdca26"
             ],
             [
              1,
              "#f0f921"
             ]
            ],
            "type": "heatmap"
           }
          ],
          "heatmapgl": [
           {
            "colorbar": {
             "outlinewidth": 0,
             "ticks": ""
            },
            "colorscale": [
             [
              0,
              "#0d0887"
             ],
             [
              0.1111111111111111,
              "#46039f"
             ],
             [
              0.2222222222222222,
              "#7201a8"
             ],
             [
              0.3333333333333333,
              "#9c179e"
             ],
             [
              0.4444444444444444,
              "#bd3786"
             ],
             [
              0.5555555555555556,
              "#d8576b"
             ],
             [
              0.6666666666666666,
              "#ed7953"
             ],
             [
              0.7777777777777778,
              "#fb9f3a"
             ],
             [
              0.8888888888888888,
              "#fdca26"
             ],
             [
              1,
              "#f0f921"
             ]
            ],
            "type": "heatmapgl"
           }
          ],
          "histogram": [
           {
            "marker": {
             "pattern": {
              "fillmode": "overlay",
              "size": 10,
              "solidity": 0.2
             }
            },
            "type": "histogram"
           }
          ],
          "histogram2d": [
           {
            "colorbar": {
             "outlinewidth": 0,
             "ticks": ""
            },
            "colorscale": [
             [
              0,
              "#0d0887"
             ],
             [
              0.1111111111111111,
              "#46039f"
             ],
             [
              0.2222222222222222,
              "#7201a8"
             ],
             [
              0.3333333333333333,
              "#9c179e"
             ],
             [
              0.4444444444444444,
              "#bd3786"
             ],
             [
              0.5555555555555556,
              "#d8576b"
             ],
             [
              0.6666666666666666,
              "#ed7953"
             ],
             [
              0.7777777777777778,
              "#fb9f3a"
             ],
             [
              0.8888888888888888,
              "#fdca26"
             ],
             [
              1,
              "#f0f921"
             ]
            ],
            "type": "histogram2d"
           }
          ],
          "histogram2dcontour": [
           {
            "colorbar": {
             "outlinewidth": 0,
             "ticks": ""
            },
            "colorscale": [
             [
              0,
              "#0d0887"
             ],
             [
              0.1111111111111111,
              "#46039f"
             ],
             [
              0.2222222222222222,
              "#7201a8"
             ],
             [
              0.3333333333333333,
              "#9c179e"
             ],
             [
              0.4444444444444444,
              "#bd3786"
             ],
             [
              0.5555555555555556,
              "#d8576b"
             ],
             [
              0.6666666666666666,
              "#ed7953"
             ],
             [
              0.7777777777777778,
              "#fb9f3a"
             ],
             [
              0.8888888888888888,
              "#fdca26"
             ],
             [
              1,
              "#f0f921"
             ]
            ],
            "type": "histogram2dcontour"
           }
          ],
          "mesh3d": [
           {
            "colorbar": {
             "outlinewidth": 0,
             "ticks": ""
            },
            "type": "mesh3d"
           }
          ],
          "parcoords": [
           {
            "line": {
             "colorbar": {
              "outlinewidth": 0,
              "ticks": ""
             }
            },
            "type": "parcoords"
           }
          ],
          "pie": [
           {
            "automargin": true,
            "type": "pie"
           }
          ],
          "scatter": [
           {
            "fillpattern": {
             "fillmode": "overlay",
             "size": 10,
             "solidity": 0.2
            },
            "type": "scatter"
           }
          ],
          "scatter3d": [
           {
            "line": {
             "colorbar": {
              "outlinewidth": 0,
              "ticks": ""
             }
            },
            "marker": {
             "colorbar": {
              "outlinewidth": 0,
              "ticks": ""
             }
            },
            "type": "scatter3d"
           }
          ],
          "scattercarpet": [
           {
            "marker": {
             "colorbar": {
              "outlinewidth": 0,
              "ticks": ""
             }
            },
            "type": "scattercarpet"
           }
          ],
          "scattergeo": [
           {
            "marker": {
             "colorbar": {
              "outlinewidth": 0,
              "ticks": ""
             }
            },
            "type": "scattergeo"
           }
          ],
          "scattergl": [
           {
            "marker": {
             "colorbar": {
              "outlinewidth": 0,
              "ticks": ""
             }
            },
            "type": "scattergl"
           }
          ],
          "scattermapbox": [
           {
            "marker": {
             "colorbar": {
              "outlinewidth": 0,
              "ticks": ""
             }
            },
            "type": "scattermapbox"
           }
          ],
          "scatterpolar": [
           {
            "marker": {
             "colorbar": {
              "outlinewidth": 0,
              "ticks": ""
             }
            },
            "type": "scatterpolar"
           }
          ],
          "scatterpolargl": [
           {
            "marker": {
             "colorbar": {
              "outlinewidth": 0,
              "ticks": ""
             }
            },
            "type": "scatterpolargl"
           }
          ],
          "scatterternary": [
           {
            "marker": {
             "colorbar": {
              "outlinewidth": 0,
              "ticks": ""
             }
            },
            "type": "scatterternary"
           }
          ],
          "surface": [
           {
            "colorbar": {
             "outlinewidth": 0,
             "ticks": ""
            },
            "colorscale": [
             [
              0,
              "#0d0887"
             ],
             [
              0.1111111111111111,
              "#46039f"
             ],
             [
              0.2222222222222222,
              "#7201a8"
             ],
             [
              0.3333333333333333,
              "#9c179e"
             ],
             [
              0.4444444444444444,
              "#bd3786"
             ],
             [
              0.5555555555555556,
              "#d8576b"
             ],
             [
              0.6666666666666666,
              "#ed7953"
             ],
             [
              0.7777777777777778,
              "#fb9f3a"
             ],
             [
              0.8888888888888888,
              "#fdca26"
             ],
             [
              1,
              "#f0f921"
             ]
            ],
            "type": "surface"
           }
          ],
          "table": [
           {
            "cells": {
             "fill": {
              "color": "#EBF0F8"
             },
             "line": {
              "color": "white"
             }
            },
            "header": {
             "fill": {
              "color": "#C8D4E3"
             },
             "line": {
              "color": "white"
             }
            },
            "type": "table"
           }
          ]
         },
         "layout": {
          "annotationdefaults": {
           "arrowcolor": "#2a3f5f",
           "arrowhead": 0,
           "arrowwidth": 1
          },
          "autotypenumbers": "strict",
          "coloraxis": {
           "colorbar": {
            "outlinewidth": 0,
            "ticks": ""
           }
          },
          "colorscale": {
           "diverging": [
            [
             0,
             "#8e0152"
            ],
            [
             0.1,
             "#c51b7d"
            ],
            [
             0.2,
             "#de77ae"
            ],
            [
             0.3,
             "#f1b6da"
            ],
            [
             0.4,
             "#fde0ef"
            ],
            [
             0.5,
             "#f7f7f7"
            ],
            [
             0.6,
             "#e6f5d0"
            ],
            [
             0.7,
             "#b8e186"
            ],
            [
             0.8,
             "#7fbc41"
            ],
            [
             0.9,
             "#4d9221"
            ],
            [
             1,
             "#276419"
            ]
           ],
           "sequential": [
            [
             0,
             "#0d0887"
            ],
            [
             0.1111111111111111,
             "#46039f"
            ],
            [
             0.2222222222222222,
             "#7201a8"
            ],
            [
             0.3333333333333333,
             "#9c179e"
            ],
            [
             0.4444444444444444,
             "#bd3786"
            ],
            [
             0.5555555555555556,
             "#d8576b"
            ],
            [
             0.6666666666666666,
             "#ed7953"
            ],
            [
             0.7777777777777778,
             "#fb9f3a"
            ],
            [
             0.8888888888888888,
             "#fdca26"
            ],
            [
             1,
             "#f0f921"
            ]
           ],
           "sequentialminus": [
            [
             0,
             "#0d0887"
            ],
            [
             0.1111111111111111,
             "#46039f"
            ],
            [
             0.2222222222222222,
             "#7201a8"
            ],
            [
             0.3333333333333333,
             "#9c179e"
            ],
            [
             0.4444444444444444,
             "#bd3786"
            ],
            [
             0.5555555555555556,
             "#d8576b"
            ],
            [
             0.6666666666666666,
             "#ed7953"
            ],
            [
             0.7777777777777778,
             "#fb9f3a"
            ],
            [
             0.8888888888888888,
             "#fdca26"
            ],
            [
             1,
             "#f0f921"
            ]
           ]
          },
          "colorway": [
           "#636efa",
           "#EF553B",
           "#00cc96",
           "#ab63fa",
           "#FFA15A",
           "#19d3f3",
           "#FF6692",
           "#B6E880",
           "#FF97FF",
           "#FECB52"
          ],
          "font": {
           "color": "#2a3f5f"
          },
          "geo": {
           "bgcolor": "white",
           "lakecolor": "white",
           "landcolor": "#E5ECF6",
           "showlakes": true,
           "showland": true,
           "subunitcolor": "white"
          },
          "hoverlabel": {
           "align": "left"
          },
          "hovermode": "closest",
          "mapbox": {
           "style": "light"
          },
          "paper_bgcolor": "white",
          "plot_bgcolor": "#E5ECF6",
          "polar": {
           "angularaxis": {
            "gridcolor": "white",
            "linecolor": "white",
            "ticks": ""
           },
           "bgcolor": "#E5ECF6",
           "radialaxis": {
            "gridcolor": "white",
            "linecolor": "white",
            "ticks": ""
           }
          },
          "scene": {
           "xaxis": {
            "backgroundcolor": "#E5ECF6",
            "gridcolor": "white",
            "gridwidth": 2,
            "linecolor": "white",
            "showbackground": true,
            "ticks": "",
            "zerolinecolor": "white"
           },
           "yaxis": {
            "backgroundcolor": "#E5ECF6",
            "gridcolor": "white",
            "gridwidth": 2,
            "linecolor": "white",
            "showbackground": true,
            "ticks": "",
            "zerolinecolor": "white"
           },
           "zaxis": {
            "backgroundcolor": "#E5ECF6",
            "gridcolor": "white",
            "gridwidth": 2,
            "linecolor": "white",
            "showbackground": true,
            "ticks": "",
            "zerolinecolor": "white"
           }
          },
          "shapedefaults": {
           "line": {
            "color": "#2a3f5f"
           }
          },
          "ternary": {
           "aaxis": {
            "gridcolor": "white",
            "linecolor": "white",
            "ticks": ""
           },
           "baxis": {
            "gridcolor": "white",
            "linecolor": "white",
            "ticks": ""
           },
           "bgcolor": "#E5ECF6",
           "caxis": {
            "gridcolor": "white",
            "linecolor": "white",
            "ticks": ""
           }
          },
          "title": {
           "x": 0.05
          },
          "xaxis": {
           "automargin": true,
           "gridcolor": "white",
           "linecolor": "white",
           "ticks": "",
           "title": {
            "standoff": 15
           },
           "zerolinecolor": "white",
           "zerolinewidth": 2
          },
          "yaxis": {
           "automargin": true,
           "gridcolor": "white",
           "linecolor": "white",
           "ticks": "",
           "title": {
            "standoff": 15
           },
           "zerolinecolor": "white",
           "zerolinewidth": 2
          }
         }
        },
        "title": {
         "text": "Costco Gas Price Brackets"
        },
        "xaxis": {
         "anchor": "y",
         "autorange": true,
         "domain": [
          0,
          1
         ],
         "range": [
          0,
          8
         ],
         "title": {
          "text": "gasPrices"
         },
         "type": "linear"
        },
        "yaxis": {
         "anchor": "x",
         "autorange": true,
         "domain": [
          0,
          1
         ],
         "range": [
          0,
          257.89473684210526
         ],
         "title": {
          "text": "Number of Costcos"
         }
        }
       }
      },
      "image/png": "[encoded data removed]",
      "text/html": [
       "<div>                            <div id=\"f3d8a33c-314c-4302-a39d-bbfb308ac3db\" class=\"plotly-graph-div\" style=\"height:525px; width:100%;\"></div>            <script type=\"text/javascript\">                require([\"plotly\"], function(Plotly) {                    window.PLOTLYENV=window.PLOTLYENV || {};                                    if (document.getElementById(\"f3d8a33c-314c-4302-a39d-bbfb308ac3db\")) {                    Plotly.newPlot(                        \"f3d8a33c-314c-4302-a39d-bbfb308ac3db\",                        [{\"alignmentgroup\":\"True\",\"bingroup\":\"x\",\"hovertemplate\":\"Parent ID=10935\\u003cbr\\u003egasPrices=%{x}\\u003cbr\\u003ecount=%{y}\\u003cextra\\u003e\\u003c\\u002fextra\\u003e\",\"legendgroup\":\"10935\",\"marker\":{\"color\":\"#636efa\",\"pattern\":{\"shape\":\"\"}},\"name\":\"10935\",\"nbinsx\":20,\"offsetgroup\":\"10935\",\"orientation\":\"v\",\"showlegend\":true,\"x\":[2.799,2.769,2.739,2.659,2.759,2.839,2.739,2.509,2.759,2.759,2.859,2.779,2.759,2.579,2.659,2.569,2.699,2.699,2.499,2.529,2.839,2.799,null,2.579,2.759,2.769,2.579,2.759,2.539,2.739,2.699,2.529],\"xaxis\":\"x\",\"yaxis\":\"y\",\"type\":\"histogram\"},{\"alignmentgroup\":\"True\",\"bingroup\":\"x\",\"hovertemplate\":\"Parent ID=10776\\u003cbr\\u003egasPrices=%{x}\\u003cbr\\u003ecount=%{y}\\u003cextra\\u003e\\u003c\\u002fextra\\u003e\",\"legendgroup\":\"10776\",\"marker\":{\"color\":\"#EF553B\",\"pattern\":{\"shape\":\"\"}},\"name\":\"10776\",\"nbinsx\":20,\"offsetgroup\":\"10776\",\"orientation\":\"v\",\"showlegend\":true,\"x\":[2.699,2.759,2.599,2.549,2.679,null,2.699,2.649,2.759,2.699,2.799,2.659,2.699],\"xaxis\":\"x\",\"yaxis\":\"y\",\"type\":\"histogram\"},{\"alignmentgroup\":\"True\",\"bingroup\":\"x\",\"hovertemplate\":\"Parent ID=10133\\u003cbr\\u003egasPrices=%{x}\\u003cbr\\u003ecount=%{y}\\u003cextra\\u003e\\u003c\\u002fextra\\u003e\",\"legendgroup\":\"10133\",\"marker\":{\"color\":\"#00cc96\",\"pattern\":{\"shape\":\"\"}},\"name\":\"10133\",\"nbinsx\":20,\"offsetgroup\":\"10133\",\"orientation\":\"v\",\"showlegend\":true,\"x\":[2.699,2.699,null,2.699],\"xaxis\":\"x\",\"yaxis\":\"y\",\"type\":\"histogram\"},{\"alignmentgroup\":\"True\",\"bingroup\":\"x\",\"hovertemplate\":\"Parent ID=10175\\u003cbr\\u003egasPrices=%{x}\\u003cbr\\u003ecount=%{y}\\u003cextra\\u003e\\u003c\\u002fextra\\u003e\",\"legendgroup\":\"10175\",\"marker\":{\"color\":\"#ab63fa\",\"pattern\":{\"shape\":\"\"}},\"name\":\"10175\",\"nbinsx\":20,\"offsetgroup\":\"10175\",\"orientation\":\"v\",\"showlegend\":true,\"x\":[null,3.399,3.079,2.979,2.969,3.339,3.279,null,3.059,3.179,null,3.259,3.499,3.099,3.299,3.059,null,null,2.979,null,null,2.919,null,null,3.159,null,3.029,3.139,3.239,3.219,3.039,3.099,3.159,3.069,3.259,3.179,3.029,3.039,3.199,3.399,3.159,3.199,2.979,3.089,3.199,3.299,3.199,2.999,3.199,3.139,3.259,3.299,3.069,null,null,2.969,null,3.159,null,3.179,3.079,3.199,3.199,3.199,3.299,3.199,3.079,3.099,null,3.099,3.099,3.199,null,null,2.979,2.999,3.379,2.899,3.099,3.079,3.299,3.159,3.179,3.119,3.199,3.399,2.999,3.139,3.259,3.039,3.199,3.349,2.999,3.099,2.919,3.199,3.079,3.099,3.199,2.899,null,null,3.159,3.149,3.079,3.039,3.179,3.049,3.099,2.999,2.919,3.159,3.039,3.099,3.279,3.159,2.999,3.099,3.079,3.199,2.999,3.099,3.069,3.239,2.819,3.099,3.159,2.979],\"xaxis\":\"x\",\"yaxis\":\"y\",\"type\":\"histogram\"},{\"alignmentgroup\":\"True\",\"bingroup\":\"x\",\"hovertemplate\":\"Parent ID=10629\\u003cbr\\u003egasPrices=%{x}\\u003cbr\\u003ecount=%{y}\\u003cextra\\u003e\\u003c\\u002fextra\\u003e\",\"legendgroup\":\"10629\",\"marker\":{\"color\":\"#FFA15A\",\"pattern\":{\"shape\":\"\"}},\"name\":\"10629\",\"nbinsx\":20,\"offsetgroup\":\"10629\",\"orientation\":\"v\",\"showlegend\":true,\"x\":[2.829,2.859,2.659,2.829,2.689,2.699,2.669,2.689],\"xaxis\":\"x\",\"yaxis\":\"y\",\"type\":\"histogram\"},{\"alignmentgroup\":\"True\",\"bingroup\":\"x\",\"hovertemplate\":\"Parent ID=10011\\u003cbr\\u003egasPrices=%{x}\\u003cbr\\u003ecount=%{y}\\u003cextra\\u003e\\u003c\\u002fextra\\u003e\",\"legendgroup\":\"10011\",\"marker\":{\"color\":\"#19d3f3\",\"pattern\":{\"shape\":\"\"}},\"name\":\"10011\",\"nbinsx\":20,\"offsetgroup\":\"10011\",\"orientation\":\"v\",\"showlegend\":true,\"x\":[null,null,null,null,null,0.959,0.909,0.909,0.949,0.909,0.909,null,null,0.909],\"xaxis\":\"x\",\"yaxis\":\"y\",\"type\":\"histogram\"},{\"alignmentgroup\":\"True\",\"bingroup\":\"x\",\"hovertemplate\":\"Parent ID=10003\\u003cbr\\u003egasPrices=%{x}\\u003cbr\\u003ecount=%{y}\\u003cextra\\u003e\\u003c\\u002fextra\\u003e\",\"legendgroup\":\"10003\",\"marker\":{\"color\":\"#FF6692\",\"pattern\":{\"shape\":\"\"}},\"name\":\"10003\",\"nbinsx\":20,\"offsetgroup\":\"10003\",\"orientation\":\"v\",\"showlegend\":true,\"x\":[null,0.909,0.909,0.869,1.009,0.869,0.909,0.909,0.909,0.869,1.009,0.909,0.909,0.909,0.909,0.909,0.909],\"xaxis\":\"x\",\"yaxis\":\"y\",\"type\":\"histogram\"},{\"alignmentgroup\":\"True\",\"bingroup\":\"x\",\"hovertemplate\":\"Parent ID=10032\\u003cbr\\u003egasPrices=%{x}\\u003cbr\\u003ecount=%{y}\\u003cextra\\u003e\\u003c\\u002fextra\\u003e\",\"legendgroup\":\"10032\",\"marker\":{\"color\":\"#B6E880\",\"pattern\":{\"shape\":\"\"}},\"name\":\"10032\",\"nbinsx\":20,\"offsetgroup\":\"10032\",\"orientation\":\"v\",\"showlegend\":true,\"x\":[null,0.909,0.909],\"xaxis\":\"x\",\"yaxis\":\"y\",\"type\":\"histogram\"},{\"alignmentgroup\":\"True\",\"bingroup\":\"x\",\"hovertemplate\":\"Parent ID=10611\\u003cbr\\u003egasPrices=%{x}\\u003cbr\\u003ecount=%{y}\\u003cextra\\u003e\\u003c\\u002fextra\\u003e\",\"legendgroup\":\"10611\",\"marker\":{\"color\":\"#FF97FF\",\"pattern\":{\"shape\":\"\"}},\"name\":\"10611\",\"nbinsx\":20,\"offsetgroup\":\"10611\",\"orientation\":\"v\",\"showlegend\":true,\"x\":[2.329,2.319,2.439,2.469,2.429],\"xaxis\":\"x\",\"yaxis\":\"y\",\"type\":\"histogram\"},{\"alignmentgroup\":\"True\",\"bingroup\":\"x\",\"hovertemplate\":\"Parent ID=10290\\u003cbr\\u003egasPrices=%{x}\\u003cbr\\u003ecount=%{y}\\u003cextra\\u003e\\u003c\\u002fextra\\u003e\",\"legendgroup\":\"10290\",\"marker\":{\"color\":\"#FECB52\",\"pattern\":{\"shape\":\"\"}},\"name\":\"10290\",\"nbinsx\":20,\"offsetgroup\":\"10290\",\"orientation\":\"v\",\"showlegend\":true,\"x\":[2.239,2.319,null,2.279,2.169,2.229,2.149,2.249,2.239,2.289,2.259,null,2.159,2.289,2.279,2.249,2.339,2.349,2.239,2.199,2.319,2.249,2.229,2.199,2.129,2.259,2.239,2.169],\"xaxis\":\"x\",\"yaxis\":\"y\",\"type\":\"histogram\"},{\"alignmentgroup\":\"True\",\"bingroup\":\"x\",\"hovertemplate\":\"Parent ID=10885\\u003cbr\\u003egasPrices=%{x}\\u003cbr\\u003ecount=%{y}\\u003cextra\\u003e\\u003c\\u002fextra\\u003e\",\"legendgroup\":\"10885\",\"marker\":{\"color\":\"#636efa\",\"pattern\":{\"shape\":\"\"}},\"name\":\"10885\",\"nbinsx\":20,\"offsetgroup\":\"10885\",\"orientation\":\"v\",\"showlegend\":true,\"x\":[2.269,2.399,2.259,2.269,2.559,2.319,2.349,2.269,2.369,2.249,2.349],\"xaxis\":\"x\",\"yaxis\":\"y\",\"type\":\"histogram\"},{\"alignmentgroup\":\"True\",\"bingroup\":\"x\",\"hovertemplate\":\"Parent ID=10674\\u003cbr\\u003egasPrices=%{x}\\u003cbr\\u003ecount=%{y}\\u003cextra\\u003e\\u003c\\u002fextra\\u003e\",\"legendgroup\":\"10674\",\"marker\":{\"color\":\"#EF553B\",\"pattern\":{\"shape\":\"\"}},\"name\":\"10674\",\"nbinsx\":20,\"offsetgroup\":\"10674\",\"orientation\":\"v\",\"showlegend\":true,\"x\":[2.039,2.039,2.039],\"xaxis\":\"x\",\"yaxis\":\"y\",\"type\":\"histogram\"},{\"alignmentgroup\":\"True\",\"bingroup\":\"x\",\"hovertemplate\":\"Parent ID=10354\\u003cbr\\u003egasPrices=%{x}\\u003cbr\\u003ecount=%{y}\\u003cextra\\u003e\\u003c\\u002fextra\\u003e\",\"legendgroup\":\"10354\",\"marker\":{\"color\":\"#00cc96\",\"pattern\":{\"shape\":\"\"}},\"name\":\"10354\",\"nbinsx\":20,\"offsetgroup\":\"10354\",\"orientation\":\"v\",\"showlegend\":true,\"x\":[3.019,null,3.199,3.059,3.199,3.059,3.059],\"xaxis\":\"x\",\"yaxis\":\"y\",\"type\":\"histogram\"},{\"alignmentgroup\":\"True\",\"bingroup\":\"x\",\"hovertemplate\":\"Parent ID=10365\\u003cbr\\u003egasPrices=%{x}\\u003cbr\\u003ecount=%{y}\\u003cextra\\u003e\\u003c\\u002fextra\\u003e\",\"legendgroup\":\"10365\",\"marker\":{\"color\":\"#ab63fa\",\"pattern\":{\"shape\":\"\"}},\"name\":\"10365\",\"nbinsx\":20,\"offsetgroup\":\"10365\",\"orientation\":\"v\",\"showlegend\":true,\"x\":[2.459,2.379,2.379,2.289,2.459],\"xaxis\":\"x\",\"yaxis\":\"y\",\"type\":\"histogram\"},{\"alignmentgroup\":\"True\",\"bingroup\":\"x\",\"hovertemplate\":\"Parent ID=10044\\u003cbr\\u003egasPrices=%{x}\\u003cbr\\u003ecount=%{y}\\u003cextra\\u003e\\u003c\\u002fextra\\u003e\",\"legendgroup\":\"10044\",\"marker\":{\"color\":\"#FFA15A\",\"pattern\":{\"shape\":\"\"}},\"name\":\"10044\",\"nbinsx\":20,\"offsetgroup\":\"10044\",\"orientation\":\"v\",\"showlegend\":true,\"x\":[null,0.869,null,0.869,null,null,null,0.869,null,null,null,7.779,0.909,0.909,null,null,0.869,null,7.779,0.869,null,null,0.869,0.869,null,null,0.869,0.869,7.779,0.869,0.869,0.869,0.869,0.869,null],\"xaxis\":\"x\",\"yaxis\":\"y\",\"type\":\"histogram\"},{\"alignmentgroup\":\"True\",\"bingroup\":\"x\",\"hovertemplate\":\"Parent ID=10109\\u003cbr\\u003egasPrices=%{x}\\u003cbr\\u003ecount=%{y}\\u003cextra\\u003e\\u003c\\u002fextra\\u003e\",\"legendgroup\":\"10109\",\"marker\":{\"color\":\"#19d3f3\",\"pattern\":{\"shape\":\"\"}},\"name\":\"10109\",\"nbinsx\":20,\"offsetgroup\":\"10109\",\"orientation\":\"v\",\"showlegend\":true,\"x\":[0.909,0.909,0.909],\"xaxis\":\"x\",\"yaxis\":\"y\",\"type\":\"histogram\"},{\"alignmentgroup\":\"True\",\"bingroup\":\"x\",\"hovertemplate\":\"Parent ID=10332\\u003cbr\\u003egasPrices=%{x}\\u003cbr\\u003ecount=%{y}\\u003cextra\\u003e\\u003c\\u002fextra\\u003e\",\"legendgroup\":\"10332\",\"marker\":{\"color\":\"#FF6692\",\"pattern\":{\"shape\":\"\"}},\"name\":\"10332\",\"nbinsx\":20,\"offsetgroup\":\"10332\",\"orientation\":\"v\",\"showlegend\":true,\"x\":[2.129,2.239,2.149,2.059,2.119,2.199,2.109,2.029,2.239,2.009,2.189,2.169,2.199],\"xaxis\":\"x\",\"yaxis\":\"y\",\"type\":\"histogram\"},{\"alignmentgroup\":\"True\",\"bingroup\":\"x\",\"hovertemplate\":\"Parent ID=10910\\u003cbr\\u003egasPrices=%{x}\\u003cbr\\u003ecount=%{y}\\u003cextra\\u003e\\u003c\\u002fextra\\u003e\",\"legendgroup\":\"10910\",\"marker\":{\"color\":\"#B6E880\",\"pattern\":{\"shape\":\"\"}},\"name\":\"10910\",\"nbinsx\":20,\"offsetgroup\":\"10910\",\"orientation\":\"v\",\"showlegend\":true,\"x\":[2.169,2.259,2.079,2.299,2.299,null,null,2.119,2.259,2.099,2.259,2.299,1.989,2.199,1.969,null,2.099],\"xaxis\":\"x\",\"yaxis\":\"y\",\"type\":\"histogram\"},{\"alignmentgroup\":\"True\",\"bingroup\":\"x\",\"hovertemplate\":\"Parent ID=10497\\u003cbr\\u003egasPrices=%{x}\\u003cbr\\u003ecount=%{y}\\u003cextra\\u003e\\u003c\\u002fextra\\u003e\",\"legendgroup\":\"10497\",\"marker\":{\"color\":\"#FF97FF\",\"pattern\":{\"shape\":\"\"}},\"name\":\"10497\",\"nbinsx\":20,\"offsetgroup\":\"10497\",\"orientation\":\"v\",\"showlegend\":true,\"x\":[2.159,2.219,null,2.179,2.199,2.229,2.229,2.249,2.209,null,2.179],\"xaxis\":\"x\",\"yaxis\":\"y\",\"type\":\"histogram\"},{\"alignmentgroup\":\"True\",\"bingroup\":\"x\",\"hovertemplate\":\"Parent ID=10685\\u003cbr\\u003egasPrices=%{x}\\u003cbr\\u003ecount=%{y}\\u003cextra\\u003e\\u003c\\u002fextra\\u003e\",\"legendgroup\":\"10685\",\"marker\":{\"color\":\"#FECB52\",\"pattern\":{\"shape\":\"\"}},\"name\":\"10685\",\"nbinsx\":20,\"offsetgroup\":\"10685\",\"orientation\":\"v\",\"showlegend\":true,\"x\":[null,null,2.289,null,null,2.559,null,2.379,null,2.479,null,null,null,2.399,null,null,2.309,2.399,2.399],\"xaxis\":\"x\",\"yaxis\":\"y\",\"type\":\"histogram\"},{\"alignmentgroup\":\"True\",\"bingroup\":\"x\",\"hovertemplate\":\"Parent ID=10657\\u003cbr\\u003egasPrices=%{x}\\u003cbr\\u003ecount=%{y}\\u003cextra\\u003e\\u003c\\u002fextra\\u003e\",\"legendgroup\":\"10657\",\"marker\":{\"color\":\"#636efa\",\"pattern\":{\"shape\":\"\"}},\"name\":\"10657\",\"nbinsx\":20,\"offsetgroup\":\"10657\",\"orientation\":\"v\",\"showlegend\":true,\"x\":[null,null,2.399,2.359,2.309,null,2.219,2.299,null,2.419,2.319,2.399,2.399,2.259,2.229,2.339,2.399,2.399,2.459,2.399],\"xaxis\":\"x\",\"yaxis\":\"y\",\"type\":\"histogram\"},{\"alignmentgroup\":\"True\",\"bingroup\":\"x\",\"hovertemplate\":\"Parent ID=10789\\u003cbr\\u003egasPrices=%{x}\\u003cbr\\u003ecount=%{y}\\u003cextra\\u003e\\u003c\\u002fextra\\u003e\",\"legendgroup\":\"10789\",\"marker\":{\"color\":\"#EF553B\",\"pattern\":{\"shape\":\"\"}},\"name\":\"10789\",\"nbinsx\":20,\"offsetgroup\":\"10789\",\"orientation\":\"v\",\"showlegend\":true,\"x\":[null,null,2.459,2.559,2.679,2.649,2.459,2.559,2.489,2.499,2.499],\"xaxis\":\"x\",\"yaxis\":\"y\",\"type\":\"histogram\"},{\"alignmentgroup\":\"True\",\"bingroup\":\"x\",\"hovertemplate\":\"Parent ID=10279\\u003cbr\\u003egasPrices=%{x}\\u003cbr\\u003ecount=%{y}\\u003cextra\\u003e\\u003c\\u002fextra\\u003e\",\"legendgroup\":\"10279\",\"marker\":{\"color\":\"#00cc96\",\"pattern\":{\"shape\":\"\"}},\"name\":\"10279\",\"nbinsx\":20,\"offsetgroup\":\"10279\",\"orientation\":\"v\",\"showlegend\":true,\"x\":[2.129],\"xaxis\":\"x\",\"yaxis\":\"y\",\"type\":\"histogram\"},{\"alignmentgroup\":\"True\",\"bingroup\":\"x\",\"hovertemplate\":\"Parent ID=10710\\u003cbr\\u003egasPrices=%{x}\\u003cbr\\u003ecount=%{y}\\u003cextra\\u003e\\u003c\\u002fextra\\u003e\",\"legendgroup\":\"10710\",\"marker\":{\"color\":\"#ab63fa\",\"pattern\":{\"shape\":\"\"}},\"name\":\"10710\",\"nbinsx\":20,\"offsetgroup\":\"10710\",\"orientation\":\"v\",\"showlegend\":true,\"x\":[2.259,2.189,2.159,2.149,2.069,2.229,2.059,2.059,2.259],\"xaxis\":\"x\",\"yaxis\":\"y\",\"type\":\"histogram\"},{\"alignmentgroup\":\"True\",\"bingroup\":\"x\",\"hovertemplate\":\"Parent ID=10517\\u003cbr\\u003egasPrices=%{x}\\u003cbr\\u003ecount=%{y}\\u003cextra\\u003e\\u003c\\u002fextra\\u003e\",\"legendgroup\":\"10517\",\"marker\":{\"color\":\"#FFA15A\",\"pattern\":{\"shape\":\"\"}},\"name\":\"10517\",\"nbinsx\":20,\"offsetgroup\":\"10517\",\"orientation\":\"v\",\"showlegend\":true,\"x\":[2.199,2.259,null,null,2.299,null],\"xaxis\":\"x\",\"yaxis\":\"y\",\"type\":\"histogram\"},{\"alignmentgroup\":\"True\",\"bingroup\":\"x\",\"hovertemplate\":\"Parent ID=10268\\u003cbr\\u003egasPrices=%{x}\\u003cbr\\u003ecount=%{y}\\u003cextra\\u003e\\u003c\\u002fextra\\u003e\",\"legendgroup\":\"10268\",\"marker\":{\"color\":\"#19d3f3\",\"pattern\":{\"shape\":\"\"}},\"name\":\"10268\",\"nbinsx\":20,\"offsetgroup\":\"10268\",\"orientation\":\"v\",\"showlegend\":true,\"x\":[2.379,2.439,2.399,null,2.459,2.359,2.369],\"xaxis\":\"x\",\"yaxis\":\"y\",\"type\":\"histogram\"},{\"alignmentgroup\":\"True\",\"bingroup\":\"x\",\"hovertemplate\":\"Parent ID=10642\\u003cbr\\u003egasPrices=%{x}\\u003cbr\\u003ecount=%{y}\\u003cextra\\u003e\\u003c\\u002fextra\\u003e\",\"legendgroup\":\"10642\",\"marker\":{\"color\":\"#FF6692\",\"pattern\":{\"shape\":\"\"}},\"name\":\"10642\",\"nbinsx\":20,\"offsetgroup\":\"10642\",\"orientation\":\"v\",\"showlegend\":true,\"x\":[null],\"xaxis\":\"x\",\"yaxis\":\"y\",\"type\":\"histogram\"},{\"alignmentgroup\":\"True\",\"bingroup\":\"x\",\"hovertemplate\":\"Parent ID=10899\\u003cbr\\u003egasPrices=%{x}\\u003cbr\\u003ecount=%{y}\\u003cextra\\u003e\\u003c\\u002fextra\\u003e\",\"legendgroup\":\"10899\",\"marker\":{\"color\":\"#B6E880\",\"pattern\":{\"shape\":\"\"}},\"name\":\"10899\",\"nbinsx\":20,\"offsetgroup\":\"10899\",\"orientation\":\"v\",\"showlegend\":true,\"x\":[null],\"xaxis\":\"x\",\"yaxis\":\"y\",\"type\":\"histogram\"},{\"alignmentgroup\":\"True\",\"bingroup\":\"x\",\"hovertemplate\":\"Parent ID=10817\\u003cbr\\u003egasPrices=%{x}\\u003cbr\\u003ecount=%{y}\\u003cextra\\u003e\\u003c\\u002fextra\\u003e\",\"legendgroup\":\"10817\",\"marker\":{\"color\":\"#FF97FF\",\"pattern\":{\"shape\":\"\"}},\"name\":\"10817\",\"nbinsx\":20,\"offsetgroup\":\"10817\",\"orientation\":\"v\",\"showlegend\":true,\"x\":[2.079,2.099,1.999,1.989,1.969,2.179],\"xaxis\":\"x\",\"yaxis\":\"y\",\"type\":\"histogram\"},{\"alignmentgroup\":\"True\",\"bingroup\":\"x\",\"hovertemplate\":\"Parent ID=10540\\u003cbr\\u003egasPrices=%{x}\\u003cbr\\u003ecount=%{y}\\u003cextra\\u003e\\u003c\\u002fextra\\u003e\",\"legendgroup\":\"10540\",\"marker\":{\"color\":\"#FECB52\",\"pattern\":{\"shape\":\"\"}},\"name\":\"10540\",\"nbinsx\":20,\"offsetgroup\":\"10540\",\"orientation\":\"v\",\"showlegend\":true,\"x\":[2.239,2.139,2.169,2.199,2.279,2.129,2.119,2.179,2.119,2.259,2.199,2.159,2.099,2.089,2.239],\"xaxis\":\"x\",\"yaxis\":\"y\",\"type\":\"histogram\"},{\"alignmentgroup\":\"True\",\"bingroup\":\"x\",\"hovertemplate\":\"Parent ID=10376\\u003cbr\\u003egasPrices=%{x}\\u003cbr\\u003ecount=%{y}\\u003cextra\\u003e\\u003c\\u002fextra\\u003e\",\"legendgroup\":\"10376\",\"marker\":{\"color\":\"#636efa\",\"pattern\":{\"shape\":\"\"}},\"name\":\"10376\",\"nbinsx\":20,\"offsetgroup\":\"10376\",\"orientation\":\"v\",\"showlegend\":true,\"x\":[2.329,2.599,2.399,2.449,2.649,2.599,2.589,2.449,2.469,2.409,2.379,2.479,2.399,2.299,2.469,2.499,2.649,2.319,2.449,2.179],\"xaxis\":\"x\",\"yaxis\":\"y\",\"type\":\"histogram\"},{\"alignmentgroup\":\"True\",\"bingroup\":\"x\",\"hovertemplate\":\"Parent ID=10740\\u003cbr\\u003egasPrices=%{x}\\u003cbr\\u003ecount=%{y}\\u003cextra\\u003e\\u003c\\u002fextra\\u003e\",\"legendgroup\":\"10740\",\"marker\":{\"color\":\"#EF553B\",\"pattern\":{\"shape\":\"\"}},\"name\":\"10740\",\"nbinsx\":20,\"offsetgroup\":\"10740\",\"orientation\":\"v\",\"showlegend\":true,\"x\":[2.219,2.059,2.269,2.339,2.159,2.299,2.039,2.349,2.189,2.069,2.069,2.389],\"xaxis\":\"x\",\"yaxis\":\"y\",\"type\":\"histogram\"},{\"alignmentgroup\":\"True\",\"bingroup\":\"x\",\"hovertemplate\":\"Parent ID=10410\\u003cbr\\u003egasPrices=%{x}\\u003cbr\\u003ecount=%{y}\\u003cextra\\u003e\\u003c\\u002fextra\\u003e\",\"legendgroup\":\"10410\",\"marker\":{\"color\":\"#00cc96\",\"pattern\":{\"shape\":\"\"}},\"name\":\"10410\",\"nbinsx\":20,\"offsetgroup\":\"10410\",\"orientation\":\"v\",\"showlegend\":true,\"x\":[2.239,2.239,2.149,2.129,2.159,2.249,2.139],\"xaxis\":\"x\",\"yaxis\":\"y\",\"type\":\"histogram\"},{\"alignmentgroup\":\"True\",\"bingroup\":\"x\",\"hovertemplate\":\"Parent ID=10440\\u003cbr\\u003egasPrices=%{x}\\u003cbr\\u003ecount=%{y}\\u003cextra\\u003e\\u003c\\u002fextra\\u003e\",\"legendgroup\":\"10440\",\"marker\":{\"color\":\"#ab63fa\",\"pattern\":{\"shape\":\"\"}},\"name\":\"10440\",\"nbinsx\":20,\"offsetgroup\":\"10440\",\"orientation\":\"v\",\"showlegend\":true,\"x\":[2.109,2.119,2.049],\"xaxis\":\"x\",\"yaxis\":\"y\",\"type\":\"histogram\"},{\"alignmentgroup\":\"True\",\"bingroup\":\"x\",\"hovertemplate\":\"Parent ID=10837\\u003cbr\\u003egasPrices=%{x}\\u003cbr\\u003ecount=%{y}\\u003cextra\\u003e\\u003c\\u002fextra\\u003e\",\"legendgroup\":\"10837\",\"marker\":{\"color\":\"#FFA15A\",\"pattern\":{\"shape\":\"\"}},\"name\":\"10837\",\"nbinsx\":20,\"offsetgroup\":\"10837\",\"orientation\":\"v\",\"showlegend\":true,\"x\":[2.129,2.059,2.199,2.129,2.159],\"xaxis\":\"x\",\"yaxis\":\"y\",\"type\":\"histogram\"},{\"alignmentgroup\":\"True\",\"bingroup\":\"x\",\"hovertemplate\":\"Parent ID=10112\\u003cbr\\u003egasPrices=%{x}\\u003cbr\\u003ecount=%{y}\\u003cextra\\u003e\\u003c\\u002fextra\\u003e\",\"legendgroup\":\"10112\",\"marker\":{\"color\":\"#19d3f3\",\"pattern\":{\"shape\":\"\"}},\"name\":\"10112\",\"nbinsx\":20,\"offsetgroup\":\"10112\",\"orientation\":\"v\",\"showlegend\":true,\"x\":[2.179,2.099,2.129,2.079],\"xaxis\":\"x\",\"yaxis\":\"y\",\"type\":\"histogram\"},{\"alignmentgroup\":\"True\",\"bingroup\":\"x\",\"hovertemplate\":\"Parent ID=10594\\u003cbr\\u003egasPrices=%{x}\\u003cbr\\u003ecount=%{y}\\u003cextra\\u003e\\u003c\\u002fextra\\u003e\",\"legendgroup\":\"10594\",\"marker\":{\"color\":\"#FF6692\",\"pattern\":{\"shape\":\"\"}},\"name\":\"10594\",\"nbinsx\":20,\"offsetgroup\":\"10594\",\"orientation\":\"v\",\"showlegend\":true,\"x\":[1.929,2.049,1.999,2.029,1.979,1.999],\"xaxis\":\"x\",\"yaxis\":\"y\",\"type\":\"histogram\"},{\"alignmentgroup\":\"True\",\"bingroup\":\"x\",\"hovertemplate\":\"Parent ID=10562\\u003cbr\\u003egasPrices=%{x}\\u003cbr\\u003ecount=%{y}\\u003cextra\\u003e\\u003c\\u002fextra\\u003e\",\"legendgroup\":\"10562\",\"marker\":{\"color\":\"#B6E880\",\"pattern\":{\"shape\":\"\"}},\"name\":\"10562\",\"nbinsx\":20,\"offsetgroup\":\"10562\",\"orientation\":\"v\",\"showlegend\":true,\"x\":[2.139,2.249,2.139,null,2.299,2.239,2.299,2.259,2.319,2.239,2.209,2.239],\"xaxis\":\"x\",\"yaxis\":\"y\",\"type\":\"histogram\"},{\"alignmentgroup\":\"True\",\"bingroup\":\"x\",\"hovertemplate\":\"Parent ID=10144\\u003cbr\\u003egasPrices=%{x}\\u003cbr\\u003ecount=%{y}\\u003cextra\\u003e\\u003c\\u002fextra\\u003e\",\"legendgroup\":\"10144\",\"marker\":{\"color\":\"#FF97FF\",\"pattern\":{\"shape\":\"\"}},\"name\":\"10144\",\"nbinsx\":20,\"offsetgroup\":\"10144\",\"orientation\":\"v\",\"showlegend\":true,\"x\":[2.339,2.799,2.339,2.739,2.779,2.699,2.759,2.799,2.759,2.779,2.799,2.759,2.789,2.839,2.759,2.759,2.839,2.339],\"xaxis\":\"x\",\"yaxis\":\"y\",\"type\":\"histogram\"},{\"alignmentgroup\":\"True\",\"bingroup\":\"x\",\"hovertemplate\":\"Parent ID=10254\\u003cbr\\u003egasPrices=%{x}\\u003cbr\\u003ecount=%{y}\\u003cextra\\u003e\\u003c\\u002fextra\\u003e\",\"legendgroup\":\"10254\",\"marker\":{\"color\":\"#FECB52\",\"pattern\":{\"shape\":\"\"}},\"name\":\"10254\",\"nbinsx\":20,\"offsetgroup\":\"10254\",\"orientation\":\"v\",\"showlegend\":true,\"x\":[2.159,2.179,2.199,2.119,2.199,2.179,2.559,null,2.199,2.319,2.119,2.199,2.319,2.279],\"xaxis\":\"x\",\"yaxis\":\"y\",\"type\":\"histogram\"},{\"alignmentgroup\":\"True\",\"bingroup\":\"x\",\"hovertemplate\":\"Parent ID=10852\\u003cbr\\u003egasPrices=%{x}\\u003cbr\\u003ecount=%{y}\\u003cextra\\u003e\\u003c\\u002fextra\\u003e\",\"legendgroup\":\"10852\",\"marker\":{\"color\":\"#636efa\",\"pattern\":{\"shape\":\"\"}},\"name\":\"10852\",\"nbinsx\":20,\"offsetgroup\":\"10852\",\"orientation\":\"v\",\"showlegend\":true,\"x\":[1.969,1.929,null,null,1.939,1.919,1.939,1.949,1.939,1.949,1.949,1.939,1.959,null,1.989,1.939,1.999,1.919,1.969,1.939,1.999,1.949,2.059,1.959,1.919,1.979,1.949,1.969,1.969,1.999,1.949,1.999,1.999],\"xaxis\":\"x\",\"yaxis\":\"y\",\"type\":\"histogram\"},{\"alignmentgroup\":\"True\",\"bingroup\":\"x\",\"hovertemplate\":\"Parent ID=10090\\u003cbr\\u003egasPrices=%{x}\\u003cbr\\u003ecount=%{y}\\u003cextra\\u003e\\u003c\\u002fextra\\u003e\",\"legendgroup\":\"10090\",\"marker\":{\"color\":\"#EF553B\",\"pattern\":{\"shape\":\"\"}},\"name\":\"10090\",\"nbinsx\":20,\"offsetgroup\":\"10090\",\"orientation\":\"v\",\"showlegend\":true,\"x\":[0.869,0.909,0.869,null,0.869,0.909,0.909,0.869,0.869,null,null,0.869,0.909,null,null,null,0.869,0.869,0.869,0.909,0.909],\"xaxis\":\"x\",\"yaxis\":\"y\",\"type\":\"histogram\"},{\"alignmentgroup\":\"True\",\"bingroup\":\"x\",\"hovertemplate\":\"Parent ID=10040\\u003cbr\\u003egasPrices=%{x}\\u003cbr\\u003ecount=%{y}\\u003cextra\\u003e\\u003c\\u002fextra\\u003e\",\"legendgroup\":\"10040\",\"marker\":{\"color\":\"#00cc96\",\"pattern\":{\"shape\":\"\"}},\"name\":\"10040\",\"nbinsx\":20,\"offsetgroup\":\"10040\",\"orientation\":\"v\",\"showlegend\":true,\"x\":[null,null],\"xaxis\":\"x\",\"yaxis\":\"y\",\"type\":\"histogram\"},{\"alignmentgroup\":\"True\",\"bingroup\":\"x\",\"hovertemplate\":\"Parent ID=11019\\u003cbr\\u003egasPrices=%{x}\\u003cbr\\u003ecount=%{y}\\u003cextra\\u003e\\u003c\\u002fextra\\u003e\",\"legendgroup\":\"11019\",\"marker\":{\"color\":\"#ab63fa\",\"pattern\":{\"shape\":\"\"}},\"name\":\"11019\",\"nbinsx\":20,\"offsetgroup\":\"11019\",\"orientation\":\"v\",\"showlegend\":true,\"x\":[null,null,null,null,null,null,null,null,null,null,null,null,null,null,null,null,null,null,null,null,null,null],\"xaxis\":\"x\",\"yaxis\":\"y\",\"type\":\"histogram\"},{\"alignmentgroup\":\"True\",\"bingroup\":\"x\",\"hovertemplate\":\"Parent ID=11043\\u003cbr\\u003egasPrices=%{x}\\u003cbr\\u003ecount=%{y}\\u003cextra\\u003e\\u003c\\u002fextra\\u003e\",\"legendgroup\":\"11043\",\"marker\":{\"color\":\"#FFA15A\",\"pattern\":{\"shape\":\"\"}},\"name\":\"11043\",\"nbinsx\":20,\"offsetgroup\":\"11043\",\"orientation\":\"v\",\"showlegend\":true,\"x\":[null,null,null],\"xaxis\":\"x\",\"yaxis\":\"y\",\"type\":\"histogram\"},{\"alignmentgroup\":\"True\",\"bingroup\":\"x\",\"hovertemplate\":\"Parent ID=11050\\u003cbr\\u003egasPrices=%{x}\\u003cbr\\u003ecount=%{y}\\u003cextra\\u003e\\u003c\\u002fextra\\u003e\",\"legendgroup\":\"11050\",\"marker\":{\"color\":\"#19d3f3\",\"pattern\":{\"shape\":\"\"}},\"name\":\"11050\",\"nbinsx\":20,\"offsetgroup\":\"11050\",\"orientation\":\"v\",\"showlegend\":true,\"x\":[null],\"xaxis\":\"x\",\"yaxis\":\"y\",\"type\":\"histogram\"},{\"alignmentgroup\":\"True\",\"bingroup\":\"x\",\"hovertemplate\":\"Parent ID=10964\\u003cbr\\u003egasPrices=%{x}\\u003cbr\\u003ecount=%{y}\\u003cextra\\u003e\\u003c\\u002fextra\\u003e\",\"legendgroup\":\"10964\",\"marker\":{\"color\":\"#FF6692\",\"pattern\":{\"shape\":\"\"}},\"name\":\"10964\",\"nbinsx\":20,\"offsetgroup\":\"10964\",\"orientation\":\"v\",\"showlegend\":true,\"x\":[2.299,2.199,2.179,2.199,2.189,2.169,2.199,2.179,2.259],\"xaxis\":\"x\",\"yaxis\":\"y\",\"type\":\"histogram\"},{\"alignmentgroup\":\"True\",\"bingroup\":\"x\",\"hovertemplate\":\"Parent ID=10451\\u003cbr\\u003egasPrices=%{x}\\u003cbr\\u003ecount=%{y}\\u003cextra\\u003e\\u003c\\u002fextra\\u003e\",\"legendgroup\":\"10451\",\"marker\":{\"color\":\"#B6E880\",\"pattern\":{\"shape\":\"\"}},\"name\":\"10451\",\"nbinsx\":20,\"offsetgroup\":\"10451\",\"orientation\":\"v\",\"showlegend\":true,\"x\":[2.189,2.229,2.309,2.089],\"xaxis\":\"x\",\"yaxis\":\"y\",\"type\":\"histogram\"},{\"alignmentgroup\":\"True\",\"bingroup\":\"x\",\"hovertemplate\":\"Parent ID=11031\\u003cbr\\u003egasPrices=%{x}\\u003cbr\\u003ecount=%{y}\\u003cextra\\u003e\\u003c\\u002fextra\\u003e\",\"legendgroup\":\"11031\",\"marker\":{\"color\":\"#FF97FF\",\"pattern\":{\"shape\":\"\"}},\"name\":\"11031\",\"nbinsx\":20,\"offsetgroup\":\"11031\",\"orientation\":\"v\",\"showlegend\":true,\"x\":[null,null,null,null],\"xaxis\":\"x\",\"yaxis\":\"y\",\"type\":\"histogram\"},{\"alignmentgroup\":\"True\",\"bingroup\":\"x\",\"hovertemplate\":\"Parent ID=11032\\u003cbr\\u003egasPrices=%{x}\\u003cbr\\u003ecount=%{y}\\u003cextra\\u003e\\u003c\\u002fextra\\u003e\",\"legendgroup\":\"11032\",\"marker\":{\"color\":\"#FECB52\",\"pattern\":{\"shape\":\"\"}},\"name\":\"11032\",\"nbinsx\":20,\"offsetgroup\":\"11032\",\"orientation\":\"v\",\"showlegend\":true,\"x\":[null,null,null],\"xaxis\":\"x\",\"yaxis\":\"y\",\"type\":\"histogram\"},{\"alignmentgroup\":\"True\",\"bingroup\":\"x\",\"hovertemplate\":\"Parent ID=11027\\u003cbr\\u003egasPrices=%{x}\\u003cbr\\u003ecount=%{y}\\u003cextra\\u003e\\u003c\\u002fextra\\u003e\",\"legendgroup\":\"11027\",\"marker\":{\"color\":\"#636efa\",\"pattern\":{\"shape\":\"\"}},\"name\":\"11027\",\"nbinsx\":20,\"offsetgroup\":\"11027\",\"orientation\":\"v\",\"showlegend\":true,\"x\":[null,null,null],\"xaxis\":\"x\",\"yaxis\":\"y\",\"type\":\"histogram\"},{\"alignmentgroup\":\"True\",\"bingroup\":\"x\",\"hovertemplate\":\"Parent ID=11039\\u003cbr\\u003egasPrices=%{x}\\u003cbr\\u003ecount=%{y}\\u003cextra\\u003e\\u003c\\u002fextra\\u003e\",\"legendgroup\":\"11039\",\"marker\":{\"color\":\"#EF553B\",\"pattern\":{\"shape\":\"\"}},\"name\":\"11039\",\"nbinsx\":20,\"offsetgroup\":\"11039\",\"orientation\":\"v\",\"showlegend\":true,\"x\":[null],\"xaxis\":\"x\",\"yaxis\":\"y\",\"type\":\"histogram\"},{\"alignmentgroup\":\"True\",\"bingroup\":\"x\",\"hovertemplate\":\"Parent ID=11021\\u003cbr\\u003egasPrices=%{x}\\u003cbr\\u003ecount=%{y}\\u003cextra\\u003e\\u003c\\u002fextra\\u003e\",\"legendgroup\":\"11021\",\"marker\":{\"color\":\"#00cc96\",\"pattern\":{\"shape\":\"\"}},\"name\":\"11021\",\"nbinsx\":20,\"offsetgroup\":\"11021\",\"orientation\":\"v\",\"showlegend\":true,\"x\":[null,null,null],\"xaxis\":\"x\",\"yaxis\":\"y\",\"type\":\"histogram\"},{\"alignmentgroup\":\"True\",\"bingroup\":\"x\",\"hovertemplate\":\"Parent ID=11013\\u003cbr\\u003egasPrices=%{x}\\u003cbr\\u003ecount=%{y}\\u003cextra\\u003e\\u003c\\u002fextra\\u003e\",\"legendgroup\":\"11013\",\"marker\":{\"color\":\"#ab63fa\",\"pattern\":{\"shape\":\"\"}},\"name\":\"11013\",\"nbinsx\":20,\"offsetgroup\":\"11013\",\"orientation\":\"v\",\"showlegend\":true,\"x\":[null],\"xaxis\":\"x\",\"yaxis\":\"y\",\"type\":\"histogram\"},{\"alignmentgroup\":\"True\",\"bingroup\":\"x\",\"hovertemplate\":\"Parent ID=11033\\u003cbr\\u003egasPrices=%{x}\\u003cbr\\u003ecount=%{y}\\u003cextra\\u003e\\u003c\\u002fextra\\u003e\",\"legendgroup\":\"11033\",\"marker\":{\"color\":\"#FFA15A\",\"pattern\":{\"shape\":\"\"}},\"name\":\"11033\",\"nbinsx\":20,\"offsetgroup\":\"11033\",\"orientation\":\"v\",\"showlegend\":true,\"x\":[null],\"xaxis\":\"x\",\"yaxis\":\"y\",\"type\":\"histogram\"},{\"alignmentgroup\":\"True\",\"bingroup\":\"x\",\"hovertemplate\":\"Parent ID=11040\\u003cbr\\u003egasPrices=%{x}\\u003cbr\\u003ecount=%{y}\\u003cextra\\u003e\\u003c\\u002fextra\\u003e\",\"legendgroup\":\"11040\",\"marker\":{\"color\":\"#19d3f3\",\"pattern\":{\"shape\":\"\"}},\"name\":\"11040\",\"nbinsx\":20,\"offsetgroup\":\"11040\",\"orientation\":\"v\",\"showlegend\":true,\"x\":[null],\"xaxis\":\"x\",\"yaxis\":\"y\",\"type\":\"histogram\"},{\"alignmentgroup\":\"True\",\"bingroup\":\"x\",\"hovertemplate\":\"Parent ID=11034\\u003cbr\\u003egasPrices=%{x}\\u003cbr\\u003ecount=%{y}\\u003cextra\\u003e\\u003c\\u002fextra\\u003e\",\"legendgroup\":\"11034\",\"marker\":{\"color\":\"#FF6692\",\"pattern\":{\"shape\":\"\"}},\"name\":\"11034\",\"nbinsx\":20,\"offsetgroup\":\"11034\",\"orientation\":\"v\",\"showlegend\":true,\"x\":[null],\"xaxis\":\"x\",\"yaxis\":\"y\",\"type\":\"histogram\"},{\"alignmentgroup\":\"True\",\"bingroup\":\"x\",\"hovertemplate\":\"Parent ID=11038\\u003cbr\\u003egasPrices=%{x}\\u003cbr\\u003ecount=%{y}\\u003cextra\\u003e\\u003c\\u002fextra\\u003e\",\"legendgroup\":\"11038\",\"marker\":{\"color\":\"#B6E880\",\"pattern\":{\"shape\":\"\"}},\"name\":\"11038\",\"nbinsx\":20,\"offsetgroup\":\"11038\",\"orientation\":\"v\",\"showlegend\":true,\"x\":[null],\"xaxis\":\"x\",\"yaxis\":\"y\",\"type\":\"histogram\"},{\"alignmentgroup\":\"True\",\"bingroup\":\"x\",\"hovertemplate\":\"Parent ID=11036\\u003cbr\\u003egasPrices=%{x}\\u003cbr\\u003ecount=%{y}\\u003cextra\\u003e\\u003c\\u002fextra\\u003e\",\"legendgroup\":\"11036\",\"marker\":{\"color\":\"#FF97FF\",\"pattern\":{\"shape\":\"\"}},\"name\":\"11036\",\"nbinsx\":20,\"offsetgroup\":\"11036\",\"orientation\":\"v\",\"showlegend\":true,\"x\":[null,null,null],\"xaxis\":\"x\",\"yaxis\":\"y\",\"type\":\"histogram\"},{\"alignmentgroup\":\"True\",\"bingroup\":\"x\",\"hovertemplate\":\"Parent ID=11042\\u003cbr\\u003egasPrices=%{x}\\u003cbr\\u003ecount=%{y}\\u003cextra\\u003e\\u003c\\u002fextra\\u003e\",\"legendgroup\":\"11042\",\"marker\":{\"color\":\"#FECB52\",\"pattern\":{\"shape\":\"\"}},\"name\":\"11042\",\"nbinsx\":20,\"offsetgroup\":\"11042\",\"orientation\":\"v\",\"showlegend\":true,\"x\":[null],\"xaxis\":\"x\",\"yaxis\":\"y\",\"type\":\"histogram\"},{\"alignmentgroup\":\"True\",\"bingroup\":\"x\",\"hovertemplate\":\"Parent ID=11048\\u003cbr\\u003egasPrices=%{x}\\u003cbr\\u003ecount=%{y}\\u003cextra\\u003e\\u003c\\u002fextra\\u003e\",\"legendgroup\":\"11048\",\"marker\":{\"color\":\"#636efa\",\"pattern\":{\"shape\":\"\"}},\"name\":\"11048\",\"nbinsx\":20,\"offsetgroup\":\"11048\",\"orientation\":\"v\",\"showlegend\":true,\"x\":[null,null],\"xaxis\":\"x\",\"yaxis\":\"y\",\"type\":\"histogram\"},{\"alignmentgroup\":\"True\",\"bingroup\":\"x\",\"hovertemplate\":\"Parent ID=11016\\u003cbr\\u003egasPrices=%{x}\\u003cbr\\u003ecount=%{y}\\u003cextra\\u003e\\u003c\\u002fextra\\u003e\",\"legendgroup\":\"11016\",\"marker\":{\"color\":\"#EF553B\",\"pattern\":{\"shape\":\"\"}},\"name\":\"11016\",\"nbinsx\":20,\"offsetgroup\":\"11016\",\"orientation\":\"v\",\"showlegend\":true,\"x\":[null],\"xaxis\":\"x\",\"yaxis\":\"y\",\"type\":\"histogram\"},{\"alignmentgroup\":\"True\",\"bingroup\":\"x\",\"hovertemplate\":\"Parent ID=11015\\u003cbr\\u003egasPrices=%{x}\\u003cbr\\u003ecount=%{y}\\u003cextra\\u003e\\u003c\\u002fextra\\u003e\",\"legendgroup\":\"11015\",\"marker\":{\"color\":\"#00cc96\",\"pattern\":{\"shape\":\"\"}},\"name\":\"11015\",\"nbinsx\":20,\"offsetgroup\":\"11015\",\"orientation\":\"v\",\"showlegend\":true,\"x\":[null,null,null,null],\"xaxis\":\"x\",\"yaxis\":\"y\",\"type\":\"histogram\"},{\"alignmentgroup\":\"True\",\"bingroup\":\"x\",\"hovertemplate\":\"Parent ID=11044\\u003cbr\\u003egasPrices=%{x}\\u003cbr\\u003ecount=%{y}\\u003cextra\\u003e\\u003c\\u002fextra\\u003e\",\"legendgroup\":\"11044\",\"marker\":{\"color\":\"#ab63fa\",\"pattern\":{\"shape\":\"\"}},\"name\":\"11044\",\"nbinsx\":20,\"offsetgroup\":\"11044\",\"orientation\":\"v\",\"showlegend\":true,\"x\":[null],\"xaxis\":\"x\",\"yaxis\":\"y\",\"type\":\"histogram\"},{\"alignmentgroup\":\"True\",\"bingroup\":\"x\",\"hovertemplate\":\"Parent ID=11018\\u003cbr\\u003egasPrices=%{x}\\u003cbr\\u003ecount=%{y}\\u003cextra\\u003e\\u003c\\u002fextra\\u003e\",\"legendgroup\":\"11018\",\"marker\":{\"color\":\"#FFA15A\",\"pattern\":{\"shape\":\"\"}},\"name\":\"11018\",\"nbinsx\":20,\"offsetgroup\":\"11018\",\"orientation\":\"v\",\"showlegend\":true,\"x\":[null,null],\"xaxis\":\"x\",\"yaxis\":\"y\",\"type\":\"histogram\"},{\"alignmentgroup\":\"True\",\"bingroup\":\"x\",\"hovertemplate\":\"Parent ID=10427\\u003cbr\\u003egasPrices=%{x}\\u003cbr\\u003ecount=%{y}\\u003cextra\\u003e\\u003c\\u002fextra\\u003e\",\"legendgroup\":\"10427\",\"marker\":{\"color\":\"#19d3f3\",\"pattern\":{\"shape\":\"\"}},\"name\":\"10427\",\"nbinsx\":20,\"offsetgroup\":\"10427\",\"orientation\":\"v\",\"showlegend\":true,\"x\":[2.199,2.109,2.139],\"xaxis\":\"x\",\"yaxis\":\"y\",\"type\":\"histogram\"},{\"alignmentgroup\":\"True\",\"bingroup\":\"x\",\"hovertemplate\":\"Parent ID=13008\\u003cbr\\u003egasPrices=%{x}\\u003cbr\\u003ecount=%{y}\\u003cextra\\u003e\\u003c\\u002fextra\\u003e\",\"legendgroup\":\"13008\",\"marker\":{\"color\":\"#FF6692\",\"pattern\":{\"shape\":\"\"}},\"name\":\"13008\",\"nbinsx\":20,\"offsetgroup\":\"13008\",\"orientation\":\"v\",\"showlegend\":true,\"x\":[null,null,null,null],\"xaxis\":\"x\",\"yaxis\":\"y\",\"type\":\"histogram\"},{\"alignmentgroup\":\"True\",\"bingroup\":\"x\",\"hovertemplate\":\"Parent ID=13005\\u003cbr\\u003egasPrices=%{x}\\u003cbr\\u003ecount=%{y}\\u003cextra\\u003e\\u003c\\u002fextra\\u003e\",\"legendgroup\":\"13005\",\"marker\":{\"color\":\"#B6E880\",\"pattern\":{\"shape\":\"\"}},\"name\":\"13005\",\"nbinsx\":20,\"offsetgroup\":\"13005\",\"orientation\":\"v\",\"showlegend\":true,\"x\":[null],\"xaxis\":\"x\",\"yaxis\":\"y\",\"type\":\"histogram\"},{\"alignmentgroup\":\"True\",\"bingroup\":\"x\",\"hovertemplate\":\"Parent ID=13006\\u003cbr\\u003egasPrices=%{x}\\u003cbr\\u003ecount=%{y}\\u003cextra\\u003e\\u003c\\u002fextra\\u003e\",\"legendgroup\":\"13006\",\"marker\":{\"color\":\"#FF97FF\",\"pattern\":{\"shape\":\"\"}},\"name\":\"13006\",\"nbinsx\":20,\"offsetgroup\":\"13006\",\"orientation\":\"v\",\"showlegend\":true,\"x\":[null,null],\"xaxis\":\"x\",\"yaxis\":\"y\",\"type\":\"histogram\"},{\"alignmentgroup\":\"True\",\"bingroup\":\"x\",\"hovertemplate\":\"Parent ID=13007\\u003cbr\\u003egasPrices=%{x}\\u003cbr\\u003ecount=%{y}\\u003cextra\\u003e\\u003c\\u002fextra\\u003e\",\"legendgroup\":\"13007\",\"marker\":{\"color\":\"#FECB52\",\"pattern\":{\"shape\":\"\"}},\"name\":\"13007\",\"nbinsx\":20,\"offsetgroup\":\"13007\",\"orientation\":\"v\",\"showlegend\":true,\"x\":[null,null],\"xaxis\":\"x\",\"yaxis\":\"y\",\"type\":\"histogram\"},{\"alignmentgroup\":\"True\",\"bingroup\":\"x\",\"hovertemplate\":\"Parent ID=13004\\u003cbr\\u003egasPrices=%{x}\\u003cbr\\u003ecount=%{y}\\u003cextra\\u003e\\u003c\\u002fextra\\u003e\",\"legendgroup\":\"13004\",\"marker\":{\"color\":\"#636efa\",\"pattern\":{\"shape\":\"\"}},\"name\":\"13004\",\"nbinsx\":20,\"offsetgroup\":\"13004\",\"orientation\":\"v\",\"showlegend\":true,\"x\":[null],\"xaxis\":\"x\",\"yaxis\":\"y\",\"type\":\"histogram\"},{\"alignmentgroup\":\"True\",\"bingroup\":\"x\",\"hovertemplate\":\"Parent ID=11047\\u003cbr\\u003egasPrices=%{x}\\u003cbr\\u003ecount=%{y}\\u003cextra\\u003e\\u003c\\u002fextra\\u003e\",\"legendgroup\":\"11047\",\"marker\":{\"color\":\"#EF553B\",\"pattern\":{\"shape\":\"\"}},\"name\":\"11047\",\"nbinsx\":20,\"offsetgroup\":\"11047\",\"orientation\":\"v\",\"showlegend\":true,\"x\":[null,null],\"xaxis\":\"x\",\"yaxis\":\"y\",\"type\":\"histogram\"},{\"alignmentgroup\":\"True\",\"bingroup\":\"x\",\"hovertemplate\":\"Parent ID=11026\\u003cbr\\u003egasPrices=%{x}\\u003cbr\\u003ecount=%{y}\\u003cextra\\u003e\\u003c\\u002fextra\\u003e\",\"legendgroup\":\"11026\",\"marker\":{\"color\":\"#00cc96\",\"pattern\":{\"shape\":\"\"}},\"name\":\"11026\",\"nbinsx\":20,\"offsetgroup\":\"11026\",\"orientation\":\"v\",\"showlegend\":true,\"x\":[null,null],\"xaxis\":\"x\",\"yaxis\":\"y\",\"type\":\"histogram\"},{\"alignmentgroup\":\"True\",\"bingroup\":\"x\",\"hovertemplate\":\"Parent ID=11028\\u003cbr\\u003egasPrices=%{x}\\u003cbr\\u003ecount=%{y}\\u003cextra\\u003e\\u003c\\u002fextra\\u003e\",\"legendgroup\":\"11028\",\"marker\":{\"color\":\"#ab63fa\",\"pattern\":{\"shape\":\"\"}},\"name\":\"11028\",\"nbinsx\":20,\"offsetgroup\":\"11028\",\"orientation\":\"v\",\"showlegend\":true,\"x\":[null,null,null],\"xaxis\":\"x\",\"yaxis\":\"y\",\"type\":\"histogram\"},{\"alignmentgroup\":\"True\",\"bingroup\":\"x\",\"hovertemplate\":\"Parent ID=11024\\u003cbr\\u003egasPrices=%{x}\\u003cbr\\u003ecount=%{y}\\u003cextra\\u003e\\u003c\\u002fextra\\u003e\",\"legendgroup\":\"11024\",\"marker\":{\"color\":\"#FFA15A\",\"pattern\":{\"shape\":\"\"}},\"name\":\"11024\",\"nbinsx\":20,\"offsetgroup\":\"11024\",\"orientation\":\"v\",\"showlegend\":true,\"x\":[null],\"xaxis\":\"x\",\"yaxis\":\"y\",\"type\":\"histogram\"},{\"alignmentgroup\":\"True\",\"bingroup\":\"x\",\"hovertemplate\":\"Parent ID=11041\\u003cbr\\u003egasPrices=%{x}\\u003cbr\\u003ecount=%{y}\\u003cextra\\u003e\\u003c\\u002fextra\\u003e\",\"legendgroup\":\"11041\",\"marker\":{\"color\":\"#19d3f3\",\"pattern\":{\"shape\":\"\"}},\"name\":\"11041\",\"nbinsx\":20,\"offsetgroup\":\"11041\",\"orientation\":\"v\",\"showlegend\":true,\"x\":[null,null],\"xaxis\":\"x\",\"yaxis\":\"y\",\"type\":\"histogram\"},{\"alignmentgroup\":\"True\",\"bingroup\":\"x\",\"hovertemplate\":\"Parent ID=11045\\u003cbr\\u003egasPrices=%{x}\\u003cbr\\u003ecount=%{y}\\u003cextra\\u003e\\u003c\\u002fextra\\u003e\",\"legendgroup\":\"11045\",\"marker\":{\"color\":\"#FF6692\",\"pattern\":{\"shape\":\"\"}},\"name\":\"11045\",\"nbinsx\":20,\"offsetgroup\":\"11045\",\"orientation\":\"v\",\"showlegend\":true,\"x\":[null],\"xaxis\":\"x\",\"yaxis\":\"y\",\"type\":\"histogram\"},{\"alignmentgroup\":\"True\",\"bingroup\":\"x\",\"hovertemplate\":\"Parent ID=11046\\u003cbr\\u003egasPrices=%{x}\\u003cbr\\u003ecount=%{y}\\u003cextra\\u003e\\u003c\\u002fextra\\u003e\",\"legendgroup\":\"11046\",\"marker\":{\"color\":\"#B6E880\",\"pattern\":{\"shape\":\"\"}},\"name\":\"11046\",\"nbinsx\":20,\"offsetgroup\":\"11046\",\"orientation\":\"v\",\"showlegend\":true,\"x\":[null,null,null],\"xaxis\":\"x\",\"yaxis\":\"y\",\"type\":\"histogram\"},{\"alignmentgroup\":\"True\",\"bingroup\":\"x\",\"hovertemplate\":\"Parent ID=11029\\u003cbr\\u003egasPrices=%{x}\\u003cbr\\u003ecount=%{y}\\u003cextra\\u003e\\u003c\\u002fextra\\u003e\",\"legendgroup\":\"11029\",\"marker\":{\"color\":\"#FF97FF\",\"pattern\":{\"shape\":\"\"}},\"name\":\"11029\",\"nbinsx\":20,\"offsetgroup\":\"11029\",\"orientation\":\"v\",\"showlegend\":true,\"x\":[null,null],\"xaxis\":\"x\",\"yaxis\":\"y\",\"type\":\"histogram\"},{\"alignmentgroup\":\"True\",\"bingroup\":\"x\",\"hovertemplate\":\"Parent ID=11020\\u003cbr\\u003egasPrices=%{x}\\u003cbr\\u003ecount=%{y}\\u003cextra\\u003e\\u003c\\u002fextra\\u003e\",\"legendgroup\":\"11020\",\"marker\":{\"color\":\"#FECB52\",\"pattern\":{\"shape\":\"\"}},\"name\":\"11020\",\"nbinsx\":20,\"offsetgroup\":\"11020\",\"orientation\":\"v\",\"showlegend\":true,\"x\":[null,null],\"xaxis\":\"x\",\"yaxis\":\"y\",\"type\":\"histogram\"},{\"alignmentgroup\":\"True\",\"bingroup\":\"x\",\"hovertemplate\":\"Parent ID=11017\\u003cbr\\u003egasPrices=%{x}\\u003cbr\\u003ecount=%{y}\\u003cextra\\u003e\\u003c\\u002fextra\\u003e\",\"legendgroup\":\"11017\",\"marker\":{\"color\":\"#636efa\",\"pattern\":{\"shape\":\"\"}},\"name\":\"11017\",\"nbinsx\":20,\"offsetgroup\":\"11017\",\"orientation\":\"v\",\"showlegend\":true,\"x\":[null,null],\"xaxis\":\"x\",\"yaxis\":\"y\",\"type\":\"histogram\"},{\"alignmentgroup\":\"True\",\"bingroup\":\"x\",\"hovertemplate\":\"Parent ID=10620\\u003cbr\\u003egasPrices=%{x}\\u003cbr\\u003ecount=%{y}\\u003cextra\\u003e\\u003c\\u002fextra\\u003e\",\"legendgroup\":\"10620\",\"marker\":{\"color\":\"#EF553B\",\"pattern\":{\"shape\":\"\"}},\"name\":\"10620\",\"nbinsx\":20,\"offsetgroup\":\"10620\",\"orientation\":\"v\",\"showlegend\":true,\"x\":[2.149,2.149,2.269],\"xaxis\":\"x\",\"yaxis\":\"y\",\"type\":\"histogram\"},{\"alignmentgroup\":\"True\",\"bingroup\":\"x\",\"hovertemplate\":\"Parent ID=10034\\u003cbr\\u003egasPrices=%{x}\\u003cbr\\u003ecount=%{y}\\u003cextra\\u003e\\u003c\\u002fextra\\u003e\",\"legendgroup\":\"10034\",\"marker\":{\"color\":\"#00cc96\",\"pattern\":{\"shape\":\"\"}},\"name\":\"10034\",\"nbinsx\":20,\"offsetgroup\":\"10034\",\"orientation\":\"v\",\"showlegend\":true,\"x\":[null,0.019,0.909],\"xaxis\":\"x\",\"yaxis\":\"y\",\"type\":\"histogram\"},{\"alignmentgroup\":\"True\",\"bingroup\":\"x\",\"hovertemplate\":\"Parent ID=10731\\u003cbr\\u003egasPrices=%{x}\\u003cbr\\u003ecount=%{y}\\u003cextra\\u003e\\u003c\\u002fextra\\u003e\",\"legendgroup\":\"10731\",\"marker\":{\"color\":\"#ab63fa\",\"pattern\":{\"shape\":\"\"}},\"name\":\"10731\",\"nbinsx\":20,\"offsetgroup\":\"10731\",\"orientation\":\"v\",\"showlegend\":true,\"x\":[2.189],\"xaxis\":\"x\",\"yaxis\":\"y\",\"type\":\"histogram\"},{\"alignmentgroup\":\"True\",\"bingroup\":\"x\",\"hovertemplate\":\"Parent ID=10288\\u003cbr\\u003egasPrices=%{x}\\u003cbr\\u003ecount=%{y}\\u003cextra\\u003e\\u003c\\u002fextra\\u003e\",\"legendgroup\":\"10288\",\"marker\":{\"color\":\"#FFA15A\",\"pattern\":{\"shape\":\"\"}},\"name\":\"10288\",\"nbinsx\":20,\"offsetgroup\":\"10288\",\"orientation\":\"v\",\"showlegend\":true,\"x\":[null],\"xaxis\":\"x\",\"yaxis\":\"y\",\"type\":\"histogram\"},{\"alignmentgroup\":\"True\",\"bingroup\":\"x\",\"hovertemplate\":\"Parent ID=10465\\u003cbr\\u003egasPrices=%{x}\\u003cbr\\u003ecount=%{y}\\u003cextra\\u003e\\u003c\\u002fextra\\u003e\",\"legendgroup\":\"10465\",\"marker\":{\"color\":\"#19d3f3\",\"pattern\":{\"shape\":\"\"}},\"name\":\"10465\",\"nbinsx\":20,\"offsetgroup\":\"10465\",\"orientation\":\"v\",\"showlegend\":true,\"x\":[1.909,1.879,1.959],\"xaxis\":\"x\",\"yaxis\":\"y\",\"type\":\"histogram\"},{\"alignmentgroup\":\"True\",\"bingroup\":\"x\",\"hovertemplate\":\"Parent ID=10828\\u003cbr\\u003egasPrices=%{x}\\u003cbr\\u003ecount=%{y}\\u003cextra\\u003e\\u003c\\u002fextra\\u003e\",\"legendgroup\":\"10828\",\"marker\":{\"color\":\"#FF6692\",\"pattern\":{\"shape\":\"\"}},\"name\":\"10828\",\"nbinsx\":20,\"offsetgroup\":\"10828\",\"orientation\":\"v\",\"showlegend\":true,\"x\":[2.159],\"xaxis\":\"x\",\"yaxis\":\"y\",\"type\":\"histogram\"},{\"alignmentgroup\":\"True\",\"bingroup\":\"x\",\"hovertemplate\":\"Parent ID=10761\\u003cbr\\u003egasPrices=%{x}\\u003cbr\\u003ecount=%{y}\\u003cextra\\u003e\\u003c\\u002fextra\\u003e\",\"legendgroup\":\"10761\",\"marker\":{\"color\":\"#B6E880\",\"pattern\":{\"shape\":\"\"}},\"name\":\"10761\",\"nbinsx\":20,\"offsetgroup\":\"10761\",\"orientation\":\"v\",\"showlegend\":true,\"x\":[1.979,1.899],\"xaxis\":\"x\",\"yaxis\":\"y\",\"type\":\"histogram\"},{\"alignmentgroup\":\"True\",\"bingroup\":\"x\",\"hovertemplate\":\"Parent ID=10038\\u003cbr\\u003egasPrices=%{x}\\u003cbr\\u003ecount=%{y}\\u003cextra\\u003e\\u003c\\u002fextra\\u003e\",\"legendgroup\":\"10038\",\"marker\":{\"color\":\"#FF97FF\",\"pattern\":{\"shape\":\"\"}},\"name\":\"10038\",\"nbinsx\":20,\"offsetgroup\":\"10038\",\"orientation\":\"v\",\"showlegend\":true,\"x\":[0.019],\"xaxis\":\"x\",\"yaxis\":\"y\",\"type\":\"histogram\"},{\"alignmentgroup\":\"True\",\"bingroup\":\"x\",\"hovertemplate\":\"Parent ID=10575\\u003cbr\\u003egasPrices=%{x}\\u003cbr\\u003ecount=%{y}\\u003cextra\\u003e\\u003c\\u002fextra\\u003e\",\"legendgroup\":\"10575\",\"marker\":{\"color\":\"#FECB52\",\"pattern\":{\"shape\":\"\"}},\"name\":\"10575\",\"nbinsx\":20,\"offsetgroup\":\"10575\",\"orientation\":\"v\",\"showlegend\":true,\"x\":[1.999],\"xaxis\":\"x\",\"yaxis\":\"y\",\"type\":\"histogram\"},{\"alignmentgroup\":\"True\",\"bingroup\":\"x\",\"hovertemplate\":\"Parent ID=11025\\u003cbr\\u003egasPrices=%{x}\\u003cbr\\u003ecount=%{y}\\u003cextra\\u003e\\u003c\\u002fextra\\u003e\",\"legendgroup\":\"11025\",\"marker\":{\"color\":\"#636efa\",\"pattern\":{\"shape\":\"\"}},\"name\":\"11025\",\"nbinsx\":20,\"offsetgroup\":\"11025\",\"orientation\":\"v\",\"showlegend\":true,\"x\":[null],\"xaxis\":\"x\",\"yaxis\":\"y\",\"type\":\"histogram\"},{\"alignmentgroup\":\"True\",\"bingroup\":\"x\",\"hovertemplate\":\"Parent ID=13003\\u003cbr\\u003egasPrices=%{x}\\u003cbr\\u003ecount=%{y}\\u003cextra\\u003e\\u003c\\u002fextra\\u003e\",\"legendgroup\":\"13003\",\"marker\":{\"color\":\"#EF553B\",\"pattern\":{\"shape\":\"\"}},\"name\":\"13003\",\"nbinsx\":20,\"offsetgroup\":\"13003\",\"orientation\":\"v\",\"showlegend\":true,\"x\":[null],\"xaxis\":\"x\",\"yaxis\":\"y\",\"type\":\"histogram\"},{\"alignmentgroup\":\"True\",\"bingroup\":\"x\",\"hovertemplate\":\"Parent ID=11011\\u003cbr\\u003egasPrices=%{x}\\u003cbr\\u003ecount=%{y}\\u003cextra\\u003e\\u003c\\u002fextra\\u003e\",\"legendgroup\":\"11011\",\"marker\":{\"color\":\"#00cc96\",\"pattern\":{\"shape\":\"\"}},\"name\":\"11011\",\"nbinsx\":20,\"offsetgroup\":\"11011\",\"orientation\":\"v\",\"showlegend\":true,\"x\":[null,null,null,null],\"xaxis\":\"x\",\"yaxis\":\"y\",\"type\":\"histogram\"},{\"alignmentgroup\":\"True\",\"bingroup\":\"x\",\"hovertemplate\":\"Parent ID=13002\\u003cbr\\u003egasPrices=%{x}\\u003cbr\\u003ecount=%{y}\\u003cextra\\u003e\\u003c\\u002fextra\\u003e\",\"legendgroup\":\"13002\",\"marker\":{\"color\":\"#ab63fa\",\"pattern\":{\"shape\":\"\"}},\"name\":\"13002\",\"nbinsx\":20,\"offsetgroup\":\"13002\",\"orientation\":\"v\",\"showlegend\":true,\"x\":[null],\"xaxis\":\"x\",\"yaxis\":\"y\",\"type\":\"histogram\"},{\"alignmentgroup\":\"True\",\"bingroup\":\"x\",\"hovertemplate\":\"Parent ID=13009\\u003cbr\\u003egasPrices=%{x}\\u003cbr\\u003ecount=%{y}\\u003cextra\\u003e\\u003c\\u002fextra\\u003e\",\"legendgroup\":\"13009\",\"marker\":{\"color\":\"#FFA15A\",\"pattern\":{\"shape\":\"\"}},\"name\":\"13009\",\"nbinsx\":20,\"offsetgroup\":\"13009\",\"orientation\":\"v\",\"showlegend\":true,\"x\":[null],\"xaxis\":\"x\",\"yaxis\":\"y\",\"type\":\"histogram\"},{\"alignmentgroup\":\"True\",\"bingroup\":\"x\",\"hovertemplate\":\"Parent ID=11008\\u003cbr\\u003egasPrices=%{x}\\u003cbr\\u003ecount=%{y}\\u003cextra\\u003e\\u003c\\u002fextra\\u003e\",\"legendgroup\":\"11008\",\"marker\":{\"color\":\"#19d3f3\",\"pattern\":{\"shape\":\"\"}},\"name\":\"11008\",\"nbinsx\":20,\"offsetgroup\":\"11008\",\"orientation\":\"v\",\"showlegend\":true,\"x\":[null,null,null,null,null],\"xaxis\":\"x\",\"yaxis\":\"y\",\"type\":\"histogram\"},{\"alignmentgroup\":\"True\",\"bingroup\":\"x\",\"hovertemplate\":\"Parent ID=11006\\u003cbr\\u003egasPrices=%{x}\\u003cbr\\u003ecount=%{y}\\u003cextra\\u003e\\u003c\\u002fextra\\u003e\",\"legendgroup\":\"11006\",\"marker\":{\"color\":\"#FF6692\",\"pattern\":{\"shape\":\"\"}},\"name\":\"11006\",\"nbinsx\":20,\"offsetgroup\":\"11006\",\"orientation\":\"v\",\"showlegend\":true,\"x\":[null,null,null,null,null,null,null,null],\"xaxis\":\"x\",\"yaxis\":\"y\",\"type\":\"histogram\"},{\"alignmentgroup\":\"True\",\"bingroup\":\"x\",\"hovertemplate\":\"Parent ID=11035\\u003cbr\\u003egasPrices=%{x}\\u003cbr\\u003ecount=%{y}\\u003cextra\\u003e\\u003c\\u002fextra\\u003e\",\"legendgroup\":\"11035\",\"marker\":{\"color\":\"#B6E880\",\"pattern\":{\"shape\":\"\"}},\"name\":\"11035\",\"nbinsx\":20,\"offsetgroup\":\"11035\",\"orientation\":\"v\",\"showlegend\":true,\"x\":[null,2.559],\"xaxis\":\"x\",\"yaxis\":\"y\",\"type\":\"histogram\"},{\"alignmentgroup\":\"True\",\"bingroup\":\"x\",\"hovertemplate\":\"Parent ID=13000\\u003cbr\\u003egasPrices=%{x}\\u003cbr\\u003ecount=%{y}\\u003cextra\\u003e\\u003c\\u002fextra\\u003e\",\"legendgroup\":\"13000\",\"marker\":{\"color\":\"#FF97FF\",\"pattern\":{\"shape\":\"\"}},\"name\":\"13000\",\"nbinsx\":20,\"offsetgroup\":\"13000\",\"orientation\":\"v\",\"showlegend\":true,\"x\":[null],\"xaxis\":\"x\",\"yaxis\":\"y\",\"type\":\"histogram\"},{\"alignmentgroup\":\"True\",\"bingroup\":\"x\",\"hovertemplate\":\"Parent ID=13012\\u003cbr\\u003egasPrices=%{x}\\u003cbr\\u003ecount=%{y}\\u003cextra\\u003e\\u003c\\u002fextra\\u003e\",\"legendgroup\":\"13012\",\"marker\":{\"color\":\"#FECB52\",\"pattern\":{\"shape\":\"\"}},\"name\":\"13012\",\"nbinsx\":20,\"offsetgroup\":\"13012\",\"orientation\":\"v\",\"showlegend\":true,\"x\":[null],\"xaxis\":\"x\",\"yaxis\":\"y\",\"type\":\"histogram\"},{\"alignmentgroup\":\"True\",\"bingroup\":\"x\",\"hovertemplate\":\"Parent ID=13001\\u003cbr\\u003egasPrices=%{x}\\u003cbr\\u003ecount=%{y}\\u003cextra\\u003e\\u003c\\u002fextra\\u003e\",\"legendgroup\":\"13001\",\"marker\":{\"color\":\"#636efa\",\"pattern\":{\"shape\":\"\"}},\"name\":\"13001\",\"nbinsx\":20,\"offsetgroup\":\"13001\",\"orientation\":\"v\",\"showlegend\":true,\"x\":[null],\"xaxis\":\"x\",\"yaxis\":\"y\",\"type\":\"histogram\"},{\"alignmentgroup\":\"True\",\"bingroup\":\"x\",\"hovertemplate\":\"Parent ID=13010\\u003cbr\\u003egasPrices=%{x}\\u003cbr\\u003ecount=%{y}\\u003cextra\\u003e\\u003c\\u002fextra\\u003e\",\"legendgroup\":\"13010\",\"marker\":{\"color\":\"#EF553B\",\"pattern\":{\"shape\":\"\"}},\"name\":\"13010\",\"nbinsx\":20,\"offsetgroup\":\"13010\",\"orientation\":\"v\",\"showlegend\":true,\"x\":[null],\"xaxis\":\"x\",\"yaxis\":\"y\",\"type\":\"histogram\"},{\"alignmentgroup\":\"True\",\"bingroup\":\"x\",\"hovertemplate\":\"Parent ID=13013\\u003cbr\\u003egasPrices=%{x}\\u003cbr\\u003ecount=%{y}\\u003cextra\\u003e\\u003c\\u002fextra\\u003e\",\"legendgroup\":\"13013\",\"marker\":{\"color\":\"#00cc96\",\"pattern\":{\"shape\":\"\"}},\"name\":\"13013\",\"nbinsx\":20,\"offsetgroup\":\"13013\",\"orientation\":\"v\",\"showlegend\":true,\"x\":[null],\"xaxis\":\"x\",\"yaxis\":\"y\",\"type\":\"histogram\"},{\"alignmentgroup\":\"True\",\"bingroup\":\"x\",\"hovertemplate\":\"Parent ID=11007\\u003cbr\\u003egasPrices=%{x}\\u003cbr\\u003ecount=%{y}\\u003cextra\\u003e\\u003c\\u002fextra\\u003e\",\"legendgroup\":\"11007\",\"marker\":{\"color\":\"#ab63fa\",\"pattern\":{\"shape\":\"\"}},\"name\":\"11007\",\"nbinsx\":20,\"offsetgroup\":\"11007\",\"orientation\":\"v\",\"showlegend\":true,\"x\":[null,null,null,null,null,null,null,null],\"xaxis\":\"x\",\"yaxis\":\"y\",\"type\":\"histogram\"},{\"alignmentgroup\":\"True\",\"bingroup\":\"x\",\"hovertemplate\":\"Parent ID=13011\\u003cbr\\u003egasPrices=%{x}\\u003cbr\\u003ecount=%{y}\\u003cextra\\u003e\\u003c\\u002fextra\\u003e\",\"legendgroup\":\"13011\",\"marker\":{\"color\":\"#FFA15A\",\"pattern\":{\"shape\":\"\"}},\"name\":\"13011\",\"nbinsx\":20,\"offsetgroup\":\"13011\",\"orientation\":\"v\",\"showlegend\":true,\"x\":[null],\"xaxis\":\"x\",\"yaxis\":\"y\",\"type\":\"histogram\"},{\"alignmentgroup\":\"True\",\"bingroup\":\"x\",\"hovertemplate\":\"Parent ID=11012\\u003cbr\\u003egasPrices=%{x}\\u003cbr\\u003ecount=%{y}\\u003cextra\\u003e\\u003c\\u002fextra\\u003e\",\"legendgroup\":\"11012\",\"marker\":{\"color\":\"#19d3f3\",\"pattern\":{\"shape\":\"\"}},\"name\":\"11012\",\"nbinsx\":20,\"offsetgroup\":\"11012\",\"orientation\":\"v\",\"showlegend\":true,\"x\":[null,null,null],\"xaxis\":\"x\",\"yaxis\":\"y\",\"type\":\"histogram\"},{\"alignmentgroup\":\"True\",\"bingroup\":\"x\",\"hovertemplate\":\"Parent ID=13018\\u003cbr\\u003egasPrices=%{x}\\u003cbr\\u003ecount=%{y}\\u003cextra\\u003e\\u003c\\u002fextra\\u003e\",\"legendgroup\":\"13018\",\"marker\":{\"color\":\"#FF6692\",\"pattern\":{\"shape\":\"\"}},\"name\":\"13018\",\"nbinsx\":20,\"offsetgroup\":\"13018\",\"orientation\":\"v\",\"showlegend\":true,\"x\":[null],\"xaxis\":\"x\",\"yaxis\":\"y\",\"type\":\"histogram\"},{\"alignmentgroup\":\"True\",\"bingroup\":\"x\",\"hovertemplate\":\"Parent ID=11009\\u003cbr\\u003egasPrices=%{x}\\u003cbr\\u003ecount=%{y}\\u003cextra\\u003e\\u003c\\u002fextra\\u003e\",\"legendgroup\":\"11009\",\"marker\":{\"color\":\"#B6E880\",\"pattern\":{\"shape\":\"\"}},\"name\":\"11009\",\"nbinsx\":20,\"offsetgroup\":\"11009\",\"orientation\":\"v\",\"showlegend\":true,\"x\":[null,null,null,null,null,null],\"xaxis\":\"x\",\"yaxis\":\"y\",\"type\":\"histogram\"},{\"alignmentgroup\":\"True\",\"bingroup\":\"x\",\"hovertemplate\":\"Parent ID=0\\u003cbr\\u003egasPrices=%{x}\\u003cbr\\u003ecount=%{y}\\u003cextra\\u003e\\u003c\\u002fextra\\u003e\",\"legendgroup\":\"0\",\"marker\":{\"color\":\"#FF97FF\",\"pattern\":{\"shape\":\"\"}},\"name\":\"0\",\"nbinsx\":20,\"offsetgroup\":\"0\",\"orientation\":\"v\",\"showlegend\":true,\"x\":[null,null],\"xaxis\":\"x\",\"yaxis\":\"y\",\"type\":\"histogram\"},{\"alignmentgroup\":\"True\",\"bingroup\":\"x\",\"hovertemplate\":\"Parent ID=13015\\u003cbr\\u003egasPrices=%{x}\\u003cbr\\u003ecount=%{y}\\u003cextra\\u003e\\u003c\\u002fextra\\u003e\",\"legendgroup\":\"13015\",\"marker\":{\"color\":\"#FECB52\",\"pattern\":{\"shape\":\"\"}},\"name\":\"13015\",\"nbinsx\":20,\"offsetgroup\":\"13015\",\"orientation\":\"v\",\"showlegend\":true,\"x\":[2.559],\"xaxis\":\"x\",\"yaxis\":\"y\",\"type\":\"histogram\"},{\"alignmentgroup\":\"True\",\"bingroup\":\"x\",\"hovertemplate\":\"Parent ID=13014\\u003cbr\\u003egasPrices=%{x}\\u003cbr\\u003ecount=%{y}\\u003cextra\\u003e\\u003c\\u002fextra\\u003e\",\"legendgroup\":\"13014\",\"marker\":{\"color\":\"#636efa\",\"pattern\":{\"shape\":\"\"}},\"name\":\"13014\",\"nbinsx\":20,\"offsetgroup\":\"13014\",\"orientation\":\"v\",\"showlegend\":true,\"x\":[null],\"xaxis\":\"x\",\"yaxis\":\"y\",\"type\":\"histogram\"}],                        {\"template\":{\"data\":{\"histogram2dcontour\":[{\"type\":\"histogram2dcontour\",\"colorbar\":{\"outlinewidth\":0,\"ticks\":\"\"},\"colorscale\":[[0.0,\"#0d0887\"],[0.1111111111111111,\"#46039f\"],[0.2222222222222222,\"#7201a8\"],[0.3333333333333333,\"#9c179e\"],[0.4444444444444444,\"#bd3786\"],[0.5555555555555556,\"#d8576b\"],[0.6666666666666666,\"#ed7953\"],[0.7777777777777778,\"#fb9f3a\"],[0.8888888888888888,\"#fdca26\"],[1.0,\"#f0f921\"]]}],\"choropleth\":[{\"type\":\"choropleth\",\"colorbar\":{\"outlinewidth\":0,\"ticks\":\"\"}}],\"histogram2d\":[{\"type\":\"histogram2d\",\"colorbar\":{\"outlinewidth\":0,\"ticks\":\"\"},\"colorscale\":[[0.0,\"#0d0887\"],[0.1111111111111111,\"#46039f\"],[0.2222222222222222,\"#7201a8\"],[0.3333333333333333,\"#9c179e\"],[0.4444444444444444,\"#bd3786\"],[0.5555555555555556,\"#d8576b\"],[0.6666666666666666,\"#ed7953\"],[0.7777777777777778,\"#fb9f3a\"],[0.8888888888888888,\"#fdca26\"],[1.0,\"#f0f921\"]]}],\"heatmap\":[{\"type\":\"heatmap\",\"colorbar\":{\"outlinewidth\":0,\"ticks\":\"\"},\"colorscale\":[[0.0,\"#0d0887\"],[0.1111111111111111,\"#46039f\"],[0.2222222222222222,\"#7201a8\"],[0.3333333333333333,\"#9c179e\"],[0.4444444444444444,\"#bd3786\"],[0.5555555555555556,\"#d8576b\"],[0.6666666666666666,\"#ed7953\"],[0.7777777777777778,\"#fb9f3a\"],[0.8888888888888888,\"#fdca26\"],[1.0,\"#f0f921\"]]}],\"heatmapgl\":[{\"type\":\"heatmapgl\",\"colorbar\":{\"outlinewidth\":0,\"ticks\":\"\"},\"colorscale\":[[0.0,\"#0d0887\"],[0.1111111111111111,\"#46039f\"],[0.2222222222222222,\"#7201a8\"],[0.3333333333333333,\"#9c179e\"],[0.4444444444444444,\"#bd3786\"],[0.5555555555555556,\"#d8576b\"],[0.6666666666666666,\"#ed7953\"],[0.7777777777777778,\"#fb9f3a\"],[0.8888888888888888,\"#fdca26\"],[1.0,\"#f0f921\"]]}],\"contourcarpet\":[{\"type\":\"contourcarpet\",\"colorbar\":{\"outlinewidth\":0,\"ticks\":\"\"}}],\"contour\":[{\"type\":\"contour\",\"colorbar\":{\"outlinewidth\":0,\"ticks\":\"\"},\"colorscale\":[[0.0,\"#0d0887\"],[0.1111111111111111,\"#46039f\"],[0.2222222222222222,\"#7201a8\"],[0.3333333333333333,\"#9c179e\"],[0.4444444444444444,\"#bd3786\"],[0.5555555555555556,\"#d8576b\"],[0.6666666666666666,\"#ed7953\"],[0.7777777777777778,\"#fb9f3a\"],[0.8888888888888888,\"#fdca26\"],[1.0,\"#f0f921\"]]}],\"surface\":[{\"type\":\"surface\",\"colorbar\":{\"outlinewidth\":0,\"ticks\":\"\"},\"colorscale\":[[0.0,\"#0d0887\"],[0.1111111111111111,\"#46039f\"],[0.2222222222222222,\"#7201a8\"],[0.3333333333333333,\"#9c179e\"],[0.4444444444444444,\"#bd3786\"],[0.5555555555555556,\"#d8576b\"],[0.6666666666666666,\"#ed7953\"],[0.7777777777777778,\"#fb9f3a\"],[0.8888888888888888,\"#fdca26\"],[1.0,\"#f0f921\"]]}],\"mesh3d\":[{\"type\":\"mesh3d\",\"colorbar\":{\"outlinewidth\":0,\"ticks\":\"\"}}],\"scatter\":[{\"fillpattern\":{\"fillmode\":\"overlay\",\"size\":10,\"solidity\":0.2},\"type\":\"scatter\"}],\"parcoords\":[{\"type\":\"parcoords\",\"line\":{\"colorbar\":{\"outlinewidth\":0,\"ticks\":\"\"}}}],\"scatterpolargl\":[{\"type\":\"scatterpolargl\",\"marker\":{\"colorbar\":{\"outlinewidth\":0,\"ticks\":\"\"}}}],\"bar\":[{\"error_x\":{\"color\":\"#2a3f5f\"},\"error_y\":{\"color\":\"#2a3f5f\"},\"marker\":{\"line\":{\"color\":\"#E5ECF6\",\"width\":0.5},\"pattern\":{\"fillmode\":\"overlay\",\"size\":10,\"solidity\":0.2}},\"type\":\"bar\"}],\"scattergeo\":[{\"type\":\"scattergeo\",\"marker\":{\"colorbar\":{\"outlinewidth\":0,\"ticks\":\"\"}}}],\"scatterpolar\":[{\"type\":\"scatterpolar\",\"marker\":{\"colorbar\":{\"outlinewidth\":0,\"ticks\":\"\"}}}],\"histogram\":[{\"marker\":{\"pattern\":{\"fillmode\":\"overlay\",\"size\":10,\"solidity\":0.2}},\"type\":\"histogram\"}],\"scattergl\":[{\"type\":\"scattergl\",\"marker\":{\"colorbar\":{\"outlinewidth\":0,\"ticks\":\"\"}}}],\"scatter3d\":[{\"type\":\"scatter3d\",\"line\":{\"colorbar\":{\"outlinewidth\":0,\"ticks\":\"\"}},\"marker\":{\"colorbar\":{\"outlinewidth\":0,\"ticks\":\"\"}}}],\"scattermapbox\":[{\"type\":\"scattermapbox\",\"marker\":{\"colorbar\":{\"outlinewidth\":0,\"ticks\":\"\"}}}],\"scatterternary\":[{\"type\":\"scatterternary\",\"marker\":{\"colorbar\":{\"outlinewidth\":0,\"ticks\":\"\"}}}],\"scattercarpet\":[{\"type\":\"scattercarpet\",\"marker\":{\"colorbar\":{\"outlinewidth\":0,\"ticks\":\"\"}}}],\"carpet\":[{\"aaxis\":{\"endlinecolor\":\"#2a3f5f\",\"gridcolor\":\"white\",\"linecolor\":\"white\",\"minorgridcolor\":\"white\",\"startlinecolor\":\"#2a3f5f\"},\"baxis\":{\"endlinecolor\":\"#2a3f5f\",\"gridcolor\":\"white\",\"linecolor\":\"white\",\"minorgridcolor\":\"white\",\"startlinecolor\":\"#2a3f5f\"},\"type\":\"carpet\"}],\"table\":[{\"cells\":{\"fill\":{\"color\":\"#EBF0F8\"},\"line\":{\"color\":\"white\"}},\"header\":{\"fill\":{\"color\":\"#C8D4E3\"},\"line\":{\"color\":\"white\"}},\"type\":\"table\"}],\"barpolar\":[{\"marker\":{\"line\":{\"color\":\"#E5ECF6\",\"width\":0.5},\"pattern\":{\"fillmode\":\"overlay\",\"size\":10,\"solidity\":0.2}},\"type\":\"barpolar\"}],\"pie\":[{\"automargin\":true,\"type\":\"pie\"}]},\"layout\":{\"autotypenumbers\":\"strict\",\"colorway\":[\"#636efa\",\"#EF553B\",\"#00cc96\",\"#ab63fa\",\"#FFA15A\",\"#19d3f3\",\"#FF6692\",\"#B6E880\",\"#FF97FF\",\"#FECB52\"],\"font\":{\"color\":\"#2a3f5f\"},\"hovermode\":\"closest\",\"hoverlabel\":{\"align\":\"left\"},\"paper_bgcolor\":\"white\",\"plot_bgcolor\":\"#E5ECF6\",\"polar\":{\"bgcolor\":\"#E5ECF6\",\"angularaxis\":{\"gridcolor\":\"white\",\"linecolor\":\"white\",\"ticks\":\"\"},\"radialaxis\":{\"gridcolor\":\"white\",\"linecolor\":\"white\",\"ticks\":\"\"}},\"ternary\":{\"bgcolor\":\"#E5ECF6\",\"aaxis\":{\"gridcolor\":\"white\",\"linecolor\":\"white\",\"ticks\":\"\"},\"baxis\":{\"gridcolor\":\"white\",\"linecolor\":\"white\",\"ticks\":\"\"},\"caxis\":{\"gridcolor\":\"white\",\"linecolor\":\"white\",\"ticks\":\"\"}},\"coloraxis\":{\"colorbar\":{\"outlinewidth\":0,\"ticks\":\"\"}},\"colorscale\":{\"sequential\":[[0.0,\"#0d0887\"],[0.1111111111111111,\"#46039f\"],[0.2222222222222222,\"#7201a8\"],[0.3333333333333333,\"#9c179e\"],[0.4444444444444444,\"#bd3786\"],[0.5555555555555556,\"#d8576b\"],[0.6666666666666666,\"#ed7953\"],[0.7777777777777778,\"#fb9f3a\"],[0.8888888888888888,\"#fdca26\"],[1.0,\"#f0f921\"]],\"sequentialminus\":[[0.0,\"#0d0887\"],[0.1111111111111111,\"#46039f\"],[0.2222222222222222,\"#7201a8\"],[0.3333333333333333,\"#9c179e\"],[0.4444444444444444,\"#bd3786\"],[0.5555555555555556,\"#d8576b\"],[0.6666666666666666,\"#ed7953\"],[0.7777777777777778,\"#fb9f3a\"],[0.8888888888888888,\"#fdca26\"],[1.0,\"#f0f921\"]],\"diverging\":[[0,\"#8e0152\"],[0.1,\"#c51b7d\"],[0.2,\"#de77ae\"],[0.3,\"#f1b6da\"],[0.4,\"#fde0ef\"],[0.5,\"#f7f7f7\"],[0.6,\"#e6f5d0\"],[0.7,\"#b8e186\"],[0.8,\"#7fbc41\"],[0.9,\"#4d9221\"],[1,\"#276419\"]]},\"xaxis\":{\"gridcolor\":\"white\",\"linecolor\":\"white\",\"ticks\":\"\",\"title\":{\"standoff\":15},\"zerolinecolor\":\"white\",\"automargin\":true,\"zerolinewidth\":2},\"yaxis\":{\"gridcolor\":\"white\",\"linecolor\":\"white\",\"ticks\":\"\",\"title\":{\"standoff\":15},\"zerolinecolor\":\"white\",\"automargin\":true,\"zerolinewidth\":2},\"scene\":{\"xaxis\":{\"backgroundcolor\":\"#E5ECF6\",\"gridcolor\":\"white\",\"linecolor\":\"white\",\"showbackground\":true,\"ticks\":\"\",\"zerolinecolor\":\"white\",\"gridwidth\":2},\"yaxis\":{\"backgroundcolor\":\"#E5ECF6\",\"gridcolor\":\"white\",\"linecolor\":\"white\",\"showbackground\":true,\"ticks\":\"\",\"zerolinecolor\":\"white\",\"gridwidth\":2},\"zaxis\":{\"backgroundcolor\":\"#E5ECF6\",\"gridcolor\":\"white\",\"linecolor\":\"white\",\"showbackground\":true,\"ticks\":\"\",\"zerolinecolor\":\"white\",\"gridwidth\":2}},\"shapedefaults\":{\"line\":{\"color\":\"#2a3f5f\"}},\"annotationdefaults\":{\"arrowcolor\":\"#2a3f5f\",\"arrowhead\":0,\"arrowwidth\":1},\"geo\":{\"bgcolor\":\"white\",\"landcolor\":\"#E5ECF6\",\"subunitcolor\":\"white\",\"showland\":true,\"showlakes\":true,\"lakecolor\":\"white\"},\"title\":{\"x\":0.05},\"mapbox\":{\"style\":\"light\"}}},\"xaxis\":{\"anchor\":\"y\",\"domain\":[0.0,1.0],\"title\":{\"text\":\"gasPrices\"}},\"yaxis\":{\"anchor\":\"x\",\"domain\":[0.0,1.0],\"title\":{\"text\":\"Number of Costcos\"}},\"legend\":{\"title\":{\"text\":\"Parent ID\"},\"tracegroupgap\":0},\"title\":{\"text\":\"Costco Gas Price Brackets\"},\"barmode\":\"relative\"},                        {\"responsive\": true}                    ).then(function(){\n",
       "                            \n",
       "var gd = document.getElementById('f3d8a33c-314c-4302-a39d-bbfb308ac3db');\n",
       "var x = new MutationObserver(function (mutations, observer) {{\n",
       "        var display = window.getComputedStyle(gd).display;\n",
       "        if (!display || display === 'none') {{\n",
       "            console.log([gd, 'removed!']);\n",
       "            Plotly.purge(gd);\n",
       "            observer.disconnect();\n",
       "        }}\n",
       "}});\n",
       "\n",
       "// Listen for the removal of the full notebook cells\n",
       "var notebookContainer = gd.closest('#notebook-container');\n",
       "if (notebookContainer) {{\n",
       "    x.observe(notebookContainer, {childList: true});\n",
       "}}\n",
       "\n",
       "// Listen for the clearing of the current output cell\n",
       "var outputEl = gd.closest('.output');\n",
       "if (outputEl) {{\n",
       "    x.observe(outputEl, {childList: true});\n",
       "}}\n",
       "\n",
       "                        })                };                });            </script>        </div>"
      ]
     },
     "metadata": {},
     "output_type": "display_data"
    }
   ],
   "source": [
    "###Test Case###\n",
    "q3(costco)"
   ]
  },
  {
   "cell_type": "markdown",
   "id": "b4aead3d",
   "metadata": {},
   "source": [
    "# Q4\n",
    "\n",
    "You are curious about how the average gas prices compare between each U.S. state. Create a choropleth map that displays the U.S. with colors representing each state's average gas price on a scale from $1.50  to  $3.50. Exclude all U.S. states that do not have gas stations. Add in a title of the graph, calling it \"U.S. Average Gas Prices by State\" and ensure you have a legend entited \"Average Gas Price\"\n",
    "\n",
    "HINT: \n",
    "Review the 'Using Built-in Country and State Geometries' of this link: https://plotly.com/python/choropleth-maps/\n",
    "\n",
    "Here is another source: https://plotly.github.io/plotly.py-docs/generated/plotly.express.choropleth.html\n",
    "\n",
    "**Input:**\n",
    "\n",
    "    costco: pd DataFrame of costco data.\n",
    "\n",
    "**Returns:**\n",
    "\n",
    "    None: When function is run, choropleth of the United States is displayed.\n",
    "\n",
    "**Expected Output**:\n",
    "![q4.png](q4.png)"
   ]
  },
  {
   "cell_type": "code",
   "execution_count": 621,
   "id": "fb94e731",
   "metadata": {},
   "outputs": [],
   "source": [
    "def q4(costco):\n",
    "    costco1 = costco[costco[\"hasGasDepartment\"] == True]\n",
    "    avggas = costco1.groupby(\"state\")[\"gasPrices\"].mean()\n",
    "    fig3 = px.choropleth(costco1, color = \"gasPrices\",locations = \"state\",locationmode = \"USA-states\", range_color = [1.5,3.5], title = \"U.S. Average Gas Prices by State\",color_continuous_scale=px.colors.sequential.Plasma)\n",
    "    fig3.update_layout(coloraxis_colorbar=dict(title=\"Average Gas Price\"))\n",
    "    fig3.show()\n",
    "    "
   ]
  },
  {
   "cell_type": "code",
   "execution_count": 623,
   "id": "67df5bff",
   "metadata": {},
   "outputs": [
    {
     "data": {
      "application/vnd.plotly.v1+json": {
       "config": {
        "plotlyServerURL": "https://plot.ly"
       },
       "data": [
        {
         "coloraxis": "coloraxis",
         "geo": "geo",
         "hovertemplate": "state=%{location}<br>gasPrices=%{z}<extra></extra>",
         "locationmode": "USA-states",
         "locations": [
          "WA",
          "OR",
          "WA",
          "WA",
          "OR",
          "AK",
          "WA",
          "OR",
          "NV",
          "CA",
          "CA",
          "CA",
          "CA",
          "CA",
          "CA",
          "WA",
          "AK",
          "WA",
          "MT",
          "OR",
          "MT",
          "FL",
          "FL",
          "WA",
          "MT",
          "OR",
          "WA",
          "WA",
          "WA",
          "OR",
          "WA",
          "UT",
          "WA",
          "WA",
          "NM",
          "CA",
          "HI",
          "CA",
          "CA",
          "CA",
          "CA",
          "NV",
          "CA",
          "CA",
          "CA",
          "HI",
          "CA",
          "ID",
          "CA",
          "CA",
          "CA",
          "SK",
          "MB",
          "AB",
          "AB",
          "BC",
          "ON",
          "AB",
          "BC",
          "BC",
          "AB",
          "FL",
          "FL",
          "FL",
          "FL",
          "GA",
          "GA",
          "GA",
          "VA",
          "MD",
          "VA",
          "VA",
          "MD",
          "MD",
          "VA",
          "VA",
          "NY",
          "VA",
          "VA",
          "NY",
          "DE",
          "VA",
          "NC",
          "AB",
          "ON",
          "AB",
          "BC",
          "BC",
          "AB",
          "BC",
          "MA",
          "MA",
          "CT",
          "NY",
          "NJ",
          "CT",
          "CT",
          "NJ",
          "NY",
          "PA",
          "MA",
          "NJ",
          "NJ",
          "MD",
          "PA",
          "PA",
          "NJ",
          "MD",
          "PA",
          "VA",
          "FL",
          "VA",
          "SC",
          "NC",
          "VA",
          "MI",
          "IL",
          "OH",
          "OH",
          "FL",
          "IN",
          "IN",
          "IL",
          "KS",
          "FL",
          "TN",
          "TN",
          "FL",
          "AL",
          "FL",
          "NC",
          "SC",
          "NC",
          "AL",
          "GA",
          "NC",
          "MO",
          "KS",
          "IN",
          "IL",
          "MN",
          "MO",
          "MI",
          "MO",
          "MI",
          "MN",
          "IL",
          "OH",
          "IL",
          "MO",
          "IL",
          "OH",
          "TN",
          "IL",
          "IL",
          "MI",
          "MI",
          "MI",
          "MI",
          "CA",
          "CA",
          "AZ",
          "CA",
          "CA",
          "CA",
          "CA",
          "CA",
          "CA",
          "CA",
          "CA",
          "AZ",
          "CA",
          "CA",
          "AZ",
          "CA",
          "AZ",
          "CA",
          "CA",
          "CO",
          "CO",
          "CA",
          "CO",
          "CA",
          "CA",
          "CA",
          "CA",
          "CA",
          "CA",
          "CA",
          "CA",
          "CA",
          "AZ",
          "AZ",
          "CO",
          "CA",
          "CA",
          "CA",
          "CA",
          "CA",
          "CO",
          "AZ",
          "CA",
          "CA",
          "UT",
          "HI",
          "WA",
          "UT",
          "CA",
          "TX",
          "AZ",
          "CA",
          "QC",
          "QC",
          "QC",
          "ON",
          "QC",
          "QC",
          "QC",
          "QC",
          "ON",
          "QC",
          "ON",
          "QC",
          "ON",
          "QC",
          "ON",
          "ON",
          "ON",
          "AB",
          "AB",
          "ON",
          "MB",
          "QC",
          "NV",
          "CA",
          "CA",
          "GA",
          "IL",
          "ON",
          "AB",
          "England",
          "Scotland",
          "England",
          "England",
          "Scotland",
          "England",
          "England",
          "England",
          "England",
          "England",
          "England",
          "England",
          "England",
          "FL",
          "UT",
          "FL",
          "WA",
          "OH",
          "VA",
          "CA",
          "WI",
          "CO",
          "TN",
          "GA",
          "OH",
          "MT",
          "KY",
          "NC",
          "TX",
          "CO",
          "CA",
          "WA",
          "HI",
          "WA",
          "CA",
          "AZ",
          "NC",
          "NV",
          "IL",
          "MN",
          "PA",
          "FL",
          "CA",
          "CA",
          "CA",
          "WA",
          "CA",
          "WA",
          "CA",
          "TX",
          "AZ",
          "NM",
          "TX",
          "TX",
          "WA",
          "CA",
          "UT",
          "NV",
          "AZ",
          "TX",
          "CO",
          "CA",
          "CA",
          "CA",
          "TX",
          "TX",
          "OR",
          "TX",
          "TX",
          "NV",
          "CA",
          "HI",
          "CA",
          "TX",
          "CA",
          "AZ",
          "OR",
          "CA",
          "Mexico",
          "San Luis Potosi",
          "Guanajuato",
          "UT",
          "ID",
          "UT",
          "AZ",
          "NV",
          "AZ",
          "NJ",
          "WA",
          "CA",
          "FL",
          "GA",
          "MI",
          "MT",
          "CA",
          "WA",
          "CA",
          "NJ",
          "Baja California Norte",
          "CA",
          "ID",
          "CA",
          "UT",
          "CA",
          "OR",
          "TX",
          "CA",
          "UT",
          "CA",
          "WA",
          "ID",
          "IL",
          "CA",
          "CA",
          "CA",
          "IL",
          "CT",
          "CA",
          "CA",
          "MN",
          "MI",
          "NY",
          "MI",
          "IA",
          "AZ",
          "Hyogo",
          "MD",
          "CA",
          "CA",
          "CA",
          "CA",
          "SC",
          "TX",
          "OH",
          "SC",
          "AL",
          "CA",
          "CA",
          "NE",
          "WA",
          "CO",
          "CA",
          "NM",
          "CA",
          "TX",
          "UT",
          "WI",
          "MN",
          "CO",
          "FL",
          "NJ",
          "FL",
          "CO",
          "AZ",
          "WA",
          "CO",
          "CA",
          "ID",
          "MI",
          "HI",
          "MD",
          "IL",
          "CA",
          "TX",
          "CA",
          "AZ",
          "OR",
          "MO",
          "CA",
          "AB",
          "CA",
          "OR",
          "IL",
          "AB",
          "MD",
          "AZ",
          "CA",
          "PA",
          "GA",
          "GA",
          "IL",
          "WA",
          "MN",
          "IL",
          "VA",
          "NB",
          "CA",
          "BC",
          "NJ",
          "TX",
          "WI",
          "GA",
          "PA",
          "MI",
          "IL",
          "TX",
          "CA",
          "IA",
          "AB",
          "PA",
          "TN",
          "UT",
          "ND",
          "WI",
          "MN",
          "FL",
          "MN",
          "IL",
          "QC",
          "ON",
          "TX",
          "LA",
          "TX",
          "IL",
          "KY",
          "AB",
          "SD",
          "OH",
          "IN",
          "WI",
          "TX",
          "NJ",
          "TX",
          "ON",
          "ON",
          "LA",
          "TX",
          "NJ",
          "GA",
          "NY",
          "NJ",
          "CO",
          "IN",
          "VA",
          "OH",
          "QC",
          "TX",
          "WA",
          "MI",
          "AL",
          "OH",
          "NY",
          "CT",
          "KY",
          "WI",
          "NJ",
          "KS",
          "LA",
          "CA",
          "CA",
          "NC",
          "OK",
          "TX",
          "WI",
          "PA",
          "WI",
          "QC",
          "NJ",
          "NY",
          "WA",
          "AB",
          "TX",
          "WI",
          "WA",
          "OH",
          "IN",
          "TX",
          "FL",
          "SC",
          "SK",
          "FL",
          "NJ",
          "NE",
          "KY",
          "OH",
          "CA",
          "ON",
          "FL",
          "ON",
          "FL",
          "ON",
          "ON",
          "TX",
          "CA",
          "MO",
          "AB",
          "MN",
          "ON",
          "CA",
          "CA",
          "MI",
          "WA",
          "MI",
          "TX",
          "NE",
          "OR",
          "FL",
          "GA",
          "SK",
          "CA",
          "WA",
          "CA",
          "CA",
          "SC",
          "NV",
          "TX",
          "FL",
          "NL",
          "IA",
          "MD",
          "TX",
          "IN",
          "FL",
          "NC",
          "NJ",
          "AK",
          "MN",
          "NB",
          "OK",
          "IL",
          "QC",
          "CA",
          "GA",
          "MN",
          "FL",
          "MS",
          "CT",
          "New South Wales",
          null,
          null,
          "Fukuoka",
          "Chiba",
          "Osaka",
          null,
          "Kauptun",
          null,
          null,
          null,
          "Sevilla"
         ],
         "name": "",
         "type": "choropleth",
         "z": [
          2.799,
          2.699,
          2.769,
          2.739,
          2.759,
          2.699,
          2.659,
          2.599,
          2.829,
          3.399,
          3.079,
          2.979,
          2.969,
          3.339,
          3.279,
          2.759,
          2.699,
          2.839,
          2.329,
          2.549,
          2.319,
          2.239,
          2.319,
          2.739,
          2.439,
          2.679,
          2.509,
          2.759,
          2.759,
          2.699,
          2.859,
          2.269,
          2.779,
          2.759,
          2.039,
          3.059,
          3.019,
          3.179,
          3.259,
          3.499,
          3.099,
          2.859,
          3.299,
          3.059,
          2.979,
          3.199,
          2.919,
          2.459,
          3.159,
          3.029,
          3.139,
          0.909,
          0.909,
          0.909,
          0.909,
          0.959,
          0.869,
          0.869,
          0.909,
          0.909,
          1.009,
          2.279,
          2.169,
          2.229,
          2.149,
          2.129,
          2.239,
          2.149,
          2.169,
          2.159,
          2.259,
          2.079,
          2.219,
          2.179,
          2.299,
          2.299,
          2.289,
          2.119,
          2.259,
          2.559,
          2.129,
          2.099,
          2.259,
          0.869,
          0.869,
          0.909,
          0.949,
          0.909,
          0.909,
          0.909,
          2.199,
          2.259,
          2.379,
          2.379,
          2.399,
          2.439,
          2.399,
          2.359,
          2.479,
          2.459,
          2.299,
          2.309,
          2.219,
          2.199,
          2.559,
          2.679,
          2.299,
          2.229,
          2.649,
          2.259,
          2.249,
          2.299,
          2.079,
          2.189,
          1.989,
          2.239,
          2.329,
          2.219,
          2.059,
          2.239,
          2.239,
          2.239,
          2.599,
          2.109,
          2.289,
          2.129,
          2.059,
          2.259,
          2.179,
          2.159,
          2.159,
          2.099,
          2.149,
          2.099,
          2.059,
          2.069,
          1.929,
          2.119,
          2.149,
          2.399,
          2.139,
          2.049,
          2.139,
          1.999,
          2.169,
          2.249,
          2.449,
          2.269,
          2.649,
          2.029,
          2.599,
          2.339,
          2.199,
          2.589,
          2.449,
          2.199,
          2.279,
          2.129,
          2.119,
          3.239,
          3.219,
          2.339,
          3.039,
          3.099,
          3.159,
          3.069,
          3.259,
          3.179,
          3.029,
          3.039,
          2.799,
          3.199,
          3.399,
          2.339,
          3.159,
          2.739,
          3.199,
          2.979,
          2.159,
          2.179,
          3.089,
          2.199,
          3.199,
          3.299,
          3.199,
          2.999,
          3.199,
          3.139,
          3.259,
          3.299,
          3.069,
          2.779,
          2.699,
          2.119,
          2.969,
          3.159,
          3.179,
          3.079,
          3.199,
          2.199,
          2.759,
          3.199,
          3.199,
          2.399,
          3.059,
          2.579,
          2.259,
          3.299,
          1.969,
          2.799,
          3.199,
          0.869,
          0.909,
          0.869,
          0.869,
          0.869,
          0.909,
          0.909,
          0.869,
          7.779,
          0.869,
          0.909,
          0.869,
          0.909,
          0.909,
          0.869,
          7.779,
          0.869,
          0.909,
          0.869,
          0.869,
          0.909,
          0.869,
          2.659,
          3.079,
          3.099,
          2.119,
          2.469,
          0.869,
          1.009,
          null,
          null,
          null,
          null,
          null,
          null,
          null,
          null,
          null,
          null,
          null,
          null,
          null,
          2.289,
          2.269,
          2.279,
          2.659,
          2.159,
          2.199,
          3.099,
          2.299,
          2.179,
          2.129,
          2.199,
          2.299,
          2.469,
          2.189,
          2.229,
          1.929,
          2.559,
          3.099,
          2.569,
          3.199,
          2.699,
          3.199,
          2.759,
          2.059,
          2.829,
          2.409,
          2.139,
          2.459,
          2.249,
          2.979,
          2.999,
          3.379,
          2.699,
          2.899,
          2.499,
          3.099,
          1.939,
          2.779,
          2.039,
          1.919,
          1.939,
          2.529,
          3.079,
          2.559,
          2.689,
          2.799,
          1.949,
          2.199,
          3.299,
          3.159,
          3.179,
          1.939,
          1.949,
          2.649,
          1.949,
          1.939,
          2.699,
          3.119,
          3.059,
          3.199,
          1.959,
          3.399,
          2.759,
          2.759,
          2.999,
          null,
          null,
          null,
          2.319,
          2.379,
          2.349,
          2.789,
          2.669,
          2.839,
          2.419,
          2.839,
          3.139,
          2.339,
          2.109,
          2.179,
          2.429,
          3.259,
          2.799,
          3.039,
          2.319,
          null,
          3.199,
          2.379,
          3.349,
          2.269,
          2.999,
          2.699,
          1.989,
          3.099,
          2.369,
          2.919,
          2.579,
          2.289,
          2.379,
          3.199,
          3.079,
          3.099,
          2.479,
          2.459,
          3.199,
          2.899,
          2.299,
          2.119,
          2.399,
          2.259,
          2.199,
          2.759,
          null,
          2.229,
          3.159,
          3.149,
          3.079,
          3.039,
          1.999,
          1.939,
          2.039,
          1.989,
          2.129,
          3.179,
          3.049,
          2.149,
          2.759,
          2.319,
          3.099,
          2.039,
          2.999,
          1.999,
          2.249,
          2.199,
          2.239,
          2.119,
          2.349,
          2.399,
          2.239,
          2.199,
          2.759,
          2.769,
          2.319,
          2.919,
          2.459,
          2.199,
          3.059,
          2.249,
          2.399,
          3.159,
          1.919,
          3.039,
          2.839,
          2.799,
          1.979,
          3.099,
          0.909,
          3.279,
          2.659,
          2.299,
          0.909,
          2.209,
          2.339,
          3.159,
          2.559,
          2.029,
          2.239,
          2.469,
          2.579,
          2.299,
          2.499,
          1.969,
          0.019,
          2.999,
          0.909,
          2.399,
          1.969,
          2.179,
          2.009,
          2.489,
          2.159,
          2.649,
          1.939,
          3.099,
          2.109,
          0.909,
          2.499,
          2.159,
          2.349,
          2.189,
          2.199,
          2.259,
          2.199,
          2.319,
          2.319,
          0.869,
          0.869,
          1.999,
          1.909,
          1.949,
          2.449,
          2.229,
          0.909,
          2.159,
          2.349,
          2.129,
          2.189,
          2.059,
          2.259,
          1.959,
          0.869,
          7.779,
          1.879,
          1.919,
          2.229,
          2.189,
          2.309,
          2.339,
          2.279,
          2.159,
          2.099,
          2.189,
          0.869,
          1.979,
          2.759,
          2.099,
          2.079,
          2.069,
          2.399,
          2.359,
          2.309,
          2.169,
          2.399,
          2.049,
          1.959,
          3.079,
          3.199,
          2.059,
          1.979,
          1.949,
          2.199,
          2.499,
          2.179,
          0.909,
          2.399,
          2.399,
          2.539,
          0.909,
          1.969,
          2.259,
          2.739,
          2.069,
          2.249,
          1.969,
          2.319,
          1.969,
          0.909,
          2.249,
          2.459,
          2.149,
          2.089,
          2.389,
          2.999,
          0.869,
          2.229,
          0.869,
          2.199,
          0.869,
          0.869,
          1.999,
          3.099,
          1.999,
          0.909,
          2.239,
          0.869,
          3.069,
          3.239,
          2.089,
          2.699,
          2.239,
          1.949,
          2.269,
          2.699,
          2.129,
          2.169,
          0.909,
          2.819,
          2.529,
          3.099,
          3.159,
          2.179,
          2.689,
          1.999,
          2.259,
          0.019,
          2.139,
          2.179,
          1.999,
          2.139,
          2.239,
          2.259,
          2.399,
          2.699,
          2.209,
          0.909,
          1.899,
          2.179,
          0.909,
          2.979,
          2.199,
          2.239,
          2.169,
          1.999,
          2.369,
          2.559,
          null,
          null,
          null,
          null,
          null,
          null,
          null,
          null,
          null,
          null,
          2.559
         ]
        }
       ],
       "layout": {
        "autosize": true,
        "coloraxis": {
         "cmax": 3.5,
         "cmin": 1.5,
         "colorbar": {
          "title": {
           "text": "Average Gas Price"
          }
         },
         "colorscale": [
          [
           0,
           "#0d0887"
          ],
          [
           0.1111111111111111,
           "#46039f"
          ],
          [
           0.2222222222222222,
           "#7201a8"
          ],
          [
           0.3333333333333333,
           "#9c179e"
          ],
          [
           0.4444444444444444,
           "#bd3786"
          ],
          [
           0.5555555555555556,
           "#d8576b"
          ],
          [
           0.6666666666666666,
           "#ed7953"
          ],
          [
           0.7777777777777778,
           "#fb9f3a"
          ],
          [
           0.8888888888888888,
           "#fdca26"
          ],
          [
           1,
           "#f0f921"
          ]
         ]
        },
        "geo": {
         "center": {},
         "domain": {
          "x": [
           0,
           1
          ],
          "y": [
           0,
           1
          ]
         }
        },
        "legend": {
         "tracegroupgap": 0
        },
        "template": {
         "data": {
          "bar": [
           {
            "error_x": {
             "color": "#2a3f5f"
            },
            "error_y": {
             "color": "#2a3f5f"
            },
            "marker": {
             "line": {
              "color": "#E5ECF6",
              "width": 0.5
             },
             "pattern": {
              "fillmode": "overlay",
              "size": 10,
              "solidity": 0.2
             }
            },
            "type": "bar"
           }
          ],
          "barpolar": [
           {
            "marker": {
             "line": {
              "color": "#E5ECF6",
              "width": 0.5
             },
             "pattern": {
              "fillmode": "overlay",
              "size": 10,
              "solidity": 0.2
             }
            },
            "type": "barpolar"
           }
          ],
          "carpet": [
           {
            "aaxis": {
             "endlinecolor": "#2a3f5f",
             "gridcolor": "white",
             "linecolor": "white",
             "minorgridcolor": "white",
             "startlinecolor": "#2a3f5f"
            },
            "baxis": {
             "endlinecolor": "#2a3f5f",
             "gridcolor": "white",
             "linecolor": "white",
             "minorgridcolor": "white",
             "startlinecolor": "#2a3f5f"
            },
            "type": "carpet"
           }
          ],
          "choropleth": [
           {
            "colorbar": {
             "outlinewidth": 0,
             "ticks": ""
            },
            "type": "choropleth"
           }
          ],
          "contour": [
           {
            "colorbar": {
             "outlinewidth": 0,
             "ticks": ""
            },
            "colorscale": [
             [
              0,
              "#0d0887"
             ],
             [
              0.1111111111111111,
              "#46039f"
             ],
             [
              0.2222222222222222,
              "#7201a8"
             ],
             [
              0.3333333333333333,
              "#9c179e"
             ],
             [
              0.4444444444444444,
              "#bd3786"
             ],
             [
              0.5555555555555556,
              "#d8576b"
             ],
             [
              0.6666666666666666,
              "#ed7953"
             ],
             [
              0.7777777777777778,
              "#fb9f3a"
             ],
             [
              0.8888888888888888,
              "#fdca26"
             ],
             [
              1,
              "#f0f921"
             ]
            ],
            "type": "contour"
           }
          ],
          "contourcarpet": [
           {
            "colorbar": {
             "outlinewidth": 0,
             "ticks": ""
            },
            "type": "contourcarpet"
           }
          ],
          "heatmap": [
           {
            "colorbar": {
             "outlinewidth": 0,
             "ticks": ""
            },
            "colorscale": [
             [
              0,
              "#0d0887"
             ],
             [
              0.1111111111111111,
              "#46039f"
             ],
             [
              0.2222222222222222,
              "#7201a8"
             ],
             [
              0.3333333333333333,
              "#9c179e"
             ],
             [
              0.4444444444444444,
              "#bd3786"
             ],
             [
              0.5555555555555556,
              "#d8576b"
             ],
             [
              0.6666666666666666,
              "#ed7953"
             ],
             [
              0.7777777777777778,
              "#fb9f3a"
             ],
             [
              0.8888888888888888,
              "#fdca26"
             ],
             [
              1,
              "#f0f921"
             ]
            ],
            "type": "heatmap"
           }
          ],
          "heatmapgl": [
           {
            "colorbar": {
             "outlinewidth": 0,
             "ticks": ""
            },
            "colorscale": [
             [
              0,
              "#0d0887"
             ],
             [
              0.1111111111111111,
              "#46039f"
             ],
             [
              0.2222222222222222,
              "#7201a8"
             ],
             [
              0.3333333333333333,
              "#9c179e"
             ],
             [
              0.4444444444444444,
              "#bd3786"
             ],
             [
              0.5555555555555556,
              "#d8576b"
             ],
             [
              0.6666666666666666,
              "#ed7953"
             ],
             [
              0.7777777777777778,
              "#fb9f3a"
             ],
             [
              0.8888888888888888,
              "#fdca26"
             ],
             [
              1,
              "#f0f921"
             ]
            ],
            "type": "heatmapgl"
           }
          ],
          "histogram": [
           {
            "marker": {
             "pattern": {
              "fillmode": "overlay",
              "size": 10,
              "solidity": 0.2
             }
            },
            "type": "histogram"
           }
          ],
          "histogram2d": [
           {
            "colorbar": {
             "outlinewidth": 0,
             "ticks": ""
            },
            "colorscale": [
             [
              0,
              "#0d0887"
             ],
             [
              0.1111111111111111,
              "#46039f"
             ],
             [
              0.2222222222222222,
              "#7201a8"
             ],
             [
              0.3333333333333333,
              "#9c179e"
             ],
             [
              0.4444444444444444,
              "#bd3786"
             ],
             [
              0.5555555555555556,
              "#d8576b"
             ],
             [
              0.6666666666666666,
              "#ed7953"
             ],
             [
              0.7777777777777778,
              "#fb9f3a"
             ],
             [
              0.8888888888888888,
              "#fdca26"
             ],
             [
              1,
              "#f0f921"
             ]
            ],
            "type": "histogram2d"
           }
          ],
          "histogram2dcontour": [
           {
            "colorbar": {
             "outlinewidth": 0,
             "ticks": ""
            },
            "colorscale": [
             [
              0,
              "#0d0887"
             ],
             [
              0.1111111111111111,
              "#46039f"
             ],
             [
              0.2222222222222222,
              "#7201a8"
             ],
             [
              0.3333333333333333,
              "#9c179e"
             ],
             [
              0.4444444444444444,
              "#bd3786"
             ],
             [
              0.5555555555555556,
              "#d8576b"
             ],
             [
              0.6666666666666666,
              "#ed7953"
             ],
             [
              0.7777777777777778,
              "#fb9f3a"
             ],
             [
              0.8888888888888888,
              "#fdca26"
             ],
             [
              1,
              "#f0f921"
             ]
            ],
            "type": "histogram2dcontour"
           }
          ],
          "mesh3d": [
           {
            "colorbar": {
             "outlinewidth": 0,
             "ticks": ""
            },
            "type": "mesh3d"
           }
          ],
          "parcoords": [
           {
            "line": {
             "colorbar": {
              "outlinewidth": 0,
              "ticks": ""
             }
            },
            "type": "parcoords"
           }
          ],
          "pie": [
           {
            "automargin": true,
            "type": "pie"
           }
          ],
          "scatter": [
           {
            "fillpattern": {
             "fillmode": "overlay",
             "size": 10,
             "solidity": 0.2
            },
            "type": "scatter"
           }
          ],
          "scatter3d": [
           {
            "line": {
             "colorbar": {
              "outlinewidth": 0,
              "ticks": ""
             }
            },
            "marker": {
             "colorbar": {
              "outlinewidth": 0,
              "ticks": ""
             }
            },
            "type": "scatter3d"
           }
          ],
          "scattercarpet": [
           {
            "marker": {
             "colorbar": {
              "outlinewidth": 0,
              "ticks": ""
             }
            },
            "type": "scattercarpet"
           }
          ],
          "scattergeo": [
           {
            "marker": {
             "colorbar": {
              "outlinewidth": 0,
              "ticks": ""
             }
            },
            "type": "scattergeo"
           }
          ],
          "scattergl": [
           {
            "marker": {
             "colorbar": {
              "outlinewidth": 0,
              "ticks": ""
             }
            },
            "type": "scattergl"
           }
          ],
          "scattermapbox": [
           {
            "marker": {
             "colorbar": {
              "outlinewidth": 0,
              "ticks": ""
             }
            },
            "type": "scattermapbox"
           }
          ],
          "scatterpolar": [
           {
            "marker": {
             "colorbar": {
              "outlinewidth": 0,
              "ticks": ""
             }
            },
            "type": "scatterpolar"
           }
          ],
          "scatterpolargl": [
           {
            "marker": {
             "colorbar": {
              "outlinewidth": 0,
              "ticks": ""
             }
            },
            "type": "scatterpolargl"
           }
          ],
          "scatterternary": [
           {
            "marker": {
             "colorbar": {
              "outlinewidth": 0,
              "ticks": ""
             }
            },
            "type": "scatterternary"
           }
          ],
          "surface": [
           {
            "colorbar": {
             "outlinewidth": 0,
             "ticks": ""
            },
            "colorscale": [
             [
              0,
              "#0d0887"
             ],
             [
              0.1111111111111111,
              "#46039f"
             ],
             [
              0.2222222222222222,
              "#7201a8"
             ],
             [
              0.3333333333333333,
              "#9c179e"
             ],
             [
              0.4444444444444444,
              "#bd3786"
             ],
             [
              0.5555555555555556,
              "#d8576b"
             ],
             [
              0.6666666666666666,
              "#ed7953"
             ],
             [
              0.7777777777777778,
              "#fb9f3a"
             ],
             [
              0.8888888888888888,
              "#fdca26"
             ],
             [
              1,
              "#f0f921"
             ]
            ],
            "type": "surface"
           }
          ],
          "table": [
           {
            "cells": {
             "fill": {
              "color": "#EBF0F8"
             },
             "line": {
              "color": "white"
             }
            },
            "header": {
             "fill": {
              "color": "#C8D4E3"
             },
             "line": {
              "color": "white"
             }
            },
            "type": "table"
           }
          ]
         },
         "layout": {
          "annotationdefaults": {
           "arrowcolor": "#2a3f5f",
           "arrowhead": 0,
           "arrowwidth": 1
          },
          "autotypenumbers": "strict",
          "coloraxis": {
           "colorbar": {
            "outlinewidth": 0,
            "ticks": ""
           }
          },
          "colorscale": {
           "diverging": [
            [
             0,
             "#8e0152"
            ],
            [
             0.1,
             "#c51b7d"
            ],
            [
             0.2,
             "#de77ae"
            ],
            [
             0.3,
             "#f1b6da"
            ],
            [
             0.4,
             "#fde0ef"
            ],
            [
             0.5,
             "#f7f7f7"
            ],
            [
             0.6,
             "#e6f5d0"
            ],
            [
             0.7,
             "#b8e186"
            ],
            [
             0.8,
             "#7fbc41"
            ],
            [
             0.9,
             "#4d9221"
            ],
            [
             1,
             "#276419"
            ]
           ],
           "sequential": [
            [
             0,
             "#0d0887"
            ],
            [
             0.1111111111111111,
             "#46039f"
            ],
            [
             0.2222222222222222,
             "#7201a8"
            ],
            [
             0.3333333333333333,
             "#9c179e"
            ],
            [
             0.4444444444444444,
             "#bd3786"
            ],
            [
             0.5555555555555556,
             "#d8576b"
            ],
            [
             0.6666666666666666,
             "#ed7953"
            ],
            [
             0.7777777777777778,
             "#fb9f3a"
            ],
            [
             0.8888888888888888,
             "#fdca26"
            ],
            [
             1,
             "#f0f921"
            ]
           ],
           "sequentialminus": [
            [
             0,
             "#0d0887"
            ],
            [
             0.1111111111111111,
             "#46039f"
            ],
            [
             0.2222222222222222,
             "#7201a8"
            ],
            [
             0.3333333333333333,
             "#9c179e"
            ],
            [
             0.4444444444444444,
             "#bd3786"
            ],
            [
             0.5555555555555556,
             "#d8576b"
            ],
            [
             0.6666666666666666,
             "#ed7953"
            ],
            [
             0.7777777777777778,
             "#fb9f3a"
            ],
            [
             0.8888888888888888,
             "#fdca26"
            ],
            [
             1,
             "#f0f921"
            ]
           ]
          },
          "colorway": [
           "#636efa",
           "#EF553B",
           "#00cc96",
           "#ab63fa",
           "#FFA15A",
           "#19d3f3",
           "#FF6692",
           "#B6E880",
           "#FF97FF",
           "#FECB52"
          ],
          "font": {
           "color": "#2a3f5f"
          },
          "geo": {
           "bgcolor": "white",
           "lakecolor": "white",
           "landcolor": "#E5ECF6",
           "showlakes": true,
           "showland": true,
           "subunitcolor": "white"
          },
          "hoverlabel": {
           "align": "left"
          },
          "hovermode": "closest",
          "mapbox": {
           "style": "light"
          },
          "paper_bgcolor": "white",
          "plot_bgcolor": "#E5ECF6",
          "polar": {
           "angularaxis": {
            "gridcolor": "white",
            "linecolor": "white",
            "ticks": ""
           },
           "bgcolor": "#E5ECF6",
           "radialaxis": {
            "gridcolor": "white",
            "linecolor": "white",
            "ticks": ""
           }
          },
          "scene": {
           "xaxis": {
            "backgroundcolor": "#E5ECF6",
            "gridcolor": "white",
            "gridwidth": 2,
            "linecolor": "white",
            "showbackground": true,
            "ticks": "",
            "zerolinecolor": "white"
           },
           "yaxis": {
            "backgroundcolor": "#E5ECF6",
            "gridcolor": "white",
            "gridwidth": 2,
            "linecolor": "white",
            "showbackground": true,
            "ticks": "",
            "zerolinecolor": "white"
           },
           "zaxis": {
            "backgroundcolor": "#E5ECF6",
            "gridcolor": "white",
            "gridwidth": 2,
            "linecolor": "white",
            "showbackground": true,
            "ticks": "",
            "zerolinecolor": "white"
           }
          },
          "shapedefaults": {
           "line": {
            "color": "#2a3f5f"
           }
          },
          "ternary": {
           "aaxis": {
            "gridcolor": "white",
            "linecolor": "white",
            "ticks": ""
           },
           "baxis": {
            "gridcolor": "white",
            "linecolor": "white",
            "ticks": ""
           },
           "bgcolor": "#E5ECF6",
           "caxis": {
            "gridcolor": "white",
            "linecolor": "white",
            "ticks": ""
           }
          },
          "title": {
           "x": 0.05
          },
          "xaxis": {
           "automargin": true,
           "gridcolor": "white",
           "linecolor": "white",
           "ticks": "",
           "title": {
            "standoff": 15
           },
           "zerolinecolor": "white",
           "zerolinewidth": 2
          },
          "yaxis": {
           "automargin": true,
           "gridcolor": "white",
           "linecolor": "white",
           "ticks": "",
           "title": {
            "standoff": 15
           },
           "zerolinecolor": "white",
           "zerolinewidth": 2
          }
         }
        },
        "title": {
         "text": "U.S. Average Gas Prices by State"
        }
       }
      },
      "image/png": "[encoded data removed]",
      "text/html": [
       "<div>                            <div id=\"0b225844-ff27-45b6-abd0-a225b50c1022\" class=\"plotly-graph-div\" style=\"height:525px; width:100%;\"></div>            <script type=\"text/javascript\">                require([\"plotly\"], function(Plotly) {                    window.PLOTLYENV=window.PLOTLYENV || {};                                    if (document.getElementById(\"0b225844-ff27-45b6-abd0-a225b50c1022\")) {                    Plotly.newPlot(                        \"0b225844-ff27-45b6-abd0-a225b50c1022\",                        [{\"coloraxis\":\"coloraxis\",\"geo\":\"geo\",\"hovertemplate\":\"state=%{location}\\u003cbr\\u003egasPrices=%{z}\\u003cextra\\u003e\\u003c\\u002fextra\\u003e\",\"locationmode\":\"USA-states\",\"locations\":[\"WA\",\"OR\",\"WA\",\"WA\",\"OR\",\"AK\",\"WA\",\"OR\",\"NV\",\"CA\",\"CA\",\"CA\",\"CA\",\"CA\",\"CA\",\"WA\",\"AK\",\"WA\",\"MT\",\"OR\",\"MT\",\"FL\",\"FL\",\"WA\",\"MT\",\"OR\",\"WA\",\"WA\",\"WA\",\"OR\",\"WA\",\"UT\",\"WA\",\"WA\",\"NM\",\"CA\",\"HI\",\"CA\",\"CA\",\"CA\",\"CA\",\"NV\",\"CA\",\"CA\",\"CA\",\"HI\",\"CA\",\"ID\",\"CA\",\"CA\",\"CA\",\"SK\",\"MB\",\"AB\",\"AB\",\"BC\",\"ON\",\"AB\",\"BC\",\"BC\",\"AB\",\"FL\",\"FL\",\"FL\",\"FL\",\"GA\",\"GA\",\"GA\",\"VA\",\"MD\",\"VA\",\"VA\",\"MD\",\"MD\",\"VA\",\"VA\",\"NY\",\"VA\",\"VA\",\"NY\",\"DE\",\"VA\",\"NC\",\"AB\",\"ON\",\"AB\",\"BC\",\"BC\",\"AB\",\"BC\",\"MA\",\"MA\",\"CT\",\"NY\",\"NJ\",\"CT\",\"CT\",\"NJ\",\"NY\",\"PA\",\"MA\",\"NJ\",\"NJ\",\"MD\",\"PA\",\"PA\",\"NJ\",\"MD\",\"PA\",\"VA\",\"FL\",\"VA\",\"SC\",\"NC\",\"VA\",\"MI\",\"IL\",\"OH\",\"OH\",\"FL\",\"IN\",\"IN\",\"IL\",\"KS\",\"FL\",\"TN\",\"TN\",\"FL\",\"AL\",\"FL\",\"NC\",\"SC\",\"NC\",\"AL\",\"GA\",\"NC\",\"MO\",\"KS\",\"IN\",\"IL\",\"MN\",\"MO\",\"MI\",\"MO\",\"MI\",\"MN\",\"IL\",\"OH\",\"IL\",\"MO\",\"IL\",\"OH\",\"TN\",\"IL\",\"IL\",\"MI\",\"MI\",\"MI\",\"MI\",\"CA\",\"CA\",\"AZ\",\"CA\",\"CA\",\"CA\",\"CA\",\"CA\",\"CA\",\"CA\",\"CA\",\"AZ\",\"CA\",\"CA\",\"AZ\",\"CA\",\"AZ\",\"CA\",\"CA\",\"CO\",\"CO\",\"CA\",\"CO\",\"CA\",\"CA\",\"CA\",\"CA\",\"CA\",\"CA\",\"CA\",\"CA\",\"CA\",\"AZ\",\"AZ\",\"CO\",\"CA\",\"CA\",\"CA\",\"CA\",\"CA\",\"CO\",\"AZ\",\"CA\",\"CA\",\"UT\",\"HI\",\"WA\",\"UT\",\"CA\",\"TX\",\"AZ\",\"CA\",\"QC\",\"QC\",\"QC\",\"ON\",\"QC\",\"QC\",\"QC\",\"QC\",\"ON\",\"QC\",\"ON\",\"QC\",\"ON\",\"QC\",\"ON\",\"ON\",\"ON\",\"AB\",\"AB\",\"ON\",\"MB\",\"QC\",\"NV\",\"CA\",\"CA\",\"GA\",\"IL\",\"ON\",\"AB\",\"England\",\"Scotland\",\"England\",\"England\",\"Scotland\",\"England\",\"England\",\"England\",\"England\",\"England\",\"England\",\"England\",\"England\",\"FL\",\"UT\",\"FL\",\"WA\",\"OH\",\"VA\",\"CA\",\"WI\",\"CO\",\"TN\",\"GA\",\"OH\",\"MT\",\"KY\",\"NC\",\"TX\",\"CO\",\"CA\",\"WA\",\"HI\",\"WA\",\"CA\",\"AZ\",\"NC\",\"NV\",\"IL\",\"MN\",\"PA\",\"FL\",\"CA\",\"CA\",\"CA\",\"WA\",\"CA\",\"WA\",\"CA\",\"TX\",\"AZ\",\"NM\",\"TX\",\"TX\",\"WA\",\"CA\",\"UT\",\"NV\",\"AZ\",\"TX\",\"CO\",\"CA\",\"CA\",\"CA\",\"TX\",\"TX\",\"OR\",\"TX\",\"TX\",\"NV\",\"CA\",\"HI\",\"CA\",\"TX\",\"CA\",\"AZ\",\"OR\",\"CA\",\"Mexico\",\"San Luis Potosi\",\"Guanajuato\",\"UT\",\"ID\",\"UT\",\"AZ\",\"NV\",\"AZ\",\"NJ\",\"WA\",\"CA\",\"FL\",\"GA\",\"MI\",\"MT\",\"CA\",\"WA\",\"CA\",\"NJ\",\"Baja California Norte\",\"CA\",\"ID\",\"CA\",\"UT\",\"CA\",\"OR\",\"TX\",\"CA\",\"UT\",\"CA\",\"WA\",\"ID\",\"IL\",\"CA\",\"CA\",\"CA\",\"IL\",\"CT\",\"CA\",\"CA\",\"MN\",\"MI\",\"NY\",\"MI\",\"IA\",\"AZ\",\"Hyogo\",\"MD\",\"CA\",\"CA\",\"CA\",\"CA\",\"SC\",\"TX\",\"OH\",\"SC\",\"AL\",\"CA\",\"CA\",\"NE\",\"WA\",\"CO\",\"CA\",\"NM\",\"CA\",\"TX\",\"UT\",\"WI\",\"MN\",\"CO\",\"FL\",\"NJ\",\"FL\",\"CO\",\"AZ\",\"WA\",\"CO\",\"CA\",\"ID\",\"MI\",\"HI\",\"MD\",\"IL\",\"CA\",\"TX\",\"CA\",\"AZ\",\"OR\",\"MO\",\"CA\",\"AB\",\"CA\",\"OR\",\"IL\",\"AB\",\"MD\",\"AZ\",\"CA\",\"PA\",\"GA\",\"GA\",\"IL\",\"WA\",\"MN\",\"IL\",\"VA\",\"NB\",\"CA\",\"BC\",\"NJ\",\"TX\",\"WI\",\"GA\",\"PA\",\"MI\",\"IL\",\"TX\",\"CA\",\"IA\",\"AB\",\"PA\",\"TN\",\"UT\",\"ND\",\"WI\",\"MN\",\"FL\",\"MN\",\"IL\",\"QC\",\"ON\",\"TX\",\"LA\",\"TX\",\"IL\",\"KY\",\"AB\",\"SD\",\"OH\",\"IN\",\"WI\",\"TX\",\"NJ\",\"TX\",\"ON\",\"ON\",\"LA\",\"TX\",\"NJ\",\"GA\",\"NY\",\"NJ\",\"CO\",\"IN\",\"VA\",\"OH\",\"QC\",\"TX\",\"WA\",\"MI\",\"AL\",\"OH\",\"NY\",\"CT\",\"KY\",\"WI\",\"NJ\",\"KS\",\"LA\",\"CA\",\"CA\",\"NC\",\"OK\",\"TX\",\"WI\",\"PA\",\"WI\",\"QC\",\"NJ\",\"NY\",\"WA\",\"AB\",\"TX\",\"WI\",\"WA\",\"OH\",\"IN\",\"TX\",\"FL\",\"SC\",\"SK\",\"FL\",\"NJ\",\"NE\",\"KY\",\"OH\",\"CA\",\"ON\",\"FL\",\"ON\",\"FL\",\"ON\",\"ON\",\"TX\",\"CA\",\"MO\",\"AB\",\"MN\",\"ON\",\"CA\",\"CA\",\"MI\",\"WA\",\"MI\",\"TX\",\"NE\",\"OR\",\"FL\",\"GA\",\"SK\",\"CA\",\"WA\",\"CA\",\"CA\",\"SC\",\"NV\",\"TX\",\"FL\",\"NL\",\"IA\",\"MD\",\"TX\",\"IN\",\"FL\",\"NC\",\"NJ\",\"AK\",\"MN\",\"NB\",\"OK\",\"IL\",\"QC\",\"CA\",\"GA\",\"MN\",\"FL\",\"MS\",\"CT\",\"New South Wales\",null,null,\"Fukuoka\",\"Chiba\",\"Osaka\",null,\"Kauptun\",null,null,null,\"Sevilla\"],\"name\":\"\",\"z\":[2.799,2.699,2.769,2.739,2.759,2.699,2.659,2.599,2.829,3.399,3.079,2.979,2.969,3.339,3.279,2.759,2.699,2.839,2.329,2.549,2.319,2.239,2.319,2.739,2.439,2.679,2.509,2.759,2.759,2.699,2.859,2.269,2.779,2.759,2.039,3.059,3.019,3.179,3.259,3.499,3.099,2.859,3.299,3.059,2.979,3.199,2.919,2.459,3.159,3.029,3.139,0.909,0.909,0.909,0.909,0.959,0.869,0.869,0.909,0.909,1.009,2.279,2.169,2.229,2.149,2.129,2.239,2.149,2.169,2.159,2.259,2.079,2.219,2.179,2.299,2.299,2.289,2.119,2.259,2.559,2.129,2.099,2.259,0.869,0.869,0.909,0.949,0.909,0.909,0.909,2.199,2.259,2.379,2.379,2.399,2.439,2.399,2.359,2.479,2.459,2.299,2.309,2.219,2.199,2.559,2.679,2.299,2.229,2.649,2.259,2.249,2.299,2.079,2.189,1.989,2.239,2.329,2.219,2.059,2.239,2.239,2.239,2.599,2.109,2.289,2.129,2.059,2.259,2.179,2.159,2.159,2.099,2.149,2.099,2.059,2.069,1.929,2.119,2.149,2.399,2.139,2.049,2.139,1.999,2.169,2.249,2.449,2.269,2.649,2.029,2.599,2.339,2.199,2.589,2.449,2.199,2.279,2.129,2.119,3.239,3.219,2.339,3.039,3.099,3.159,3.069,3.259,3.179,3.029,3.039,2.799,3.199,3.399,2.339,3.159,2.739,3.199,2.979,2.159,2.179,3.089,2.199,3.199,3.299,3.199,2.999,3.199,3.139,3.259,3.299,3.069,2.779,2.699,2.119,2.969,3.159,3.179,3.079,3.199,2.199,2.759,3.199,3.199,2.399,3.059,2.579,2.259,3.299,1.969,2.799,3.199,0.869,0.909,0.869,0.869,0.869,0.909,0.909,0.869,7.779,0.869,0.909,0.869,0.909,0.909,0.869,7.779,0.869,0.909,0.869,0.869,0.909,0.869,2.659,3.079,3.099,2.119,2.469,0.869,1.009,null,null,null,null,null,null,null,null,null,null,null,null,null,2.289,2.269,2.279,2.659,2.159,2.199,3.099,2.299,2.179,2.129,2.199,2.299,2.469,2.189,2.229,1.929,2.559,3.099,2.569,3.199,2.699,3.199,2.759,2.059,2.829,2.409,2.139,2.459,2.249,2.979,2.999,3.379,2.699,2.899,2.499,3.099,1.939,2.779,2.039,1.919,1.939,2.529,3.079,2.559,2.689,2.799,1.949,2.199,3.299,3.159,3.179,1.939,1.949,2.649,1.949,1.939,2.699,3.119,3.059,3.199,1.959,3.399,2.759,2.759,2.999,null,null,null,2.319,2.379,2.349,2.789,2.669,2.839,2.419,2.839,3.139,2.339,2.109,2.179,2.429,3.259,2.799,3.039,2.319,null,3.199,2.379,3.349,2.269,2.999,2.699,1.989,3.099,2.369,2.919,2.579,2.289,2.379,3.199,3.079,3.099,2.479,2.459,3.199,2.899,2.299,2.119,2.399,2.259,2.199,2.759,null,2.229,3.159,3.149,3.079,3.039,1.999,1.939,2.039,1.989,2.129,3.179,3.049,2.149,2.759,2.319,3.099,2.039,2.999,1.999,2.249,2.199,2.239,2.119,2.349,2.399,2.239,2.199,2.759,2.769,2.319,2.919,2.459,2.199,3.059,2.249,2.399,3.159,1.919,3.039,2.839,2.799,1.979,3.099,0.909,3.279,2.659,2.299,0.909,2.209,2.339,3.159,2.559,2.029,2.239,2.469,2.579,2.299,2.499,1.969,0.019,2.999,0.909,2.399,1.969,2.179,2.009,2.489,2.159,2.649,1.939,3.099,2.109,0.909,2.499,2.159,2.349,2.189,2.199,2.259,2.199,2.319,2.319,0.869,0.869,1.999,1.909,1.949,2.449,2.229,0.909,2.159,2.349,2.129,2.189,2.059,2.259,1.959,0.869,7.779,1.879,1.919,2.229,2.189,2.309,2.339,2.279,2.159,2.099,2.189,0.869,1.979,2.759,2.099,2.079,2.069,2.399,2.359,2.309,2.169,2.399,2.049,1.959,3.079,3.199,2.059,1.979,1.949,2.199,2.499,2.179,0.909,2.399,2.399,2.539,0.909,1.969,2.259,2.739,2.069,2.249,1.969,2.319,1.969,0.909,2.249,2.459,2.149,2.089,2.389,2.999,0.869,2.229,0.869,2.199,0.869,0.869,1.999,3.099,1.999,0.909,2.239,0.869,3.069,3.239,2.089,2.699,2.239,1.949,2.269,2.699,2.129,2.169,0.909,2.819,2.529,3.099,3.159,2.179,2.689,1.999,2.259,0.019,2.139,2.179,1.999,2.139,2.239,2.259,2.399,2.699,2.209,0.909,1.899,2.179,0.909,2.979,2.199,2.239,2.169,1.999,2.369,2.559,null,null,null,null,null,null,null,null,null,null,2.559],\"type\":\"choropleth\"}],                        {\"template\":{\"data\":{\"histogram2dcontour\":[{\"type\":\"histogram2dcontour\",\"colorbar\":{\"outlinewidth\":0,\"ticks\":\"\"},\"colorscale\":[[0.0,\"#0d0887\"],[0.1111111111111111,\"#46039f\"],[0.2222222222222222,\"#7201a8\"],[0.3333333333333333,\"#9c179e\"],[0.4444444444444444,\"#bd3786\"],[0.5555555555555556,\"#d8576b\"],[0.6666666666666666,\"#ed7953\"],[0.7777777777777778,\"#fb9f3a\"],[0.8888888888888888,\"#fdca26\"],[1.0,\"#f0f921\"]]}],\"choropleth\":[{\"type\":\"choropleth\",\"colorbar\":{\"outlinewidth\":0,\"ticks\":\"\"}}],\"histogram2d\":[{\"type\":\"histogram2d\",\"colorbar\":{\"outlinewidth\":0,\"ticks\":\"\"},\"colorscale\":[[0.0,\"#0d0887\"],[0.1111111111111111,\"#46039f\"],[0.2222222222222222,\"#7201a8\"],[0.3333333333333333,\"#9c179e\"],[0.4444444444444444,\"#bd3786\"],[0.5555555555555556,\"#d8576b\"],[0.6666666666666666,\"#ed7953\"],[0.7777777777777778,\"#fb9f3a\"],[0.8888888888888888,\"#fdca26\"],[1.0,\"#f0f921\"]]}],\"heatmap\":[{\"type\":\"heatmap\",\"colorbar\":{\"outlinewidth\":0,\"ticks\":\"\"},\"colorscale\":[[0.0,\"#0d0887\"],[0.1111111111111111,\"#46039f\"],[0.2222222222222222,\"#7201a8\"],[0.3333333333333333,\"#9c179e\"],[0.4444444444444444,\"#bd3786\"],[0.5555555555555556,\"#d8576b\"],[0.6666666666666666,\"#ed7953\"],[0.7777777777777778,\"#fb9f3a\"],[0.8888888888888888,\"#fdca26\"],[1.0,\"#f0f921\"]]}],\"heatmapgl\":[{\"type\":\"heatmapgl\",\"colorbar\":{\"outlinewidth\":0,\"ticks\":\"\"},\"colorscale\":[[0.0,\"#0d0887\"],[0.1111111111111111,\"#46039f\"],[0.2222222222222222,\"#7201a8\"],[0.3333333333333333,\"#9c179e\"],[0.4444444444444444,\"#bd3786\"],[0.5555555555555556,\"#d8576b\"],[0.6666666666666666,\"#ed7953\"],[0.7777777777777778,\"#fb9f3a\"],[0.8888888888888888,\"#fdca26\"],[1.0,\"#f0f921\"]]}],\"contourcarpet\":[{\"type\":\"contourcarpet\",\"colorbar\":{\"outlinewidth\":0,\"ticks\":\"\"}}],\"contour\":[{\"type\":\"contour\",\"colorbar\":{\"outlinewidth\":0,\"ticks\":\"\"},\"colorscale\":[[0.0,\"#0d0887\"],[0.1111111111111111,\"#46039f\"],[0.2222222222222222,\"#7201a8\"],[0.3333333333333333,\"#9c179e\"],[0.4444444444444444,\"#bd3786\"],[0.5555555555555556,\"#d8576b\"],[0.6666666666666666,\"#ed7953\"],[0.7777777777777778,\"#fb9f3a\"],[0.8888888888888888,\"#fdca26\"],[1.0,\"#f0f921\"]]}],\"surface\":[{\"type\":\"surface\",\"colorbar\":{\"outlinewidth\":0,\"ticks\":\"\"},\"colorscale\":[[0.0,\"#0d0887\"],[0.1111111111111111,\"#46039f\"],[0.2222222222222222,\"#7201a8\"],[0.3333333333333333,\"#9c179e\"],[0.4444444444444444,\"#bd3786\"],[0.5555555555555556,\"#d8576b\"],[0.6666666666666666,\"#ed7953\"],[0.7777777777777778,\"#fb9f3a\"],[0.8888888888888888,\"#fdca26\"],[1.0,\"#f0f921\"]]}],\"mesh3d\":[{\"type\":\"mesh3d\",\"colorbar\":{\"outlinewidth\":0,\"ticks\":\"\"}}],\"scatter\":[{\"fillpattern\":{\"fillmode\":\"overlay\",\"size\":10,\"solidity\":0.2},\"type\":\"scatter\"}],\"parcoords\":[{\"type\":\"parcoords\",\"line\":{\"colorbar\":{\"outlinewidth\":0,\"ticks\":\"\"}}}],\"scatterpolargl\":[{\"type\":\"scatterpolargl\",\"marker\":{\"colorbar\":{\"outlinewidth\":0,\"ticks\":\"\"}}}],\"bar\":[{\"error_x\":{\"color\":\"#2a3f5f\"},\"error_y\":{\"color\":\"#2a3f5f\"},\"marker\":{\"line\":{\"color\":\"#E5ECF6\",\"width\":0.5},\"pattern\":{\"fillmode\":\"overlay\",\"size\":10,\"solidity\":0.2}},\"type\":\"bar\"}],\"scattergeo\":[{\"type\":\"scattergeo\",\"marker\":{\"colorbar\":{\"outlinewidth\":0,\"ticks\":\"\"}}}],\"scatterpolar\":[{\"type\":\"scatterpolar\",\"marker\":{\"colorbar\":{\"outlinewidth\":0,\"ticks\":\"\"}}}],\"histogram\":[{\"marker\":{\"pattern\":{\"fillmode\":\"overlay\",\"size\":10,\"solidity\":0.2}},\"type\":\"histogram\"}],\"scattergl\":[{\"type\":\"scattergl\",\"marker\":{\"colorbar\":{\"outlinewidth\":0,\"ticks\":\"\"}}}],\"scatter3d\":[{\"type\":\"scatter3d\",\"line\":{\"colorbar\":{\"outlinewidth\":0,\"ticks\":\"\"}},\"marker\":{\"colorbar\":{\"outlinewidth\":0,\"ticks\":\"\"}}}],\"scattermapbox\":[{\"type\":\"scattermapbox\",\"marker\":{\"colorbar\":{\"outlinewidth\":0,\"ticks\":\"\"}}}],\"scatterternary\":[{\"type\":\"scatterternary\",\"marker\":{\"colorbar\":{\"outlinewidth\":0,\"ticks\":\"\"}}}],\"scattercarpet\":[{\"type\":\"scattercarpet\",\"marker\":{\"colorbar\":{\"outlinewidth\":0,\"ticks\":\"\"}}}],\"carpet\":[{\"aaxis\":{\"endlinecolor\":\"#2a3f5f\",\"gridcolor\":\"white\",\"linecolor\":\"white\",\"minorgridcolor\":\"white\",\"startlinecolor\":\"#2a3f5f\"},\"baxis\":{\"endlinecolor\":\"#2a3f5f\",\"gridcolor\":\"white\",\"linecolor\":\"white\",\"minorgridcolor\":\"white\",\"startlinecolor\":\"#2a3f5f\"},\"type\":\"carpet\"}],\"table\":[{\"cells\":{\"fill\":{\"color\":\"#EBF0F8\"},\"line\":{\"color\":\"white\"}},\"header\":{\"fill\":{\"color\":\"#C8D4E3\"},\"line\":{\"color\":\"white\"}},\"type\":\"table\"}],\"barpolar\":[{\"marker\":{\"line\":{\"color\":\"#E5ECF6\",\"width\":0.5},\"pattern\":{\"fillmode\":\"overlay\",\"size\":10,\"solidity\":0.2}},\"type\":\"barpolar\"}],\"pie\":[{\"automargin\":true,\"type\":\"pie\"}]},\"layout\":{\"autotypenumbers\":\"strict\",\"colorway\":[\"#636efa\",\"#EF553B\",\"#00cc96\",\"#ab63fa\",\"#FFA15A\",\"#19d3f3\",\"#FF6692\",\"#B6E880\",\"#FF97FF\",\"#FECB52\"],\"font\":{\"color\":\"#2a3f5f\"},\"hovermode\":\"closest\",\"hoverlabel\":{\"align\":\"left\"},\"paper_bgcolor\":\"white\",\"plot_bgcolor\":\"#E5ECF6\",\"polar\":{\"bgcolor\":\"#E5ECF6\",\"angularaxis\":{\"gridcolor\":\"white\",\"linecolor\":\"white\",\"ticks\":\"\"},\"radialaxis\":{\"gridcolor\":\"white\",\"linecolor\":\"white\",\"ticks\":\"\"}},\"ternary\":{\"bgcolor\":\"#E5ECF6\",\"aaxis\":{\"gridcolor\":\"white\",\"linecolor\":\"white\",\"ticks\":\"\"},\"baxis\":{\"gridcolor\":\"white\",\"linecolor\":\"white\",\"ticks\":\"\"},\"caxis\":{\"gridcolor\":\"white\",\"linecolor\":\"white\",\"ticks\":\"\"}},\"coloraxis\":{\"colorbar\":{\"outlinewidth\":0,\"ticks\":\"\"}},\"colorscale\":{\"sequential\":[[0.0,\"#0d0887\"],[0.1111111111111111,\"#46039f\"],[0.2222222222222222,\"#7201a8\"],[0.3333333333333333,\"#9c179e\"],[0.4444444444444444,\"#bd3786\"],[0.5555555555555556,\"#d8576b\"],[0.6666666666666666,\"#ed7953\"],[0.7777777777777778,\"#fb9f3a\"],[0.8888888888888888,\"#fdca26\"],[1.0,\"#f0f921\"]],\"sequentialminus\":[[0.0,\"#0d0887\"],[0.1111111111111111,\"#46039f\"],[0.2222222222222222,\"#7201a8\"],[0.3333333333333333,\"#9c179e\"],[0.4444444444444444,\"#bd3786\"],[0.5555555555555556,\"#d8576b\"],[0.6666666666666666,\"#ed7953\"],[0.7777777777777778,\"#fb9f3a\"],[0.8888888888888888,\"#fdca26\"],[1.0,\"#f0f921\"]],\"diverging\":[[0,\"#8e0152\"],[0.1,\"#c51b7d\"],[0.2,\"#de77ae\"],[0.3,\"#f1b6da\"],[0.4,\"#fde0ef\"],[0.5,\"#f7f7f7\"],[0.6,\"#e6f5d0\"],[0.7,\"#b8e186\"],[0.8,\"#7fbc41\"],[0.9,\"#4d9221\"],[1,\"#276419\"]]},\"xaxis\":{\"gridcolor\":\"white\",\"linecolor\":\"white\",\"ticks\":\"\",\"title\":{\"standoff\":15},\"zerolinecolor\":\"white\",\"automargin\":true,\"zerolinewidth\":2},\"yaxis\":{\"gridcolor\":\"white\",\"linecolor\":\"white\",\"ticks\":\"\",\"title\":{\"standoff\":15},\"zerolinecolor\":\"white\",\"automargin\":true,\"zerolinewidth\":2},\"scene\":{\"xaxis\":{\"backgroundcolor\":\"#E5ECF6\",\"gridcolor\":\"white\",\"linecolor\":\"white\",\"showbackground\":true,\"ticks\":\"\",\"zerolinecolor\":\"white\",\"gridwidth\":2},\"yaxis\":{\"backgroundcolor\":\"#E5ECF6\",\"gridcolor\":\"white\",\"linecolor\":\"white\",\"showbackground\":true,\"ticks\":\"\",\"zerolinecolor\":\"white\",\"gridwidth\":2},\"zaxis\":{\"backgroundcolor\":\"#E5ECF6\",\"gridcolor\":\"white\",\"linecolor\":\"white\",\"showbackground\":true,\"ticks\":\"\",\"zerolinecolor\":\"white\",\"gridwidth\":2}},\"shapedefaults\":{\"line\":{\"color\":\"#2a3f5f\"}},\"annotationdefaults\":{\"arrowcolor\":\"#2a3f5f\",\"arrowhead\":0,\"arrowwidth\":1},\"geo\":{\"bgcolor\":\"white\",\"landcolor\":\"#E5ECF6\",\"subunitcolor\":\"white\",\"showland\":true,\"showlakes\":true,\"lakecolor\":\"white\"},\"title\":{\"x\":0.05},\"mapbox\":{\"style\":\"light\"}}},\"geo\":{\"domain\":{\"x\":[0.0,1.0],\"y\":[0.0,1.0]},\"center\":{}},\"coloraxis\":{\"colorbar\":{\"title\":{\"text\":\"Average Gas Price\"}},\"colorscale\":[[0.0,\"#0d0887\"],[0.1111111111111111,\"#46039f\"],[0.2222222222222222,\"#7201a8\"],[0.3333333333333333,\"#9c179e\"],[0.4444444444444444,\"#bd3786\"],[0.5555555555555556,\"#d8576b\"],[0.6666666666666666,\"#ed7953\"],[0.7777777777777778,\"#fb9f3a\"],[0.8888888888888888,\"#fdca26\"],[1.0,\"#f0f921\"]],\"cmin\":1.5,\"cmax\":3.5},\"legend\":{\"tracegroupgap\":0},\"title\":{\"text\":\"U.S. Average Gas Prices by State\"}},                        {\"responsive\": true}                    ).then(function(){\n",
       "                            \n",
       "var gd = document.getElementById('0b225844-ff27-45b6-abd0-a225b50c1022');\n",
       "var x = new MutationObserver(function (mutations, observer) {{\n",
       "        var display = window.getComputedStyle(gd).display;\n",
       "        if (!display || display === 'none') {{\n",
       "            console.log([gd, 'removed!']);\n",
       "            Plotly.purge(gd);\n",
       "            observer.disconnect();\n",
       "        }}\n",
       "}});\n",
       "\n",
       "// Listen for the removal of the full notebook cells\n",
       "var notebookContainer = gd.closest('#notebook-container');\n",
       "if (notebookContainer) {{\n",
       "    x.observe(notebookContainer, {childList: true});\n",
       "}}\n",
       "\n",
       "// Listen for the clearing of the current output cell\n",
       "var outputEl = gd.closest('.output');\n",
       "if (outputEl) {{\n",
       "    x.observe(outputEl, {childList: true});\n",
       "}}\n",
       "\n",
       "                        })                };                });            </script>        </div>"
      ]
     },
     "metadata": {},
     "output_type": "display_data"
    }
   ],
   "source": [
    "###Test Case###\n",
    "q4(costco)"
   ]
  },
  {
   "cell_type": "markdown",
   "id": "6b2edbdb",
   "metadata": {},
   "source": [
    "# Q5\n",
    "\n",
    "Finally, you want to know how many costcos are opened per year. Create a line graph showing the trend in the number of Costcos opened each year. Name the graph \"Number of Costco Stores Opened Each Year\" and make sure it is a graph showcasing \"Year\" by \"Stores Opened\" for every five years.\n",
    "\n",
    "Hint: You will need to perform string operations on the date that the Costco opened\n",
    "\n",
    "\n",
    "**Input:**\n",
    "\n",
    "    file: str\n",
    "\n",
    "**Returns:**\n",
    "\n",
    "    None: When the function is run, a line graph is displayed\n",
    "\n",
    "**Expected Output**:\n",
    "![q5.png](q5.png)"
   ]
  },
  {
   "cell_type": "code",
   "execution_count": 627,
   "id": "fd13b0ae",
   "metadata": {},
   "outputs": [],
   "source": [
    "def q5(costco):\n",
    "    costco2 = costco\n",
    "    costco2['Year'] = costco2['openDate'].str.split('/').str[2].astype(int)\n",
    "    costco2 = costco2.groupby('Year').count().reset_index()\n",
    "    fig4 = px.line(costco2, x = 'Year',y = 'identifier', title = \"Number of Costco Stores Opened Each Year\")\n",
    "    fig4.update_layout(yaxis = dict(dtick = 5, title = \"Stores Opened\"))\n",
    "    fig4.show()"
   ]
  },
  {
   "cell_type": "code",
   "execution_count": 629,
   "id": "f675c328",
   "metadata": {},
   "outputs": [
    {
     "data": {
      "application/vnd.plotly.v1+json": {
       "config": {
        "plotlyServerURL": "https://plot.ly"
       },
       "data": [
        {
         "hovertemplate": "Year=%{x}<br>identifier=%{y}<extra></extra>",
         "legendgroup": "",
         "line": {
          "color": "#636efa",
          "dash": "solid"
         },
         "marker": {
          "symbol": "circle"
         },
         "mode": "lines",
         "name": "",
         "orientation": "v",
         "showlegend": false,
         "type": "scatter",
         "x": [
          1976,
          1978,
          1979,
          1981,
          1982,
          1983,
          1984,
          1985,
          1986,
          1987,
          1988,
          1989,
          1990,
          1991,
          1992,
          1993,
          1994,
          1995,
          1996,
          1997,
          1998,
          1999,
          2000,
          2001,
          2002,
          2003,
          2004,
          2005,
          2006,
          2007,
          2008,
          2009,
          2010,
          2011,
          2012,
          2013,
          2014,
          2015,
          2016,
          2017,
          2018,
          2019,
          2020
         ],
         "xaxis": "x",
         "y": [
          1,
          1,
          2,
          1,
          2,
          7,
          11,
          12,
          15,
          13,
          16,
          18,
          20,
          21,
          33,
          34,
          23,
          21,
          13,
          13,
          17,
          18,
          30,
          34,
          25,
          18,
          18,
          22,
          32,
          25,
          22,
          18,
          16,
          18,
          24,
          27,
          23,
          29,
          25,
          23,
          22,
          17,
          2
         ],
         "yaxis": "y"
        }
       ],
       "layout": {
        "autosize": true,
        "legend": {
         "tracegroupgap": 0
        },
        "template": {
         "data": {
          "bar": [
           {
            "error_x": {
             "color": "#2a3f5f"
            },
            "error_y": {
             "color": "#2a3f5f"
            },
            "marker": {
             "line": {
              "color": "#E5ECF6",
              "width": 0.5
             },
             "pattern": {
              "fillmode": "overlay",
              "size": 10,
              "solidity": 0.2
             }
            },
            "type": "bar"
           }
          ],
          "barpolar": [
           {
            "marker": {
             "line": {
              "color": "#E5ECF6",
              "width": 0.5
             },
             "pattern": {
              "fillmode": "overlay",
              "size": 10,
              "solidity": 0.2
             }
            },
            "type": "barpolar"
           }
          ],
          "carpet": [
           {
            "aaxis": {
             "endlinecolor": "#2a3f5f",
             "gridcolor": "white",
             "linecolor": "white",
             "minorgridcolor": "white",
             "startlinecolor": "#2a3f5f"
            },
            "baxis": {
             "endlinecolor": "#2a3f5f",
             "gridcolor": "white",
             "linecolor": "white",
             "minorgridcolor": "white",
             "startlinecolor": "#2a3f5f"
            },
            "type": "carpet"
           }
          ],
          "choropleth": [
           {
            "colorbar": {
             "outlinewidth": 0,
             "ticks": ""
            },
            "type": "choropleth"
           }
          ],
          "contour": [
           {
            "colorbar": {
             "outlinewidth": 0,
             "ticks": ""
            },
            "colorscale": [
             [
              0,
              "#0d0887"
             ],
             [
              0.1111111111111111,
              "#46039f"
             ],
             [
              0.2222222222222222,
              "#7201a8"
             ],
             [
              0.3333333333333333,
              "#9c179e"
             ],
             [
              0.4444444444444444,
              "#bd3786"
             ],
             [
              0.5555555555555556,
              "#d8576b"
             ],
             [
              0.6666666666666666,
              "#ed7953"
             ],
             [
              0.7777777777777778,
              "#fb9f3a"
             ],
             [
              0.8888888888888888,
              "#fdca26"
             ],
             [
              1,
              "#f0f921"
             ]
            ],
            "type": "contour"
           }
          ],
          "contourcarpet": [
           {
            "colorbar": {
             "outlinewidth": 0,
             "ticks": ""
            },
            "type": "contourcarpet"
           }
          ],
          "heatmap": [
           {
            "colorbar": {
             "outlinewidth": 0,
             "ticks": ""
            },
            "colorscale": [
             [
              0,
              "#0d0887"
             ],
             [
              0.1111111111111111,
              "#46039f"
             ],
             [
              0.2222222222222222,
              "#7201a8"
             ],
             [
              0.3333333333333333,
              "#9c179e"
             ],
             [
              0.4444444444444444,
              "#bd3786"
             ],
             [
              0.5555555555555556,
              "#d8576b"
             ],
             [
              0.6666666666666666,
              "#ed7953"
             ],
             [
              0.7777777777777778,
              "#fb9f3a"
             ],
             [
              0.8888888888888888,
              "#fdca26"
             ],
             [
              1,
              "#f0f921"
             ]
            ],
            "type": "heatmap"
           }
          ],
          "heatmapgl": [
           {
            "colorbar": {
             "outlinewidth": 0,
             "ticks": ""
            },
            "colorscale": [
             [
              0,
              "#0d0887"
             ],
             [
              0.1111111111111111,
              "#46039f"
             ],
             [
              0.2222222222222222,
              "#7201a8"
             ],
             [
              0.3333333333333333,
              "#9c179e"
             ],
             [
              0.4444444444444444,
              "#bd3786"
             ],
             [
              0.5555555555555556,
              "#d8576b"
             ],
             [
              0.6666666666666666,
              "#ed7953"
             ],
             [
              0.7777777777777778,
              "#fb9f3a"
             ],
             [
              0.8888888888888888,
              "#fdca26"
             ],
             [
              1,
              "#f0f921"
             ]
            ],
            "type": "heatmapgl"
           }
          ],
          "histogram": [
           {
            "marker": {
             "pattern": {
              "fillmode": "overlay",
              "size": 10,
              "solidity": 0.2
             }
            },
            "type": "histogram"
           }
          ],
          "histogram2d": [
           {
            "colorbar": {
             "outlinewidth": 0,
             "ticks": ""
            },
            "colorscale": [
             [
              0,
              "#0d0887"
             ],
             [
              0.1111111111111111,
              "#46039f"
             ],
             [
              0.2222222222222222,
              "#7201a8"
             ],
             [
              0.3333333333333333,
              "#9c179e"
             ],
             [
              0.4444444444444444,
              "#bd3786"
             ],
             [
              0.5555555555555556,
              "#d8576b"
             ],
             [
              0.6666666666666666,
              "#ed7953"
             ],
             [
              0.7777777777777778,
              "#fb9f3a"
             ],
             [
              0.8888888888888888,
              "#fdca26"
             ],
             [
              1,
              "#f0f921"
             ]
            ],
            "type": "histogram2d"
           }
          ],
          "histogram2dcontour": [
           {
            "colorbar": {
             "outlinewidth": 0,
             "ticks": ""
            },
            "colorscale": [
             [
              0,
              "#0d0887"
             ],
             [
              0.1111111111111111,
              "#46039f"
             ],
             [
              0.2222222222222222,
              "#7201a8"
             ],
             [
              0.3333333333333333,
              "#9c179e"
             ],
             [
              0.4444444444444444,
              "#bd3786"
             ],
             [
              0.5555555555555556,
              "#d8576b"
             ],
             [
              0.6666666666666666,
              "#ed7953"
             ],
             [
              0.7777777777777778,
              "#fb9f3a"
             ],
             [
              0.8888888888888888,
              "#fdca26"
             ],
             [
              1,
              "#f0f921"
             ]
            ],
            "type": "histogram2dcontour"
           }
          ],
          "mesh3d": [
           {
            "colorbar": {
             "outlinewidth": 0,
             "ticks": ""
            },
            "type": "mesh3d"
           }
          ],
          "parcoords": [
           {
            "line": {
             "colorbar": {
              "outlinewidth": 0,
              "ticks": ""
             }
            },
            "type": "parcoords"
           }
          ],
          "pie": [
           {
            "automargin": true,
            "type": "pie"
           }
          ],
          "scatter": [
           {
            "fillpattern": {
             "fillmode": "overlay",
             "size": 10,
             "solidity": 0.2
            },
            "type": "scatter"
           }
          ],
          "scatter3d": [
           {
            "line": {
             "colorbar": {
              "outlinewidth": 0,
              "ticks": ""
             }
            },
            "marker": {
             "colorbar": {
              "outlinewidth": 0,
              "ticks": ""
             }
            },
            "type": "scatter3d"
           }
          ],
          "scattercarpet": [
           {
            "marker": {
             "colorbar": {
              "outlinewidth": 0,
              "ticks": ""
             }
            },
            "type": "scattercarpet"
           }
          ],
          "scattergeo": [
           {
            "marker": {
             "colorbar": {
              "outlinewidth": 0,
              "ticks": ""
             }
            },
            "type": "scattergeo"
           }
          ],
          "scattergl": [
           {
            "marker": {
             "colorbar": {
              "outlinewidth": 0,
              "ticks": ""
             }
            },
            "type": "scattergl"
           }
          ],
          "scattermapbox": [
           {
            "marker": {
             "colorbar": {
              "outlinewidth": 0,
              "ticks": ""
             }
            },
            "type": "scattermapbox"
           }
          ],
          "scatterpolar": [
           {
            "marker": {
             "colorbar": {
              "outlinewidth": 0,
              "ticks": ""
             }
            },
            "type": "scatterpolar"
           }
          ],
          "scatterpolargl": [
           {
            "marker": {
             "colorbar": {
              "outlinewidth": 0,
              "ticks": ""
             }
            },
            "type": "scatterpolargl"
           }
          ],
          "scatterternary": [
           {
            "marker": {
             "colorbar": {
              "outlinewidth": 0,
              "ticks": ""
             }
            },
            "type": "scatterternary"
           }
          ],
          "surface": [
           {
            "colorbar": {
             "outlinewidth": 0,
             "ticks": ""
            },
            "colorscale": [
             [
              0,
              "#0d0887"
             ],
             [
              0.1111111111111111,
              "#46039f"
             ],
             [
              0.2222222222222222,
              "#7201a8"
             ],
             [
              0.3333333333333333,
              "#9c179e"
             ],
             [
              0.4444444444444444,
              "#bd3786"
             ],
             [
              0.5555555555555556,
              "#d8576b"
             ],
             [
              0.6666666666666666,
              "#ed7953"
             ],
             [
              0.7777777777777778,
              "#fb9f3a"
             ],
             [
              0.8888888888888888,
              "#fdca26"
             ],
             [
              1,
              "#f0f921"
             ]
            ],
            "type": "surface"
           }
          ],
          "table": [
           {
            "cells": {
             "fill": {
              "color": "#EBF0F8"
             },
             "line": {
              "color": "white"
             }
            },
            "header": {
             "fill": {
              "color": "#C8D4E3"
             },
             "line": {
              "color": "white"
             }
            },
            "type": "table"
           }
          ]
         },
         "layout": {
          "annotationdefaults": {
           "arrowcolor": "#2a3f5f",
           "arrowhead": 0,
           "arrowwidth": 1
          },
          "autotypenumbers": "strict",
          "coloraxis": {
           "colorbar": {
            "outlinewidth": 0,
            "ticks": ""
           }
          },
          "colorscale": {
           "diverging": [
            [
             0,
             "#8e0152"
            ],
            [
             0.1,
             "#c51b7d"
            ],
            [
             0.2,
             "#de77ae"
            ],
            [
             0.3,
             "#f1b6da"
            ],
            [
             0.4,
             "#fde0ef"
            ],
            [
             0.5,
             "#f7f7f7"
            ],
            [
             0.6,
             "#e6f5d0"
            ],
            [
             0.7,
             "#b8e186"
            ],
            [
             0.8,
             "#7fbc41"
            ],
            [
             0.9,
             "#4d9221"
            ],
            [
             1,
             "#276419"
            ]
           ],
           "sequential": [
            [
             0,
             "#0d0887"
            ],
            [
             0.1111111111111111,
             "#46039f"
            ],
            [
             0.2222222222222222,
             "#7201a8"
            ],
            [
             0.3333333333333333,
             "#9c179e"
            ],
            [
             0.4444444444444444,
             "#bd3786"
            ],
            [
             0.5555555555555556,
             "#d8576b"
            ],
            [
             0.6666666666666666,
             "#ed7953"
            ],
            [
             0.7777777777777778,
             "#fb9f3a"
            ],
            [
             0.8888888888888888,
             "#fdca26"
            ],
            [
             1,
             "#f0f921"
            ]
           ],
           "sequentialminus": [
            [
             0,
             "#0d0887"
            ],
            [
             0.1111111111111111,
             "#46039f"
            ],
            [
             0.2222222222222222,
             "#7201a8"
            ],
            [
             0.3333333333333333,
             "#9c179e"
            ],
            [
             0.4444444444444444,
             "#bd3786"
            ],
            [
             0.5555555555555556,
             "#d8576b"
            ],
            [
             0.6666666666666666,
             "#ed7953"
            ],
            [
             0.7777777777777778,
             "#fb9f3a"
            ],
            [
             0.8888888888888888,
             "#fdca26"
            ],
            [
             1,
             "#f0f921"
            ]
           ]
          },
          "colorway": [
           "#636efa",
           "#EF553B",
           "#00cc96",
           "#ab63fa",
           "#FFA15A",
           "#19d3f3",
           "#FF6692",
           "#B6E880",
           "#FF97FF",
           "#FECB52"
          ],
          "font": {
           "color": "#2a3f5f"
          },
          "geo": {
           "bgcolor": "white",
           "lakecolor": "white",
           "landcolor": "#E5ECF6",
           "showlakes": true,
           "showland": true,
           "subunitcolor": "white"
          },
          "hoverlabel": {
           "align": "left"
          },
          "hovermode": "closest",
          "mapbox": {
           "style": "light"
          },
          "paper_bgcolor": "white",
          "plot_bgcolor": "#E5ECF6",
          "polar": {
           "angularaxis": {
            "gridcolor": "white",
            "linecolor": "white",
            "ticks": ""
           },
           "bgcolor": "#E5ECF6",
           "radialaxis": {
            "gridcolor": "white",
            "linecolor": "white",
            "ticks": ""
           }
          },
          "scene": {
           "xaxis": {
            "backgroundcolor": "#E5ECF6",
            "gridcolor": "white",
            "gridwidth": 2,
            "linecolor": "white",
            "showbackground": true,
            "ticks": "",
            "zerolinecolor": "white"
           },
           "yaxis": {
            "backgroundcolor": "#E5ECF6",
            "gridcolor": "white",
            "gridwidth": 2,
            "linecolor": "white",
            "showbackground": true,
            "ticks": "",
            "zerolinecolor": "white"
           },
           "zaxis": {
            "backgroundcolor": "#E5ECF6",
            "gridcolor": "white",
            "gridwidth": 2,
            "linecolor": "white",
            "showbackground": true,
            "ticks": "",
            "zerolinecolor": "white"
           }
          },
          "shapedefaults": {
           "line": {
            "color": "#2a3f5f"
           }
          },
          "ternary": {
           "aaxis": {
            "gridcolor": "white",
            "linecolor": "white",
            "ticks": ""
           },
           "baxis": {
            "gridcolor": "white",
            "linecolor": "white",
            "ticks": ""
           },
           "bgcolor": "#E5ECF6",
           "caxis": {
            "gridcolor": "white",
            "linecolor": "white",
            "ticks": ""
           }
          },
          "title": {
           "x": 0.05
          },
          "xaxis": {
           "automargin": true,
           "gridcolor": "white",
           "linecolor": "white",
           "ticks": "",
           "title": {
            "standoff": 15
           },
           "zerolinecolor": "white",
           "zerolinewidth": 2
          },
          "yaxis": {
           "automargin": true,
           "gridcolor": "white",
           "linecolor": "white",
           "ticks": "",
           "title": {
            "standoff": 15
           },
           "zerolinecolor": "white",
           "zerolinewidth": 2
          }
         }
        },
        "title": {
         "text": "Number of Costco Stores Opened Each Year"
        },
        "xaxis": {
         "anchor": "y",
         "autorange": true,
         "domain": [
          0,
          1
         ],
         "range": [
          1976,
          2020
         ],
         "title": {
          "text": "Year"
         },
         "type": "linear"
        },
        "yaxis": {
         "anchor": "x",
         "autorange": true,
         "domain": [
          0,
          1
         ],
         "dtick": 5,
         "range": [
          -0.8333333333333333,
          35.833333333333336
         ],
         "title": {
          "text": "Stores Opened"
         },
         "type": "linear"
        }
       }
      },
      "image/png": "[encoded data removed]",
      "text/html": [
       "<div>                            <div id=\"f400b0b2-d38a-4ab2-8eff-20da0d3da5ae\" class=\"plotly-graph-div\" style=\"height:525px; width:100%;\"></div>            <script type=\"text/javascript\">                require([\"plotly\"], function(Plotly) {                    window.PLOTLYENV=window.PLOTLYENV || {};                                    if (document.getElementById(\"f400b0b2-d38a-4ab2-8eff-20da0d3da5ae\")) {                    Plotly.newPlot(                        \"f400b0b2-d38a-4ab2-8eff-20da0d3da5ae\",                        [{\"hovertemplate\":\"Year=%{x}\\u003cbr\\u003eidentifier=%{y}\\u003cextra\\u003e\\u003c\\u002fextra\\u003e\",\"legendgroup\":\"\",\"line\":{\"color\":\"#636efa\",\"dash\":\"solid\"},\"marker\":{\"symbol\":\"circle\"},\"mode\":\"lines\",\"name\":\"\",\"orientation\":\"v\",\"showlegend\":false,\"x\":[1976,1978,1979,1981,1982,1983,1984,1985,1986,1987,1988,1989,1990,1991,1992,1993,1994,1995,1996,1997,1998,1999,2000,2001,2002,2003,2004,2005,2006,2007,2008,2009,2010,2011,2012,2013,2014,2015,2016,2017,2018,2019,2020],\"xaxis\":\"x\",\"y\":[1,1,2,1,2,7,11,12,15,13,16,18,20,21,33,34,23,21,13,13,17,18,30,34,25,18,18,22,32,25,22,18,16,18,24,27,23,29,25,23,22,17,2],\"yaxis\":\"y\",\"type\":\"scatter\"}],                        {\"template\":{\"data\":{\"histogram2dcontour\":[{\"type\":\"histogram2dcontour\",\"colorbar\":{\"outlinewidth\":0,\"ticks\":\"\"},\"colorscale\":[[0.0,\"#0d0887\"],[0.1111111111111111,\"#46039f\"],[0.2222222222222222,\"#7201a8\"],[0.3333333333333333,\"#9c179e\"],[0.4444444444444444,\"#bd3786\"],[0.5555555555555556,\"#d8576b\"],[0.6666666666666666,\"#ed7953\"],[0.7777777777777778,\"#fb9f3a\"],[0.8888888888888888,\"#fdca26\"],[1.0,\"#f0f921\"]]}],\"choropleth\":[{\"type\":\"choropleth\",\"colorbar\":{\"outlinewidth\":0,\"ticks\":\"\"}}],\"histogram2d\":[{\"type\":\"histogram2d\",\"colorbar\":{\"outlinewidth\":0,\"ticks\":\"\"},\"colorscale\":[[0.0,\"#0d0887\"],[0.1111111111111111,\"#46039f\"],[0.2222222222222222,\"#7201a8\"],[0.3333333333333333,\"#9c179e\"],[0.4444444444444444,\"#bd3786\"],[0.5555555555555556,\"#d8576b\"],[0.6666666666666666,\"#ed7953\"],[0.7777777777777778,\"#fb9f3a\"],[0.8888888888888888,\"#fdca26\"],[1.0,\"#f0f921\"]]}],\"heatmap\":[{\"type\":\"heatmap\",\"colorbar\":{\"outlinewidth\":0,\"ticks\":\"\"},\"colorscale\":[[0.0,\"#0d0887\"],[0.1111111111111111,\"#46039f\"],[0.2222222222222222,\"#7201a8\"],[0.3333333333333333,\"#9c179e\"],[0.4444444444444444,\"#bd3786\"],[0.5555555555555556,\"#d8576b\"],[0.6666666666666666,\"#ed7953\"],[0.7777777777777778,\"#fb9f3a\"],[0.8888888888888888,\"#fdca26\"],[1.0,\"#f0f921\"]]}],\"heatmapgl\":[{\"type\":\"heatmapgl\",\"colorbar\":{\"outlinewidth\":0,\"ticks\":\"\"},\"colorscale\":[[0.0,\"#0d0887\"],[0.1111111111111111,\"#46039f\"],[0.2222222222222222,\"#7201a8\"],[0.3333333333333333,\"#9c179e\"],[0.4444444444444444,\"#bd3786\"],[0.5555555555555556,\"#d8576b\"],[0.6666666666666666,\"#ed7953\"],[0.7777777777777778,\"#fb9f3a\"],[0.8888888888888888,\"#fdca26\"],[1.0,\"#f0f921\"]]}],\"contourcarpet\":[{\"type\":\"contourcarpet\",\"colorbar\":{\"outlinewidth\":0,\"ticks\":\"\"}}],\"contour\":[{\"type\":\"contour\",\"colorbar\":{\"outlinewidth\":0,\"ticks\":\"\"},\"colorscale\":[[0.0,\"#0d0887\"],[0.1111111111111111,\"#46039f\"],[0.2222222222222222,\"#7201a8\"],[0.3333333333333333,\"#9c179e\"],[0.4444444444444444,\"#bd3786\"],[0.5555555555555556,\"#d8576b\"],[0.6666666666666666,\"#ed7953\"],[0.7777777777777778,\"#fb9f3a\"],[0.8888888888888888,\"#fdca26\"],[1.0,\"#f0f921\"]]}],\"surface\":[{\"type\":\"surface\",\"colorbar\":{\"outlinewidth\":0,\"ticks\":\"\"},\"colorscale\":[[0.0,\"#0d0887\"],[0.1111111111111111,\"#46039f\"],[0.2222222222222222,\"#7201a8\"],[0.3333333333333333,\"#9c179e\"],[0.4444444444444444,\"#bd3786\"],[0.5555555555555556,\"#d8576b\"],[0.6666666666666666,\"#ed7953\"],[0.7777777777777778,\"#fb9f3a\"],[0.8888888888888888,\"#fdca26\"],[1.0,\"#f0f921\"]]}],\"mesh3d\":[{\"type\":\"mesh3d\",\"colorbar\":{\"outlinewidth\":0,\"ticks\":\"\"}}],\"scatter\":[{\"fillpattern\":{\"fillmode\":\"overlay\",\"size\":10,\"solidity\":0.2},\"type\":\"scatter\"}],\"parcoords\":[{\"type\":\"parcoords\",\"line\":{\"colorbar\":{\"outlinewidth\":0,\"ticks\":\"\"}}}],\"scatterpolargl\":[{\"type\":\"scatterpolargl\",\"marker\":{\"colorbar\":{\"outlinewidth\":0,\"ticks\":\"\"}}}],\"bar\":[{\"error_x\":{\"color\":\"#2a3f5f\"},\"error_y\":{\"color\":\"#2a3f5f\"},\"marker\":{\"line\":{\"color\":\"#E5ECF6\",\"width\":0.5},\"pattern\":{\"fillmode\":\"overlay\",\"size\":10,\"solidity\":0.2}},\"type\":\"bar\"}],\"scattergeo\":[{\"type\":\"scattergeo\",\"marker\":{\"colorbar\":{\"outlinewidth\":0,\"ticks\":\"\"}}}],\"scatterpolar\":[{\"type\":\"scatterpolar\",\"marker\":{\"colorbar\":{\"outlinewidth\":0,\"ticks\":\"\"}}}],\"histogram\":[{\"marker\":{\"pattern\":{\"fillmode\":\"overlay\",\"size\":10,\"solidity\":0.2}},\"type\":\"histogram\"}],\"scattergl\":[{\"type\":\"scattergl\",\"marker\":{\"colorbar\":{\"outlinewidth\":0,\"ticks\":\"\"}}}],\"scatter3d\":[{\"type\":\"scatter3d\",\"line\":{\"colorbar\":{\"outlinewidth\":0,\"ticks\":\"\"}},\"marker\":{\"colorbar\":{\"outlinewidth\":0,\"ticks\":\"\"}}}],\"scattermapbox\":[{\"type\":\"scattermapbox\",\"marker\":{\"colorbar\":{\"outlinewidth\":0,\"ticks\":\"\"}}}],\"scatterternary\":[{\"type\":\"scatterternary\",\"marker\":{\"colorbar\":{\"outlinewidth\":0,\"ticks\":\"\"}}}],\"scattercarpet\":[{\"type\":\"scattercarpet\",\"marker\":{\"colorbar\":{\"outlinewidth\":0,\"ticks\":\"\"}}}],\"carpet\":[{\"aaxis\":{\"endlinecolor\":\"#2a3f5f\",\"gridcolor\":\"white\",\"linecolor\":\"white\",\"minorgridcolor\":\"white\",\"startlinecolor\":\"#2a3f5f\"},\"baxis\":{\"endlinecolor\":\"#2a3f5f\",\"gridcolor\":\"white\",\"linecolor\":\"white\",\"minorgridcolor\":\"white\",\"startlinecolor\":\"#2a3f5f\"},\"type\":\"carpet\"}],\"table\":[{\"cells\":{\"fill\":{\"color\":\"#EBF0F8\"},\"line\":{\"color\":\"white\"}},\"header\":{\"fill\":{\"color\":\"#C8D4E3\"},\"line\":{\"color\":\"white\"}},\"type\":\"table\"}],\"barpolar\":[{\"marker\":{\"line\":{\"color\":\"#E5ECF6\",\"width\":0.5},\"pattern\":{\"fillmode\":\"overlay\",\"size\":10,\"solidity\":0.2}},\"type\":\"barpolar\"}],\"pie\":[{\"automargin\":true,\"type\":\"pie\"}]},\"layout\":{\"autotypenumbers\":\"strict\",\"colorway\":[\"#636efa\",\"#EF553B\",\"#00cc96\",\"#ab63fa\",\"#FFA15A\",\"#19d3f3\",\"#FF6692\",\"#B6E880\",\"#FF97FF\",\"#FECB52\"],\"font\":{\"color\":\"#2a3f5f\"},\"hovermode\":\"closest\",\"hoverlabel\":{\"align\":\"left\"},\"paper_bgcolor\":\"white\",\"plot_bgcolor\":\"#E5ECF6\",\"polar\":{\"bgcolor\":\"#E5ECF6\",\"angularaxis\":{\"gridcolor\":\"white\",\"linecolor\":\"white\",\"ticks\":\"\"},\"radialaxis\":{\"gridcolor\":\"white\",\"linecolor\":\"white\",\"ticks\":\"\"}},\"ternary\":{\"bgcolor\":\"#E5ECF6\",\"aaxis\":{\"gridcolor\":\"white\",\"linecolor\":\"white\",\"ticks\":\"\"},\"baxis\":{\"gridcolor\":\"white\",\"linecolor\":\"white\",\"ticks\":\"\"},\"caxis\":{\"gridcolor\":\"white\",\"linecolor\":\"white\",\"ticks\":\"\"}},\"coloraxis\":{\"colorbar\":{\"outlinewidth\":0,\"ticks\":\"\"}},\"colorscale\":{\"sequential\":[[0.0,\"#0d0887\"],[0.1111111111111111,\"#46039f\"],[0.2222222222222222,\"#7201a8\"],[0.3333333333333333,\"#9c179e\"],[0.4444444444444444,\"#bd3786\"],[0.5555555555555556,\"#d8576b\"],[0.6666666666666666,\"#ed7953\"],[0.7777777777777778,\"#fb9f3a\"],[0.8888888888888888,\"#fdca26\"],[1.0,\"#f0f921\"]],\"sequentialminus\":[[0.0,\"#0d0887\"],[0.1111111111111111,\"#46039f\"],[0.2222222222222222,\"#7201a8\"],[0.3333333333333333,\"#9c179e\"],[0.4444444444444444,\"#bd3786\"],[0.5555555555555556,\"#d8576b\"],[0.6666666666666666,\"#ed7953\"],[0.7777777777777778,\"#fb9f3a\"],[0.8888888888888888,\"#fdca26\"],[1.0,\"#f0f921\"]],\"diverging\":[[0,\"#8e0152\"],[0.1,\"#c51b7d\"],[0.2,\"#de77ae\"],[0.3,\"#f1b6da\"],[0.4,\"#fde0ef\"],[0.5,\"#f7f7f7\"],[0.6,\"#e6f5d0\"],[0.7,\"#b8e186\"],[0.8,\"#7fbc41\"],[0.9,\"#4d9221\"],[1,\"#276419\"]]},\"xaxis\":{\"gridcolor\":\"white\",\"linecolor\":\"white\",\"ticks\":\"\",\"title\":{\"standoff\":15},\"zerolinecolor\":\"white\",\"automargin\":true,\"zerolinewidth\":2},\"yaxis\":{\"gridcolor\":\"white\",\"linecolor\":\"white\",\"ticks\":\"\",\"title\":{\"standoff\":15},\"zerolinecolor\":\"white\",\"automargin\":true,\"zerolinewidth\":2},\"scene\":{\"xaxis\":{\"backgroundcolor\":\"#E5ECF6\",\"gridcolor\":\"white\",\"linecolor\":\"white\",\"showbackground\":true,\"ticks\":\"\",\"zerolinecolor\":\"white\",\"gridwidth\":2},\"yaxis\":{\"backgroundcolor\":\"#E5ECF6\",\"gridcolor\":\"white\",\"linecolor\":\"white\",\"showbackground\":true,\"ticks\":\"\",\"zerolinecolor\":\"white\",\"gridwidth\":2},\"zaxis\":{\"backgroundcolor\":\"#E5ECF6\",\"gridcolor\":\"white\",\"linecolor\":\"white\",\"showbackground\":true,\"ticks\":\"\",\"zerolinecolor\":\"white\",\"gridwidth\":2}},\"shapedefaults\":{\"line\":{\"color\":\"#2a3f5f\"}},\"annotationdefaults\":{\"arrowcolor\":\"#2a3f5f\",\"arrowhead\":0,\"arrowwidth\":1},\"geo\":{\"bgcolor\":\"white\",\"landcolor\":\"#E5ECF6\",\"subunitcolor\":\"white\",\"showland\":true,\"showlakes\":true,\"lakecolor\":\"white\"},\"title\":{\"x\":0.05},\"mapbox\":{\"style\":\"light\"}}},\"xaxis\":{\"anchor\":\"y\",\"domain\":[0.0,1.0],\"title\":{\"text\":\"Year\"}},\"yaxis\":{\"anchor\":\"x\",\"domain\":[0.0,1.0],\"title\":{\"text\":\"Stores Opened\"},\"dtick\":5},\"legend\":{\"tracegroupgap\":0},\"title\":{\"text\":\"Number of Costco Stores Opened Each Year\"}},                        {\"responsive\": true}                    ).then(function(){\n",
       "                            \n",
       "var gd = document.getElementById('f400b0b2-d38a-4ab2-8eff-20da0d3da5ae');\n",
       "var x = new MutationObserver(function (mutations, observer) {{\n",
       "        var display = window.getComputedStyle(gd).display;\n",
       "        if (!display || display === 'none') {{\n",
       "            console.log([gd, 'removed!']);\n",
       "            Plotly.purge(gd);\n",
       "            observer.disconnect();\n",
       "        }}\n",
       "}});\n",
       "\n",
       "// Listen for the removal of the full notebook cells\n",
       "var notebookContainer = gd.closest('#notebook-container');\n",
       "if (notebookContainer) {{\n",
       "    x.observe(notebookContainer, {childList: true});\n",
       "}}\n",
       "\n",
       "// Listen for the clearing of the current output cell\n",
       "var outputEl = gd.closest('.output');\n",
       "if (outputEl) {{\n",
       "    x.observe(outputEl, {childList: true});\n",
       "}}\n",
       "\n",
       "                        })                };                });            </script>        </div>"
      ]
     },
     "metadata": {},
     "output_type": "display_data"
    }
   ],
   "source": [
    "###Test Case###\n",
    "q5(costco)"
   ]
  },
  {
   "cell_type": "markdown",
   "id": "40b802ea",
   "metadata": {},
   "source": [
    "# Extra Credit"
   ]
  },
  {
   "cell_type": "code",
   "execution_count": 14,
   "id": "150a34a9",
   "metadata": {},
   "outputs": [],
   "source": [
    "def ec_function(costco):\n",
    "    pass"
   ]
  },
  {
   "cell_type": "code",
   "execution_count": 15,
   "id": "0f49d248",
   "metadata": {},
   "outputs": [],
   "source": [
    "###Test Case###\n",
    "ec_function(costco)"
   ]
  },
  {
   "cell_type": "markdown",
   "id": "ab21edd5",
   "metadata": {},
   "source": [
    "Please describe your analysis here:"
   ]
  },
  {
   "cell_type": "code",
   "execution_count": null,
   "id": "3b1636b5",
   "metadata": {},
   "outputs": [],
   "source": []
  }
 ],
 "metadata": {
  "kernelspec": {
   "display_name": "Python 3 (ipykernel)",
   "language": "python",
   "name": "python3"
  },
  "language_info": {
   "codemirror_mode": {
    "name": "ipython",
    "version": 3
   },
   "file_extension": ".py",
   "mimetype": "text/x-python",
   "name": "python",
   "nbconvert_exporter": "python",
   "pygments_lexer": "ipython3",
   "version": "3.12.4"
  }
 },
 "nbformat": 4,
 "nbformat_minor": 5
}
