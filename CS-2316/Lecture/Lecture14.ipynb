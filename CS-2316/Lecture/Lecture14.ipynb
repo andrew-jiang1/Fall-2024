{
 "cells": [
  {
   "cell_type": "code",
   "execution_count": 44,
   "id": "e75ae5af-bfe6-47fe-9835-02f22fe64172",
   "metadata": {},
   "outputs": [],
   "source": [
    "import pandas as pd\n",
    "import numpy as np\n",
    "import plotly.express as px"
   ]
  },
  {
   "cell_type": "markdown",
   "id": "2363ef0f-d828-41be-8184-28239ab3d29c",
   "metadata": {},
   "source": [
    "Lecture 14 Example 1 : Using the simplified countries DataFrame, cs_df, add a column called Population Level that is “Low”, “Medium” or “High” by applying a function called get_pop_level that returns “Low” for Population < 1,000,000, “Medium” for Population > 1,000,000 and < 99,000,000, and “High” for Population > 99,000,000"
   ]
  },
  {
   "cell_type": "code",
   "execution_count": 22,
   "id": "432d3f96-2be0-473c-a89f-7e507b311662",
   "metadata": {},
   "outputs": [
    {
     "data": {
      "text/html": [
       "<div>\n",
       "<style scoped>\n",
       "    .dataframe tbody tr th:only-of-type {\n",
       "        vertical-align: middle;\n",
       "    }\n",
       "\n",
       "    .dataframe tbody tr th {\n",
       "        vertical-align: top;\n",
       "    }\n",
       "\n",
       "    .dataframe thead th {\n",
       "        text-align: right;\n",
       "    }\n",
       "</style>\n",
       "<table border=\"1\" class=\"dataframe\">\n",
       "  <thead>\n",
       "    <tr style=\"text-align: right;\">\n",
       "      <th></th>\n",
       "      <th>Region</th>\n",
       "      <th>Population</th>\n",
       "      <th>Area (sq. mi.)</th>\n",
       "      <th>Pop. Density (per sq. mi.)</th>\n",
       "      <th>Coastline (coast/area ratio)</th>\n",
       "    </tr>\n",
       "    <tr>\n",
       "      <th>Country</th>\n",
       "      <th></th>\n",
       "      <th></th>\n",
       "      <th></th>\n",
       "      <th></th>\n",
       "      <th></th>\n",
       "    </tr>\n",
       "  </thead>\n",
       "  <tbody>\n",
       "    <tr>\n",
       "      <th>Afghanistan</th>\n",
       "      <td>ASIA (EX. NEAR EAST)</td>\n",
       "      <td>31056997</td>\n",
       "      <td>647500</td>\n",
       "      <td>48,0</td>\n",
       "      <td>0,00</td>\n",
       "    </tr>\n",
       "    <tr>\n",
       "      <th>Albania</th>\n",
       "      <td>EASTERN EUROPE</td>\n",
       "      <td>3581655</td>\n",
       "      <td>28748</td>\n",
       "      <td>124,6</td>\n",
       "      <td>1,26</td>\n",
       "    </tr>\n",
       "    <tr>\n",
       "      <th>Algeria</th>\n",
       "      <td>NORTHERN AFRICA</td>\n",
       "      <td>32930091</td>\n",
       "      <td>2381740</td>\n",
       "      <td>13,8</td>\n",
       "      <td>0,04</td>\n",
       "    </tr>\n",
       "    <tr>\n",
       "      <th>American Samoa</th>\n",
       "      <td>OCEANIA</td>\n",
       "      <td>57794</td>\n",
       "      <td>199</td>\n",
       "      <td>290,4</td>\n",
       "      <td>58,29</td>\n",
       "    </tr>\n",
       "    <tr>\n",
       "      <th>Andorra</th>\n",
       "      <td>WESTERN EUROPE</td>\n",
       "      <td>71201</td>\n",
       "      <td>468</td>\n",
       "      <td>152,1</td>\n",
       "      <td>0,00</td>\n",
       "    </tr>\n",
       "    <tr>\n",
       "      <th>...</th>\n",
       "      <td>...</td>\n",
       "      <td>...</td>\n",
       "      <td>...</td>\n",
       "      <td>...</td>\n",
       "      <td>...</td>\n",
       "    </tr>\n",
       "    <tr>\n",
       "      <th>Wallis And Futuna</th>\n",
       "      <td>OCEANIA</td>\n",
       "      <td>16025</td>\n",
       "      <td>274</td>\n",
       "      <td>58,5</td>\n",
       "      <td>47,08</td>\n",
       "    </tr>\n",
       "    <tr>\n",
       "      <th>Western Sahara</th>\n",
       "      <td>NORTHERN AFRICA</td>\n",
       "      <td>273008</td>\n",
       "      <td>266000</td>\n",
       "      <td>1,0</td>\n",
       "      <td>0,42</td>\n",
       "    </tr>\n",
       "    <tr>\n",
       "      <th>Yemen</th>\n",
       "      <td>NEAR EAST</td>\n",
       "      <td>21456188</td>\n",
       "      <td>527970</td>\n",
       "      <td>40,6</td>\n",
       "      <td>0,36</td>\n",
       "    </tr>\n",
       "    <tr>\n",
       "      <th>Zambia</th>\n",
       "      <td>SUB-SAHARAN AFRICA</td>\n",
       "      <td>11502010</td>\n",
       "      <td>752614</td>\n",
       "      <td>15,3</td>\n",
       "      <td>0,00</td>\n",
       "    </tr>\n",
       "    <tr>\n",
       "      <th>Zimbabwe</th>\n",
       "      <td>SUB-SAHARAN AFRICA</td>\n",
       "      <td>12236805</td>\n",
       "      <td>390580</td>\n",
       "      <td>31,3</td>\n",
       "      <td>0,00</td>\n",
       "    </tr>\n",
       "  </tbody>\n",
       "</table>\n",
       "<p>216 rows × 5 columns</p>\n",
       "</div>"
      ],
      "text/plain": [
       "                                                Region  Population  \\\n",
       "Country                                                              \n",
       "Afghanistan              ASIA (EX. NEAR EAST)             31056997   \n",
       "Albania            EASTERN EUROPE                          3581655   \n",
       "Algeria            NORTHERN AFRICA                        32930091   \n",
       "American Samoa     OCEANIA                                   57794   \n",
       "Andorra            WESTERN EUROPE                            71201   \n",
       "...                                                ...         ...   \n",
       "Wallis And Futuna  OCEANIA                                   16025   \n",
       "Western Sahara     NORTHERN AFRICA                          273008   \n",
       "Yemen              NEAR EAST                              21456188   \n",
       "Zambia             SUB-SAHARAN AFRICA                     11502010   \n",
       "Zimbabwe           SUB-SAHARAN AFRICA                     12236805   \n",
       "\n",
       "                   Area (sq. mi.) Pop. Density (per sq. mi.)  \\\n",
       "Country                                                        \n",
       "Afghanistan                647500                       48,0   \n",
       "Albania                     28748                      124,6   \n",
       "Algeria                   2381740                       13,8   \n",
       "American Samoa                199                      290,4   \n",
       "Andorra                       468                      152,1   \n",
       "...                           ...                        ...   \n",
       "Wallis And Futuna             274                       58,5   \n",
       "Western Sahara             266000                        1,0   \n",
       "Yemen                      527970                       40,6   \n",
       "Zambia                     752614                       15,3   \n",
       "Zimbabwe                   390580                       31,3   \n",
       "\n",
       "                  Coastline (coast/area ratio)  \n",
       "Country                                         \n",
       "Afghanistan                               0,00  \n",
       "Albania                                   1,26  \n",
       "Algeria                                   0,04  \n",
       "American Samoa                           58,29  \n",
       "Andorra                                   0,00  \n",
       "...                                        ...  \n",
       "Wallis And Futuna                        47,08  \n",
       "Western Sahara                            0,42  \n",
       "Yemen                                     0,36  \n",
       "Zambia                                    0,00  \n",
       "Zimbabwe                                  0,00  \n",
       "\n",
       "[216 rows x 5 columns]"
      ]
     },
     "execution_count": 22,
     "metadata": {},
     "output_type": "execute_result"
    }
   ],
   "source": [
    "c_df = pd.read_csv(\"countries.csv\",index_col = 0)\n",
    "cs_df = c_df.dropna(axis=1)\n",
    "cs_df"
   ]
  },
  {
   "cell_type": "code",
   "execution_count": 26,
   "id": "3a501d39-be0d-4611-8301-18b19b95b591",
   "metadata": {},
   "outputs": [],
   "source": [
    "def get_pop_level(pop):\n",
    "    if pop < 1000000:\n",
    "        return \"Low\"\n",
    "    elif pop > 1000000 and pop < 99000000:\n",
    "        return \"Medium\"\n",
    "    else:\n",
    "        \"High\""
   ]
  },
  {
   "cell_type": "code",
   "execution_count": 42,
   "id": "4490108c-9ac8-4bfc-b7ee-6e7c4d45fe5b",
   "metadata": {},
   "outputs": [
    {
     "data": {
      "text/html": [
       "<div>\n",
       "<style scoped>\n",
       "    .dataframe tbody tr th:only-of-type {\n",
       "        vertical-align: middle;\n",
       "    }\n",
       "\n",
       "    .dataframe tbody tr th {\n",
       "        vertical-align: top;\n",
       "    }\n",
       "\n",
       "    .dataframe thead th {\n",
       "        text-align: right;\n",
       "    }\n",
       "</style>\n",
       "<table border=\"1\" class=\"dataframe\">\n",
       "  <thead>\n",
       "    <tr style=\"text-align: right;\">\n",
       "      <th></th>\n",
       "      <th>Region</th>\n",
       "      <th>Population</th>\n",
       "      <th>Area (sq. mi.)</th>\n",
       "      <th>Pop. Density (per sq. mi.)</th>\n",
       "      <th>Coastline (coast/area ratio)</th>\n",
       "      <th>Population Level</th>\n",
       "    </tr>\n",
       "    <tr>\n",
       "      <th>Country</th>\n",
       "      <th></th>\n",
       "      <th></th>\n",
       "      <th></th>\n",
       "      <th></th>\n",
       "      <th></th>\n",
       "      <th></th>\n",
       "    </tr>\n",
       "  </thead>\n",
       "  <tbody>\n",
       "    <tr>\n",
       "      <th>Afghanistan</th>\n",
       "      <td>ASIA (EX. NEAR EAST)</td>\n",
       "      <td>31056997.0</td>\n",
       "      <td>647500.0</td>\n",
       "      <td>48,0</td>\n",
       "      <td>0,00</td>\n",
       "      <td>Medium</td>\n",
       "    </tr>\n",
       "    <tr>\n",
       "      <th>Albania</th>\n",
       "      <td>EASTERN EUROPE</td>\n",
       "      <td>3581655.0</td>\n",
       "      <td>28748.0</td>\n",
       "      <td>124,6</td>\n",
       "      <td>1,26</td>\n",
       "      <td>Medium</td>\n",
       "    </tr>\n",
       "    <tr>\n",
       "      <th>Algeria</th>\n",
       "      <td>NORTHERN AFRICA</td>\n",
       "      <td>32930091.0</td>\n",
       "      <td>2381740.0</td>\n",
       "      <td>13,8</td>\n",
       "      <td>0,04</td>\n",
       "      <td>Medium</td>\n",
       "    </tr>\n",
       "    <tr>\n",
       "      <th>American Samoa</th>\n",
       "      <td>OCEANIA</td>\n",
       "      <td>57794.0</td>\n",
       "      <td>199.0</td>\n",
       "      <td>290,4</td>\n",
       "      <td>58,29</td>\n",
       "      <td>Low</td>\n",
       "    </tr>\n",
       "    <tr>\n",
       "      <th>Andorra</th>\n",
       "      <td>WESTERN EUROPE</td>\n",
       "      <td>71201.0</td>\n",
       "      <td>468.0</td>\n",
       "      <td>152,1</td>\n",
       "      <td>0,00</td>\n",
       "      <td>Low</td>\n",
       "    </tr>\n",
       "    <tr>\n",
       "      <th>...</th>\n",
       "      <td>...</td>\n",
       "      <td>...</td>\n",
       "      <td>...</td>\n",
       "      <td>...</td>\n",
       "      <td>...</td>\n",
       "      <td>...</td>\n",
       "    </tr>\n",
       "    <tr>\n",
       "      <th>Western Sahara</th>\n",
       "      <td>NORTHERN AFRICA</td>\n",
       "      <td>273008.0</td>\n",
       "      <td>266000.0</td>\n",
       "      <td>1,0</td>\n",
       "      <td>0,42</td>\n",
       "      <td>Low</td>\n",
       "    </tr>\n",
       "    <tr>\n",
       "      <th>Yemen</th>\n",
       "      <td>NEAR EAST</td>\n",
       "      <td>21456188.0</td>\n",
       "      <td>527970.0</td>\n",
       "      <td>40,6</td>\n",
       "      <td>0,36</td>\n",
       "      <td>Medium</td>\n",
       "    </tr>\n",
       "    <tr>\n",
       "      <th>Zambia</th>\n",
       "      <td>SUB-SAHARAN AFRICA</td>\n",
       "      <td>11502010.0</td>\n",
       "      <td>752614.0</td>\n",
       "      <td>15,3</td>\n",
       "      <td>0,00</td>\n",
       "      <td>Medium</td>\n",
       "    </tr>\n",
       "    <tr>\n",
       "      <th>Zimbabwe</th>\n",
       "      <td>SUB-SAHARAN AFRICA</td>\n",
       "      <td>12236805.0</td>\n",
       "      <td>390580.0</td>\n",
       "      <td>31,3</td>\n",
       "      <td>0,00</td>\n",
       "      <td>Medium</td>\n",
       "    </tr>\n",
       "    <tr>\n",
       "      <th>Population Level</th>\n",
       "      <td>NaN</td>\n",
       "      <td>NaN</td>\n",
       "      <td>NaN</td>\n",
       "      <td>NaN</td>\n",
       "      <td>NaN</td>\n",
       "      <td>None</td>\n",
       "    </tr>\n",
       "  </tbody>\n",
       "</table>\n",
       "<p>217 rows × 6 columns</p>\n",
       "</div>"
      ],
      "text/plain": [
       "                                               Region  Population  \\\n",
       "Country                                                             \n",
       "Afghanistan             ASIA (EX. NEAR EAST)           31056997.0   \n",
       "Albania           EASTERN EUROPE                        3581655.0   \n",
       "Algeria           NORTHERN AFRICA                      32930091.0   \n",
       "American Samoa    OCEANIA                                 57794.0   \n",
       "Andorra           WESTERN EUROPE                          71201.0   \n",
       "...                                               ...         ...   \n",
       "Western Sahara    NORTHERN AFRICA                        273008.0   \n",
       "Yemen             NEAR EAST                            21456188.0   \n",
       "Zambia            SUB-SAHARAN AFRICA                   11502010.0   \n",
       "Zimbabwe          SUB-SAHARAN AFRICA                   12236805.0   \n",
       "Population Level                                  NaN         NaN   \n",
       "\n",
       "                  Area (sq. mi.) Pop. Density (per sq. mi.)  \\\n",
       "Country                                                       \n",
       "Afghanistan             647500.0                       48,0   \n",
       "Albania                  28748.0                      124,6   \n",
       "Algeria                2381740.0                       13,8   \n",
       "American Samoa             199.0                      290,4   \n",
       "Andorra                    468.0                      152,1   \n",
       "...                          ...                        ...   \n",
       "Western Sahara          266000.0                        1,0   \n",
       "Yemen                   527970.0                       40,6   \n",
       "Zambia                  752614.0                       15,3   \n",
       "Zimbabwe                390580.0                       31,3   \n",
       "Population Level             NaN                        NaN   \n",
       "\n",
       "                 Coastline (coast/area ratio) Population Level  \n",
       "Country                                                         \n",
       "Afghanistan                              0,00           Medium  \n",
       "Albania                                  1,26           Medium  \n",
       "Algeria                                  0,04           Medium  \n",
       "American Samoa                          58,29              Low  \n",
       "Andorra                                  0,00              Low  \n",
       "...                                       ...              ...  \n",
       "Western Sahara                           0,42              Low  \n",
       "Yemen                                    0,36           Medium  \n",
       "Zambia                                   0,00           Medium  \n",
       "Zimbabwe                                 0,00           Medium  \n",
       "Population Level                          NaN             None  \n",
       "\n",
       "[217 rows x 6 columns]"
      ]
     },
     "execution_count": 42,
     "metadata": {},
     "output_type": "execute_result"
    }
   ],
   "source": [
    "cs_df.loc[:,\"Population Level\"] = cs_df.apply(lambda x: get_pop_level(x[\"Population\"]),axis = 1)\n",
    "# or cs_df[\"Population Level\"] = cs_df.apply(lambda x: get_pop_level(x[\"Population\"]),axis = 1)\n",
    "cs_df"
   ]
  },
  {
   "cell_type": "markdown",
   "id": "4add223f-9737-4e3b-b5a0-b3b896599264",
   "metadata": {},
   "source": [
    "Lecture 14 Example 2 : Create a pandas dataframe from the file airplanes.csv using the ICAO Code as the index column. \n",
    "\n",
    "Create a scatter plot that shows the correlation between MTOW and MALW including an Ordinary Least Squares regression trendline.\n",
    "\n",
    "Create a histogram showing the count of how many there are of each range of possible Engine sizes.\n",
    "\n",
    "Create a pie chart showing market shares of some of the largest airplane manufacturers.\n",
    "\n",
    "    "
   ]
  },
  {
   "cell_type": "code",
   "execution_count": 51,
   "id": "af6edbde-6c57-4a10-96e7-18333c58cd9f",
   "metadata": {},
   "outputs": [
    {
     "data": {
      "text/html": [
       "<div>\n",
       "<style scoped>\n",
       "    .dataframe tbody tr th:only-of-type {\n",
       "        vertical-align: middle;\n",
       "    }\n",
       "\n",
       "    .dataframe tbody tr th {\n",
       "        vertical-align: top;\n",
       "    }\n",
       "\n",
       "    .dataframe thead th {\n",
       "        text-align: right;\n",
       "    }\n",
       "</style>\n",
       "<table border=\"1\" class=\"dataframe\">\n",
       "  <thead>\n",
       "    <tr style=\"text-align: right;\">\n",
       "      <th></th>\n",
       "      <th>Manufacturer</th>\n",
       "      <th>Model</th>\n",
       "      <th>Engine Class</th>\n",
       "      <th>Number of Engines</th>\n",
       "      <th>Min Approach Speed</th>\n",
       "      <th>MTOW</th>\n",
       "      <th>MALW</th>\n",
       "      <th>Weight Class</th>\n",
       "      <th>Parking</th>\n",
       "      <th>Class</th>\n",
       "      <th>Registration Count</th>\n",
       "    </tr>\n",
       "    <tr>\n",
       "      <th>ICAO Code</th>\n",
       "      <th></th>\n",
       "      <th></th>\n",
       "      <th></th>\n",
       "      <th></th>\n",
       "      <th></th>\n",
       "      <th></th>\n",
       "      <th></th>\n",
       "      <th></th>\n",
       "      <th></th>\n",
       "      <th></th>\n",
       "      <th></th>\n",
       "    </tr>\n",
       "  </thead>\n",
       "  <tbody>\n",
       "    <tr>\n",
       "      <th>A124</th>\n",
       "      <td>ANTONOV</td>\n",
       "      <td>Antonov AN-124 Ruslan</td>\n",
       "      <td>Jet</td>\n",
       "      <td>4</td>\n",
       "      <td>151</td>\n",
       "      <td>892871</td>\n",
       "      <td>727525</td>\n",
       "      <td>Heavy</td>\n",
       "      <td>57915.6</td>\n",
       "      <td>Fixed-wing</td>\n",
       "      <td>55</td>\n",
       "    </tr>\n",
       "    <tr>\n",
       "      <th>A19N</th>\n",
       "      <td>AIRBUS</td>\n",
       "      <td>Airbus A319 Neo</td>\n",
       "      <td>Jet</td>\n",
       "      <td>2</td>\n",
       "      <td>130</td>\n",
       "      <td>166449</td>\n",
       "      <td>137789</td>\n",
       "      <td>Medium</td>\n",
       "      <td>14790.0</td>\n",
       "      <td>Fixed-wing</td>\n",
       "      <td>0</td>\n",
       "    </tr>\n",
       "    <tr>\n",
       "      <th>A20N</th>\n",
       "      <td>AIRBUS</td>\n",
       "      <td>Airbus A320 Neo</td>\n",
       "      <td>Jet</td>\n",
       "      <td>2</td>\n",
       "      <td>137</td>\n",
       "      <td>174165</td>\n",
       "      <td>148591</td>\n",
       "      <td>Medium</td>\n",
       "      <td>16358.3</td>\n",
       "      <td>Fixed-wing</td>\n",
       "      <td>147</td>\n",
       "    </tr>\n",
       "    <tr>\n",
       "      <th>A21N</th>\n",
       "      <td>AIRBUS</td>\n",
       "      <td>Airbus A321 Neo</td>\n",
       "      <td>Jet</td>\n",
       "      <td>2</td>\n",
       "      <td>136</td>\n",
       "      <td>209439</td>\n",
       "      <td>174606</td>\n",
       "      <td>Medium</td>\n",
       "      <td>19253.0</td>\n",
       "      <td>Fixed-wing</td>\n",
       "      <td>106</td>\n",
       "    </tr>\n",
       "    <tr>\n",
       "      <th>A306</th>\n",
       "      <td>AIRBUS</td>\n",
       "      <td>Airbus A300 B4-600</td>\n",
       "      <td>Jet</td>\n",
       "      <td>2</td>\n",
       "      <td>137</td>\n",
       "      <td>363760</td>\n",
       "      <td>304230</td>\n",
       "      <td>Heavy</td>\n",
       "      <td>28666.7</td>\n",
       "      <td>Fixed-wing</td>\n",
       "      <td>29</td>\n",
       "    </tr>\n",
       "    <tr>\n",
       "      <th>...</th>\n",
       "      <td>...</td>\n",
       "      <td>...</td>\n",
       "      <td>...</td>\n",
       "      <td>...</td>\n",
       "      <td>...</td>\n",
       "      <td>...</td>\n",
       "      <td>...</td>\n",
       "      <td>...</td>\n",
       "      <td>...</td>\n",
       "      <td>...</td>\n",
       "      <td>...</td>\n",
       "    </tr>\n",
       "    <tr>\n",
       "      <th>TBM8</th>\n",
       "      <td>SOCATA</td>\n",
       "      <td>Socata TBM-850</td>\n",
       "      <td>Turboprop</td>\n",
       "      <td>1</td>\n",
       "      <td>85</td>\n",
       "      <td>7394</td>\n",
       "      <td>7024</td>\n",
       "      <td>Light</td>\n",
       "      <td>2058.8</td>\n",
       "      <td>Fixed-wing</td>\n",
       "      <td>330</td>\n",
       "    </tr>\n",
       "    <tr>\n",
       "      <th>TBM9</th>\n",
       "      <td>SOCATA</td>\n",
       "      <td>Socata TBM-900</td>\n",
       "      <td>Turboprop</td>\n",
       "      <td>1</td>\n",
       "      <td>85</td>\n",
       "      <td>7394</td>\n",
       "      <td>7024</td>\n",
       "      <td>Light</td>\n",
       "      <td>2094.4</td>\n",
       "      <td>Fixed-wing</td>\n",
       "      <td>127</td>\n",
       "    </tr>\n",
       "    <tr>\n",
       "      <th>TEX2</th>\n",
       "      <td>RAYTHEON</td>\n",
       "      <td>Raytheon Texan 2</td>\n",
       "      <td>Turboprop</td>\n",
       "      <td>1</td>\n",
       "      <td>103</td>\n",
       "      <td>6500</td>\n",
       "      <td>6900</td>\n",
       "      <td>Light</td>\n",
       "      <td>1657.9</td>\n",
       "      <td>Fixed-wing</td>\n",
       "      <td>446</td>\n",
       "    </tr>\n",
       "    <tr>\n",
       "      <th>TOBA</th>\n",
       "      <td>SOCATA</td>\n",
       "      <td>Socata TB-10 Tobago</td>\n",
       "      <td>Piston</td>\n",
       "      <td>1</td>\n",
       "      <td>65</td>\n",
       "      <td>2530</td>\n",
       "      <td>2530</td>\n",
       "      <td>Light</td>\n",
       "      <td>1301.1</td>\n",
       "      <td>Fixed-wing</td>\n",
       "      <td>51</td>\n",
       "    </tr>\n",
       "    <tr>\n",
       "      <th>WW24</th>\n",
       "      <td>IAI</td>\n",
       "      <td>IAI 1124 Westwind</td>\n",
       "      <td>Jet</td>\n",
       "      <td>2</td>\n",
       "      <td>129</td>\n",
       "      <td>23500</td>\n",
       "      <td>19000</td>\n",
       "      <td>Medium</td>\n",
       "      <td>3140.0</td>\n",
       "      <td>Fixed-wing</td>\n",
       "      <td>99</td>\n",
       "    </tr>\n",
       "  </tbody>\n",
       "</table>\n",
       "<p>337 rows × 11 columns</p>\n",
       "</div>"
      ],
      "text/plain": [
       "          Manufacturer                  Model Engine Class  Number of Engines  \\\n",
       "ICAO Code                                                                       \n",
       "A124           ANTONOV  Antonov AN-124 Ruslan          Jet                  4   \n",
       "A19N            AIRBUS        Airbus A319 Neo          Jet                  2   \n",
       "A20N            AIRBUS        Airbus A320 Neo          Jet                  2   \n",
       "A21N            AIRBUS        Airbus A321 Neo          Jet                  2   \n",
       "A306            AIRBUS     Airbus A300 B4-600          Jet                  2   \n",
       "...                ...                    ...          ...                ...   \n",
       "TBM8            SOCATA         Socata TBM-850    Turboprop                  1   \n",
       "TBM9            SOCATA         Socata TBM-900    Turboprop                  1   \n",
       "TEX2          RAYTHEON       Raytheon Texan 2    Turboprop                  1   \n",
       "TOBA            SOCATA    Socata TB-10 Tobago       Piston                  1   \n",
       "WW24               IAI      IAI 1124 Westwind          Jet                  2   \n",
       "\n",
       "           Min Approach Speed    MTOW    MALW Weight Class  Parking  \\\n",
       "ICAO Code                                                             \n",
       "A124                      151  892871  727525        Heavy  57915.6   \n",
       "A19N                      130  166449  137789       Medium  14790.0   \n",
       "A20N                      137  174165  148591       Medium  16358.3   \n",
       "A21N                      136  209439  174606       Medium  19253.0   \n",
       "A306                      137  363760  304230        Heavy  28666.7   \n",
       "...                       ...     ...     ...          ...      ...   \n",
       "TBM8                       85    7394    7024        Light   2058.8   \n",
       "TBM9                       85    7394    7024        Light   2094.4   \n",
       "TEX2                      103    6500    6900        Light   1657.9   \n",
       "TOBA                       65    2530    2530        Light   1301.1   \n",
       "WW24                      129   23500   19000       Medium   3140.0   \n",
       "\n",
       "                Class  Registration Count  \n",
       "ICAO Code                                  \n",
       "A124       Fixed-wing                  55  \n",
       "A19N       Fixed-wing                   0  \n",
       "A20N       Fixed-wing                 147  \n",
       "A21N       Fixed-wing                 106  \n",
       "A306       Fixed-wing                  29  \n",
       "...               ...                 ...  \n",
       "TBM8       Fixed-wing                 330  \n",
       "TBM9       Fixed-wing                 127  \n",
       "TEX2       Fixed-wing                 446  \n",
       "TOBA       Fixed-wing                  51  \n",
       "WW24       Fixed-wing                  99  \n",
       "\n",
       "[337 rows x 11 columns]"
      ]
     },
     "execution_count": 51,
     "metadata": {},
     "output_type": "execute_result"
    }
   ],
   "source": [
    "airplanes_df = pd.read_csv(\"airplanes.csv\",index_col = 0)\n",
    "airplanes_df"
   ]
  },
  {
   "cell_type": "code",
   "execution_count": 55,
   "id": "73aca2fb-dfcb-4bfd-9c7b-8e8583c49333",
   "metadata": {},
   "outputs": [
    {
     "data": {
      "application/vnd.plotly.v1+json": {
       "config": {
        "plotlyServerURL": "https://plot.ly"
       },
       "data": [
        {
         "hovertemplate": "MTOW=%{x}<br>MALW=%{y}<extra></extra>",
         "legendgroup": "",
         "marker": {
          "color": "#636efa",
          "symbol": "circle"
         },
         "mode": "markers",
         "name": "",
         "orientation": "v",
         "showlegend": false,
         "type": "scatter",
         "x": [
          892871,
          166449,
          174165,
          209439,
          363760,
          363760,
          317465,
          149914,
          168653,
          171961,
          200621,
          533519,
          533519,
          500449,
          544542,
          553400,
          606271,
          609578,
          837756,
          837756,
          617295,
          696661,
          1267658,
          310852,
          6000,
          6000,
          8500,
          9000,
          10325,
          10325,
          134482,
          76060,
          9900,
          17120,
          177000,
          181200,
          194700,
          333600,
          118000,
          160000,
          184800,
          115500,
          139500,
          150000,
          136000,
          144500,
          154500,
          174200,
          187700,
          750000,
          833000,
          833000,
          910000,
          987000,
          255500,
          270000,
          315000,
          412000,
          450000,
          656000,
          660000,
          775000,
          775000,
          766106,
          775000,
          502500,
          560000,
          560000,
          139100,
          156307,
          11800,
          9700,
          2150,
          12500,
          2450,
          2750,
          3400,
          3400,
          3650,
          16100,
          5100,
          5500,
          6775,
          7700,
          8200,
          3900,
          1675,
          8000,
          11300,
          10485,
          10950,
          3325,
          803001,
          3850,
          1500,
          155000,
          1500,
          1600,
          1675,
          112436,
          1320,
          585000,
          2200,
          2550,
          2450,
          2500,
          2800,
          3100,
          3350,
          3300,
          3350,
          3600,
          3789,
          9062,
          3800,
          16976,
          3600,
          12500,
          13870,
          17110,
          10700,
          5150,
          155000,
          5500,
          4990,
          6290,
          5990,
          6300,
          8400,
          6750,
          7450,
          8600,
          9850,
          11850,
          11850,
          8645,
          10700,
          10700,
          15100,
          14800,
          14800,
          16300,
          20200,
          23000,
          30300,
          30800,
          39500,
          2450,
          36100,
          2800,
          3100,
          1220,
          1800,
          38850,
          40600,
          47600,
          36376,
          3400,
          3400,
          47450,
          47450,
          75000,
          80500,
          1320,
          41790,
          58500,
          30843,
          2888,
          3935,
          580000,
          25200,
          25200,
          107000,
          335100,
          90700,
          108000,
          121000,
          34500,
          36300,
          41100,
          64500,
          12500,
          44000,
          1609,
          13010,
          26433,
          44533,
          48502,
          85098,
          110892,
          115280,
          124340,
          135585,
          44092,
          53131,
          10582,
          35724,
          38360,
          17968,
          85517,
          82673,
          5950,
          1260,
          4550,
          42400,
          9850,
          49000,
          18740,
          28660,
          39700,
          70000,
          73000,
          1320,
          26100,
          6075,
          39600,
          79600,
          94600,
          3800,
          35650,
          1975,
          92500,
          106250,
          99500,
          62000,
          69700,
          73200,
          90500,
          99600,
          25000,
          28000,
          31100,
          39500,
          11244,
          9039,
          2000,
          374782,
          34524,
          15332,
          24000,
          322500,
          7255,
          44500,
          1400,
          2690,
          12500,
          13000,
          15000,
          15500,
          18300,
          21000,
          21500,
          19500,
          22750,
          21500,
          21500,
          3200,
          3374,
          3368,
          2300,
          602500,
          140000,
          149500,
          160000,
          149500,
          149500,
          156000,
          11574,
          14630,
          2850,
          12050,
          4000,
          2440,
          3000,
          2758,
          2750,
          135000,
          3600,
          3600,
          5092,
          12100,
          4387,
          7500,
          1220,
          1750,
          1650,
          1750,
          1950,
          2000,
          4800,
          2900,
          2900,
          5200,
          3600,
          6500,
          3600,
          4750,
          1670,
          3800,
          4340,
          9000,
          8700,
          9474,
          11200,
          12050,
          10450,
          18300,
          12500,
          169000,
          197000,
          101500,
          97000,
          1320,
          2400,
          3600,
          50706,
          20172,
          12500,
          28000,
          22900,
          27117,
          2126,
          2358,
          101148,
          12500,
          3800,
          8500,
          5500,
          5617,
          1500,
          3080,
          6614,
          7394,
          7394,
          6500,
          2530,
          23500
         ],
         "xaxis": "x",
         "y": [
          727525,
          137789,
          148591,
          174606,
          304230,
          299829,
          273372,
          126766,
          134482,
          145505,
          171520,
          401241,
          412264,
          412260,
          410060,
          421080,
          399037,
          423288,
          542337,
          584225,
          456357,
          513677,
          868621,
          271166,
          4300,
          4300,
          8500,
          9000,
          9675,
          9675,
          127868,
          72753,
          9500,
          16000,
          145600,
          152800,
          163900,
          215000,
          100000,
          140000,
          150000,
          103000,
          115800,
          123700,
          110000,
          121500,
          145600,
          146275,
          71400,
          585000,
          630000,
          574000,
          630000,
          688000,
          198000,
          224000,
          260000,
          320000,
          350000,
          470000,
          524000,
          587000,
          587000,
          575000,
          554000,
          380000,
          425000,
          445000,
          119490,
          133600,
          11210,
          9400,
          1999,
          12500,
          2450,
          2750,
          3400,
          3400,
          3650,
          15700,
          5100,
          5400,
          6775,
          7700,
          8200,
          3900,
          1675,
          8000,
          11300,
          9600,
          10950,
          3325,
          652000,
          3850,
          1500,
          130000,
          1500,
          1600,
          1675,
          103615,
          1320,
          446920,
          2200,
          2450,
          2450,
          2500,
          2800,
          2950,
          3350,
          3300,
          3350,
          3600,
          3600,
          7800,
          3800,
          17857,
          3420,
          11525,
          12750,
          15660,
          9900,
          3605,
          130000,
          5500,
          4750,
          5990,
          5990,
          6850,
          8100,
          6750,
          7200,
          8000,
          9360,
          11350,
          11350,
          8000,
          9900,
          9900,
          13500,
          12000,
          13500,
          15200,
          18700,
          17000,
          27100,
          27575,
          33500,
          2450,
          31800,
          2800,
          2950,
          1220,
          1800,
          33750,
          34150,
          38000,
          36376,
          3230,
          3230,
          47000,
          44700,
          67000,
          73500,
          1320,
          39800,
          52000,
          31725,
          2407,
          3748,
          436000,
          24400,
          24400,
          88200,
          249990,
          81700,
          99000,
          110000,
          33900,
          34500,
          42000,
          61750,
          12300,
          42000,
          1609,
          12566,
          25794,
          41226,
          41226,
          73413,
          94799,
          100972,
          108136,
          119049,
          40785,
          44092,
          9766,
          32518,
          34524,
          16685,
          74957,
          74957,
          5415,
          1260,
          4200,
          39300,
          9361,
          44500,
          17640,
          27320,
          35715,
          62400,
          62400,
          1320,
          21700,
          6075,
          32700,
          64350,
          76800,
          3800,
          30000,
          1975,
          78600,
          85799,
          78600,
          58500,
          58500,
          66000,
          75300,
          83500,
          22046,
          23350,
          25000,
          33500,
          10249,
          9859,
          2000,
          336202,
          31725,
          15609,
          22300,
          119231,
          7255,
          36000,
          1400,
          2690,
          11880,
          11880,
          12499,
          15300,
          14300,
          19200,
          19200,
          17000,
          19500,
          19200,
          19200,
          3000,
          3200,
          3200,
          2300,
          430000,
          128000,
          130000,
          139500,
          130000,
          130000,
          137000,
          11025,
          13200,
          2850,
          11500,
          3800,
          2130,
          3000,
          2900,
          2750,
          103880,
          3600,
          3600,
          4850,
          12100,
          4167,
          7125,
          1220,
          1750,
          1650,
          1750,
          1950,
          2000,
          4800,
          2900,
          2900,
          4940,
          3600,
          6500,
          3600,
          4513,
          1670,
          3800,
          3900,
          9000,
          8700,
          9000,
          10330,
          11100,
          9921,
          16900,
          11600,
          142500,
          154500,
          88500,
          85000,
          1320,
          2400,
          3600,
          48501,
          17500,
          12500,
          27200,
          22597,
          26499,
          2900,
          3400,
          90390,
          12500,
          3800,
          7809,
          5300,
          5329,
          1500,
          3080,
          6250,
          7024,
          7024,
          6900,
          2530,
          19000
         ],
         "yaxis": "y"
        },
        {
         "hovertemplate": "<b>OLS trendline</b><br>MALW = 0.733413 * MTOW + 5342.21<br>R<sup>2</sup>=0.990449<br><br>MTOW=%{x}<br>MALW=%{y} <b>(trend)</b><extra></extra>",
         "legendgroup": "",
         "marker": {
          "color": "#636efa",
          "symbol": "circle"
         },
         "mode": "lines",
         "name": "",
         "showlegend": false,
         "type": "scatter",
         "x": [
          1220,
          1220,
          1260,
          1320,
          1320,
          1320,
          1320,
          1400,
          1500,
          1500,
          1500,
          1600,
          1609,
          1650,
          1670,
          1675,
          1675,
          1750,
          1750,
          1800,
          1950,
          1975,
          2000,
          2000,
          2126,
          2150,
          2200,
          2300,
          2358,
          2400,
          2440,
          2450,
          2450,
          2450,
          2500,
          2530,
          2550,
          2690,
          2750,
          2750,
          2758,
          2800,
          2800,
          2850,
          2888,
          2900,
          2900,
          3000,
          3080,
          3100,
          3100,
          3200,
          3300,
          3325,
          3350,
          3350,
          3368,
          3374,
          3400,
          3400,
          3400,
          3400,
          3600,
          3600,
          3600,
          3600,
          3600,
          3600,
          3600,
          3650,
          3789,
          3800,
          3800,
          3800,
          3800,
          3850,
          3900,
          3935,
          4000,
          4340,
          4387,
          4550,
          4750,
          4800,
          4990,
          5092,
          5100,
          5150,
          5200,
          5500,
          5500,
          5500,
          5617,
          5950,
          5990,
          6000,
          6000,
          6075,
          6290,
          6300,
          6500,
          6500,
          6614,
          6750,
          6775,
          7255,
          7394,
          7394,
          7450,
          7500,
          7700,
          8000,
          8200,
          8400,
          8500,
          8500,
          8600,
          8645,
          8700,
          9000,
          9000,
          9039,
          9062,
          9474,
          9700,
          9850,
          9850,
          9900,
          10325,
          10325,
          10450,
          10485,
          10582,
          10700,
          10700,
          10700,
          10950,
          11200,
          11244,
          11300,
          11574,
          11800,
          11850,
          11850,
          12050,
          12050,
          12100,
          12500,
          12500,
          12500,
          12500,
          12500,
          12500,
          12500,
          13000,
          13010,
          13870,
          14630,
          14800,
          14800,
          15000,
          15100,
          15332,
          15500,
          16100,
          16300,
          16976,
          17110,
          17120,
          17968,
          18300,
          18300,
          18740,
          19500,
          20172,
          20200,
          21000,
          21500,
          21500,
          21500,
          22750,
          22900,
          23000,
          23500,
          24000,
          25000,
          25200,
          25200,
          26100,
          26433,
          27117,
          28000,
          28000,
          28660,
          30300,
          30800,
          30843,
          31100,
          34500,
          34524,
          35650,
          35724,
          36100,
          36300,
          36376,
          38360,
          38850,
          39500,
          39500,
          39600,
          39700,
          40600,
          41100,
          41790,
          42400,
          44000,
          44092,
          44500,
          44533,
          47450,
          47450,
          47600,
          48502,
          49000,
          50706,
          53131,
          58500,
          62000,
          64500,
          69700,
          70000,
          73000,
          73200,
          75000,
          76060,
          79600,
          80500,
          82673,
          85098,
          85517,
          90500,
          90700,
          92500,
          94600,
          97000,
          99500,
          99600,
          101148,
          101500,
          106250,
          107000,
          108000,
          110892,
          112436,
          115280,
          115500,
          118000,
          121000,
          124340,
          134482,
          135000,
          135585,
          136000,
          139100,
          139500,
          140000,
          144500,
          149500,
          149500,
          149500,
          149914,
          150000,
          154500,
          155000,
          155000,
          156000,
          156307,
          160000,
          160000,
          166449,
          168653,
          169000,
          171961,
          174165,
          174200,
          177000,
          181200,
          184800,
          187700,
          194700,
          197000,
          200621,
          209439,
          255500,
          270000,
          310852,
          315000,
          317465,
          322500,
          333600,
          335100,
          363760,
          363760,
          374782,
          412000,
          450000,
          500449,
          502500,
          533519,
          533519,
          544542,
          553400,
          560000,
          560000,
          580000,
          585000,
          602500,
          606271,
          609578,
          617295,
          656000,
          660000,
          696661,
          750000,
          766106,
          775000,
          775000,
          775000,
          803001,
          833000,
          833000,
          837756,
          837756,
          892871,
          910000,
          987000,
          1267658
         ],
         "xaxis": "x",
         "y": [
          6236.9735605517335,
          6236.9735605517335,
          6266.3100934689855,
          6310.314892844864,
          6310.314892844864,
          6310.314892844864,
          6310.314892844864,
          6368.987958679367,
          6442.329290972497,
          6442.329290972497,
          6442.329290972497,
          6515.670623265626,
          6522.271343172008,
          6552.341289412191,
          6567.009555870817,
          6570.676622485474,
          6570.676622485474,
          6625.68262170532,
          6625.68262170532,
          6662.353287851885,
          6772.36528629158,
          6790.700619364862,
          6809.035952438145,
          6809.035952438145,
          6901.446031127488,
          6919.047950877839,
          6955.718617024404,
          7029.059949317533,
          7071.597922047548,
          7102.401281610663,
          7131.737814527914,
          7139.0719477572275,
          7139.0719477572275,
          7139.0719477572275,
          7175.7426139037925,
          7197.745013591732,
          7212.413280050358,
          7315.091145260739,
          7359.095944636617,
          7359.095944636617,
          7364.963251220067,
          7395.766610783181,
          7395.766610783181,
          7432.437276929746,
          7460.306983201135,
          7469.107943076311,
          7469.107943076311,
          7542.44927536944,
          7601.122341203944,
          7615.79060766257,
          7615.79060766257,
          7689.1319399557,
          7762.47327224883,
          7780.808605322111,
          7799.143938395394,
          7799.143938395394,
          7812.345378208158,
          7816.745858145745,
          7835.814604541959,
          7835.814604541959,
          7835.814604541959,
          7835.814604541959,
          7982.497269128218,
          7982.497269128218,
          7982.497269128218,
          7982.497269128218,
          7982.497269128218,
          7982.497269128218,
          7982.497269128218,
          8019.167935274783,
          8121.112387162233,
          8129.179933714478,
          8129.179933714478,
          8129.179933714478,
          8129.179933714478,
          8165.850599861043,
          8202.521266007607,
          8228.190732310202,
          8275.862598300737,
          8525.223128097377,
          8559.693554275149,
          8679.239925912949,
          8825.922590499209,
          8862.593256645774,
          9001.94178800272,
          9076.749946941713,
          9082.617253525163,
          9119.287919671728,
          9155.958585818293,
          9375.982582697681,
          9375.982582697681,
          9375.982582697681,
          9461.791941480642,
          9706.018578016763,
          9735.355110934015,
          9742.689244163328,
          9742.689244163328,
          9797.695243383176,
          9955.379107813404,
          9962.713241042717,
          10109.395905628977,
          10109.395905628977,
          10193.005024443144,
          10292.7492363618,
          10311.084569435083,
          10663.122964442106,
          10765.067416329555,
          10765.067416329555,
          10806.138562413707,
          10842.809228560272,
          10989.491893146533,
          11209.515890025921,
          11356.19855461218,
          11502.88121919844,
          11576.222551491568,
          11576.222551491568,
          11649.563883784698,
          11682.567483316607,
          11722.905216077828,
          11942.929212957217,
          11942.929212957217,
          11971.532332551536,
          11988.400838978958,
          12290.56712802665,
          12456.318539009124,
          12566.330537448819,
          12566.330537448819,
          12603.001203595382,
          12914.701865841183,
          12914.701865841183,
          13006.378531207596,
          13032.047997510192,
          13103.189089834526,
          13189.73186194042,
          13189.73186194042,
          13189.73186194042,
          13373.085192673245,
          13556.438523406068,
          13588.708709615044,
          13629.779855699198,
          13830.735106182372,
          13996.486517164845,
          14033.15718331141,
          14033.15718331141,
          14179.839847897669,
          14179.839847897669,
          14216.510514044234,
          14509.875843216752,
          14509.875843216752,
          14509.875843216752,
          14509.875843216752,
          14509.875843216752,
          14509.875843216752,
          14509.875843216752,
          14876.582504682401,
          14883.916637911714,
          15514.652095632628,
          16072.046221060413,
          16196.726485958734,
          16196.726485958734,
          16343.409150544992,
          16416.75048283812,
          16586.902373758185,
          16710.11581201064,
          17150.163805769418,
          17296.84647035568,
          17792.633876657233,
          17890.91126193003,
          17898.24539515934,
          18520.17989300508,
          18763.67311621827,
          18763.67311621827,
          19086.37497830804,
          19643.769103735824,
          20136.622856745656,
          20157.15842978773,
          20743.889088132768,
          21110.59574959842,
          21110.59574959842,
          21110.59574959842,
          22027.362403262538,
          22137.374401702233,
          22210.71573399536,
          22577.42239546101,
          22944.129056926657,
          23677.542379857954,
          23824.22504444421,
          23824.22504444421,
          24484.297035082378,
          24728.5236716185,
          25230.178384503506,
          25877.782348651843,
          25877.782348651843,
          26361.835141786498,
          27564.63299139382,
          27931.33965285947,
          27962.876425745515,
          28151.363649738858,
          30644.968947705263,
          30662.570867455615,
          31488.394269076256,
          31542.666854973173,
          31818.430264395338,
          31965.112928981598,
          32020.852341524376,
          33475.94437422007,
          33835.316902456405,
          34312.03556236174,
          34312.03556236174,
          34385.37689465487,
          34458.718226948,
          35118.790217586175,
          35485.49687905182,
          35991.552071874416,
          36438.9341988625,
          37612.39551555258,
          37679.869541262255,
          37979.10217701823,
          38003.30481667496,
          40142.67147966555,
          40142.67147966555,
          40252.683478105246,
          40914.22229538927,
          41279.46213020906,
          42530.66525912985,
          44309.19256723824,
          48246.88869805637,
          50813.83532831591,
          52647.36863564415,
          56461.11791488688,
          56681.14191176627,
          58881.38188056016,
          59028.06454514642,
          60348.20852642276,
          61125.62664872993,
          63721.90981190671,
          64381.981802544884,
          65975.68895327458,
          67754.21626138299,
          68061.51644369119,
          71716.11503185784,
          71862.7976964441,
          73182.94167772043,
          74723.10965587615,
          76483.30163091127,
          78316.83493823951,
          78390.17627053264,
          79525.50009443029,
          79783.6615841021,
          83267.37486802576,
          83817.43486022422,
          84550.84818315553,
          86671.87951307282,
          87804.26968367875,
          89890.09717409535,
          90051.44810514024,
          91884.98141246848,
          94085.22138126237,
          96534.8218798529,
          103973.09980102211,
          104353.00790230051,
          104782.05469621532,
          105086.42122523181,
          107360.00252631883,
          107653.36785549135,
          108020.074516957,
          111320.43447014783,
          114987.5010848043,
          114987.5010848043,
          114987.5010848043,
          115291.13420049787,
          115354.20774626995,
          118654.5676994608,
          119021.27436092643,
          119021.27436092643,
          119754.68768385773,
          119979.84557399763,
          122688.34097558292,
          122688.34097558292,
          127418.12349516684,
          129034.56645890741,
          129289.06088196459,
          131460.69773116414,
          133077.14069490472,
          133102.8101612073,
          135156.36746541495,
          138236.7034217264,
          140876.99138427907,
          143003.89002077983,
          148137.78328129888,
          149824.63392404086,
          152480.3235663751,
          158947.56224798327,
          192729.3133155217,
          203363.8064980255,
          233325.20756641479,
          236367.4060299338,
          238175.26987095946,
          241868.00595191852,
          250008.8938364559,
          251109.01382085285,
          272128.6396560638,
          272128.6396560638,
          280212.32130141254,
          307508.49835426954,
          335378.20462565875,
          372378.1733542197,
          373882.4040795518,
          396632.15194355766,
          396632.15194355766,
          404716.56700222933,
          411213.1422167548,
          416053.67014810134,
          416053.67014810134,
          430721.93660672725,
          434389.0032213837,
          447223.7363726814,
          449989.4380134553,
          452414.83587238914,
          458074.5864854499,
          486461.3491495057,
          489395.0024412309,
          516282.6682732152,
          555402.2015050476,
          567214.556484179,
          573737.53457833,
          573737.53457833,
          573737.53457833,
          594273.8410337291,
          616275.5073083452,
          616275.5073083452,
          619763.6210722064,
          619763.6210722064,
          660185.6963655647,
          672748.333174055,
          729221.1590397647,
          935059.4754270164
         ],
         "yaxis": "y"
        }
       ],
       "layout": {
        "autosize": true,
        "legend": {
         "tracegroupgap": 0
        },
        "margin": {
         "t": 60
        },
        "template": {
         "data": {
          "bar": [
           {
            "error_x": {
             "color": "#2a3f5f"
            },
            "error_y": {
             "color": "#2a3f5f"
            },
            "marker": {
             "line": {
              "color": "#E5ECF6",
              "width": 0.5
             },
             "pattern": {
              "fillmode": "overlay",
              "size": 10,
              "solidity": 0.2
             }
            },
            "type": "bar"
           }
          ],
          "barpolar": [
           {
            "marker": {
             "line": {
              "color": "#E5ECF6",
              "width": 0.5
             },
             "pattern": {
              "fillmode": "overlay",
              "size": 10,
              "solidity": 0.2
             }
            },
            "type": "barpolar"
           }
          ],
          "carpet": [
           {
            "aaxis": {
             "endlinecolor": "#2a3f5f",
             "gridcolor": "white",
             "linecolor": "white",
             "minorgridcolor": "white",
             "startlinecolor": "#2a3f5f"
            },
            "baxis": {
             "endlinecolor": "#2a3f5f",
             "gridcolor": "white",
             "linecolor": "white",
             "minorgridcolor": "white",
             "startlinecolor": "#2a3f5f"
            },
            "type": "carpet"
           }
          ],
          "choropleth": [
           {
            "colorbar": {
             "outlinewidth": 0,
             "ticks": ""
            },
            "type": "choropleth"
           }
          ],
          "contour": [
           {
            "colorbar": {
             "outlinewidth": 0,
             "ticks": ""
            },
            "colorscale": [
             [
              0,
              "#0d0887"
             ],
             [
              0.1111111111111111,
              "#46039f"
             ],
             [
              0.2222222222222222,
              "#7201a8"
             ],
             [
              0.3333333333333333,
              "#9c179e"
             ],
             [
              0.4444444444444444,
              "#bd3786"
             ],
             [
              0.5555555555555556,
              "#d8576b"
             ],
             [
              0.6666666666666666,
              "#ed7953"
             ],
             [
              0.7777777777777778,
              "#fb9f3a"
             ],
             [
              0.8888888888888888,
              "#fdca26"
             ],
             [
              1,
              "#f0f921"
             ]
            ],
            "type": "contour"
           }
          ],
          "contourcarpet": [
           {
            "colorbar": {
             "outlinewidth": 0,
             "ticks": ""
            },
            "type": "contourcarpet"
           }
          ],
          "heatmap": [
           {
            "colorbar": {
             "outlinewidth": 0,
             "ticks": ""
            },
            "colorscale": [
             [
              0,
              "#0d0887"
             ],
             [
              0.1111111111111111,
              "#46039f"
             ],
             [
              0.2222222222222222,
              "#7201a8"
             ],
             [
              0.3333333333333333,
              "#9c179e"
             ],
             [
              0.4444444444444444,
              "#bd3786"
             ],
             [
              0.5555555555555556,
              "#d8576b"
             ],
             [
              0.6666666666666666,
              "#ed7953"
             ],
             [
              0.7777777777777778,
              "#fb9f3a"
             ],
             [
              0.8888888888888888,
              "#fdca26"
             ],
             [
              1,
              "#f0f921"
             ]
            ],
            "type": "heatmap"
           }
          ],
          "heatmapgl": [
           {
            "colorbar": {
             "outlinewidth": 0,
             "ticks": ""
            },
            "colorscale": [
             [
              0,
              "#0d0887"
             ],
             [
              0.1111111111111111,
              "#46039f"
             ],
             [
              0.2222222222222222,
              "#7201a8"
             ],
             [
              0.3333333333333333,
              "#9c179e"
             ],
             [
              0.4444444444444444,
              "#bd3786"
             ],
             [
              0.5555555555555556,
              "#d8576b"
             ],
             [
              0.6666666666666666,
              "#ed7953"
             ],
             [
              0.7777777777777778,
              "#fb9f3a"
             ],
             [
              0.8888888888888888,
              "#fdca26"
             ],
             [
              1,
              "#f0f921"
             ]
            ],
            "type": "heatmapgl"
           }
          ],
          "histogram": [
           {
            "marker": {
             "pattern": {
              "fillmode": "overlay",
              "size": 10,
              "solidity": 0.2
             }
            },
            "type": "histogram"
           }
          ],
          "histogram2d": [
           {
            "colorbar": {
             "outlinewidth": 0,
             "ticks": ""
            },
            "colorscale": [
             [
              0,
              "#0d0887"
             ],
             [
              0.1111111111111111,
              "#46039f"
             ],
             [
              0.2222222222222222,
              "#7201a8"
             ],
             [
              0.3333333333333333,
              "#9c179e"
             ],
             [
              0.4444444444444444,
              "#bd3786"
             ],
             [
              0.5555555555555556,
              "#d8576b"
             ],
             [
              0.6666666666666666,
              "#ed7953"
             ],
             [
              0.7777777777777778,
              "#fb9f3a"
             ],
             [
              0.8888888888888888,
              "#fdca26"
             ],
             [
              1,
              "#f0f921"
             ]
            ],
            "type": "histogram2d"
           }
          ],
          "histogram2dcontour": [
           {
            "colorbar": {
             "outlinewidth": 0,
             "ticks": ""
            },
            "colorscale": [
             [
              0,
              "#0d0887"
             ],
             [
              0.1111111111111111,
              "#46039f"
             ],
             [
              0.2222222222222222,
              "#7201a8"
             ],
             [
              0.3333333333333333,
              "#9c179e"
             ],
             [
              0.4444444444444444,
              "#bd3786"
             ],
             [
              0.5555555555555556,
              "#d8576b"
             ],
             [
              0.6666666666666666,
              "#ed7953"
             ],
             [
              0.7777777777777778,
              "#fb9f3a"
             ],
             [
              0.8888888888888888,
              "#fdca26"
             ],
             [
              1,
              "#f0f921"
             ]
            ],
            "type": "histogram2dcontour"
           }
          ],
          "mesh3d": [
           {
            "colorbar": {
             "outlinewidth": 0,
             "ticks": ""
            },
            "type": "mesh3d"
           }
          ],
          "parcoords": [
           {
            "line": {
             "colorbar": {
              "outlinewidth": 0,
              "ticks": ""
             }
            },
            "type": "parcoords"
           }
          ],
          "pie": [
           {
            "automargin": true,
            "type": "pie"
           }
          ],
          "scatter": [
           {
            "fillpattern": {
             "fillmode": "overlay",
             "size": 10,
             "solidity": 0.2
            },
            "type": "scatter"
           }
          ],
          "scatter3d": [
           {
            "line": {
             "colorbar": {
              "outlinewidth": 0,
              "ticks": ""
             }
            },
            "marker": {
             "colorbar": {
              "outlinewidth": 0,
              "ticks": ""
             }
            },
            "type": "scatter3d"
           }
          ],
          "scattercarpet": [
           {
            "marker": {
             "colorbar": {
              "outlinewidth": 0,
              "ticks": ""
             }
            },
            "type": "scattercarpet"
           }
          ],
          "scattergeo": [
           {
            "marker": {
             "colorbar": {
              "outlinewidth": 0,
              "ticks": ""
             }
            },
            "type": "scattergeo"
           }
          ],
          "scattergl": [
           {
            "marker": {
             "colorbar": {
              "outlinewidth": 0,
              "ticks": ""
             }
            },
            "type": "scattergl"
           }
          ],
          "scattermapbox": [
           {
            "marker": {
             "colorbar": {
              "outlinewidth": 0,
              "ticks": ""
             }
            },
            "type": "scattermapbox"
           }
          ],
          "scatterpolar": [
           {
            "marker": {
             "colorbar": {
              "outlinewidth": 0,
              "ticks": ""
             }
            },
            "type": "scatterpolar"
           }
          ],
          "scatterpolargl": [
           {
            "marker": {
             "colorbar": {
              "outlinewidth": 0,
              "ticks": ""
             }
            },
            "type": "scatterpolargl"
           }
          ],
          "scatterternary": [
           {
            "marker": {
             "colorbar": {
              "outlinewidth": 0,
              "ticks": ""
             }
            },
            "type": "scatterternary"
           }
          ],
          "surface": [
           {
            "colorbar": {
             "outlinewidth": 0,
             "ticks": ""
            },
            "colorscale": [
             [
              0,
              "#0d0887"
             ],
             [
              0.1111111111111111,
              "#46039f"
             ],
             [
              0.2222222222222222,
              "#7201a8"
             ],
             [
              0.3333333333333333,
              "#9c179e"
             ],
             [
              0.4444444444444444,
              "#bd3786"
             ],
             [
              0.5555555555555556,
              "#d8576b"
             ],
             [
              0.6666666666666666,
              "#ed7953"
             ],
             [
              0.7777777777777778,
              "#fb9f3a"
             ],
             [
              0.8888888888888888,
              "#fdca26"
             ],
             [
              1,
              "#f0f921"
             ]
            ],
            "type": "surface"
           }
          ],
          "table": [
           {
            "cells": {
             "fill": {
              "color": "#EBF0F8"
             },
             "line": {
              "color": "white"
             }
            },
            "header": {
             "fill": {
              "color": "#C8D4E3"
             },
             "line": {
              "color": "white"
             }
            },
            "type": "table"
           }
          ]
         },
         "layout": {
          "annotationdefaults": {
           "arrowcolor": "#2a3f5f",
           "arrowhead": 0,
           "arrowwidth": 1
          },
          "autotypenumbers": "strict",
          "coloraxis": {
           "colorbar": {
            "outlinewidth": 0,
            "ticks": ""
           }
          },
          "colorscale": {
           "diverging": [
            [
             0,
             "#8e0152"
            ],
            [
             0.1,
             "#c51b7d"
            ],
            [
             0.2,
             "#de77ae"
            ],
            [
             0.3,
             "#f1b6da"
            ],
            [
             0.4,
             "#fde0ef"
            ],
            [
             0.5,
             "#f7f7f7"
            ],
            [
             0.6,
             "#e6f5d0"
            ],
            [
             0.7,
             "#b8e186"
            ],
            [
             0.8,
             "#7fbc41"
            ],
            [
             0.9,
             "#4d9221"
            ],
            [
             1,
             "#276419"
            ]
           ],
           "sequential": [
            [
             0,
             "#0d0887"
            ],
            [
             0.1111111111111111,
             "#46039f"
            ],
            [
             0.2222222222222222,
             "#7201a8"
            ],
            [
             0.3333333333333333,
             "#9c179e"
            ],
            [
             0.4444444444444444,
             "#bd3786"
            ],
            [
             0.5555555555555556,
             "#d8576b"
            ],
            [
             0.6666666666666666,
             "#ed7953"
            ],
            [
             0.7777777777777778,
             "#fb9f3a"
            ],
            [
             0.8888888888888888,
             "#fdca26"
            ],
            [
             1,
             "#f0f921"
            ]
           ],
           "sequentialminus": [
            [
             0,
             "#0d0887"
            ],
            [
             0.1111111111111111,
             "#46039f"
            ],
            [
             0.2222222222222222,
             "#7201a8"
            ],
            [
             0.3333333333333333,
             "#9c179e"
            ],
            [
             0.4444444444444444,
             "#bd3786"
            ],
            [
             0.5555555555555556,
             "#d8576b"
            ],
            [
             0.6666666666666666,
             "#ed7953"
            ],
            [
             0.7777777777777778,
             "#fb9f3a"
            ],
            [
             0.8888888888888888,
             "#fdca26"
            ],
            [
             1,
             "#f0f921"
            ]
           ]
          },
          "colorway": [
           "#636efa",
           "#EF553B",
           "#00cc96",
           "#ab63fa",
           "#FFA15A",
           "#19d3f3",
           "#FF6692",
           "#B6E880",
           "#FF97FF",
           "#FECB52"
          ],
          "font": {
           "color": "#2a3f5f"
          },
          "geo": {
           "bgcolor": "white",
           "lakecolor": "white",
           "landcolor": "#E5ECF6",
           "showlakes": true,
           "showland": true,
           "subunitcolor": "white"
          },
          "hoverlabel": {
           "align": "left"
          },
          "hovermode": "closest",
          "mapbox": {
           "style": "light"
          },
          "paper_bgcolor": "white",
          "plot_bgcolor": "#E5ECF6",
          "polar": {
           "angularaxis": {
            "gridcolor": "white",
            "linecolor": "white",
            "ticks": ""
           },
           "bgcolor": "#E5ECF6",
           "radialaxis": {
            "gridcolor": "white",
            "linecolor": "white",
            "ticks": ""
           }
          },
          "scene": {
           "xaxis": {
            "backgroundcolor": "#E5ECF6",
            "gridcolor": "white",
            "gridwidth": 2,
            "linecolor": "white",
            "showbackground": true,
            "ticks": "",
            "zerolinecolor": "white"
           },
           "yaxis": {
            "backgroundcolor": "#E5ECF6",
            "gridcolor": "white",
            "gridwidth": 2,
            "linecolor": "white",
            "showbackground": true,
            "ticks": "",
            "zerolinecolor": "white"
           },
           "zaxis": {
            "backgroundcolor": "#E5ECF6",
            "gridcolor": "white",
            "gridwidth": 2,
            "linecolor": "white",
            "showbackground": true,
            "ticks": "",
            "zerolinecolor": "white"
           }
          },
          "shapedefaults": {
           "line": {
            "color": "#2a3f5f"
           }
          },
          "ternary": {
           "aaxis": {
            "gridcolor": "white",
            "linecolor": "white",
            "ticks": ""
           },
           "baxis": {
            "gridcolor": "white",
            "linecolor": "white",
            "ticks": ""
           },
           "bgcolor": "#E5ECF6",
           "caxis": {
            "gridcolor": "white",
            "linecolor": "white",
            "ticks": ""
           }
          },
          "title": {
           "x": 0.05
          },
          "xaxis": {
           "automargin": true,
           "gridcolor": "white",
           "linecolor": "white",
           "ticks": "",
           "title": {
            "standoff": 15
           },
           "zerolinecolor": "white",
           "zerolinewidth": 2
          },
          "yaxis": {
           "automargin": true,
           "gridcolor": "white",
           "linecolor": "white",
           "ticks": "",
           "title": {
            "standoff": 15
           },
           "zerolinecolor": "white",
           "zerolinewidth": 2
          }
         }
        },
        "xaxis": {
         "anchor": "y",
         "autorange": true,
         "domain": [
          0,
          1
         ],
         "range": [
          -75311.5580905581,
          1344189.558090558
         ],
         "title": {
          "text": "MTOW"
         },
         "type": "linear"
        },
        "yaxis": {
         "anchor": "x",
         "autorange": true,
         "domain": [
          0,
          1
         ],
         "range": [
          -69689.30379690343,
          987940.9901230121
         ],
         "title": {
          "text": "MALW"
         },
         "type": "linear"
        }
       }
      },
      "image/png": "[encoded data removed]",
      "text/html": [
       "<div>                            <div id=\"a8a014e4-e04a-4624-9011-93d4dcfc8016\" class=\"plotly-graph-div\" style=\"height:525px; width:100%;\"></div>            <script type=\"text/javascript\">                require([\"plotly\"], function(Plotly) {                    window.PLOTLYENV=window.PLOTLYENV || {};                                    if (document.getElementById(\"a8a014e4-e04a-4624-9011-93d4dcfc8016\")) {                    Plotly.newPlot(                        \"a8a014e4-e04a-4624-9011-93d4dcfc8016\",                        [{\"hovertemplate\":\"MTOW=%{x}\\u003cbr\\u003eMALW=%{y}\\u003cextra\\u003e\\u003c\\u002fextra\\u003e\",\"legendgroup\":\"\",\"marker\":{\"color\":\"#636efa\",\"symbol\":\"circle\"},\"mode\":\"markers\",\"name\":\"\",\"orientation\":\"v\",\"showlegend\":false,\"x\":[892871,166449,174165,209439,363760,363760,317465,149914,168653,171961,200621,533519,533519,500449,544542,553400,606271,609578,837756,837756,617295,696661,1267658,310852,6000,6000,8500,9000,10325,10325,134482,76060,9900,17120,177000,181200,194700,333600,118000,160000,184800,115500,139500,150000,136000,144500,154500,174200,187700,750000,833000,833000,910000,987000,255500,270000,315000,412000,450000,656000,660000,775000,775000,766106,775000,502500,560000,560000,139100,156307,11800,9700,2150,12500,2450,2750,3400,3400,3650,16100,5100,5500,6775,7700,8200,3900,1675,8000,11300,10485,10950,3325,803001,3850,1500,155000,1500,1600,1675,112436,1320,585000,2200,2550,2450,2500,2800,3100,3350,3300,3350,3600,3789,9062,3800,16976,3600,12500,13870,17110,10700,5150,155000,5500,4990,6290,5990,6300,8400,6750,7450,8600,9850,11850,11850,8645,10700,10700,15100,14800,14800,16300,20200,23000,30300,30800,39500,2450,36100,2800,3100,1220,1800,38850,40600,47600,36376,3400,3400,47450,47450,75000,80500,1320,41790,58500,30843,2888,3935,580000,25200,25200,107000,335100,90700,108000,121000,34500,36300,41100,64500,12500,44000,1609,13010,26433,44533,48502,85098,110892,115280,124340,135585,44092,53131,10582,35724,38360,17968,85517,82673,5950,1260,4550,42400,9850,49000,18740,28660,39700,70000,73000,1320,26100,6075,39600,79600,94600,3800,35650,1975,92500,106250,99500,62000,69700,73200,90500,99600,25000,28000,31100,39500,11244,9039,2000,374782,34524,15332,24000,322500,7255,44500,1400,2690,12500,13000,15000,15500,18300,21000,21500,19500,22750,21500,21500,3200,3374,3368,2300,602500,140000,149500,160000,149500,149500,156000,11574,14630,2850,12050,4000,2440,3000,2758,2750,135000,3600,3600,5092,12100,4387,7500,1220,1750,1650,1750,1950,2000,4800,2900,2900,5200,3600,6500,3600,4750,1670,3800,4340,9000,8700,9474,11200,12050,10450,18300,12500,169000,197000,101500,97000,1320,2400,3600,50706,20172,12500,28000,22900,27117,2126,2358,101148,12500,3800,8500,5500,5617,1500,3080,6614,7394,7394,6500,2530,23500],\"xaxis\":\"x\",\"y\":[727525,137789,148591,174606,304230,299829,273372,126766,134482,145505,171520,401241,412264,412260,410060,421080,399037,423288,542337,584225,456357,513677,868621,271166,4300,4300,8500,9000,9675,9675,127868,72753,9500,16000,145600,152800,163900,215000,100000,140000,150000,103000,115800,123700,110000,121500,145600,146275,71400,585000,630000,574000,630000,688000,198000,224000,260000,320000,350000,470000,524000,587000,587000,575000,554000,380000,425000,445000,119490,133600,11210,9400,1999,12500,2450,2750,3400,3400,3650,15700,5100,5400,6775,7700,8200,3900,1675,8000,11300,9600,10950,3325,652000,3850,1500,130000,1500,1600,1675,103615,1320,446920,2200,2450,2450,2500,2800,2950,3350,3300,3350,3600,3600,7800,3800,17857,3420,11525,12750,15660,9900,3605,130000,5500,4750,5990,5990,6850,8100,6750,7200,8000,9360,11350,11350,8000,9900,9900,13500,12000,13500,15200,18700,17000,27100,27575,33500,2450,31800,2800,2950,1220,1800,33750,34150,38000,36376,3230,3230,47000,44700,67000,73500,1320,39800,52000,31725,2407,3748,436000,24400,24400,88200,249990,81700,99000,110000,33900,34500,42000,61750,12300,42000,1609,12566,25794,41226,41226,73413,94799,100972,108136,119049,40785,44092,9766,32518,34524,16685,74957,74957,5415,1260,4200,39300,9361,44500,17640,27320,35715,62400,62400,1320,21700,6075,32700,64350,76800,3800,30000,1975,78600,85799,78600,58500,58500,66000,75300,83500,22046,23350,25000,33500,10249,9859,2000,336202,31725,15609,22300,119231,7255,36000,1400,2690,11880,11880,12499,15300,14300,19200,19200,17000,19500,19200,19200,3000,3200,3200,2300,430000,128000,130000,139500,130000,130000,137000,11025,13200,2850,11500,3800,2130,3000,2900,2750,103880,3600,3600,4850,12100,4167,7125,1220,1750,1650,1750,1950,2000,4800,2900,2900,4940,3600,6500,3600,4513,1670,3800,3900,9000,8700,9000,10330,11100,9921,16900,11600,142500,154500,88500,85000,1320,2400,3600,48501,17500,12500,27200,22597,26499,2900,3400,90390,12500,3800,7809,5300,5329,1500,3080,6250,7024,7024,6900,2530,19000],\"yaxis\":\"y\",\"type\":\"scatter\"},{\"hovertemplate\":\"\\u003cb\\u003eOLS trendline\\u003c\\u002fb\\u003e\\u003cbr\\u003eMALW = 0.733413 * MTOW + 5342.21\\u003cbr\\u003eR\\u003csup\\u003e2\\u003c\\u002fsup\\u003e=0.990449\\u003cbr\\u003e\\u003cbr\\u003eMTOW=%{x}\\u003cbr\\u003eMALW=%{y} \\u003cb\\u003e(trend)\\u003c\\u002fb\\u003e\\u003cextra\\u003e\\u003c\\u002fextra\\u003e\",\"legendgroup\":\"\",\"marker\":{\"color\":\"#636efa\",\"symbol\":\"circle\"},\"mode\":\"lines\",\"name\":\"\",\"showlegend\":false,\"x\":[1220,1220,1260,1320,1320,1320,1320,1400,1500,1500,1500,1600,1609,1650,1670,1675,1675,1750,1750,1800,1950,1975,2000,2000,2126,2150,2200,2300,2358,2400,2440,2450,2450,2450,2500,2530,2550,2690,2750,2750,2758,2800,2800,2850,2888,2900,2900,3000,3080,3100,3100,3200,3300,3325,3350,3350,3368,3374,3400,3400,3400,3400,3600,3600,3600,3600,3600,3600,3600,3650,3789,3800,3800,3800,3800,3850,3900,3935,4000,4340,4387,4550,4750,4800,4990,5092,5100,5150,5200,5500,5500,5500,5617,5950,5990,6000,6000,6075,6290,6300,6500,6500,6614,6750,6775,7255,7394,7394,7450,7500,7700,8000,8200,8400,8500,8500,8600,8645,8700,9000,9000,9039,9062,9474,9700,9850,9850,9900,10325,10325,10450,10485,10582,10700,10700,10700,10950,11200,11244,11300,11574,11800,11850,11850,12050,12050,12100,12500,12500,12500,12500,12500,12500,12500,13000,13010,13870,14630,14800,14800,15000,15100,15332,15500,16100,16300,16976,17110,17120,17968,18300,18300,18740,19500,20172,20200,21000,21500,21500,21500,22750,22900,23000,23500,24000,25000,25200,25200,26100,26433,27117,28000,28000,28660,30300,30800,30843,31100,34500,34524,35650,35724,36100,36300,36376,38360,38850,39500,39500,39600,39700,40600,41100,41790,42400,44000,44092,44500,44533,47450,47450,47600,48502,49000,50706,53131,58500,62000,64500,69700,70000,73000,73200,75000,76060,79600,80500,82673,85098,85517,90500,90700,92500,94600,97000,99500,99600,101148,101500,106250,107000,108000,110892,112436,115280,115500,118000,121000,124340,134482,135000,135585,136000,139100,139500,140000,144500,149500,149500,149500,149914,150000,154500,155000,155000,156000,156307,160000,160000,166449,168653,169000,171961,174165,174200,177000,181200,184800,187700,194700,197000,200621,209439,255500,270000,310852,315000,317465,322500,333600,335100,363760,363760,374782,412000,450000,500449,502500,533519,533519,544542,553400,560000,560000,580000,585000,602500,606271,609578,617295,656000,660000,696661,750000,766106,775000,775000,775000,803001,833000,833000,837756,837756,892871,910000,987000,1267658],\"xaxis\":\"x\",\"y\":[6236.9735605517335,6236.9735605517335,6266.3100934689855,6310.314892844864,6310.314892844864,6310.314892844864,6310.314892844864,6368.987958679367,6442.329290972497,6442.329290972497,6442.329290972497,6515.670623265626,6522.271343172008,6552.341289412191,6567.009555870817,6570.676622485474,6570.676622485474,6625.68262170532,6625.68262170532,6662.353287851885,6772.36528629158,6790.700619364862,6809.035952438145,6809.035952438145,6901.446031127488,6919.047950877839,6955.718617024404,7029.059949317533,7071.597922047548,7102.401281610663,7131.737814527914,7139.0719477572275,7139.0719477572275,7139.0719477572275,7175.7426139037925,7197.745013591732,7212.413280050358,7315.091145260739,7359.095944636617,7359.095944636617,7364.963251220067,7395.766610783181,7395.766610783181,7432.437276929746,7460.306983201135,7469.107943076311,7469.107943076311,7542.44927536944,7601.122341203944,7615.79060766257,7615.79060766257,7689.1319399557,7762.47327224883,7780.808605322111,7799.143938395394,7799.143938395394,7812.345378208158,7816.745858145745,7835.814604541959,7835.814604541959,7835.814604541959,7835.814604541959,7982.497269128218,7982.497269128218,7982.497269128218,7982.497269128218,7982.497269128218,7982.497269128218,7982.497269128218,8019.167935274783,8121.112387162233,8129.179933714478,8129.179933714478,8129.179933714478,8129.179933714478,8165.850599861043,8202.521266007607,8228.190732310202,8275.862598300737,8525.223128097377,8559.693554275149,8679.239925912949,8825.922590499209,8862.593256645774,9001.94178800272,9076.749946941713,9082.617253525163,9119.287919671728,9155.958585818293,9375.982582697681,9375.982582697681,9375.982582697681,9461.791941480642,9706.018578016763,9735.355110934015,9742.689244163328,9742.689244163328,9797.695243383176,9955.379107813404,9962.713241042717,10109.395905628977,10109.395905628977,10193.005024443144,10292.7492363618,10311.084569435083,10663.122964442106,10765.067416329555,10765.067416329555,10806.138562413707,10842.809228560272,10989.491893146533,11209.515890025921,11356.19855461218,11502.88121919844,11576.222551491568,11576.222551491568,11649.563883784698,11682.567483316607,11722.905216077828,11942.929212957217,11942.929212957217,11971.532332551536,11988.400838978958,12290.56712802665,12456.318539009124,12566.330537448819,12566.330537448819,12603.001203595382,12914.701865841183,12914.701865841183,13006.378531207596,13032.047997510192,13103.189089834526,13189.73186194042,13189.73186194042,13189.73186194042,13373.085192673245,13556.438523406068,13588.708709615044,13629.779855699198,13830.735106182372,13996.486517164845,14033.15718331141,14033.15718331141,14179.839847897669,14179.839847897669,14216.510514044234,14509.875843216752,14509.875843216752,14509.875843216752,14509.875843216752,14509.875843216752,14509.875843216752,14509.875843216752,14876.582504682401,14883.916637911714,15514.652095632628,16072.046221060413,16196.726485958734,16196.726485958734,16343.409150544992,16416.75048283812,16586.902373758185,16710.11581201064,17150.163805769418,17296.84647035568,17792.633876657233,17890.91126193003,17898.24539515934,18520.17989300508,18763.67311621827,18763.67311621827,19086.37497830804,19643.769103735824,20136.622856745656,20157.15842978773,20743.889088132768,21110.59574959842,21110.59574959842,21110.59574959842,22027.362403262538,22137.374401702233,22210.71573399536,22577.42239546101,22944.129056926657,23677.542379857954,23824.22504444421,23824.22504444421,24484.297035082378,24728.5236716185,25230.178384503506,25877.782348651843,25877.782348651843,26361.835141786498,27564.63299139382,27931.33965285947,27962.876425745515,28151.363649738858,30644.968947705263,30662.570867455615,31488.394269076256,31542.666854973173,31818.430264395338,31965.112928981598,32020.852341524376,33475.94437422007,33835.316902456405,34312.03556236174,34312.03556236174,34385.37689465487,34458.718226948,35118.790217586175,35485.49687905182,35991.552071874416,36438.9341988625,37612.39551555258,37679.869541262255,37979.10217701823,38003.30481667496,40142.67147966555,40142.67147966555,40252.683478105246,40914.22229538927,41279.46213020906,42530.66525912985,44309.19256723824,48246.88869805637,50813.83532831591,52647.36863564415,56461.11791488688,56681.14191176627,58881.38188056016,59028.06454514642,60348.20852642276,61125.62664872993,63721.90981190671,64381.981802544884,65975.68895327458,67754.21626138299,68061.51644369119,71716.11503185784,71862.7976964441,73182.94167772043,74723.10965587615,76483.30163091127,78316.83493823951,78390.17627053264,79525.50009443029,79783.6615841021,83267.37486802576,83817.43486022422,84550.84818315553,86671.87951307282,87804.26968367875,89890.09717409535,90051.44810514024,91884.98141246848,94085.22138126237,96534.8218798529,103973.09980102211,104353.00790230051,104782.05469621532,105086.42122523181,107360.00252631883,107653.36785549135,108020.074516957,111320.43447014783,114987.5010848043,114987.5010848043,114987.5010848043,115291.13420049787,115354.20774626995,118654.5676994608,119021.27436092643,119021.27436092643,119754.68768385773,119979.84557399763,122688.34097558292,122688.34097558292,127418.12349516684,129034.56645890741,129289.06088196459,131460.69773116414,133077.14069490472,133102.8101612073,135156.36746541495,138236.7034217264,140876.99138427907,143003.89002077983,148137.78328129888,149824.63392404086,152480.3235663751,158947.56224798327,192729.3133155217,203363.8064980255,233325.20756641479,236367.4060299338,238175.26987095946,241868.00595191852,250008.8938364559,251109.01382085285,272128.6396560638,272128.6396560638,280212.32130141254,307508.49835426954,335378.20462565875,372378.1733542197,373882.4040795518,396632.15194355766,396632.15194355766,404716.56700222933,411213.1422167548,416053.67014810134,416053.67014810134,430721.93660672725,434389.0032213837,447223.7363726814,449989.4380134553,452414.83587238914,458074.5864854499,486461.3491495057,489395.0024412309,516282.6682732152,555402.2015050476,567214.556484179,573737.53457833,573737.53457833,573737.53457833,594273.8410337291,616275.5073083452,616275.5073083452,619763.6210722064,619763.6210722064,660185.6963655647,672748.333174055,729221.1590397647,935059.4754270164],\"yaxis\":\"y\",\"type\":\"scatter\"}],                        {\"template\":{\"data\":{\"histogram2dcontour\":[{\"type\":\"histogram2dcontour\",\"colorbar\":{\"outlinewidth\":0,\"ticks\":\"\"},\"colorscale\":[[0.0,\"#0d0887\"],[0.1111111111111111,\"#46039f\"],[0.2222222222222222,\"#7201a8\"],[0.3333333333333333,\"#9c179e\"],[0.4444444444444444,\"#bd3786\"],[0.5555555555555556,\"#d8576b\"],[0.6666666666666666,\"#ed7953\"],[0.7777777777777778,\"#fb9f3a\"],[0.8888888888888888,\"#fdca26\"],[1.0,\"#f0f921\"]]}],\"choropleth\":[{\"type\":\"choropleth\",\"colorbar\":{\"outlinewidth\":0,\"ticks\":\"\"}}],\"histogram2d\":[{\"type\":\"histogram2d\",\"colorbar\":{\"outlinewidth\":0,\"ticks\":\"\"},\"colorscale\":[[0.0,\"#0d0887\"],[0.1111111111111111,\"#46039f\"],[0.2222222222222222,\"#7201a8\"],[0.3333333333333333,\"#9c179e\"],[0.4444444444444444,\"#bd3786\"],[0.5555555555555556,\"#d8576b\"],[0.6666666666666666,\"#ed7953\"],[0.7777777777777778,\"#fb9f3a\"],[0.8888888888888888,\"#fdca26\"],[1.0,\"#f0f921\"]]}],\"heatmap\":[{\"type\":\"heatmap\",\"colorbar\":{\"outlinewidth\":0,\"ticks\":\"\"},\"colorscale\":[[0.0,\"#0d0887\"],[0.1111111111111111,\"#46039f\"],[0.2222222222222222,\"#7201a8\"],[0.3333333333333333,\"#9c179e\"],[0.4444444444444444,\"#bd3786\"],[0.5555555555555556,\"#d8576b\"],[0.6666666666666666,\"#ed7953\"],[0.7777777777777778,\"#fb9f3a\"],[0.8888888888888888,\"#fdca26\"],[1.0,\"#f0f921\"]]}],\"heatmapgl\":[{\"type\":\"heatmapgl\",\"colorbar\":{\"outlinewidth\":0,\"ticks\":\"\"},\"colorscale\":[[0.0,\"#0d0887\"],[0.1111111111111111,\"#46039f\"],[0.2222222222222222,\"#7201a8\"],[0.3333333333333333,\"#9c179e\"],[0.4444444444444444,\"#bd3786\"],[0.5555555555555556,\"#d8576b\"],[0.6666666666666666,\"#ed7953\"],[0.7777777777777778,\"#fb9f3a\"],[0.8888888888888888,\"#fdca26\"],[1.0,\"#f0f921\"]]}],\"contourcarpet\":[{\"type\":\"contourcarpet\",\"colorbar\":{\"outlinewidth\":0,\"ticks\":\"\"}}],\"contour\":[{\"type\":\"contour\",\"colorbar\":{\"outlinewidth\":0,\"ticks\":\"\"},\"colorscale\":[[0.0,\"#0d0887\"],[0.1111111111111111,\"#46039f\"],[0.2222222222222222,\"#7201a8\"],[0.3333333333333333,\"#9c179e\"],[0.4444444444444444,\"#bd3786\"],[0.5555555555555556,\"#d8576b\"],[0.6666666666666666,\"#ed7953\"],[0.7777777777777778,\"#fb9f3a\"],[0.8888888888888888,\"#fdca26\"],[1.0,\"#f0f921\"]]}],\"surface\":[{\"type\":\"surface\",\"colorbar\":{\"outlinewidth\":0,\"ticks\":\"\"},\"colorscale\":[[0.0,\"#0d0887\"],[0.1111111111111111,\"#46039f\"],[0.2222222222222222,\"#7201a8\"],[0.3333333333333333,\"#9c179e\"],[0.4444444444444444,\"#bd3786\"],[0.5555555555555556,\"#d8576b\"],[0.6666666666666666,\"#ed7953\"],[0.7777777777777778,\"#fb9f3a\"],[0.8888888888888888,\"#fdca26\"],[1.0,\"#f0f921\"]]}],\"mesh3d\":[{\"type\":\"mesh3d\",\"colorbar\":{\"outlinewidth\":0,\"ticks\":\"\"}}],\"scatter\":[{\"fillpattern\":{\"fillmode\":\"overlay\",\"size\":10,\"solidity\":0.2},\"type\":\"scatter\"}],\"parcoords\":[{\"type\":\"parcoords\",\"line\":{\"colorbar\":{\"outlinewidth\":0,\"ticks\":\"\"}}}],\"scatterpolargl\":[{\"type\":\"scatterpolargl\",\"marker\":{\"colorbar\":{\"outlinewidth\":0,\"ticks\":\"\"}}}],\"bar\":[{\"error_x\":{\"color\":\"#2a3f5f\"},\"error_y\":{\"color\":\"#2a3f5f\"},\"marker\":{\"line\":{\"color\":\"#E5ECF6\",\"width\":0.5},\"pattern\":{\"fillmode\":\"overlay\",\"size\":10,\"solidity\":0.2}},\"type\":\"bar\"}],\"scattergeo\":[{\"type\":\"scattergeo\",\"marker\":{\"colorbar\":{\"outlinewidth\":0,\"ticks\":\"\"}}}],\"scatterpolar\":[{\"type\":\"scatterpolar\",\"marker\":{\"colorbar\":{\"outlinewidth\":0,\"ticks\":\"\"}}}],\"histogram\":[{\"marker\":{\"pattern\":{\"fillmode\":\"overlay\",\"size\":10,\"solidity\":0.2}},\"type\":\"histogram\"}],\"scattergl\":[{\"type\":\"scattergl\",\"marker\":{\"colorbar\":{\"outlinewidth\":0,\"ticks\":\"\"}}}],\"scatter3d\":[{\"type\":\"scatter3d\",\"line\":{\"colorbar\":{\"outlinewidth\":0,\"ticks\":\"\"}},\"marker\":{\"colorbar\":{\"outlinewidth\":0,\"ticks\":\"\"}}}],\"scattermapbox\":[{\"type\":\"scattermapbox\",\"marker\":{\"colorbar\":{\"outlinewidth\":0,\"ticks\":\"\"}}}],\"scatterternary\":[{\"type\":\"scatterternary\",\"marker\":{\"colorbar\":{\"outlinewidth\":0,\"ticks\":\"\"}}}],\"scattercarpet\":[{\"type\":\"scattercarpet\",\"marker\":{\"colorbar\":{\"outlinewidth\":0,\"ticks\":\"\"}}}],\"carpet\":[{\"aaxis\":{\"endlinecolor\":\"#2a3f5f\",\"gridcolor\":\"white\",\"linecolor\":\"white\",\"minorgridcolor\":\"white\",\"startlinecolor\":\"#2a3f5f\"},\"baxis\":{\"endlinecolor\":\"#2a3f5f\",\"gridcolor\":\"white\",\"linecolor\":\"white\",\"minorgridcolor\":\"white\",\"startlinecolor\":\"#2a3f5f\"},\"type\":\"carpet\"}],\"table\":[{\"cells\":{\"fill\":{\"color\":\"#EBF0F8\"},\"line\":{\"color\":\"white\"}},\"header\":{\"fill\":{\"color\":\"#C8D4E3\"},\"line\":{\"color\":\"white\"}},\"type\":\"table\"}],\"barpolar\":[{\"marker\":{\"line\":{\"color\":\"#E5ECF6\",\"width\":0.5},\"pattern\":{\"fillmode\":\"overlay\",\"size\":10,\"solidity\":0.2}},\"type\":\"barpolar\"}],\"pie\":[{\"automargin\":true,\"type\":\"pie\"}]},\"layout\":{\"autotypenumbers\":\"strict\",\"colorway\":[\"#636efa\",\"#EF553B\",\"#00cc96\",\"#ab63fa\",\"#FFA15A\",\"#19d3f3\",\"#FF6692\",\"#B6E880\",\"#FF97FF\",\"#FECB52\"],\"font\":{\"color\":\"#2a3f5f\"},\"hovermode\":\"closest\",\"hoverlabel\":{\"align\":\"left\"},\"paper_bgcolor\":\"white\",\"plot_bgcolor\":\"#E5ECF6\",\"polar\":{\"bgcolor\":\"#E5ECF6\",\"angularaxis\":{\"gridcolor\":\"white\",\"linecolor\":\"white\",\"ticks\":\"\"},\"radialaxis\":{\"gridcolor\":\"white\",\"linecolor\":\"white\",\"ticks\":\"\"}},\"ternary\":{\"bgcolor\":\"#E5ECF6\",\"aaxis\":{\"gridcolor\":\"white\",\"linecolor\":\"white\",\"ticks\":\"\"},\"baxis\":{\"gridcolor\":\"white\",\"linecolor\":\"white\",\"ticks\":\"\"},\"caxis\":{\"gridcolor\":\"white\",\"linecolor\":\"white\",\"ticks\":\"\"}},\"coloraxis\":{\"colorbar\":{\"outlinewidth\":0,\"ticks\":\"\"}},\"colorscale\":{\"sequential\":[[0.0,\"#0d0887\"],[0.1111111111111111,\"#46039f\"],[0.2222222222222222,\"#7201a8\"],[0.3333333333333333,\"#9c179e\"],[0.4444444444444444,\"#bd3786\"],[0.5555555555555556,\"#d8576b\"],[0.6666666666666666,\"#ed7953\"],[0.7777777777777778,\"#fb9f3a\"],[0.8888888888888888,\"#fdca26\"],[1.0,\"#f0f921\"]],\"sequentialminus\":[[0.0,\"#0d0887\"],[0.1111111111111111,\"#46039f\"],[0.2222222222222222,\"#7201a8\"],[0.3333333333333333,\"#9c179e\"],[0.4444444444444444,\"#bd3786\"],[0.5555555555555556,\"#d8576b\"],[0.6666666666666666,\"#ed7953\"],[0.7777777777777778,\"#fb9f3a\"],[0.8888888888888888,\"#fdca26\"],[1.0,\"#f0f921\"]],\"diverging\":[[0,\"#8e0152\"],[0.1,\"#c51b7d\"],[0.2,\"#de77ae\"],[0.3,\"#f1b6da\"],[0.4,\"#fde0ef\"],[0.5,\"#f7f7f7\"],[0.6,\"#e6f5d0\"],[0.7,\"#b8e186\"],[0.8,\"#7fbc41\"],[0.9,\"#4d9221\"],[1,\"#276419\"]]},\"xaxis\":{\"gridcolor\":\"white\",\"linecolor\":\"white\",\"ticks\":\"\",\"title\":{\"standoff\":15},\"zerolinecolor\":\"white\",\"automargin\":true,\"zerolinewidth\":2},\"yaxis\":{\"gridcolor\":\"white\",\"linecolor\":\"white\",\"ticks\":\"\",\"title\":{\"standoff\":15},\"zerolinecolor\":\"white\",\"automargin\":true,\"zerolinewidth\":2},\"scene\":{\"xaxis\":{\"backgroundcolor\":\"#E5ECF6\",\"gridcolor\":\"white\",\"linecolor\":\"white\",\"showbackground\":true,\"ticks\":\"\",\"zerolinecolor\":\"white\",\"gridwidth\":2},\"yaxis\":{\"backgroundcolor\":\"#E5ECF6\",\"gridcolor\":\"white\",\"linecolor\":\"white\",\"showbackground\":true,\"ticks\":\"\",\"zerolinecolor\":\"white\",\"gridwidth\":2},\"zaxis\":{\"backgroundcolor\":\"#E5ECF6\",\"gridcolor\":\"white\",\"linecolor\":\"white\",\"showbackground\":true,\"ticks\":\"\",\"zerolinecolor\":\"white\",\"gridwidth\":2}},\"shapedefaults\":{\"line\":{\"color\":\"#2a3f5f\"}},\"annotationdefaults\":{\"arrowcolor\":\"#2a3f5f\",\"arrowhead\":0,\"arrowwidth\":1},\"geo\":{\"bgcolor\":\"white\",\"landcolor\":\"#E5ECF6\",\"subunitcolor\":\"white\",\"showland\":true,\"showlakes\":true,\"lakecolor\":\"white\"},\"title\":{\"x\":0.05},\"mapbox\":{\"style\":\"light\"}}},\"xaxis\":{\"anchor\":\"y\",\"domain\":[0.0,1.0],\"title\":{\"text\":\"MTOW\"}},\"yaxis\":{\"anchor\":\"x\",\"domain\":[0.0,1.0],\"title\":{\"text\":\"MALW\"}},\"legend\":{\"tracegroupgap\":0},\"margin\":{\"t\":60}},                        {\"responsive\": true}                    ).then(function(){\n",
       "                            \n",
       "var gd = document.getElementById('a8a014e4-e04a-4624-9011-93d4dcfc8016');\n",
       "var x = new MutationObserver(function (mutations, observer) {{\n",
       "        var display = window.getComputedStyle(gd).display;\n",
       "        if (!display || display === 'none') {{\n",
       "            console.log([gd, 'removed!']);\n",
       "            Plotly.purge(gd);\n",
       "            observer.disconnect();\n",
       "        }}\n",
       "}});\n",
       "\n",
       "// Listen for the removal of the full notebook cells\n",
       "var notebookContainer = gd.closest('#notebook-container');\n",
       "if (notebookContainer) {{\n",
       "    x.observe(notebookContainer, {childList: true});\n",
       "}}\n",
       "\n",
       "// Listen for the clearing of the current output cell\n",
       "var outputEl = gd.closest('.output');\n",
       "if (outputEl) {{\n",
       "    x.observe(outputEl, {childList: true});\n",
       "}}\n",
       "\n",
       "                        })                };                });            </script>        </div>"
      ]
     },
     "metadata": {},
     "output_type": "display_data"
    }
   ],
   "source": [
    "fig1 = px.scatter(airplanes_df,x = \"MTOW\",y = \"MALW\",trendline = \"ols\")\n",
    "fig1.show()"
   ]
  },
  {
   "cell_type": "code",
   "execution_count": 57,
   "id": "07b92ca3-daeb-47b2-ae49-e620fb56e223",
   "metadata": {},
   "outputs": [
    {
     "data": {
      "application/vnd.plotly.v1+json": {
       "config": {
        "plotlyServerURL": "https://plot.ly"
       },
       "data": [
        {
         "alignmentgroup": "True",
         "bingroup": "x",
         "hovertemplate": "Number of Engines=%{x}<br>count=%{y}<extra></extra>",
         "legendgroup": "",
         "marker": {
          "color": "#636efa",
          "pattern": {
           "shape": ""
          }
         },
         "name": "",
         "nbinsx": 4,
         "offsetgroup": "",
         "orientation": "v",
         "showlegend": false,
         "type": "histogram",
         "x": [
          4,
          2,
          2,
          2,
          2,
          2,
          2,
          2,
          2,
          2,
          2,
          2,
          2,
          2,
          2,
          2,
          4,
          4,
          4,
          4,
          2,
          2,
          4,
          4,
          2,
          2,
          2,
          2,
          2,
          2,
          4,
          2,
          2,
          2,
          2,
          2,
          2,
          4,
          2,
          2,
          2,
          2,
          2,
          2,
          2,
          2,
          2,
          2,
          2,
          4,
          4,
          4,
          4,
          4,
          2,
          2,
          2,
          2,
          2,
          2,
          2,
          2,
          2,
          2,
          2,
          2,
          2,
          2,
          2,
          2,
          2,
          2,
          1,
          2,
          1,
          1,
          1,
          1,
          1,
          2,
          2,
          2,
          2,
          2,
          2,
          2,
          1,
          2,
          2,
          2,
          2,
          1,
          4,
          1,
          1,
          4,
          1,
          1,
          1,
          2,
          1,
          4,
          1,
          1,
          1,
          1,
          1,
          1,
          1,
          1,
          1,
          1,
          1,
          1,
          1,
          2,
          1,
          2,
          2,
          2,
          2,
          2,
          4,
          2,
          2,
          2,
          2,
          2,
          2,
          2,
          2,
          2,
          2,
          2,
          2,
          2,
          2,
          2,
          2,
          2,
          2,
          2,
          2,
          2,
          2,
          2,
          2,
          1,
          2,
          1,
          1,
          1,
          1,
          2,
          2,
          2,
          2,
          1,
          1,
          2,
          2,
          2,
          2,
          1,
          2,
          2,
          2,
          1,
          2,
          3,
          2,
          2,
          4,
          4,
          2,
          2,
          2,
          2,
          2,
          2,
          2,
          2,
          4,
          1,
          2,
          2,
          2,
          2,
          2,
          2,
          2,
          2,
          2,
          2,
          2,
          2,
          2,
          2,
          2,
          2,
          2,
          2,
          1,
          1,
          2,
          2,
          3,
          2,
          2,
          3,
          3,
          3,
          1,
          2,
          1,
          2,
          2,
          2,
          2,
          2,
          1,
          2,
          2,
          2,
          2,
          2,
          2,
          2,
          2,
          2,
          2,
          2,
          2,
          1,
          2,
          1,
          4,
          2,
          2,
          2,
          4,
          1,
          4,
          1,
          1,
          2,
          2,
          2,
          2,
          2,
          2,
          2,
          2,
          2,
          2,
          2,
          1,
          1,
          1,
          1,
          3,
          2,
          2,
          2,
          2,
          2,
          2,
          2,
          2,
          1,
          2,
          1,
          1,
          1,
          1,
          1,
          4,
          1,
          1,
          1,
          1,
          2,
          1,
          1,
          1,
          1,
          1,
          1,
          1,
          2,
          1,
          1,
          2,
          2,
          2,
          1,
          2,
          1,
          2,
          1,
          2,
          2,
          2,
          2,
          2,
          1,
          2,
          2,
          3,
          3,
          4,
          4,
          1,
          1,
          1,
          1,
          2,
          2,
          2,
          2,
          2,
          1,
          1,
          2,
          2,
          1,
          1,
          1,
          1,
          1,
          1,
          1,
          1,
          1,
          1,
          1,
          2
         ],
         "xaxis": "x",
         "yaxis": "y"
        }
       ],
       "layout": {
        "autosize": true,
        "barmode": "relative",
        "legend": {
         "tracegroupgap": 0
        },
        "margin": {
         "t": 60
        },
        "template": {
         "data": {
          "bar": [
           {
            "error_x": {
             "color": "#2a3f5f"
            },
            "error_y": {
             "color": "#2a3f5f"
            },
            "marker": {
             "line": {
              "color": "#E5ECF6",
              "width": 0.5
             },
             "pattern": {
              "fillmode": "overlay",
              "size": 10,
              "solidity": 0.2
             }
            },
            "type": "bar"
           }
          ],
          "barpolar": [
           {
            "marker": {
             "line": {
              "color": "#E5ECF6",
              "width": 0.5
             },
             "pattern": {
              "fillmode": "overlay",
              "size": 10,
              "solidity": 0.2
             }
            },
            "type": "barpolar"
           }
          ],
          "carpet": [
           {
            "aaxis": {
             "endlinecolor": "#2a3f5f",
             "gridcolor": "white",
             "linecolor": "white",
             "minorgridcolor": "white",
             "startlinecolor": "#2a3f5f"
            },
            "baxis": {
             "endlinecolor": "#2a3f5f",
             "gridcolor": "white",
             "linecolor": "white",
             "minorgridcolor": "white",
             "startlinecolor": "#2a3f5f"
            },
            "type": "carpet"
           }
          ],
          "choropleth": [
           {
            "colorbar": {
             "outlinewidth": 0,
             "ticks": ""
            },
            "type": "choropleth"
           }
          ],
          "contour": [
           {
            "colorbar": {
             "outlinewidth": 0,
             "ticks": ""
            },
            "colorscale": [
             [
              0,
              "#0d0887"
             ],
             [
              0.1111111111111111,
              "#46039f"
             ],
             [
              0.2222222222222222,
              "#7201a8"
             ],
             [
              0.3333333333333333,
              "#9c179e"
             ],
             [
              0.4444444444444444,
              "#bd3786"
             ],
             [
              0.5555555555555556,
              "#d8576b"
             ],
             [
              0.6666666666666666,
              "#ed7953"
             ],
             [
              0.7777777777777778,
              "#fb9f3a"
             ],
             [
              0.8888888888888888,
              "#fdca26"
             ],
             [
              1,
              "#f0f921"
             ]
            ],
            "type": "contour"
           }
          ],
          "contourcarpet": [
           {
            "colorbar": {
             "outlinewidth": 0,
             "ticks": ""
            },
            "type": "contourcarpet"
           }
          ],
          "heatmap": [
           {
            "colorbar": {
             "outlinewidth": 0,
             "ticks": ""
            },
            "colorscale": [
             [
              0,
              "#0d0887"
             ],
             [
              0.1111111111111111,
              "#46039f"
             ],
             [
              0.2222222222222222,
              "#7201a8"
             ],
             [
              0.3333333333333333,
              "#9c179e"
             ],
             [
              0.4444444444444444,
              "#bd3786"
             ],
             [
              0.5555555555555556,
              "#d8576b"
             ],
             [
              0.6666666666666666,
              "#ed7953"
             ],
             [
              0.7777777777777778,
              "#fb9f3a"
             ],
             [
              0.8888888888888888,
              "#fdca26"
             ],
             [
              1,
              "#f0f921"
             ]
            ],
            "type": "heatmap"
           }
          ],
          "heatmapgl": [
           {
            "colorbar": {
             "outlinewidth": 0,
             "ticks": ""
            },
            "colorscale": [
             [
              0,
              "#0d0887"
             ],
             [
              0.1111111111111111,
              "#46039f"
             ],
             [
              0.2222222222222222,
              "#7201a8"
             ],
             [
              0.3333333333333333,
              "#9c179e"
             ],
             [
              0.4444444444444444,
              "#bd3786"
             ],
             [
              0.5555555555555556,
              "#d8576b"
             ],
             [
              0.6666666666666666,
              "#ed7953"
             ],
             [
              0.7777777777777778,
              "#fb9f3a"
             ],
             [
              0.8888888888888888,
              "#fdca26"
             ],
             [
              1,
              "#f0f921"
             ]
            ],
            "type": "heatmapgl"
           }
          ],
          "histogram": [
           {
            "marker": {
             "pattern": {
              "fillmode": "overlay",
              "size": 10,
              "solidity": 0.2
             }
            },
            "type": "histogram"
           }
          ],
          "histogram2d": [
           {
            "colorbar": {
             "outlinewidth": 0,
             "ticks": ""
            },
            "colorscale": [
             [
              0,
              "#0d0887"
             ],
             [
              0.1111111111111111,
              "#46039f"
             ],
             [
              0.2222222222222222,
              "#7201a8"
             ],
             [
              0.3333333333333333,
              "#9c179e"
             ],
             [
              0.4444444444444444,
              "#bd3786"
             ],
             [
              0.5555555555555556,
              "#d8576b"
             ],
             [
              0.6666666666666666,
              "#ed7953"
             ],
             [
              0.7777777777777778,
              "#fb9f3a"
             ],
             [
              0.8888888888888888,
              "#fdca26"
             ],
             [
              1,
              "#f0f921"
             ]
            ],
            "type": "histogram2d"
           }
          ],
          "histogram2dcontour": [
           {
            "colorbar": {
             "outlinewidth": 0,
             "ticks": ""
            },
            "colorscale": [
             [
              0,
              "#0d0887"
             ],
             [
              0.1111111111111111,
              "#46039f"
             ],
             [
              0.2222222222222222,
              "#7201a8"
             ],
             [
              0.3333333333333333,
              "#9c179e"
             ],
             [
              0.4444444444444444,
              "#bd3786"
             ],
             [
              0.5555555555555556,
              "#d8576b"
             ],
             [
              0.6666666666666666,
              "#ed7953"
             ],
             [
              0.7777777777777778,
              "#fb9f3a"
             ],
             [
              0.8888888888888888,
              "#fdca26"
             ],
             [
              1,
              "#f0f921"
             ]
            ],
            "type": "histogram2dcontour"
           }
          ],
          "mesh3d": [
           {
            "colorbar": {
             "outlinewidth": 0,
             "ticks": ""
            },
            "type": "mesh3d"
           }
          ],
          "parcoords": [
           {
            "line": {
             "colorbar": {
              "outlinewidth": 0,
              "ticks": ""
             }
            },
            "type": "parcoords"
           }
          ],
          "pie": [
           {
            "automargin": true,
            "type": "pie"
           }
          ],
          "scatter": [
           {
            "fillpattern": {
             "fillmode": "overlay",
             "size": 10,
             "solidity": 0.2
            },
            "type": "scatter"
           }
          ],
          "scatter3d": [
           {
            "line": {
             "colorbar": {
              "outlinewidth": 0,
              "ticks": ""
             }
            },
            "marker": {
             "colorbar": {
              "outlinewidth": 0,
              "ticks": ""
             }
            },
            "type": "scatter3d"
           }
          ],
          "scattercarpet": [
           {
            "marker": {
             "colorbar": {
              "outlinewidth": 0,
              "ticks": ""
             }
            },
            "type": "scattercarpet"
           }
          ],
          "scattergeo": [
           {
            "marker": {
             "colorbar": {
              "outlinewidth": 0,
              "ticks": ""
             }
            },
            "type": "scattergeo"
           }
          ],
          "scattergl": [
           {
            "marker": {
             "colorbar": {
              "outlinewidth": 0,
              "ticks": ""
             }
            },
            "type": "scattergl"
           }
          ],
          "scattermapbox": [
           {
            "marker": {
             "colorbar": {
              "outlinewidth": 0,
              "ticks": ""
             }
            },
            "type": "scattermapbox"
           }
          ],
          "scatterpolar": [
           {
            "marker": {
             "colorbar": {
              "outlinewidth": 0,
              "ticks": ""
             }
            },
            "type": "scatterpolar"
           }
          ],
          "scatterpolargl": [
           {
            "marker": {
             "colorbar": {
              "outlinewidth": 0,
              "ticks": ""
             }
            },
            "type": "scatterpolargl"
           }
          ],
          "scatterternary": [
           {
            "marker": {
             "colorbar": {
              "outlinewidth": 0,
              "ticks": ""
             }
            },
            "type": "scatterternary"
           }
          ],
          "surface": [
           {
            "colorbar": {
             "outlinewidth": 0,
             "ticks": ""
            },
            "colorscale": [
             [
              0,
              "#0d0887"
             ],
             [
              0.1111111111111111,
              "#46039f"
             ],
             [
              0.2222222222222222,
              "#7201a8"
             ],
             [
              0.3333333333333333,
              "#9c179e"
             ],
             [
              0.4444444444444444,
              "#bd3786"
             ],
             [
              0.5555555555555556,
              "#d8576b"
             ],
             [
              0.6666666666666666,
              "#ed7953"
             ],
             [
              0.7777777777777778,
              "#fb9f3a"
             ],
             [
              0.8888888888888888,
              "#fdca26"
             ],
             [
              1,
              "#f0f921"
             ]
            ],
            "type": "surface"
           }
          ],
          "table": [
           {
            "cells": {
             "fill": {
              "color": "#EBF0F8"
             },
             "line": {
              "color": "white"
             }
            },
            "header": {
             "fill": {
              "color": "#C8D4E3"
             },
             "line": {
              "color": "white"
             }
            },
            "type": "table"
           }
          ]
         },
         "layout": {
          "annotationdefaults": {
           "arrowcolor": "#2a3f5f",
           "arrowhead": 0,
           "arrowwidth": 1
          },
          "autotypenumbers": "strict",
          "coloraxis": {
           "colorbar": {
            "outlinewidth": 0,
            "ticks": ""
           }
          },
          "colorscale": {
           "diverging": [
            [
             0,
             "#8e0152"
            ],
            [
             0.1,
             "#c51b7d"
            ],
            [
             0.2,
             "#de77ae"
            ],
            [
             0.3,
             "#f1b6da"
            ],
            [
             0.4,
             "#fde0ef"
            ],
            [
             0.5,
             "#f7f7f7"
            ],
            [
             0.6,
             "#e6f5d0"
            ],
            [
             0.7,
             "#b8e186"
            ],
            [
             0.8,
             "#7fbc41"
            ],
            [
             0.9,
             "#4d9221"
            ],
            [
             1,
             "#276419"
            ]
           ],
           "sequential": [
            [
             0,
             "#0d0887"
            ],
            [
             0.1111111111111111,
             "#46039f"
            ],
            [
             0.2222222222222222,
             "#7201a8"
            ],
            [
             0.3333333333333333,
             "#9c179e"
            ],
            [
             0.4444444444444444,
             "#bd3786"
            ],
            [
             0.5555555555555556,
             "#d8576b"
            ],
            [
             0.6666666666666666,
             "#ed7953"
            ],
            [
             0.7777777777777778,
             "#fb9f3a"
            ],
            [
             0.8888888888888888,
             "#fdca26"
            ],
            [
             1,
             "#f0f921"
            ]
           ],
           "sequentialminus": [
            [
             0,
             "#0d0887"
            ],
            [
             0.1111111111111111,
             "#46039f"
            ],
            [
             0.2222222222222222,
             "#7201a8"
            ],
            [
             0.3333333333333333,
             "#9c179e"
            ],
            [
             0.4444444444444444,
             "#bd3786"
            ],
            [
             0.5555555555555556,
             "#d8576b"
            ],
            [
             0.6666666666666666,
             "#ed7953"
            ],
            [
             0.7777777777777778,
             "#fb9f3a"
            ],
            [
             0.8888888888888888,
             "#fdca26"
            ],
            [
             1,
             "#f0f921"
            ]
           ]
          },
          "colorway": [
           "#636efa",
           "#EF553B",
           "#00cc96",
           "#ab63fa",
           "#FFA15A",
           "#19d3f3",
           "#FF6692",
           "#B6E880",
           "#FF97FF",
           "#FECB52"
          ],
          "font": {
           "color": "#2a3f5f"
          },
          "geo": {
           "bgcolor": "white",
           "lakecolor": "white",
           "landcolor": "#E5ECF6",
           "showlakes": true,
           "showland": true,
           "subunitcolor": "white"
          },
          "hoverlabel": {
           "align": "left"
          },
          "hovermode": "closest",
          "mapbox": {
           "style": "light"
          },
          "paper_bgcolor": "white",
          "plot_bgcolor": "#E5ECF6",
          "polar": {
           "angularaxis": {
            "gridcolor": "white",
            "linecolor": "white",
            "ticks": ""
           },
           "bgcolor": "#E5ECF6",
           "radialaxis": {
            "gridcolor": "white",
            "linecolor": "white",
            "ticks": ""
           }
          },
          "scene": {
           "xaxis": {
            "backgroundcolor": "#E5ECF6",
            "gridcolor": "white",
            "gridwidth": 2,
            "linecolor": "white",
            "showbackground": true,
            "ticks": "",
            "zerolinecolor": "white"
           },
           "yaxis": {
            "backgroundcolor": "#E5ECF6",
            "gridcolor": "white",
            "gridwidth": 2,
            "linecolor": "white",
            "showbackground": true,
            "ticks": "",
            "zerolinecolor": "white"
           },
           "zaxis": {
            "backgroundcolor": "#E5ECF6",
            "gridcolor": "white",
            "gridwidth": 2,
            "linecolor": "white",
            "showbackground": true,
            "ticks": "",
            "zerolinecolor": "white"
           }
          },
          "shapedefaults": {
           "line": {
            "color": "#2a3f5f"
           }
          },
          "ternary": {
           "aaxis": {
            "gridcolor": "white",
            "linecolor": "white",
            "ticks": ""
           },
           "baxis": {
            "gridcolor": "white",
            "linecolor": "white",
            "ticks": ""
           },
           "bgcolor": "#E5ECF6",
           "caxis": {
            "gridcolor": "white",
            "linecolor": "white",
            "ticks": ""
           }
          },
          "title": {
           "x": 0.05
          },
          "xaxis": {
           "automargin": true,
           "gridcolor": "white",
           "linecolor": "white",
           "ticks": "",
           "title": {
            "standoff": 15
           },
           "zerolinecolor": "white",
           "zerolinewidth": 2
          },
          "yaxis": {
           "automargin": true,
           "gridcolor": "white",
           "linecolor": "white",
           "ticks": "",
           "title": {
            "standoff": 15
           },
           "zerolinecolor": "white",
           "zerolinewidth": 2
          }
         }
        },
        "xaxis": {
         "anchor": "y",
         "autorange": true,
         "domain": [
          0,
          1
         ],
         "range": [
          0.5,
          4.5
         ],
         "title": {
          "text": "Number of Engines"
         },
         "type": "linear"
        },
        "yaxis": {
         "anchor": "x",
         "autorange": true,
         "domain": [
          0,
          1
         ],
         "range": [
          0,
          221.05263157894737
         ],
         "title": {
          "text": "count"
         }
        }
       }
      },
      "image/png": "[encoded data removed]",
      "text/html": [
       "<div>                            <div id=\"33491306-60b4-46ce-9c8c-8c603bcc4ca0\" class=\"plotly-graph-div\" style=\"height:525px; width:100%;\"></div>            <script type=\"text/javascript\">                require([\"plotly\"], function(Plotly) {                    window.PLOTLYENV=window.PLOTLYENV || {};                                    if (document.getElementById(\"33491306-60b4-46ce-9c8c-8c603bcc4ca0\")) {                    Plotly.newPlot(                        \"33491306-60b4-46ce-9c8c-8c603bcc4ca0\",                        [{\"alignmentgroup\":\"True\",\"bingroup\":\"x\",\"hovertemplate\":\"Number of Engines=%{x}\\u003cbr\\u003ecount=%{y}\\u003cextra\\u003e\\u003c\\u002fextra\\u003e\",\"legendgroup\":\"\",\"marker\":{\"color\":\"#636efa\",\"pattern\":{\"shape\":\"\"}},\"name\":\"\",\"nbinsx\":4,\"offsetgroup\":\"\",\"orientation\":\"v\",\"showlegend\":false,\"x\":[4,2,2,2,2,2,2,2,2,2,2,2,2,2,2,2,4,4,4,4,2,2,4,4,2,2,2,2,2,2,4,2,2,2,2,2,2,4,2,2,2,2,2,2,2,2,2,2,2,4,4,4,4,4,2,2,2,2,2,2,2,2,2,2,2,2,2,2,2,2,2,2,1,2,1,1,1,1,1,2,2,2,2,2,2,2,1,2,2,2,2,1,4,1,1,4,1,1,1,2,1,4,1,1,1,1,1,1,1,1,1,1,1,1,1,2,1,2,2,2,2,2,4,2,2,2,2,2,2,2,2,2,2,2,2,2,2,2,2,2,2,2,2,2,2,2,2,1,2,1,1,1,1,2,2,2,2,1,1,2,2,2,2,1,2,2,2,1,2,3,2,2,4,4,2,2,2,2,2,2,2,2,4,1,2,2,2,2,2,2,2,2,2,2,2,2,2,2,2,2,2,2,1,1,2,2,3,2,2,3,3,3,1,2,1,2,2,2,2,2,1,2,2,2,2,2,2,2,2,2,2,2,2,1,2,1,4,2,2,2,4,1,4,1,1,2,2,2,2,2,2,2,2,2,2,2,1,1,1,1,3,2,2,2,2,2,2,2,2,1,2,1,1,1,1,1,4,1,1,1,1,2,1,1,1,1,1,1,1,2,1,1,2,2,2,1,2,1,2,1,2,2,2,2,2,1,2,2,3,3,4,4,1,1,1,1,2,2,2,2,2,1,1,2,2,1,1,1,1,1,1,1,1,1,1,1,2],\"xaxis\":\"x\",\"yaxis\":\"y\",\"type\":\"histogram\"}],                        {\"template\":{\"data\":{\"histogram2dcontour\":[{\"type\":\"histogram2dcontour\",\"colorbar\":{\"outlinewidth\":0,\"ticks\":\"\"},\"colorscale\":[[0.0,\"#0d0887\"],[0.1111111111111111,\"#46039f\"],[0.2222222222222222,\"#7201a8\"],[0.3333333333333333,\"#9c179e\"],[0.4444444444444444,\"#bd3786\"],[0.5555555555555556,\"#d8576b\"],[0.6666666666666666,\"#ed7953\"],[0.7777777777777778,\"#fb9f3a\"],[0.8888888888888888,\"#fdca26\"],[1.0,\"#f0f921\"]]}],\"choropleth\":[{\"type\":\"choropleth\",\"colorbar\":{\"outlinewidth\":0,\"ticks\":\"\"}}],\"histogram2d\":[{\"type\":\"histogram2d\",\"colorbar\":{\"outlinewidth\":0,\"ticks\":\"\"},\"colorscale\":[[0.0,\"#0d0887\"],[0.1111111111111111,\"#46039f\"],[0.2222222222222222,\"#7201a8\"],[0.3333333333333333,\"#9c179e\"],[0.4444444444444444,\"#bd3786\"],[0.5555555555555556,\"#d8576b\"],[0.6666666666666666,\"#ed7953\"],[0.7777777777777778,\"#fb9f3a\"],[0.8888888888888888,\"#fdca26\"],[1.0,\"#f0f921\"]]}],\"heatmap\":[{\"type\":\"heatmap\",\"colorbar\":{\"outlinewidth\":0,\"ticks\":\"\"},\"colorscale\":[[0.0,\"#0d0887\"],[0.1111111111111111,\"#46039f\"],[0.2222222222222222,\"#7201a8\"],[0.3333333333333333,\"#9c179e\"],[0.4444444444444444,\"#bd3786\"],[0.5555555555555556,\"#d8576b\"],[0.6666666666666666,\"#ed7953\"],[0.7777777777777778,\"#fb9f3a\"],[0.8888888888888888,\"#fdca26\"],[1.0,\"#f0f921\"]]}],\"heatmapgl\":[{\"type\":\"heatmapgl\",\"colorbar\":{\"outlinewidth\":0,\"ticks\":\"\"},\"colorscale\":[[0.0,\"#0d0887\"],[0.1111111111111111,\"#46039f\"],[0.2222222222222222,\"#7201a8\"],[0.3333333333333333,\"#9c179e\"],[0.4444444444444444,\"#bd3786\"],[0.5555555555555556,\"#d8576b\"],[0.6666666666666666,\"#ed7953\"],[0.7777777777777778,\"#fb9f3a\"],[0.8888888888888888,\"#fdca26\"],[1.0,\"#f0f921\"]]}],\"contourcarpet\":[{\"type\":\"contourcarpet\",\"colorbar\":{\"outlinewidth\":0,\"ticks\":\"\"}}],\"contour\":[{\"type\":\"contour\",\"colorbar\":{\"outlinewidth\":0,\"ticks\":\"\"},\"colorscale\":[[0.0,\"#0d0887\"],[0.1111111111111111,\"#46039f\"],[0.2222222222222222,\"#7201a8\"],[0.3333333333333333,\"#9c179e\"],[0.4444444444444444,\"#bd3786\"],[0.5555555555555556,\"#d8576b\"],[0.6666666666666666,\"#ed7953\"],[0.7777777777777778,\"#fb9f3a\"],[0.8888888888888888,\"#fdca26\"],[1.0,\"#f0f921\"]]}],\"surface\":[{\"type\":\"surface\",\"colorbar\":{\"outlinewidth\":0,\"ticks\":\"\"},\"colorscale\":[[0.0,\"#0d0887\"],[0.1111111111111111,\"#46039f\"],[0.2222222222222222,\"#7201a8\"],[0.3333333333333333,\"#9c179e\"],[0.4444444444444444,\"#bd3786\"],[0.5555555555555556,\"#d8576b\"],[0.6666666666666666,\"#ed7953\"],[0.7777777777777778,\"#fb9f3a\"],[0.8888888888888888,\"#fdca26\"],[1.0,\"#f0f921\"]]}],\"mesh3d\":[{\"type\":\"mesh3d\",\"colorbar\":{\"outlinewidth\":0,\"ticks\":\"\"}}],\"scatter\":[{\"fillpattern\":{\"fillmode\":\"overlay\",\"size\":10,\"solidity\":0.2},\"type\":\"scatter\"}],\"parcoords\":[{\"type\":\"parcoords\",\"line\":{\"colorbar\":{\"outlinewidth\":0,\"ticks\":\"\"}}}],\"scatterpolargl\":[{\"type\":\"scatterpolargl\",\"marker\":{\"colorbar\":{\"outlinewidth\":0,\"ticks\":\"\"}}}],\"bar\":[{\"error_x\":{\"color\":\"#2a3f5f\"},\"error_y\":{\"color\":\"#2a3f5f\"},\"marker\":{\"line\":{\"color\":\"#E5ECF6\",\"width\":0.5},\"pattern\":{\"fillmode\":\"overlay\",\"size\":10,\"solidity\":0.2}},\"type\":\"bar\"}],\"scattergeo\":[{\"type\":\"scattergeo\",\"marker\":{\"colorbar\":{\"outlinewidth\":0,\"ticks\":\"\"}}}],\"scatterpolar\":[{\"type\":\"scatterpolar\",\"marker\":{\"colorbar\":{\"outlinewidth\":0,\"ticks\":\"\"}}}],\"histogram\":[{\"marker\":{\"pattern\":{\"fillmode\":\"overlay\",\"size\":10,\"solidity\":0.2}},\"type\":\"histogram\"}],\"scattergl\":[{\"type\":\"scattergl\",\"marker\":{\"colorbar\":{\"outlinewidth\":0,\"ticks\":\"\"}}}],\"scatter3d\":[{\"type\":\"scatter3d\",\"line\":{\"colorbar\":{\"outlinewidth\":0,\"ticks\":\"\"}},\"marker\":{\"colorbar\":{\"outlinewidth\":0,\"ticks\":\"\"}}}],\"scattermapbox\":[{\"type\":\"scattermapbox\",\"marker\":{\"colorbar\":{\"outlinewidth\":0,\"ticks\":\"\"}}}],\"scatterternary\":[{\"type\":\"scatterternary\",\"marker\":{\"colorbar\":{\"outlinewidth\":0,\"ticks\":\"\"}}}],\"scattercarpet\":[{\"type\":\"scattercarpet\",\"marker\":{\"colorbar\":{\"outlinewidth\":0,\"ticks\":\"\"}}}],\"carpet\":[{\"aaxis\":{\"endlinecolor\":\"#2a3f5f\",\"gridcolor\":\"white\",\"linecolor\":\"white\",\"minorgridcolor\":\"white\",\"startlinecolor\":\"#2a3f5f\"},\"baxis\":{\"endlinecolor\":\"#2a3f5f\",\"gridcolor\":\"white\",\"linecolor\":\"white\",\"minorgridcolor\":\"white\",\"startlinecolor\":\"#2a3f5f\"},\"type\":\"carpet\"}],\"table\":[{\"cells\":{\"fill\":{\"color\":\"#EBF0F8\"},\"line\":{\"color\":\"white\"}},\"header\":{\"fill\":{\"color\":\"#C8D4E3\"},\"line\":{\"color\":\"white\"}},\"type\":\"table\"}],\"barpolar\":[{\"marker\":{\"line\":{\"color\":\"#E5ECF6\",\"width\":0.5},\"pattern\":{\"fillmode\":\"overlay\",\"size\":10,\"solidity\":0.2}},\"type\":\"barpolar\"}],\"pie\":[{\"automargin\":true,\"type\":\"pie\"}]},\"layout\":{\"autotypenumbers\":\"strict\",\"colorway\":[\"#636efa\",\"#EF553B\",\"#00cc96\",\"#ab63fa\",\"#FFA15A\",\"#19d3f3\",\"#FF6692\",\"#B6E880\",\"#FF97FF\",\"#FECB52\"],\"font\":{\"color\":\"#2a3f5f\"},\"hovermode\":\"closest\",\"hoverlabel\":{\"align\":\"left\"},\"paper_bgcolor\":\"white\",\"plot_bgcolor\":\"#E5ECF6\",\"polar\":{\"bgcolor\":\"#E5ECF6\",\"angularaxis\":{\"gridcolor\":\"white\",\"linecolor\":\"white\",\"ticks\":\"\"},\"radialaxis\":{\"gridcolor\":\"white\",\"linecolor\":\"white\",\"ticks\":\"\"}},\"ternary\":{\"bgcolor\":\"#E5ECF6\",\"aaxis\":{\"gridcolor\":\"white\",\"linecolor\":\"white\",\"ticks\":\"\"},\"baxis\":{\"gridcolor\":\"white\",\"linecolor\":\"white\",\"ticks\":\"\"},\"caxis\":{\"gridcolor\":\"white\",\"linecolor\":\"white\",\"ticks\":\"\"}},\"coloraxis\":{\"colorbar\":{\"outlinewidth\":0,\"ticks\":\"\"}},\"colorscale\":{\"sequential\":[[0.0,\"#0d0887\"],[0.1111111111111111,\"#46039f\"],[0.2222222222222222,\"#7201a8\"],[0.3333333333333333,\"#9c179e\"],[0.4444444444444444,\"#bd3786\"],[0.5555555555555556,\"#d8576b\"],[0.6666666666666666,\"#ed7953\"],[0.7777777777777778,\"#fb9f3a\"],[0.8888888888888888,\"#fdca26\"],[1.0,\"#f0f921\"]],\"sequentialminus\":[[0.0,\"#0d0887\"],[0.1111111111111111,\"#46039f\"],[0.2222222222222222,\"#7201a8\"],[0.3333333333333333,\"#9c179e\"],[0.4444444444444444,\"#bd3786\"],[0.5555555555555556,\"#d8576b\"],[0.6666666666666666,\"#ed7953\"],[0.7777777777777778,\"#fb9f3a\"],[0.8888888888888888,\"#fdca26\"],[1.0,\"#f0f921\"]],\"diverging\":[[0,\"#8e0152\"],[0.1,\"#c51b7d\"],[0.2,\"#de77ae\"],[0.3,\"#f1b6da\"],[0.4,\"#fde0ef\"],[0.5,\"#f7f7f7\"],[0.6,\"#e6f5d0\"],[0.7,\"#b8e186\"],[0.8,\"#7fbc41\"],[0.9,\"#4d9221\"],[1,\"#276419\"]]},\"xaxis\":{\"gridcolor\":\"white\",\"linecolor\":\"white\",\"ticks\":\"\",\"title\":{\"standoff\":15},\"zerolinecolor\":\"white\",\"automargin\":true,\"zerolinewidth\":2},\"yaxis\":{\"gridcolor\":\"white\",\"linecolor\":\"white\",\"ticks\":\"\",\"title\":{\"standoff\":15},\"zerolinecolor\":\"white\",\"automargin\":true,\"zerolinewidth\":2},\"scene\":{\"xaxis\":{\"backgroundcolor\":\"#E5ECF6\",\"gridcolor\":\"white\",\"linecolor\":\"white\",\"showbackground\":true,\"ticks\":\"\",\"zerolinecolor\":\"white\",\"gridwidth\":2},\"yaxis\":{\"backgroundcolor\":\"#E5ECF6\",\"gridcolor\":\"white\",\"linecolor\":\"white\",\"showbackground\":true,\"ticks\":\"\",\"zerolinecolor\":\"white\",\"gridwidth\":2},\"zaxis\":{\"backgroundcolor\":\"#E5ECF6\",\"gridcolor\":\"white\",\"linecolor\":\"white\",\"showbackground\":true,\"ticks\":\"\",\"zerolinecolor\":\"white\",\"gridwidth\":2}},\"shapedefaults\":{\"line\":{\"color\":\"#2a3f5f\"}},\"annotationdefaults\":{\"arrowcolor\":\"#2a3f5f\",\"arrowhead\":0,\"arrowwidth\":1},\"geo\":{\"bgcolor\":\"white\",\"landcolor\":\"#E5ECF6\",\"subunitcolor\":\"white\",\"showland\":true,\"showlakes\":true,\"lakecolor\":\"white\"},\"title\":{\"x\":0.05},\"mapbox\":{\"style\":\"light\"}}},\"xaxis\":{\"anchor\":\"y\",\"domain\":[0.0,1.0],\"title\":{\"text\":\"Number of Engines\"}},\"yaxis\":{\"anchor\":\"x\",\"domain\":[0.0,1.0],\"title\":{\"text\":\"count\"}},\"legend\":{\"tracegroupgap\":0},\"margin\":{\"t\":60},\"barmode\":\"relative\"},                        {\"responsive\": true}                    ).then(function(){\n",
       "                            \n",
       "var gd = document.getElementById('33491306-60b4-46ce-9c8c-8c603bcc4ca0');\n",
       "var x = new MutationObserver(function (mutations, observer) {{\n",
       "        var display = window.getComputedStyle(gd).display;\n",
       "        if (!display || display === 'none') {{\n",
       "            console.log([gd, 'removed!']);\n",
       "            Plotly.purge(gd);\n",
       "            observer.disconnect();\n",
       "        }}\n",
       "}});\n",
       "\n",
       "// Listen for the removal of the full notebook cells\n",
       "var notebookContainer = gd.closest('#notebook-container');\n",
       "if (notebookContainer) {{\n",
       "    x.observe(notebookContainer, {childList: true});\n",
       "}}\n",
       "\n",
       "// Listen for the clearing of the current output cell\n",
       "var outputEl = gd.closest('.output');\n",
       "if (outputEl) {{\n",
       "    x.observe(outputEl, {childList: true});\n",
       "}}\n",
       "\n",
       "                        })                };                });            </script>        </div>"
      ]
     },
     "metadata": {},
     "output_type": "display_data"
    }
   ],
   "source": [
    "fig2 = px.histogram(airplanes_df, x = \"Number of Engines\", nbins = 4)\n",
    "fig2"
   ]
  },
  {
   "cell_type": "code",
   "execution_count": 61,
   "id": "cc256233-6f4a-4f50-8479-41baf6e6391c",
   "metadata": {},
   "outputs": [
    {
     "data": {
      "text/html": [
       "<div>\n",
       "<style scoped>\n",
       "    .dataframe tbody tr th:only-of-type {\n",
       "        vertical-align: middle;\n",
       "    }\n",
       "\n",
       "    .dataframe tbody tr th {\n",
       "        vertical-align: top;\n",
       "    }\n",
       "\n",
       "    .dataframe thead th {\n",
       "        text-align: right;\n",
       "    }\n",
       "</style>\n",
       "<table border=\"1\" class=\"dataframe\">\n",
       "  <thead>\n",
       "    <tr style=\"text-align: right;\">\n",
       "      <th></th>\n",
       "      <th>Manufacturer</th>\n",
       "      <th>Model</th>\n",
       "      <th>Engine Class</th>\n",
       "      <th>Number of Engines</th>\n",
       "      <th>Min Approach Speed</th>\n",
       "      <th>MTOW</th>\n",
       "      <th>MALW</th>\n",
       "      <th>Weight Class</th>\n",
       "      <th>Parking</th>\n",
       "      <th>Class</th>\n",
       "      <th>Registration Count</th>\n",
       "    </tr>\n",
       "  </thead>\n",
       "  <tbody>\n",
       "    <tr>\n",
       "      <th>0</th>\n",
       "      <td>AERO</td>\n",
       "      <td>Aero Commander 500Aero Commander 560Aero Comma...</td>\n",
       "      <td>PistonPistonPistonPiston</td>\n",
       "      <td>8</td>\n",
       "      <td>369</td>\n",
       "      <td>29500</td>\n",
       "      <td>26100</td>\n",
       "      <td>LightLightLightLight</td>\n",
       "      <td>9917.1</td>\n",
       "      <td>Fixed-wingFixed-wingFixed-wingFixed-wing</td>\n",
       "      <td>247</td>\n",
       "    </tr>\n",
       "    <tr>\n",
       "      <th>1</th>\n",
       "      <td>AERONCA</td>\n",
       "      <td>Aeronca 7AC</td>\n",
       "      <td>Piston</td>\n",
       "      <td>1</td>\n",
       "      <td>56</td>\n",
       "      <td>1220</td>\n",
       "      <td>1220</td>\n",
       "      <td>Light</td>\n",
       "      <td>1178.9</td>\n",
       "      <td>Fixed-wing</td>\n",
       "      <td>2133</td>\n",
       "    </tr>\n",
       "    <tr>\n",
       "      <th>2</th>\n",
       "      <td>AIRBUS</td>\n",
       "      <td>Airbus A319 NeoAirbus A320 NeoAirbus A321 NeoA...</td>\n",
       "      <td>JetJetJetJetJetJetJetJetJetJetJetJetJetJetJetJ...</td>\n",
       "      <td>58</td>\n",
       "      <td>3182</td>\n",
       "      <td>10735443</td>\n",
       "      <td>8032303</td>\n",
       "      <td>MediumMediumMediumHeavyHeavyHeavyMediumMediumM...</td>\n",
       "      <td>799701.9</td>\n",
       "      <td>Fixed-wingFixed-wingFixed-wingFixed-wingFixed-...</td>\n",
       "      <td>2080</td>\n",
       "    </tr>\n",
       "    <tr>\n",
       "      <th>3</th>\n",
       "      <td>AIRBUS-BOMBARDIER</td>\n",
       "      <td>Airbus A220-100Airbus A220-300</td>\n",
       "      <td>JetJet</td>\n",
       "      <td>4</td>\n",
       "      <td>265</td>\n",
       "      <td>295407</td>\n",
       "      <td>253090</td>\n",
       "      <td>MediumMedium</td>\n",
       "      <td>31489.8</td>\n",
       "      <td>Fixed-wingFixed-wing</td>\n",
       "      <td>87</td>\n",
       "    </tr>\n",
       "    <tr>\n",
       "      <th>4</th>\n",
       "      <td>ANTONOV</td>\n",
       "      <td>Antonov AN-124 RuslanAntonov AN-12Antonov AN-7...</td>\n",
       "      <td>JetTurbopropJet</td>\n",
       "      <td>10</td>\n",
       "      <td>378</td>\n",
       "      <td>1103413</td>\n",
       "      <td>928146</td>\n",
       "      <td>HeavyMediumMedium</td>\n",
       "      <td>84763.4</td>\n",
       "      <td>Fixed-wingFixed-wingFixed-wing</td>\n",
       "      <td>55</td>\n",
       "    </tr>\n",
       "    <tr>\n",
       "      <th>...</th>\n",
       "      <td>...</td>\n",
       "      <td>...</td>\n",
       "      <td>...</td>\n",
       "      <td>...</td>\n",
       "      <td>...</td>\n",
       "      <td>...</td>\n",
       "      <td>...</td>\n",
       "      <td>...</td>\n",
       "      <td>...</td>\n",
       "      <td>...</td>\n",
       "      <td>...</td>\n",
       "    </tr>\n",
       "    <tr>\n",
       "      <th>71</th>\n",
       "      <td>SUKHOI</td>\n",
       "      <td>SUKHOI Superjet 100-95</td>\n",
       "      <td>Jet</td>\n",
       "      <td>2</td>\n",
       "      <td>140</td>\n",
       "      <td>101148</td>\n",
       "      <td>90390</td>\n",
       "      <td>Medium</td>\n",
       "      <td>10443.8</td>\n",
       "      <td>Fixed-wing</td>\n",
       "      <td>0</td>\n",
       "    </tr>\n",
       "    <tr>\n",
       "      <th>72</th>\n",
       "      <td>TAYLORCRAFT</td>\n",
       "      <td>Taylorcraft BC</td>\n",
       "      <td>Piston</td>\n",
       "      <td>1</td>\n",
       "      <td>50</td>\n",
       "      <td>1500</td>\n",
       "      <td>1500</td>\n",
       "      <td>Light</td>\n",
       "      <td>1242.0</td>\n",
       "      <td>Fixed-wing</td>\n",
       "      <td>1358</td>\n",
       "    </tr>\n",
       "    <tr>\n",
       "      <th>73</th>\n",
       "      <td>TRANSALL</td>\n",
       "      <td>Transall C-160</td>\n",
       "      <td>Turboprop</td>\n",
       "      <td>2</td>\n",
       "      <td>125</td>\n",
       "      <td>112436</td>\n",
       "      <td>103615</td>\n",
       "      <td>Medium</td>\n",
       "      <td>15718.9</td>\n",
       "      <td>Fixed-wing</td>\n",
       "      <td>0</td>\n",
       "    </tr>\n",
       "    <tr>\n",
       "      <th>74</th>\n",
       "      <td>VAN'S</td>\n",
       "      <td>Van's RV-12</td>\n",
       "      <td>Piston</td>\n",
       "      <td>1</td>\n",
       "      <td>53</td>\n",
       "      <td>1320</td>\n",
       "      <td>1320</td>\n",
       "      <td>Light</td>\n",
       "      <td>915.8</td>\n",
       "      <td>Fixed-wing</td>\n",
       "      <td>648</td>\n",
       "    </tr>\n",
       "    <tr>\n",
       "      <th>75</th>\n",
       "      <td>VULCAN- PARTEVANIA</td>\n",
       "      <td>Vulcan Air P68</td>\n",
       "      <td>Piston</td>\n",
       "      <td>2</td>\n",
       "      <td>73</td>\n",
       "      <td>4387</td>\n",
       "      <td>4167</td>\n",
       "      <td>Light</td>\n",
       "      <td>1793.2</td>\n",
       "      <td>Fixed-wing</td>\n",
       "      <td>3</td>\n",
       "    </tr>\n",
       "  </tbody>\n",
       "</table>\n",
       "<p>76 rows × 11 columns</p>\n",
       "</div>"
      ],
      "text/plain": [
       "          Manufacturer                                              Model  \\\n",
       "0                 AERO  Aero Commander 500Aero Commander 560Aero Comma...   \n",
       "1              AERONCA                                        Aeronca 7AC   \n",
       "2               AIRBUS  Airbus A319 NeoAirbus A320 NeoAirbus A321 NeoA...   \n",
       "3    AIRBUS-BOMBARDIER                     Airbus A220-100Airbus A220-300   \n",
       "4              ANTONOV  Antonov AN-124 RuslanAntonov AN-12Antonov AN-7...   \n",
       "..                 ...                                                ...   \n",
       "71              SUKHOI                             SUKHOI Superjet 100-95   \n",
       "72         TAYLORCRAFT                                     Taylorcraft BC   \n",
       "73            TRANSALL                                     Transall C-160   \n",
       "74              VAN'S                                         Van's RV-12   \n",
       "75  VULCAN- PARTEVANIA                                     Vulcan Air P68   \n",
       "\n",
       "                                         Engine Class  Number of Engines  \\\n",
       "0                            PistonPistonPistonPiston                  8   \n",
       "1                                              Piston                  1   \n",
       "2   JetJetJetJetJetJetJetJetJetJetJetJetJetJetJetJ...                 58   \n",
       "3                                              JetJet                  4   \n",
       "4                                     JetTurbopropJet                 10   \n",
       "..                                                ...                ...   \n",
       "71                                                Jet                  2   \n",
       "72                                             Piston                  1   \n",
       "73                                          Turboprop                  2   \n",
       "74                                             Piston                  1   \n",
       "75                                             Piston                  2   \n",
       "\n",
       "    Min Approach Speed      MTOW     MALW  \\\n",
       "0                  369     29500    26100   \n",
       "1                   56      1220     1220   \n",
       "2                 3182  10735443  8032303   \n",
       "3                  265    295407   253090   \n",
       "4                  378   1103413   928146   \n",
       "..                 ...       ...      ...   \n",
       "71                 140    101148    90390   \n",
       "72                  50      1500     1500   \n",
       "73                 125    112436   103615   \n",
       "74                  53      1320     1320   \n",
       "75                  73      4387     4167   \n",
       "\n",
       "                                         Weight Class   Parking  \\\n",
       "0                                LightLightLightLight    9917.1   \n",
       "1                                               Light    1178.9   \n",
       "2   MediumMediumMediumHeavyHeavyHeavyMediumMediumM...  799701.9   \n",
       "3                                        MediumMedium   31489.8   \n",
       "4                                   HeavyMediumMedium   84763.4   \n",
       "..                                                ...       ...   \n",
       "71                                             Medium   10443.8   \n",
       "72                                              Light    1242.0   \n",
       "73                                             Medium   15718.9   \n",
       "74                                              Light     915.8   \n",
       "75                                              Light    1793.2   \n",
       "\n",
       "                                                Class  Registration Count  \n",
       "0            Fixed-wingFixed-wingFixed-wingFixed-wing                 247  \n",
       "1                                          Fixed-wing                2133  \n",
       "2   Fixed-wingFixed-wingFixed-wingFixed-wingFixed-...                2080  \n",
       "3                                Fixed-wingFixed-wing                  87  \n",
       "4                      Fixed-wingFixed-wingFixed-wing                  55  \n",
       "..                                                ...                 ...  \n",
       "71                                         Fixed-wing                   0  \n",
       "72                                         Fixed-wing                1358  \n",
       "73                                         Fixed-wing                   0  \n",
       "74                                         Fixed-wing                 648  \n",
       "75                                         Fixed-wing                   3  \n",
       "\n",
       "[76 rows x 11 columns]"
      ]
     },
     "execution_count": 61,
     "metadata": {},
     "output_type": "execute_result"
    }
   ],
   "source": [
    "num_airplanes = airplanes_df.groupby(\"Manufacturer\").sum().reset_index()\n",
    "num_airplanes"
   ]
  },
  {
   "cell_type": "code",
   "execution_count": 67,
   "id": "e98f12f7-0a28-4081-b208-e68966612dd2",
   "metadata": {},
   "outputs": [
    {
     "data": {
      "text/html": [
       "<div>\n",
       "<style scoped>\n",
       "    .dataframe tbody tr th:only-of-type {\n",
       "        vertical-align: middle;\n",
       "    }\n",
       "\n",
       "    .dataframe tbody tr th {\n",
       "        vertical-align: top;\n",
       "    }\n",
       "\n",
       "    .dataframe thead th {\n",
       "        text-align: right;\n",
       "    }\n",
       "</style>\n",
       "<table border=\"1\" class=\"dataframe\">\n",
       "  <thead>\n",
       "    <tr style=\"text-align: right;\">\n",
       "      <th></th>\n",
       "      <th>Manufacturer</th>\n",
       "      <th>Model</th>\n",
       "      <th>Engine Class</th>\n",
       "      <th>Number of Engines</th>\n",
       "      <th>Min Approach Speed</th>\n",
       "      <th>MTOW</th>\n",
       "      <th>MALW</th>\n",
       "      <th>Weight Class</th>\n",
       "      <th>Parking</th>\n",
       "      <th>Class</th>\n",
       "      <th>Registration Count</th>\n",
       "    </tr>\n",
       "  </thead>\n",
       "  <tbody>\n",
       "    <tr>\n",
       "      <th>2</th>\n",
       "      <td>AIRBUS</td>\n",
       "      <td>Airbus A319 NeoAirbus A320 NeoAirbus A321 NeoA...</td>\n",
       "      <td>JetJetJetJetJetJetJetJetJetJetJetJetJetJetJetJ...</td>\n",
       "      <td>58</td>\n",
       "      <td>3182</td>\n",
       "      <td>10735443</td>\n",
       "      <td>8032303</td>\n",
       "      <td>MediumMediumMediumHeavyHeavyHeavyMediumMediumM...</td>\n",
       "      <td>799701.9</td>\n",
       "      <td>Fixed-wingFixed-wingFixed-wingFixed-wingFixed-...</td>\n",
       "      <td>2080</td>\n",
       "    </tr>\n",
       "    <tr>\n",
       "      <th>9</th>\n",
       "      <td>BOEING</td>\n",
       "      <td>Boeing 737 MAX 7Boeing 737 MAX 8Boeing 737 MAX...</td>\n",
       "      <td>JetJetJetJetJetJetJetJetJetJetJetJetJetJetJetJ...</td>\n",
       "      <td>98</td>\n",
       "      <td>5488</td>\n",
       "      <td>16672807</td>\n",
       "      <td>12525726</td>\n",
       "      <td>MediumMediumMediumHeavyMediumMediumMediumMediu...</td>\n",
       "      <td>1213032.5</td>\n",
       "      <td>Fixed-wingFixed-wingFixed-wingFixed-wingFixed-...</td>\n",
       "      <td>4378</td>\n",
       "    </tr>\n",
       "  </tbody>\n",
       "</table>\n",
       "</div>"
      ],
      "text/plain": [
       "  Manufacturer                                              Model  \\\n",
       "2       AIRBUS  Airbus A319 NeoAirbus A320 NeoAirbus A321 NeoA...   \n",
       "9       BOEING  Boeing 737 MAX 7Boeing 737 MAX 8Boeing 737 MAX...   \n",
       "\n",
       "                                        Engine Class  Number of Engines  \\\n",
       "2  JetJetJetJetJetJetJetJetJetJetJetJetJetJetJetJ...                 58   \n",
       "9  JetJetJetJetJetJetJetJetJetJetJetJetJetJetJetJ...                 98   \n",
       "\n",
       "   Min Approach Speed      MTOW      MALW  \\\n",
       "2                3182  10735443   8032303   \n",
       "9                5488  16672807  12525726   \n",
       "\n",
       "                                        Weight Class    Parking  \\\n",
       "2  MediumMediumMediumHeavyHeavyHeavyMediumMediumM...   799701.9   \n",
       "9  MediumMediumMediumHeavyMediumMediumMediumMediu...  1213032.5   \n",
       "\n",
       "                                               Class  Registration Count  \n",
       "2  Fixed-wingFixed-wingFixed-wingFixed-wingFixed-...                2080  \n",
       "9  Fixed-wingFixed-wingFixed-wingFixed-wingFixed-...                4378  "
      ]
     },
     "execution_count": 67,
     "metadata": {},
     "output_type": "execute_result"
    }
   ],
   "source": [
    "num_airplanes = num_airplanes.loc[(num_airplanes[\"Manufacturer\"] == \"AIRBUS\") | (num_airplanes[\"Manufacturer\"] == \"BOEING\")]\n",
    "num_airplanes"
   ]
  },
  {
   "cell_type": "code",
   "execution_count": 71,
   "id": "2a573a4f-e716-4f9d-ac30-17465c44198a",
   "metadata": {},
   "outputs": [
    {
     "data": {
      "application/vnd.plotly.v1+json": {
       "config": {
        "plotlyServerURL": "https://plot.ly"
       },
       "data": [
        {
         "domain": {
          "x": [
           0,
           1
          ],
          "y": [
           0,
           1
          ]
         },
         "hovertemplate": "Manufacturer=%{label}<br>Registration Count=%{value}<extra></extra>",
         "labels": [
          "AIRBUS",
          "BOEING"
         ],
         "legendgroup": "",
         "name": "",
         "showlegend": true,
         "type": "pie",
         "values": [
          2080,
          4378
         ]
        }
       ],
       "layout": {
        "autosize": true,
        "legend": {
         "tracegroupgap": 0
        },
        "template": {
         "data": {
          "bar": [
           {
            "error_x": {
             "color": "#2a3f5f"
            },
            "error_y": {
             "color": "#2a3f5f"
            },
            "marker": {
             "line": {
              "color": "#E5ECF6",
              "width": 0.5
             },
             "pattern": {
              "fillmode": "overlay",
              "size": 10,
              "solidity": 0.2
             }
            },
            "type": "bar"
           }
          ],
          "barpolar": [
           {
            "marker": {
             "line": {
              "color": "#E5ECF6",
              "width": 0.5
             },
             "pattern": {
              "fillmode": "overlay",
              "size": 10,
              "solidity": 0.2
             }
            },
            "type": "barpolar"
           }
          ],
          "carpet": [
           {
            "aaxis": {
             "endlinecolor": "#2a3f5f",
             "gridcolor": "white",
             "linecolor": "white",
             "minorgridcolor": "white",
             "startlinecolor": "#2a3f5f"
            },
            "baxis": {
             "endlinecolor": "#2a3f5f",
             "gridcolor": "white",
             "linecolor": "white",
             "minorgridcolor": "white",
             "startlinecolor": "#2a3f5f"
            },
            "type": "carpet"
           }
          ],
          "choropleth": [
           {
            "colorbar": {
             "outlinewidth": 0,
             "ticks": ""
            },
            "type": "choropleth"
           }
          ],
          "contour": [
           {
            "colorbar": {
             "outlinewidth": 0,
             "ticks": ""
            },
            "colorscale": [
             [
              0,
              "#0d0887"
             ],
             [
              0.1111111111111111,
              "#46039f"
             ],
             [
              0.2222222222222222,
              "#7201a8"
             ],
             [
              0.3333333333333333,
              "#9c179e"
             ],
             [
              0.4444444444444444,
              "#bd3786"
             ],
             [
              0.5555555555555556,
              "#d8576b"
             ],
             [
              0.6666666666666666,
              "#ed7953"
             ],
             [
              0.7777777777777778,
              "#fb9f3a"
             ],
             [
              0.8888888888888888,
              "#fdca26"
             ],
             [
              1,
              "#f0f921"
             ]
            ],
            "type": "contour"
           }
          ],
          "contourcarpet": [
           {
            "colorbar": {
             "outlinewidth": 0,
             "ticks": ""
            },
            "type": "contourcarpet"
           }
          ],
          "heatmap": [
           {
            "colorbar": {
             "outlinewidth": 0,
             "ticks": ""
            },
            "colorscale": [
             [
              0,
              "#0d0887"
             ],
             [
              0.1111111111111111,
              "#46039f"
             ],
             [
              0.2222222222222222,
              "#7201a8"
             ],
             [
              0.3333333333333333,
              "#9c179e"
             ],
             [
              0.4444444444444444,
              "#bd3786"
             ],
             [
              0.5555555555555556,
              "#d8576b"
             ],
             [
              0.6666666666666666,
              "#ed7953"
             ],
             [
              0.7777777777777778,
              "#fb9f3a"
             ],
             [
              0.8888888888888888,
              "#fdca26"
             ],
             [
              1,
              "#f0f921"
             ]
            ],
            "type": "heatmap"
           }
          ],
          "heatmapgl": [
           {
            "colorbar": {
             "outlinewidth": 0,
             "ticks": ""
            },
            "colorscale": [
             [
              0,
              "#0d0887"
             ],
             [
              0.1111111111111111,
              "#46039f"
             ],
             [
              0.2222222222222222,
              "#7201a8"
             ],
             [
              0.3333333333333333,
              "#9c179e"
             ],
             [
              0.4444444444444444,
              "#bd3786"
             ],
             [
              0.5555555555555556,
              "#d8576b"
             ],
             [
              0.6666666666666666,
              "#ed7953"
             ],
             [
              0.7777777777777778,
              "#fb9f3a"
             ],
             [
              0.8888888888888888,
              "#fdca26"
             ],
             [
              1,
              "#f0f921"
             ]
            ],
            "type": "heatmapgl"
           }
          ],
          "histogram": [
           {
            "marker": {
             "pattern": {
              "fillmode": "overlay",
              "size": 10,
              "solidity": 0.2
             }
            },
            "type": "histogram"
           }
          ],
          "histogram2d": [
           {
            "colorbar": {
             "outlinewidth": 0,
             "ticks": ""
            },
            "colorscale": [
             [
              0,
              "#0d0887"
             ],
             [
              0.1111111111111111,
              "#46039f"
             ],
             [
              0.2222222222222222,
              "#7201a8"
             ],
             [
              0.3333333333333333,
              "#9c179e"
             ],
             [
              0.4444444444444444,
              "#bd3786"
             ],
             [
              0.5555555555555556,
              "#d8576b"
             ],
             [
              0.6666666666666666,
              "#ed7953"
             ],
             [
              0.7777777777777778,
              "#fb9f3a"
             ],
             [
              0.8888888888888888,
              "#fdca26"
             ],
             [
              1,
              "#f0f921"
             ]
            ],
            "type": "histogram2d"
           }
          ],
          "histogram2dcontour": [
           {
            "colorbar": {
             "outlinewidth": 0,
             "ticks": ""
            },
            "colorscale": [
             [
              0,
              "#0d0887"
             ],
             [
              0.1111111111111111,
              "#46039f"
             ],
             [
              0.2222222222222222,
              "#7201a8"
             ],
             [
              0.3333333333333333,
              "#9c179e"
             ],
             [
              0.4444444444444444,
              "#bd3786"
             ],
             [
              0.5555555555555556,
              "#d8576b"
             ],
             [
              0.6666666666666666,
              "#ed7953"
             ],
             [
              0.7777777777777778,
              "#fb9f3a"
             ],
             [
              0.8888888888888888,
              "#fdca26"
             ],
             [
              1,
              "#f0f921"
             ]
            ],
            "type": "histogram2dcontour"
           }
          ],
          "mesh3d": [
           {
            "colorbar": {
             "outlinewidth": 0,
             "ticks": ""
            },
            "type": "mesh3d"
           }
          ],
          "parcoords": [
           {
            "line": {
             "colorbar": {
              "outlinewidth": 0,
              "ticks": ""
             }
            },
            "type": "parcoords"
           }
          ],
          "pie": [
           {
            "automargin": true,
            "type": "pie"
           }
          ],
          "scatter": [
           {
            "fillpattern": {
             "fillmode": "overlay",
             "size": 10,
             "solidity": 0.2
            },
            "type": "scatter"
           }
          ],
          "scatter3d": [
           {
            "line": {
             "colorbar": {
              "outlinewidth": 0,
              "ticks": ""
             }
            },
            "marker": {
             "colorbar": {
              "outlinewidth": 0,
              "ticks": ""
             }
            },
            "type": "scatter3d"
           }
          ],
          "scattercarpet": [
           {
            "marker": {
             "colorbar": {
              "outlinewidth": 0,
              "ticks": ""
             }
            },
            "type": "scattercarpet"
           }
          ],
          "scattergeo": [
           {
            "marker": {
             "colorbar": {
              "outlinewidth": 0,
              "ticks": ""
             }
            },
            "type": "scattergeo"
           }
          ],
          "scattergl": [
           {
            "marker": {
             "colorbar": {
              "outlinewidth": 0,
              "ticks": ""
             }
            },
            "type": "scattergl"
           }
          ],
          "scattermapbox": [
           {
            "marker": {
             "colorbar": {
              "outlinewidth": 0,
              "ticks": ""
             }
            },
            "type": "scattermapbox"
           }
          ],
          "scatterpolar": [
           {
            "marker": {
             "colorbar": {
              "outlinewidth": 0,
              "ticks": ""
             }
            },
            "type": "scatterpolar"
           }
          ],
          "scatterpolargl": [
           {
            "marker": {
             "colorbar": {
              "outlinewidth": 0,
              "ticks": ""
             }
            },
            "type": "scatterpolargl"
           }
          ],
          "scatterternary": [
           {
            "marker": {
             "colorbar": {
              "outlinewidth": 0,
              "ticks": ""
             }
            },
            "type": "scatterternary"
           }
          ],
          "surface": [
           {
            "colorbar": {
             "outlinewidth": 0,
             "ticks": ""
            },
            "colorscale": [
             [
              0,
              "#0d0887"
             ],
             [
              0.1111111111111111,
              "#46039f"
             ],
             [
              0.2222222222222222,
              "#7201a8"
             ],
             [
              0.3333333333333333,
              "#9c179e"
             ],
             [
              0.4444444444444444,
              "#bd3786"
             ],
             [
              0.5555555555555556,
              "#d8576b"
             ],
             [
              0.6666666666666666,
              "#ed7953"
             ],
             [
              0.7777777777777778,
              "#fb9f3a"
             ],
             [
              0.8888888888888888,
              "#fdca26"
             ],
             [
              1,
              "#f0f921"
             ]
            ],
            "type": "surface"
           }
          ],
          "table": [
           {
            "cells": {
             "fill": {
              "color": "#EBF0F8"
             },
             "line": {
              "color": "white"
             }
            },
            "header": {
             "fill": {
              "color": "#C8D4E3"
             },
             "line": {
              "color": "white"
             }
            },
            "type": "table"
           }
          ]
         },
         "layout": {
          "annotationdefaults": {
           "arrowcolor": "#2a3f5f",
           "arrowhead": 0,
           "arrowwidth": 1
          },
          "autotypenumbers": "strict",
          "coloraxis": {
           "colorbar": {
            "outlinewidth": 0,
            "ticks": ""
           }
          },
          "colorscale": {
           "diverging": [
            [
             0,
             "#8e0152"
            ],
            [
             0.1,
             "#c51b7d"
            ],
            [
             0.2,
             "#de77ae"
            ],
            [
             0.3,
             "#f1b6da"
            ],
            [
             0.4,
             "#fde0ef"
            ],
            [
             0.5,
             "#f7f7f7"
            ],
            [
             0.6,
             "#e6f5d0"
            ],
            [
             0.7,
             "#b8e186"
            ],
            [
             0.8,
             "#7fbc41"
            ],
            [
             0.9,
             "#4d9221"
            ],
            [
             1,
             "#276419"
            ]
           ],
           "sequential": [
            [
             0,
             "#0d0887"
            ],
            [
             0.1111111111111111,
             "#46039f"
            ],
            [
             0.2222222222222222,
             "#7201a8"
            ],
            [
             0.3333333333333333,
             "#9c179e"
            ],
            [
             0.4444444444444444,
             "#bd3786"
            ],
            [
             0.5555555555555556,
             "#d8576b"
            ],
            [
             0.6666666666666666,
             "#ed7953"
            ],
            [
             0.7777777777777778,
             "#fb9f3a"
            ],
            [
             0.8888888888888888,
             "#fdca26"
            ],
            [
             1,
             "#f0f921"
            ]
           ],
           "sequentialminus": [
            [
             0,
             "#0d0887"
            ],
            [
             0.1111111111111111,
             "#46039f"
            ],
            [
             0.2222222222222222,
             "#7201a8"
            ],
            [
             0.3333333333333333,
             "#9c179e"
            ],
            [
             0.4444444444444444,
             "#bd3786"
            ],
            [
             0.5555555555555556,
             "#d8576b"
            ],
            [
             0.6666666666666666,
             "#ed7953"
            ],
            [
             0.7777777777777778,
             "#fb9f3a"
            ],
            [
             0.8888888888888888,
             "#fdca26"
            ],
            [
             1,
             "#f0f921"
            ]
           ]
          },
          "colorway": [
           "#636efa",
           "#EF553B",
           "#00cc96",
           "#ab63fa",
           "#FFA15A",
           "#19d3f3",
           "#FF6692",
           "#B6E880",
           "#FF97FF",
           "#FECB52"
          ],
          "font": {
           "color": "#2a3f5f"
          },
          "geo": {
           "bgcolor": "white",
           "lakecolor": "white",
           "landcolor": "#E5ECF6",
           "showlakes": true,
           "showland": true,
           "subunitcolor": "white"
          },
          "hoverlabel": {
           "align": "left"
          },
          "hovermode": "closest",
          "mapbox": {
           "style": "light"
          },
          "paper_bgcolor": "white",
          "plot_bgcolor": "#E5ECF6",
          "polar": {
           "angularaxis": {
            "gridcolor": "white",
            "linecolor": "white",
            "ticks": ""
           },
           "bgcolor": "#E5ECF6",
           "radialaxis": {
            "gridcolor": "white",
            "linecolor": "white",
            "ticks": ""
           }
          },
          "scene": {
           "xaxis": {
            "backgroundcolor": "#E5ECF6",
            "gridcolor": "white",
            "gridwidth": 2,
            "linecolor": "white",
            "showbackground": true,
            "ticks": "",
            "zerolinecolor": "white"
           },
           "yaxis": {
            "backgroundcolor": "#E5ECF6",
            "gridcolor": "white",
            "gridwidth": 2,
            "linecolor": "white",
            "showbackground": true,
            "ticks": "",
            "zerolinecolor": "white"
           },
           "zaxis": {
            "backgroundcolor": "#E5ECF6",
            "gridcolor": "white",
            "gridwidth": 2,
            "linecolor": "white",
            "showbackground": true,
            "ticks": "",
            "zerolinecolor": "white"
           }
          },
          "shapedefaults": {
           "line": {
            "color": "#2a3f5f"
           }
          },
          "ternary": {
           "aaxis": {
            "gridcolor": "white",
            "linecolor": "white",
            "ticks": ""
           },
           "baxis": {
            "gridcolor": "white",
            "linecolor": "white",
            "ticks": ""
           },
           "bgcolor": "#E5ECF6",
           "caxis": {
            "gridcolor": "white",
            "linecolor": "white",
            "ticks": ""
           }
          },
          "title": {
           "x": 0.05
          },
          "xaxis": {
           "automargin": true,
           "gridcolor": "white",
           "linecolor": "white",
           "ticks": "",
           "title": {
            "standoff": 15
           },
           "zerolinecolor": "white",
           "zerolinewidth": 2
          },
          "yaxis": {
           "automargin": true,
           "gridcolor": "white",
           "linecolor": "white",
           "ticks": "",
           "title": {
            "standoff": 15
           },
           "zerolinecolor": "white",
           "zerolinewidth": 2
          }
         }
        },
        "title": {
         "text": "Boeing and AIrbus Market Shares"
        }
       }
      },
      "image/png": "[encoded data removed]",
      "text/html": [
       "<div>                            <div id=\"c7cbd56a-e7d6-48ea-a549-48476294e52a\" class=\"plotly-graph-div\" style=\"height:525px; width:100%;\"></div>            <script type=\"text/javascript\">                require([\"plotly\"], function(Plotly) {                    window.PLOTLYENV=window.PLOTLYENV || {};                                    if (document.getElementById(\"c7cbd56a-e7d6-48ea-a549-48476294e52a\")) {                    Plotly.newPlot(                        \"c7cbd56a-e7d6-48ea-a549-48476294e52a\",                        [{\"domain\":{\"x\":[0.0,1.0],\"y\":[0.0,1.0]},\"hovertemplate\":\"Manufacturer=%{label}\\u003cbr\\u003eRegistration Count=%{value}\\u003cextra\\u003e\\u003c\\u002fextra\\u003e\",\"labels\":[\"AIRBUS\",\"BOEING\"],\"legendgroup\":\"\",\"name\":\"\",\"showlegend\":true,\"values\":[2080,4378],\"type\":\"pie\"}],                        {\"template\":{\"data\":{\"histogram2dcontour\":[{\"type\":\"histogram2dcontour\",\"colorbar\":{\"outlinewidth\":0,\"ticks\":\"\"},\"colorscale\":[[0.0,\"#0d0887\"],[0.1111111111111111,\"#46039f\"],[0.2222222222222222,\"#7201a8\"],[0.3333333333333333,\"#9c179e\"],[0.4444444444444444,\"#bd3786\"],[0.5555555555555556,\"#d8576b\"],[0.6666666666666666,\"#ed7953\"],[0.7777777777777778,\"#fb9f3a\"],[0.8888888888888888,\"#fdca26\"],[1.0,\"#f0f921\"]]}],\"choropleth\":[{\"type\":\"choropleth\",\"colorbar\":{\"outlinewidth\":0,\"ticks\":\"\"}}],\"histogram2d\":[{\"type\":\"histogram2d\",\"colorbar\":{\"outlinewidth\":0,\"ticks\":\"\"},\"colorscale\":[[0.0,\"#0d0887\"],[0.1111111111111111,\"#46039f\"],[0.2222222222222222,\"#7201a8\"],[0.3333333333333333,\"#9c179e\"],[0.4444444444444444,\"#bd3786\"],[0.5555555555555556,\"#d8576b\"],[0.6666666666666666,\"#ed7953\"],[0.7777777777777778,\"#fb9f3a\"],[0.8888888888888888,\"#fdca26\"],[1.0,\"#f0f921\"]]}],\"heatmap\":[{\"type\":\"heatmap\",\"colorbar\":{\"outlinewidth\":0,\"ticks\":\"\"},\"colorscale\":[[0.0,\"#0d0887\"],[0.1111111111111111,\"#46039f\"],[0.2222222222222222,\"#7201a8\"],[0.3333333333333333,\"#9c179e\"],[0.4444444444444444,\"#bd3786\"],[0.5555555555555556,\"#d8576b\"],[0.6666666666666666,\"#ed7953\"],[0.7777777777777778,\"#fb9f3a\"],[0.8888888888888888,\"#fdca26\"],[1.0,\"#f0f921\"]]}],\"heatmapgl\":[{\"type\":\"heatmapgl\",\"colorbar\":{\"outlinewidth\":0,\"ticks\":\"\"},\"colorscale\":[[0.0,\"#0d0887\"],[0.1111111111111111,\"#46039f\"],[0.2222222222222222,\"#7201a8\"],[0.3333333333333333,\"#9c179e\"],[0.4444444444444444,\"#bd3786\"],[0.5555555555555556,\"#d8576b\"],[0.6666666666666666,\"#ed7953\"],[0.7777777777777778,\"#fb9f3a\"],[0.8888888888888888,\"#fdca26\"],[1.0,\"#f0f921\"]]}],\"contourcarpet\":[{\"type\":\"contourcarpet\",\"colorbar\":{\"outlinewidth\":0,\"ticks\":\"\"}}],\"contour\":[{\"type\":\"contour\",\"colorbar\":{\"outlinewidth\":0,\"ticks\":\"\"},\"colorscale\":[[0.0,\"#0d0887\"],[0.1111111111111111,\"#46039f\"],[0.2222222222222222,\"#7201a8\"],[0.3333333333333333,\"#9c179e\"],[0.4444444444444444,\"#bd3786\"],[0.5555555555555556,\"#d8576b\"],[0.6666666666666666,\"#ed7953\"],[0.7777777777777778,\"#fb9f3a\"],[0.8888888888888888,\"#fdca26\"],[1.0,\"#f0f921\"]]}],\"surface\":[{\"type\":\"surface\",\"colorbar\":{\"outlinewidth\":0,\"ticks\":\"\"},\"colorscale\":[[0.0,\"#0d0887\"],[0.1111111111111111,\"#46039f\"],[0.2222222222222222,\"#7201a8\"],[0.3333333333333333,\"#9c179e\"],[0.4444444444444444,\"#bd3786\"],[0.5555555555555556,\"#d8576b\"],[0.6666666666666666,\"#ed7953\"],[0.7777777777777778,\"#fb9f3a\"],[0.8888888888888888,\"#fdca26\"],[1.0,\"#f0f921\"]]}],\"mesh3d\":[{\"type\":\"mesh3d\",\"colorbar\":{\"outlinewidth\":0,\"ticks\":\"\"}}],\"scatter\":[{\"fillpattern\":{\"fillmode\":\"overlay\",\"size\":10,\"solidity\":0.2},\"type\":\"scatter\"}],\"parcoords\":[{\"type\":\"parcoords\",\"line\":{\"colorbar\":{\"outlinewidth\":0,\"ticks\":\"\"}}}],\"scatterpolargl\":[{\"type\":\"scatterpolargl\",\"marker\":{\"colorbar\":{\"outlinewidth\":0,\"ticks\":\"\"}}}],\"bar\":[{\"error_x\":{\"color\":\"#2a3f5f\"},\"error_y\":{\"color\":\"#2a3f5f\"},\"marker\":{\"line\":{\"color\":\"#E5ECF6\",\"width\":0.5},\"pattern\":{\"fillmode\":\"overlay\",\"size\":10,\"solidity\":0.2}},\"type\":\"bar\"}],\"scattergeo\":[{\"type\":\"scattergeo\",\"marker\":{\"colorbar\":{\"outlinewidth\":0,\"ticks\":\"\"}}}],\"scatterpolar\":[{\"type\":\"scatterpolar\",\"marker\":{\"colorbar\":{\"outlinewidth\":0,\"ticks\":\"\"}}}],\"histogram\":[{\"marker\":{\"pattern\":{\"fillmode\":\"overlay\",\"size\":10,\"solidity\":0.2}},\"type\":\"histogram\"}],\"scattergl\":[{\"type\":\"scattergl\",\"marker\":{\"colorbar\":{\"outlinewidth\":0,\"ticks\":\"\"}}}],\"scatter3d\":[{\"type\":\"scatter3d\",\"line\":{\"colorbar\":{\"outlinewidth\":0,\"ticks\":\"\"}},\"marker\":{\"colorbar\":{\"outlinewidth\":0,\"ticks\":\"\"}}}],\"scattermapbox\":[{\"type\":\"scattermapbox\",\"marker\":{\"colorbar\":{\"outlinewidth\":0,\"ticks\":\"\"}}}],\"scatterternary\":[{\"type\":\"scatterternary\",\"marker\":{\"colorbar\":{\"outlinewidth\":0,\"ticks\":\"\"}}}],\"scattercarpet\":[{\"type\":\"scattercarpet\",\"marker\":{\"colorbar\":{\"outlinewidth\":0,\"ticks\":\"\"}}}],\"carpet\":[{\"aaxis\":{\"endlinecolor\":\"#2a3f5f\",\"gridcolor\":\"white\",\"linecolor\":\"white\",\"minorgridcolor\":\"white\",\"startlinecolor\":\"#2a3f5f\"},\"baxis\":{\"endlinecolor\":\"#2a3f5f\",\"gridcolor\":\"white\",\"linecolor\":\"white\",\"minorgridcolor\":\"white\",\"startlinecolor\":\"#2a3f5f\"},\"type\":\"carpet\"}],\"table\":[{\"cells\":{\"fill\":{\"color\":\"#EBF0F8\"},\"line\":{\"color\":\"white\"}},\"header\":{\"fill\":{\"color\":\"#C8D4E3\"},\"line\":{\"color\":\"white\"}},\"type\":\"table\"}],\"barpolar\":[{\"marker\":{\"line\":{\"color\":\"#E5ECF6\",\"width\":0.5},\"pattern\":{\"fillmode\":\"overlay\",\"size\":10,\"solidity\":0.2}},\"type\":\"barpolar\"}],\"pie\":[{\"automargin\":true,\"type\":\"pie\"}]},\"layout\":{\"autotypenumbers\":\"strict\",\"colorway\":[\"#636efa\",\"#EF553B\",\"#00cc96\",\"#ab63fa\",\"#FFA15A\",\"#19d3f3\",\"#FF6692\",\"#B6E880\",\"#FF97FF\",\"#FECB52\"],\"font\":{\"color\":\"#2a3f5f\"},\"hovermode\":\"closest\",\"hoverlabel\":{\"align\":\"left\"},\"paper_bgcolor\":\"white\",\"plot_bgcolor\":\"#E5ECF6\",\"polar\":{\"bgcolor\":\"#E5ECF6\",\"angularaxis\":{\"gridcolor\":\"white\",\"linecolor\":\"white\",\"ticks\":\"\"},\"radialaxis\":{\"gridcolor\":\"white\",\"linecolor\":\"white\",\"ticks\":\"\"}},\"ternary\":{\"bgcolor\":\"#E5ECF6\",\"aaxis\":{\"gridcolor\":\"white\",\"linecolor\":\"white\",\"ticks\":\"\"},\"baxis\":{\"gridcolor\":\"white\",\"linecolor\":\"white\",\"ticks\":\"\"},\"caxis\":{\"gridcolor\":\"white\",\"linecolor\":\"white\",\"ticks\":\"\"}},\"coloraxis\":{\"colorbar\":{\"outlinewidth\":0,\"ticks\":\"\"}},\"colorscale\":{\"sequential\":[[0.0,\"#0d0887\"],[0.1111111111111111,\"#46039f\"],[0.2222222222222222,\"#7201a8\"],[0.3333333333333333,\"#9c179e\"],[0.4444444444444444,\"#bd3786\"],[0.5555555555555556,\"#d8576b\"],[0.6666666666666666,\"#ed7953\"],[0.7777777777777778,\"#fb9f3a\"],[0.8888888888888888,\"#fdca26\"],[1.0,\"#f0f921\"]],\"sequentialminus\":[[0.0,\"#0d0887\"],[0.1111111111111111,\"#46039f\"],[0.2222222222222222,\"#7201a8\"],[0.3333333333333333,\"#9c179e\"],[0.4444444444444444,\"#bd3786\"],[0.5555555555555556,\"#d8576b\"],[0.6666666666666666,\"#ed7953\"],[0.7777777777777778,\"#fb9f3a\"],[0.8888888888888888,\"#fdca26\"],[1.0,\"#f0f921\"]],\"diverging\":[[0,\"#8e0152\"],[0.1,\"#c51b7d\"],[0.2,\"#de77ae\"],[0.3,\"#f1b6da\"],[0.4,\"#fde0ef\"],[0.5,\"#f7f7f7\"],[0.6,\"#e6f5d0\"],[0.7,\"#b8e186\"],[0.8,\"#7fbc41\"],[0.9,\"#4d9221\"],[1,\"#276419\"]]},\"xaxis\":{\"gridcolor\":\"white\",\"linecolor\":\"white\",\"ticks\":\"\",\"title\":{\"standoff\":15},\"zerolinecolor\":\"white\",\"automargin\":true,\"zerolinewidth\":2},\"yaxis\":{\"gridcolor\":\"white\",\"linecolor\":\"white\",\"ticks\":\"\",\"title\":{\"standoff\":15},\"zerolinecolor\":\"white\",\"automargin\":true,\"zerolinewidth\":2},\"scene\":{\"xaxis\":{\"backgroundcolor\":\"#E5ECF6\",\"gridcolor\":\"white\",\"linecolor\":\"white\",\"showbackground\":true,\"ticks\":\"\",\"zerolinecolor\":\"white\",\"gridwidth\":2},\"yaxis\":{\"backgroundcolor\":\"#E5ECF6\",\"gridcolor\":\"white\",\"linecolor\":\"white\",\"showbackground\":true,\"ticks\":\"\",\"zerolinecolor\":\"white\",\"gridwidth\":2},\"zaxis\":{\"backgroundcolor\":\"#E5ECF6\",\"gridcolor\":\"white\",\"linecolor\":\"white\",\"showbackground\":true,\"ticks\":\"\",\"zerolinecolor\":\"white\",\"gridwidth\":2}},\"shapedefaults\":{\"line\":{\"color\":\"#2a3f5f\"}},\"annotationdefaults\":{\"arrowcolor\":\"#2a3f5f\",\"arrowhead\":0,\"arrowwidth\":1},\"geo\":{\"bgcolor\":\"white\",\"landcolor\":\"#E5ECF6\",\"subunitcolor\":\"white\",\"showland\":true,\"showlakes\":true,\"lakecolor\":\"white\"},\"title\":{\"x\":0.05},\"mapbox\":{\"style\":\"light\"}}},\"legend\":{\"tracegroupgap\":0},\"title\":{\"text\":\"Boeing and AIrbus Market Shares\"}},                        {\"responsive\": true}                    ).then(function(){\n",
       "                            \n",
       "var gd = document.getElementById('c7cbd56a-e7d6-48ea-a549-48476294e52a');\n",
       "var x = new MutationObserver(function (mutations, observer) {{\n",
       "        var display = window.getComputedStyle(gd).display;\n",
       "        if (!display || display === 'none') {{\n",
       "            console.log([gd, 'removed!']);\n",
       "            Plotly.purge(gd);\n",
       "            observer.disconnect();\n",
       "        }}\n",
       "}});\n",
       "\n",
       "// Listen for the removal of the full notebook cells\n",
       "var notebookContainer = gd.closest('#notebook-container');\n",
       "if (notebookContainer) {{\n",
       "    x.observe(notebookContainer, {childList: true});\n",
       "}}\n",
       "\n",
       "// Listen for the clearing of the current output cell\n",
       "var outputEl = gd.closest('.output');\n",
       "if (outputEl) {{\n",
       "    x.observe(outputEl, {childList: true});\n",
       "}}\n",
       "\n",
       "                        })                };                });            </script>        </div>"
      ]
     },
     "metadata": {},
     "output_type": "display_data"
    }
   ],
   "source": [
    "fig3 = px.pie(num_airplanes,values = \"Registration Count\",names = \"Manufacturer\",title = \"Boeing and AIrbus Market Shares\")\n",
    "fig3"
   ]
  },
  {
   "cell_type": "code",
   "execution_count": 79,
   "id": "4da8754e-2e26-4c5d-b072-3857047e04a9",
   "metadata": {},
   "outputs": [
    {
     "data": {
      "text/html": [
       "<div>\n",
       "<style scoped>\n",
       "    .dataframe tbody tr th:only-of-type {\n",
       "        vertical-align: middle;\n",
       "    }\n",
       "\n",
       "    .dataframe tbody tr th {\n",
       "        vertical-align: top;\n",
       "    }\n",
       "\n",
       "    .dataframe thead th {\n",
       "        text-align: right;\n",
       "    }\n",
       "</style>\n",
       "<table border=\"1\" class=\"dataframe\">\n",
       "  <thead>\n",
       "    <tr style=\"text-align: right;\">\n",
       "      <th></th>\n",
       "      <th>Name</th>\n",
       "      <th>Test</th>\n",
       "      <th>Grade</th>\n",
       "    </tr>\n",
       "  </thead>\n",
       "  <tbody>\n",
       "    <tr>\n",
       "      <th>a</th>\n",
       "      <td>Athena</td>\n",
       "      <td>Test 1</td>\n",
       "      <td>90.0</td>\n",
       "    </tr>\n",
       "    <tr>\n",
       "      <th>b</th>\n",
       "      <td>Anna</td>\n",
       "      <td>Test 1</td>\n",
       "      <td>90.0</td>\n",
       "    </tr>\n",
       "    <tr>\n",
       "      <th>c</th>\n",
       "      <td>Athena</td>\n",
       "      <td>Test 2</td>\n",
       "      <td>98.0</td>\n",
       "    </tr>\n",
       "  </tbody>\n",
       "</table>\n",
       "</div>"
      ],
      "text/plain": [
       "     Name    Test  Grade\n",
       "a  Athena  Test 1   90.0\n",
       "b    Anna  Test 1   90.0\n",
       "c  Athena  Test 2   98.0"
      ]
     },
     "execution_count": 79,
     "metadata": {},
     "output_type": "execute_result"
    }
   ],
   "source": [
    "df = pd.DataFrame([[\"Athena\",\"Test 1\", 90.0],[\"Anna\",\"Test 1\", 90.0], [\"Athena\",\"Test 2\", 98.0]], index = list(\"abc\"), columns=['Name','Test','Grade'])\n",
    "df"
   ]
  },
  {
   "cell_type": "code",
   "execution_count": 83,
   "id": "e76dfc4d-5466-40ae-b026-19a40392bbd8",
   "metadata": {},
   "outputs": [
    {
     "ename": "TypeError",
     "evalue": "agg function failed [how->mean,dtype->object]",
     "output_type": "error",
     "traceback": [
      "\u001b[0;31m---------------------------------------------------------------------------\u001b[0m",
      "\u001b[0;31mTypeError\u001b[0m                                 Traceback (most recent call last)",
      "File \u001b[0;32m/opt/anaconda3/lib/python3.12/site-packages/pandas/core/groupby/groupby.py:1942\u001b[0m, in \u001b[0;36mGroupBy._agg_py_fallback\u001b[0;34m(self, how, values, ndim, alt)\u001b[0m\n\u001b[1;32m   1941\u001b[0m \u001b[38;5;28;01mtry\u001b[39;00m:\n\u001b[0;32m-> 1942\u001b[0m     res_values \u001b[38;5;241m=\u001b[39m \u001b[38;5;28mself\u001b[39m\u001b[38;5;241m.\u001b[39m_grouper\u001b[38;5;241m.\u001b[39magg_series(ser, alt, preserve_dtype\u001b[38;5;241m=\u001b[39m\u001b[38;5;28;01mTrue\u001b[39;00m)\n\u001b[1;32m   1943\u001b[0m \u001b[38;5;28;01mexcept\u001b[39;00m \u001b[38;5;167;01mException\u001b[39;00m \u001b[38;5;28;01mas\u001b[39;00m err:\n",
      "File \u001b[0;32m/opt/anaconda3/lib/python3.12/site-packages/pandas/core/groupby/ops.py:864\u001b[0m, in \u001b[0;36mBaseGrouper.agg_series\u001b[0;34m(self, obj, func, preserve_dtype)\u001b[0m\n\u001b[1;32m    862\u001b[0m     preserve_dtype \u001b[38;5;241m=\u001b[39m \u001b[38;5;28;01mTrue\u001b[39;00m\n\u001b[0;32m--> 864\u001b[0m result \u001b[38;5;241m=\u001b[39m \u001b[38;5;28mself\u001b[39m\u001b[38;5;241m.\u001b[39m_aggregate_series_pure_python(obj, func)\n\u001b[1;32m    866\u001b[0m npvalues \u001b[38;5;241m=\u001b[39m lib\u001b[38;5;241m.\u001b[39mmaybe_convert_objects(result, try_float\u001b[38;5;241m=\u001b[39m\u001b[38;5;28;01mFalse\u001b[39;00m)\n",
      "File \u001b[0;32m/opt/anaconda3/lib/python3.12/site-packages/pandas/core/groupby/ops.py:885\u001b[0m, in \u001b[0;36mBaseGrouper._aggregate_series_pure_python\u001b[0;34m(self, obj, func)\u001b[0m\n\u001b[1;32m    884\u001b[0m \u001b[38;5;28;01mfor\u001b[39;00m i, group \u001b[38;5;129;01min\u001b[39;00m \u001b[38;5;28menumerate\u001b[39m(splitter):\n\u001b[0;32m--> 885\u001b[0m     res \u001b[38;5;241m=\u001b[39m func(group)\n\u001b[1;32m    886\u001b[0m     res \u001b[38;5;241m=\u001b[39m extract_result(res)\n",
      "File \u001b[0;32m/opt/anaconda3/lib/python3.12/site-packages/pandas/core/groupby/groupby.py:2454\u001b[0m, in \u001b[0;36mGroupBy.mean.<locals>.<lambda>\u001b[0;34m(x)\u001b[0m\n\u001b[1;32m   2451\u001b[0m \u001b[38;5;28;01melse\u001b[39;00m:\n\u001b[1;32m   2452\u001b[0m     result \u001b[38;5;241m=\u001b[39m \u001b[38;5;28mself\u001b[39m\u001b[38;5;241m.\u001b[39m_cython_agg_general(\n\u001b[1;32m   2453\u001b[0m         \u001b[38;5;124m\"\u001b[39m\u001b[38;5;124mmean\u001b[39m\u001b[38;5;124m\"\u001b[39m,\n\u001b[0;32m-> 2454\u001b[0m         alt\u001b[38;5;241m=\u001b[39m\u001b[38;5;28;01mlambda\u001b[39;00m x: Series(x, copy\u001b[38;5;241m=\u001b[39m\u001b[38;5;28;01mFalse\u001b[39;00m)\u001b[38;5;241m.\u001b[39mmean(numeric_only\u001b[38;5;241m=\u001b[39mnumeric_only),\n\u001b[1;32m   2455\u001b[0m         numeric_only\u001b[38;5;241m=\u001b[39mnumeric_only,\n\u001b[1;32m   2456\u001b[0m     )\n\u001b[1;32m   2457\u001b[0m     \u001b[38;5;28;01mreturn\u001b[39;00m result\u001b[38;5;241m.\u001b[39m__finalize__(\u001b[38;5;28mself\u001b[39m\u001b[38;5;241m.\u001b[39mobj, method\u001b[38;5;241m=\u001b[39m\u001b[38;5;124m\"\u001b[39m\u001b[38;5;124mgroupby\u001b[39m\u001b[38;5;124m\"\u001b[39m)\n",
      "File \u001b[0;32m/opt/anaconda3/lib/python3.12/site-packages/pandas/core/series.py:6549\u001b[0m, in \u001b[0;36mSeries.mean\u001b[0;34m(self, axis, skipna, numeric_only, **kwargs)\u001b[0m\n\u001b[1;32m   6541\u001b[0m \u001b[38;5;129m@doc\u001b[39m(make_doc(\u001b[38;5;124m\"\u001b[39m\u001b[38;5;124mmean\u001b[39m\u001b[38;5;124m\"\u001b[39m, ndim\u001b[38;5;241m=\u001b[39m\u001b[38;5;241m1\u001b[39m))\n\u001b[1;32m   6542\u001b[0m \u001b[38;5;28;01mdef\u001b[39;00m \u001b[38;5;21mmean\u001b[39m(\n\u001b[1;32m   6543\u001b[0m     \u001b[38;5;28mself\u001b[39m,\n\u001b[0;32m   (...)\u001b[0m\n\u001b[1;32m   6547\u001b[0m     \u001b[38;5;241m*\u001b[39m\u001b[38;5;241m*\u001b[39mkwargs,\n\u001b[1;32m   6548\u001b[0m ):\n\u001b[0;32m-> 6549\u001b[0m     \u001b[38;5;28;01mreturn\u001b[39;00m NDFrame\u001b[38;5;241m.\u001b[39mmean(\u001b[38;5;28mself\u001b[39m, axis, skipna, numeric_only, \u001b[38;5;241m*\u001b[39m\u001b[38;5;241m*\u001b[39mkwargs)\n",
      "File \u001b[0;32m/opt/anaconda3/lib/python3.12/site-packages/pandas/core/generic.py:12420\u001b[0m, in \u001b[0;36mNDFrame.mean\u001b[0;34m(self, axis, skipna, numeric_only, **kwargs)\u001b[0m\n\u001b[1;32m  12413\u001b[0m \u001b[38;5;28;01mdef\u001b[39;00m \u001b[38;5;21mmean\u001b[39m(\n\u001b[1;32m  12414\u001b[0m     \u001b[38;5;28mself\u001b[39m,\n\u001b[1;32m  12415\u001b[0m     axis: Axis \u001b[38;5;241m|\u001b[39m \u001b[38;5;28;01mNone\u001b[39;00m \u001b[38;5;241m=\u001b[39m \u001b[38;5;241m0\u001b[39m,\n\u001b[0;32m   (...)\u001b[0m\n\u001b[1;32m  12418\u001b[0m     \u001b[38;5;241m*\u001b[39m\u001b[38;5;241m*\u001b[39mkwargs,\n\u001b[1;32m  12419\u001b[0m ) \u001b[38;5;241m-\u001b[39m\u001b[38;5;241m>\u001b[39m Series \u001b[38;5;241m|\u001b[39m \u001b[38;5;28mfloat\u001b[39m:\n\u001b[0;32m> 12420\u001b[0m     \u001b[38;5;28;01mreturn\u001b[39;00m \u001b[38;5;28mself\u001b[39m\u001b[38;5;241m.\u001b[39m_stat_function(\n\u001b[1;32m  12421\u001b[0m         \u001b[38;5;124m\"\u001b[39m\u001b[38;5;124mmean\u001b[39m\u001b[38;5;124m\"\u001b[39m, nanops\u001b[38;5;241m.\u001b[39mnanmean, axis, skipna, numeric_only, \u001b[38;5;241m*\u001b[39m\u001b[38;5;241m*\u001b[39mkwargs\n\u001b[1;32m  12422\u001b[0m     )\n",
      "File \u001b[0;32m/opt/anaconda3/lib/python3.12/site-packages/pandas/core/generic.py:12377\u001b[0m, in \u001b[0;36mNDFrame._stat_function\u001b[0;34m(self, name, func, axis, skipna, numeric_only, **kwargs)\u001b[0m\n\u001b[1;32m  12375\u001b[0m validate_bool_kwarg(skipna, \u001b[38;5;124m\"\u001b[39m\u001b[38;5;124mskipna\u001b[39m\u001b[38;5;124m\"\u001b[39m, none_allowed\u001b[38;5;241m=\u001b[39m\u001b[38;5;28;01mFalse\u001b[39;00m)\n\u001b[0;32m> 12377\u001b[0m \u001b[38;5;28;01mreturn\u001b[39;00m \u001b[38;5;28mself\u001b[39m\u001b[38;5;241m.\u001b[39m_reduce(\n\u001b[1;32m  12378\u001b[0m     func, name\u001b[38;5;241m=\u001b[39mname, axis\u001b[38;5;241m=\u001b[39maxis, skipna\u001b[38;5;241m=\u001b[39mskipna, numeric_only\u001b[38;5;241m=\u001b[39mnumeric_only\n\u001b[1;32m  12379\u001b[0m )\n",
      "File \u001b[0;32m/opt/anaconda3/lib/python3.12/site-packages/pandas/core/series.py:6457\u001b[0m, in \u001b[0;36mSeries._reduce\u001b[0;34m(self, op, name, axis, skipna, numeric_only, filter_type, **kwds)\u001b[0m\n\u001b[1;32m   6453\u001b[0m     \u001b[38;5;28;01mraise\u001b[39;00m \u001b[38;5;167;01mTypeError\u001b[39;00m(\n\u001b[1;32m   6454\u001b[0m         \u001b[38;5;124mf\u001b[39m\u001b[38;5;124m\"\u001b[39m\u001b[38;5;124mSeries.\u001b[39m\u001b[38;5;132;01m{\u001b[39;00mname\u001b[38;5;132;01m}\u001b[39;00m\u001b[38;5;124m does not allow \u001b[39m\u001b[38;5;132;01m{\u001b[39;00mkwd_name\u001b[38;5;132;01m}\u001b[39;00m\u001b[38;5;124m=\u001b[39m\u001b[38;5;132;01m{\u001b[39;00mnumeric_only\u001b[38;5;132;01m}\u001b[39;00m\u001b[38;5;124m \u001b[39m\u001b[38;5;124m\"\u001b[39m\n\u001b[1;32m   6455\u001b[0m         \u001b[38;5;124m\"\u001b[39m\u001b[38;5;124mwith non-numeric dtypes.\u001b[39m\u001b[38;5;124m\"\u001b[39m\n\u001b[1;32m   6456\u001b[0m     )\n\u001b[0;32m-> 6457\u001b[0m \u001b[38;5;28;01mreturn\u001b[39;00m op(delegate, skipna\u001b[38;5;241m=\u001b[39mskipna, \u001b[38;5;241m*\u001b[39m\u001b[38;5;241m*\u001b[39mkwds)\n",
      "File \u001b[0;32m/opt/anaconda3/lib/python3.12/site-packages/pandas/core/nanops.py:147\u001b[0m, in \u001b[0;36mbottleneck_switch.__call__.<locals>.f\u001b[0;34m(values, axis, skipna, **kwds)\u001b[0m\n\u001b[1;32m    146\u001b[0m \u001b[38;5;28;01melse\u001b[39;00m:\n\u001b[0;32m--> 147\u001b[0m     result \u001b[38;5;241m=\u001b[39m alt(values, axis\u001b[38;5;241m=\u001b[39maxis, skipna\u001b[38;5;241m=\u001b[39mskipna, \u001b[38;5;241m*\u001b[39m\u001b[38;5;241m*\u001b[39mkwds)\n\u001b[1;32m    149\u001b[0m \u001b[38;5;28;01mreturn\u001b[39;00m result\n",
      "File \u001b[0;32m/opt/anaconda3/lib/python3.12/site-packages/pandas/core/nanops.py:404\u001b[0m, in \u001b[0;36m_datetimelike_compat.<locals>.new_func\u001b[0;34m(values, axis, skipna, mask, **kwargs)\u001b[0m\n\u001b[1;32m    402\u001b[0m     mask \u001b[38;5;241m=\u001b[39m isna(values)\n\u001b[0;32m--> 404\u001b[0m result \u001b[38;5;241m=\u001b[39m func(values, axis\u001b[38;5;241m=\u001b[39maxis, skipna\u001b[38;5;241m=\u001b[39mskipna, mask\u001b[38;5;241m=\u001b[39mmask, \u001b[38;5;241m*\u001b[39m\u001b[38;5;241m*\u001b[39mkwargs)\n\u001b[1;32m    406\u001b[0m \u001b[38;5;28;01mif\u001b[39;00m datetimelike:\n",
      "File \u001b[0;32m/opt/anaconda3/lib/python3.12/site-packages/pandas/core/nanops.py:720\u001b[0m, in \u001b[0;36mnanmean\u001b[0;34m(values, axis, skipna, mask)\u001b[0m\n\u001b[1;32m    719\u001b[0m the_sum \u001b[38;5;241m=\u001b[39m values\u001b[38;5;241m.\u001b[39msum(axis, dtype\u001b[38;5;241m=\u001b[39mdtype_sum)\n\u001b[0;32m--> 720\u001b[0m the_sum \u001b[38;5;241m=\u001b[39m _ensure_numeric(the_sum)\n\u001b[1;32m    722\u001b[0m \u001b[38;5;28;01mif\u001b[39;00m axis \u001b[38;5;129;01mis\u001b[39;00m \u001b[38;5;129;01mnot\u001b[39;00m \u001b[38;5;28;01mNone\u001b[39;00m \u001b[38;5;129;01mand\u001b[39;00m \u001b[38;5;28mgetattr\u001b[39m(the_sum, \u001b[38;5;124m\"\u001b[39m\u001b[38;5;124mndim\u001b[39m\u001b[38;5;124m\"\u001b[39m, \u001b[38;5;28;01mFalse\u001b[39;00m):\n",
      "File \u001b[0;32m/opt/anaconda3/lib/python3.12/site-packages/pandas/core/nanops.py:1701\u001b[0m, in \u001b[0;36m_ensure_numeric\u001b[0;34m(x)\u001b[0m\n\u001b[1;32m   1699\u001b[0m \u001b[38;5;28;01mif\u001b[39;00m \u001b[38;5;28misinstance\u001b[39m(x, \u001b[38;5;28mstr\u001b[39m):\n\u001b[1;32m   1700\u001b[0m     \u001b[38;5;66;03m# GH#44008, GH#36703 avoid casting e.g. strings to numeric\u001b[39;00m\n\u001b[0;32m-> 1701\u001b[0m     \u001b[38;5;28;01mraise\u001b[39;00m \u001b[38;5;167;01mTypeError\u001b[39;00m(\u001b[38;5;124mf\u001b[39m\u001b[38;5;124m\"\u001b[39m\u001b[38;5;124mCould not convert string \u001b[39m\u001b[38;5;124m'\u001b[39m\u001b[38;5;132;01m{\u001b[39;00mx\u001b[38;5;132;01m}\u001b[39;00m\u001b[38;5;124m'\u001b[39m\u001b[38;5;124m to numeric\u001b[39m\u001b[38;5;124m\"\u001b[39m)\n\u001b[1;32m   1702\u001b[0m \u001b[38;5;28;01mtry\u001b[39;00m:\n",
      "\u001b[0;31mTypeError\u001b[0m: Could not convert string 'Test 1' to numeric",
      "\nThe above exception was the direct cause of the following exception:\n",
      "\u001b[0;31mTypeError\u001b[0m                                 Traceback (most recent call last)",
      "Cell \u001b[0;32mIn[83], line 1\u001b[0m\n\u001b[0;32m----> 1\u001b[0m group1 \u001b[38;5;241m=\u001b[39m df\u001b[38;5;241m.\u001b[39mgroupby(\u001b[38;5;124m\"\u001b[39m\u001b[38;5;124mName\u001b[39m\u001b[38;5;124m\"\u001b[39m)\u001b[38;5;241m.\u001b[39mmean()\n\u001b[1;32m      2\u001b[0m group1\n",
      "File \u001b[0;32m/opt/anaconda3/lib/python3.12/site-packages/pandas/core/groupby/groupby.py:2452\u001b[0m, in \u001b[0;36mGroupBy.mean\u001b[0;34m(self, numeric_only, engine, engine_kwargs)\u001b[0m\n\u001b[1;32m   2445\u001b[0m     \u001b[38;5;28;01mreturn\u001b[39;00m \u001b[38;5;28mself\u001b[39m\u001b[38;5;241m.\u001b[39m_numba_agg_general(\n\u001b[1;32m   2446\u001b[0m         grouped_mean,\n\u001b[1;32m   2447\u001b[0m         executor\u001b[38;5;241m.\u001b[39mfloat_dtype_mapping,\n\u001b[1;32m   2448\u001b[0m         engine_kwargs,\n\u001b[1;32m   2449\u001b[0m         min_periods\u001b[38;5;241m=\u001b[39m\u001b[38;5;241m0\u001b[39m,\n\u001b[1;32m   2450\u001b[0m     )\n\u001b[1;32m   2451\u001b[0m \u001b[38;5;28;01melse\u001b[39;00m:\n\u001b[0;32m-> 2452\u001b[0m     result \u001b[38;5;241m=\u001b[39m \u001b[38;5;28mself\u001b[39m\u001b[38;5;241m.\u001b[39m_cython_agg_general(\n\u001b[1;32m   2453\u001b[0m         \u001b[38;5;124m\"\u001b[39m\u001b[38;5;124mmean\u001b[39m\u001b[38;5;124m\"\u001b[39m,\n\u001b[1;32m   2454\u001b[0m         alt\u001b[38;5;241m=\u001b[39m\u001b[38;5;28;01mlambda\u001b[39;00m x: Series(x, copy\u001b[38;5;241m=\u001b[39m\u001b[38;5;28;01mFalse\u001b[39;00m)\u001b[38;5;241m.\u001b[39mmean(numeric_only\u001b[38;5;241m=\u001b[39mnumeric_only),\n\u001b[1;32m   2455\u001b[0m         numeric_only\u001b[38;5;241m=\u001b[39mnumeric_only,\n\u001b[1;32m   2456\u001b[0m     )\n\u001b[1;32m   2457\u001b[0m     \u001b[38;5;28;01mreturn\u001b[39;00m result\u001b[38;5;241m.\u001b[39m__finalize__(\u001b[38;5;28mself\u001b[39m\u001b[38;5;241m.\u001b[39mobj, method\u001b[38;5;241m=\u001b[39m\u001b[38;5;124m\"\u001b[39m\u001b[38;5;124mgroupby\u001b[39m\u001b[38;5;124m\"\u001b[39m)\n",
      "File \u001b[0;32m/opt/anaconda3/lib/python3.12/site-packages/pandas/core/groupby/groupby.py:1998\u001b[0m, in \u001b[0;36mGroupBy._cython_agg_general\u001b[0;34m(self, how, alt, numeric_only, min_count, **kwargs)\u001b[0m\n\u001b[1;32m   1995\u001b[0m     result \u001b[38;5;241m=\u001b[39m \u001b[38;5;28mself\u001b[39m\u001b[38;5;241m.\u001b[39m_agg_py_fallback(how, values, ndim\u001b[38;5;241m=\u001b[39mdata\u001b[38;5;241m.\u001b[39mndim, alt\u001b[38;5;241m=\u001b[39malt)\n\u001b[1;32m   1996\u001b[0m     \u001b[38;5;28;01mreturn\u001b[39;00m result\n\u001b[0;32m-> 1998\u001b[0m new_mgr \u001b[38;5;241m=\u001b[39m data\u001b[38;5;241m.\u001b[39mgrouped_reduce(array_func)\n\u001b[1;32m   1999\u001b[0m res \u001b[38;5;241m=\u001b[39m \u001b[38;5;28mself\u001b[39m\u001b[38;5;241m.\u001b[39m_wrap_agged_manager(new_mgr)\n\u001b[1;32m   2000\u001b[0m \u001b[38;5;28;01mif\u001b[39;00m how \u001b[38;5;129;01min\u001b[39;00m [\u001b[38;5;124m\"\u001b[39m\u001b[38;5;124midxmin\u001b[39m\u001b[38;5;124m\"\u001b[39m, \u001b[38;5;124m\"\u001b[39m\u001b[38;5;124midxmax\u001b[39m\u001b[38;5;124m\"\u001b[39m]:\n",
      "File \u001b[0;32m/opt/anaconda3/lib/python3.12/site-packages/pandas/core/internals/managers.py:1469\u001b[0m, in \u001b[0;36mBlockManager.grouped_reduce\u001b[0;34m(self, func)\u001b[0m\n\u001b[1;32m   1465\u001b[0m \u001b[38;5;28;01mif\u001b[39;00m blk\u001b[38;5;241m.\u001b[39mis_object:\n\u001b[1;32m   1466\u001b[0m     \u001b[38;5;66;03m# split on object-dtype blocks bc some columns may raise\u001b[39;00m\n\u001b[1;32m   1467\u001b[0m     \u001b[38;5;66;03m#  while others do not.\u001b[39;00m\n\u001b[1;32m   1468\u001b[0m     \u001b[38;5;28;01mfor\u001b[39;00m sb \u001b[38;5;129;01min\u001b[39;00m blk\u001b[38;5;241m.\u001b[39m_split():\n\u001b[0;32m-> 1469\u001b[0m         applied \u001b[38;5;241m=\u001b[39m sb\u001b[38;5;241m.\u001b[39mapply(func)\n\u001b[1;32m   1470\u001b[0m         result_blocks \u001b[38;5;241m=\u001b[39m extend_blocks(applied, result_blocks)\n\u001b[1;32m   1471\u001b[0m \u001b[38;5;28;01melse\u001b[39;00m:\n",
      "File \u001b[0;32m/opt/anaconda3/lib/python3.12/site-packages/pandas/core/internals/blocks.py:393\u001b[0m, in \u001b[0;36mBlock.apply\u001b[0;34m(self, func, **kwargs)\u001b[0m\n\u001b[1;32m    387\u001b[0m \u001b[38;5;129m@final\u001b[39m\n\u001b[1;32m    388\u001b[0m \u001b[38;5;28;01mdef\u001b[39;00m \u001b[38;5;21mapply\u001b[39m(\u001b[38;5;28mself\u001b[39m, func, \u001b[38;5;241m*\u001b[39m\u001b[38;5;241m*\u001b[39mkwargs) \u001b[38;5;241m-\u001b[39m\u001b[38;5;241m>\u001b[39m \u001b[38;5;28mlist\u001b[39m[Block]:\n\u001b[1;32m    389\u001b[0m \u001b[38;5;250m    \u001b[39m\u001b[38;5;124;03m\"\"\"\u001b[39;00m\n\u001b[1;32m    390\u001b[0m \u001b[38;5;124;03m    apply the function to my values; return a block if we are not\u001b[39;00m\n\u001b[1;32m    391\u001b[0m \u001b[38;5;124;03m    one\u001b[39;00m\n\u001b[1;32m    392\u001b[0m \u001b[38;5;124;03m    \"\"\"\u001b[39;00m\n\u001b[0;32m--> 393\u001b[0m     result \u001b[38;5;241m=\u001b[39m func(\u001b[38;5;28mself\u001b[39m\u001b[38;5;241m.\u001b[39mvalues, \u001b[38;5;241m*\u001b[39m\u001b[38;5;241m*\u001b[39mkwargs)\n\u001b[1;32m    395\u001b[0m     result \u001b[38;5;241m=\u001b[39m maybe_coerce_values(result)\n\u001b[1;32m    396\u001b[0m     \u001b[38;5;28;01mreturn\u001b[39;00m \u001b[38;5;28mself\u001b[39m\u001b[38;5;241m.\u001b[39m_split_op_result(result)\n",
      "File \u001b[0;32m/opt/anaconda3/lib/python3.12/site-packages/pandas/core/groupby/groupby.py:1995\u001b[0m, in \u001b[0;36mGroupBy._cython_agg_general.<locals>.array_func\u001b[0;34m(values)\u001b[0m\n\u001b[1;32m   1992\u001b[0m     \u001b[38;5;28;01mreturn\u001b[39;00m result\n\u001b[1;32m   1994\u001b[0m \u001b[38;5;28;01massert\u001b[39;00m alt \u001b[38;5;129;01mis\u001b[39;00m \u001b[38;5;129;01mnot\u001b[39;00m \u001b[38;5;28;01mNone\u001b[39;00m\n\u001b[0;32m-> 1995\u001b[0m result \u001b[38;5;241m=\u001b[39m \u001b[38;5;28mself\u001b[39m\u001b[38;5;241m.\u001b[39m_agg_py_fallback(how, values, ndim\u001b[38;5;241m=\u001b[39mdata\u001b[38;5;241m.\u001b[39mndim, alt\u001b[38;5;241m=\u001b[39malt)\n\u001b[1;32m   1996\u001b[0m \u001b[38;5;28;01mreturn\u001b[39;00m result\n",
      "File \u001b[0;32m/opt/anaconda3/lib/python3.12/site-packages/pandas/core/groupby/groupby.py:1946\u001b[0m, in \u001b[0;36mGroupBy._agg_py_fallback\u001b[0;34m(self, how, values, ndim, alt)\u001b[0m\n\u001b[1;32m   1944\u001b[0m     msg \u001b[38;5;241m=\u001b[39m \u001b[38;5;124mf\u001b[39m\u001b[38;5;124m\"\u001b[39m\u001b[38;5;124magg function failed [how->\u001b[39m\u001b[38;5;132;01m{\u001b[39;00mhow\u001b[38;5;132;01m}\u001b[39;00m\u001b[38;5;124m,dtype->\u001b[39m\u001b[38;5;132;01m{\u001b[39;00mser\u001b[38;5;241m.\u001b[39mdtype\u001b[38;5;132;01m}\u001b[39;00m\u001b[38;5;124m]\u001b[39m\u001b[38;5;124m\"\u001b[39m\n\u001b[1;32m   1945\u001b[0m     \u001b[38;5;66;03m# preserve the kind of exception that raised\u001b[39;00m\n\u001b[0;32m-> 1946\u001b[0m     \u001b[38;5;28;01mraise\u001b[39;00m \u001b[38;5;28mtype\u001b[39m(err)(msg) \u001b[38;5;28;01mfrom\u001b[39;00m \u001b[38;5;21;01merr\u001b[39;00m\n\u001b[1;32m   1948\u001b[0m \u001b[38;5;28;01mif\u001b[39;00m ser\u001b[38;5;241m.\u001b[39mdtype \u001b[38;5;241m==\u001b[39m \u001b[38;5;28mobject\u001b[39m:\n\u001b[1;32m   1949\u001b[0m     res_values \u001b[38;5;241m=\u001b[39m res_values\u001b[38;5;241m.\u001b[39mastype(\u001b[38;5;28mobject\u001b[39m, copy\u001b[38;5;241m=\u001b[39m\u001b[38;5;28;01mFalse\u001b[39;00m)\n",
      "\u001b[0;31mTypeError\u001b[0m: agg function failed [how->mean,dtype->object]"
     ]
    }
   ],
   "source": []
  }
 ],
 "metadata": {
  "kernelspec": {
   "display_name": "Python 3 (ipykernel)",
   "language": "python",
   "name": "python3"
  },
  "language_info": {
   "codemirror_mode": {
    "name": "ipython",
    "version": 3
   },
   "file_extension": ".py",
   "mimetype": "text/x-python",
   "name": "python",
   "nbconvert_exporter": "python",
   "pygments_lexer": "ipython3",
   "version": "3.12.4"
  }
 },
 "nbformat": 4,
 "nbformat_minor": 5
}
