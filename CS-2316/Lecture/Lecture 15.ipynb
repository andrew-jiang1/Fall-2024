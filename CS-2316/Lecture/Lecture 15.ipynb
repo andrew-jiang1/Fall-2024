{
 "cells": [
  {
   "cell_type": "markdown",
   "id": "4fc4cdf5-8051-46b5-8557-ac4017cdad85",
   "metadata": {},
   "source": [
    "Lecture 15 Coding Exercise : Create a new class called Card that holds the rank and suit for a single playing card. The rank should be an integer between 0 and 12. The suit should be an integer between 0 and 3. \n",
    "\n",
    "\n",
    "Add a __repr__ method to make the object print out as a string similar to “Jack of Hearts”. Hint: include these lists in the __repr__ method so you can look up the values using the values as indexes.  \n",
    "ranks = [\"Two\",\"Three\",\"Four\",\"Five\",\"Six\",\"Seven\",\"Eight\",\"Nine\", \"Ten\",\"Jack\",\"Queen\",\"King\",\"Ace\"]\n",
    "suits = [\"Clubs\",\"Diamonds\",\"Hearts\",\"Spades\"]\n",
    "\n",
    "Add an __eq__ method to indicate a Card object is considered equal to another playing card if the rank and suit are the same. \n",
    "\n",
    "Add an  __lt__ method to indicate a Card object is considered less depending on its rank being lower. For equal ranks, the suit (0 to 3) would be compared.\n",
    "\n",
    "Test your class using the following code:\n",
    "card_list = [Card(10,0),Card(0,0), Card(11,1), Card(11,3)]\n",
    "card_list.sort() \n",
    "print(card_list[0] == card_list[1]) \n",
    "print(card_list)\n",
    "\n",
    "Output should be\n",
    "False\n",
    "[Two of Clubs, Queen of Clubs, King of Diamonds, King of Spades]\n"
   ]
  },
  {
   "cell_type": "code",
   "execution_count": 37,
   "id": "db08c9fd-0e59-4894-be9a-162327b4ea8a",
   "metadata": {},
   "outputs": [
    {
     "name": "stdout",
     "output_type": "stream",
     "text": [
      "False\n",
      "[King of Spades, King of Diamonds, Queen of Clubs, Two of Clubs]\n"
     ]
    }
   ],
   "source": [
    "class Card:\n",
    "    def __init__(self,ranks,suits):\n",
    "        self.rank = ranks\n",
    "        self.suit = suits\n",
    "        \n",
    "    def __repr__(self):\n",
    "        ranks = [\"Two\",\"Three\",\"Four\",\"Five\",\"Six\",\"Seven\",\"Eight\",\"Nine\", \"Ten\",\"Jack\",\"Queen\",\"King\",\"Ace\"]\n",
    "        suits = [\"Clubs\",\"Diamonds\",\"Hearts\",\"Spades\"]\n",
    "        return f\"{ranks[self.rank]} of {suits[self.suit]}\"\n",
    "        \n",
    "    def __eq__(self,other):\n",
    "        return self.rank == other.rank and self.suit == other.rank\n",
    "\n",
    "    def __lt__(self, other):\n",
    "        if self.rank == other.rank:\n",
    "            return self.suit >= other.suit\n",
    "        else:\n",
    "            return self.rank >= other.rank\n",
    "\n",
    "card_list = [Card(10,0),Card(0,0), Card(11,1), Card(11,3)]\n",
    "card_list.sort() \n",
    "print(card_list[0] == card_list[1]) \n",
    "print(card_list)\n",
    "\n",
    "    \n",
    "        "
   ]
  },
  {
   "cell_type": "code",
   "execution_count": null,
   "id": "36315c76-8107-4d31-ad8f-1efee544b368",
   "metadata": {},
   "outputs": [],
   "source": []
  }
 ],
 "metadata": {
  "kernelspec": {
   "display_name": "Python 3 (ipykernel)",
   "language": "python",
   "name": "python3"
  },
  "language_info": {
   "codemirror_mode": {
    "name": "ipython",
    "version": 3
   },
   "file_extension": ".py",
   "mimetype": "text/x-python",
   "name": "python",
   "nbconvert_exporter": "python",
   "pygments_lexer": "ipython3",
   "version": "3.12.4"
  }
 },
 "nbformat": 4,
 "nbformat_minor": 5
}
