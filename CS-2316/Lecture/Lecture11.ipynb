{
 "cells": [
  {
   "cell_type": "code",
   "execution_count": 7,
   "id": "65057e00-3b9b-4e60-9c4a-0e45ed00958e",
   "metadata": {},
   "outputs": [],
   "source": [
    "import numpy as np\n"
   ]
  },
  {
   "cell_type": "markdown",
   "id": "aaa8d809-dbbf-44de-b54d-b2763147389b",
   "metadata": {},
   "source": [
    "Lecture 11 Example 1"
   ]
  },
  {
   "cell_type": "code",
   "execution_count": 5,
   "id": "4e993b78-6368-4064-9a1d-b92a367c7577",
   "metadata": {},
   "outputs": [],
   "source": [
    "a1 = np.array([[1,2,3,4,5],[3,3,4,1,2]])"
   ]
  },
  {
   "cell_type": "code",
   "execution_count": 13,
   "id": "350b0a87-4b8f-4f11-9d53-bbd9c1a38e8d",
   "metadata": {},
   "outputs": [
    {
     "data": {
      "text/plain": [
       "array([1, 2, 4, 5, 4, 1, 2])"
      ]
     },
     "execution_count": 13,
     "metadata": {},
     "output_type": "execute_result"
    }
   ],
   "source": [
    "a2 = a1[a1 != 3]\n",
    "a2"
   ]
  },
  {
   "cell_type": "code",
   "execution_count": 11,
   "id": "8159bc06-0e03-44be-a64c-ba0fee7d226b",
   "metadata": {},
   "outputs": [
    {
     "data": {
      "text/plain": [
       "array([2, 4, 4, 2])"
      ]
     },
     "execution_count": 11,
     "metadata": {},
     "output_type": "execute_result"
    }
   ],
   "source": [
    "a3 = a1[a1 % 2 == 0 ]\n",
    "a3"
   ]
  },
  {
   "cell_type": "code",
   "execution_count": 9,
   "id": "2550a5c8-57cf-4a8f-ad0d-fd4b65663aec",
   "metadata": {},
   "outputs": [
    {
     "data": {
      "text/plain": [
       "array([4, 4])"
      ]
     },
     "execution_count": 9,
     "metadata": {},
     "output_type": "execute_result"
    }
   ],
   "source": [
    "import numpy as np\n",
    "a1 = np.array([[1,2,3,4,5],[3,3,4,1,2]])\n",
    "#a4 = a1[a1 % 2 ==0 and a1 > 3] # incorrect\n",
    "a4 = a1[(a1 % 2 == 0) & (a1 > 3)]\n",
    "a4\n",
    "\n"
   ]
  },
  {
   "cell_type": "code",
   "execution_count": null,
   "id": "1f51a21a-b0c6-492c-988b-045457cde8e5",
   "metadata": {},
   "outputs": [],
   "source": []
  }
 ],
 "metadata": {
  "kernelspec": {
   "display_name": "Python 3 (ipykernel)",
   "language": "python",
   "name": "python3"
  },
  "language_info": {
   "codemirror_mode": {
    "name": "ipython",
    "version": 3
   },
   "file_extension": ".py",
   "mimetype": "text/x-python",
   "name": "python",
   "nbconvert_exporter": "python",
   "pygments_lexer": "ipython3",
   "version": "3.12.4"
  }
 },
 "nbformat": 4,
 "nbformat_minor": 5
}
