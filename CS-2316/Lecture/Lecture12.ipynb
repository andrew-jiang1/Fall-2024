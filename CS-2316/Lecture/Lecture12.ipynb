{
 "cells": [
  {
   "cell_type": "raw",
   "id": "e5588602-bd2e-433d-a546-f39825c50d3f",
   "metadata": {},
   "source": []
  },
  {
   "cell_type": "code",
   "execution_count": 3,
   "id": "64a16f18-7eea-471f-92a6-d10835ed16cf",
   "metadata": {},
   "outputs": [],
   "source": [
    "import numpy as np\n",
    "import pandas as pd\n"
   ]
  },
  {
   "cell_type": "code",
   "execution_count": 5,
   "id": "53faca72-ef2a-4c71-8ee7-f07fa1b486cd",
   "metadata": {},
   "outputs": [
    {
     "data": {
      "text/plain": [
       "A    1\n",
       "B    2\n",
       "C    3\n",
       "dtype: int64"
      ]
     },
     "execution_count": 5,
     "metadata": {},
     "output_type": "execute_result"
    }
   ],
   "source": [
    "s1 = pd.Series([1,2,3], index = [\"A\",\"B\",\"C\"])\n",
    "s1"
   ]
  },
  {
   "cell_type": "code",
   "execution_count": 19,
   "id": "5447f0c7-222a-4ab6-9fe9-ac2c426da4c7",
   "metadata": {},
   "outputs": [
    {
     "data": {
      "text/plain": [
       "l    5\n",
       "o    4\n",
       "v    3\n",
       "e    2\n",
       "dtype: int64"
      ]
     },
     "execution_count": 19,
     "metadata": {},
     "output_type": "execute_result"
    }
   ],
   "source": [
    "s2 = pd.Series((np.arange(5,1,-1)),index = list(\"love\"))\n",
    "s2"
   ]
  },
  {
   "cell_type": "code",
   "execution_count": 23,
   "id": "7b698b18-8eb6-4213-a1d4-e46cdd22cdb8",
   "metadata": {},
   "outputs": [
    {
     "data": {
      "text/plain": [
       "e    2\n",
       "v    3\n",
       "o    4\n",
       "l    5\n",
       "dtype: int64"
      ]
     },
     "execution_count": 23,
     "metadata": {},
     "output_type": "execute_result"
    }
   ],
   "source": [
    "s3 = s2.sort_values()\n",
    "s3\n"
   ]
  },
  {
   "cell_type": "markdown",
   "id": "27267a15-f1ec-42e5-8aaa-f7c15dba5392",
   "metadata": {},
   "source": [
    "Lecture 12 Example 1 : Create a pandas series containing the numbers from 1 to 26 indexed by the letters ‘a’ through ‘z’. Then print out the third number and the number indexed by ‘q’.\n",
    "\n",
    "\n"
   ]
  },
  {
   "cell_type": "code",
   "execution_count": 48,
   "id": "8099f6d7-6888-431a-9fbb-a7d1d89dc58d",
   "metadata": {},
   "outputs": [
    {
     "data": {
      "text/plain": [
       "a     1\n",
       "b     2\n",
       "c     3\n",
       "d     4\n",
       "e     5\n",
       "f     6\n",
       "g     7\n",
       "h     8\n",
       "i     9\n",
       "j    10\n",
       "k    11\n",
       "l    12\n",
       "m    13\n",
       "n    14\n",
       "o    15\n",
       "p    16\n",
       "q    17\n",
       "r    18\n",
       "s    19\n",
       "t    20\n",
       "u    21\n",
       "v    22\n",
       "w    23\n",
       "x    24\n",
       "y    25\n",
       "z    26\n",
       "dtype: int64"
      ]
     },
     "execution_count": 48,
     "metadata": {},
     "output_type": "execute_result"
    }
   ],
   "source": [
    "import string\n",
    "pd1 = pd.Series(np.arange(1,27,1),index = list(string.ascii_lowercase))\n",
    "pd1"
   ]
  },
  {
   "cell_type": "code",
   "execution_count": 40,
   "id": "c3d99e6d-f772-43b2-baee-616501e60663",
   "metadata": {},
   "outputs": [
    {
     "data": {
      "text/plain": [
       "4"
      ]
     },
     "execution_count": 40,
     "metadata": {},
     "output_type": "execute_result"
    }
   ],
   "source": [
    "pd1.iloc[3]\n"
   ]
  },
  {
   "cell_type": "code",
   "execution_count": 44,
   "id": "9ec60f0b-95db-4d27-836b-613b6a1e3275",
   "metadata": {},
   "outputs": [
    {
     "data": {
      "text/plain": [
       "17"
      ]
     },
     "execution_count": 44,
     "metadata": {},
     "output_type": "execute_result"
    }
   ],
   "source": [
    "pd1.loc[\"q\"]"
   ]
  },
  {
   "cell_type": "code",
   "execution_count": 50,
   "id": "f0d42630-d403-4997-84ae-2f0f6d209ab8",
   "metadata": {},
   "outputs": [
    {
     "data": {
      "text/plain": [
       "a     1\n",
       "b     2\n",
       "c     3\n",
       "d     4\n",
       "e     5\n",
       "f     6\n",
       "g     7\n",
       "h     8\n",
       "i     9\n",
       "j    10\n",
       "k    11\n",
       "l    12\n",
       "m    13\n",
       "n    14\n",
       "o    15\n",
       "p    16\n",
       "q    17\n",
       "r    18\n",
       "s    19\n",
       "t    20\n",
       "u    21\n",
       "v    22\n",
       "w    23\n",
       "x    24\n",
       "y    25\n",
       "z    26\n",
       "Q    99\n",
       "dtype: int64"
      ]
     },
     "execution_count": 50,
     "metadata": {},
     "output_type": "execute_result"
    }
   ],
   "source": [
    "pd1.loc[\"Q\"] = 99\n",
    "pd1"
   ]
  },
  {
   "cell_type": "markdown",
   "id": "450c59ee-daba-4fe7-9bfe-0064fb7d48b7",
   "metadata": {},
   "source": [
    "Lecture 12 Example 2 : Create a pandas series,s_gt, containing 7 values evenly distributed from 1.0 to 2.0 including the endpoints indexed by the letters of “jackets”. Then add the value .5 (with index “G”) and the value .75 (with index “T”) to the series. \n"
   ]
  },
  {
   "cell_type": "code",
   "execution_count": 57,
   "id": "2de49377-9e41-4b0e-8535-1a83e2405c46",
   "metadata": {},
   "outputs": [
    {
     "data": {
      "text/plain": [
       "j    1.000000\n",
       "a    1.166667\n",
       "c    1.333333\n",
       "k    1.500000\n",
       "e    1.666667\n",
       "t    1.833333\n",
       "s    2.000000\n",
       "dtype: float64"
      ]
     },
     "execution_count": 57,
     "metadata": {},
     "output_type": "execute_result"
    }
   ],
   "source": [
    "s_gt = pd.Series(np.linspace(1,2,7),index = list(\"jackets\"))\n",
    "s_gt"
   ]
  },
  {
   "cell_type": "code",
   "execution_count": 61,
   "id": "14f4cde6-da79-4f4a-a303-ff82c1e3d064",
   "metadata": {},
   "outputs": [
    {
     "data": {
      "text/plain": [
       "j    1.000000\n",
       "a    1.166667\n",
       "c    1.333333\n",
       "k    1.500000\n",
       "e    1.666667\n",
       "t    1.833333\n",
       "s    2.000000\n",
       "G    0.500000\n",
       "T    0.750000\n",
       "dtype: float64"
      ]
     },
     "execution_count": 61,
     "metadata": {},
     "output_type": "execute_result"
    }
   ],
   "source": [
    "s_gt.loc[\"G\"] = 0.5\n",
    "s_gt.loc[\"T\"] = 0.75\n",
    "s_gt"
   ]
  },
  {
   "cell_type": "code",
   "execution_count": 87,
   "id": "476e423e-b7d7-42c3-8bf5-113e702bcf4f",
   "metadata": {},
   "outputs": [
    {
     "data": {
      "text/plain": [
       "j    4.000000\n",
       "a    4.166667\n",
       "c    4.333333\n",
       "k    4.500000\n",
       "e    4.666667\n",
       "t    4.833333\n",
       "s    5.000000\n",
       "dtype: float64"
      ]
     },
     "execution_count": 87,
     "metadata": {},
     "output_type": "execute_result"
    }
   ],
   "source": [
    "s4 = pd.Series(np.linspace(1,2,7),index = list(\"jackets\"))\n",
    "s4 += 3 \n",
    "s4\n",
    "\n"
   ]
  },
  {
   "cell_type": "code",
   "execution_count": 89,
   "id": "da206864-c784-4d53-a69e-cbfbd1debdc8",
   "metadata": {},
   "outputs": [
    {
     "data": {
      "text/plain": [
       "j     8.000000\n",
       "a     8.333333\n",
       "c     8.666667\n",
       "k     9.000000\n",
       "e     9.333333\n",
       "t     9.666667\n",
       "s    10.000000\n",
       "dtype: float64"
      ]
     },
     "execution_count": 89,
     "metadata": {},
     "output_type": "execute_result"
    }
   ],
   "source": [
    "s4 = s4 + s4\n",
    "s4"
   ]
  },
  {
   "cell_type": "markdown",
   "id": "3b65f9f3-ab4c-47e6-990d-77d2b9119817",
   "metadata": {},
   "source": [
    "Write one line of code to produce each of the following:\n",
    "\n",
    "A pandas series, s1, containing 4 numbers in the range from 1.0 to 2.5 (inclusive) in steps of .5 indexed by “a”,”b”,”c”,”d” - hint: use np.arange\n",
    "\n",
    "\n",
    "A pandas series, s2, containing only the first two elements of s1\n",
    "\n",
    "A changed s1 with a 1.0 added to the last element only (becoming 3.5)\n",
    "\n",
    "A changed s1 with an additional item at the end with value .5 indexed by “e”\n",
    "\n",
    "A changed s1 with all elements sorted by numeric value (ascending).\n",
    "\n"
   ]
  },
  {
   "cell_type": "code",
   "execution_count": 108,
   "id": "13df1200-052a-46ef-908a-4c8aae4bf291",
   "metadata": {},
   "outputs": [
    {
     "data": {
      "text/plain": [
       "e    0.5\n",
       "a    1.0\n",
       "b    1.5\n",
       "c    2.0\n",
       "d    3.5\n",
       "dtype: float64"
      ]
     },
     "execution_count": 108,
     "metadata": {},
     "output_type": "execute_result"
    }
   ],
   "source": [
    "s1 = pd.Series(np.arange(1.0,3.0,0.5),index = list(\"abcd\"))\n",
    "s2 = s1.head(2)\n",
    "s1.loc[\"d\"] += 1.0\n",
    "s1.loc[\"e\"] = 0.5\n",
    "s1.sort_values()"
   ]
  },
  {
   "cell_type": "code",
   "execution_count": 113,
   "id": "c2c20a5f-3637-47d6-b10d-44a529f403dc",
   "metadata": {},
   "outputs": [
    {
     "data": {
      "text/html": [
       "<div>\n",
       "<style scoped>\n",
       "    .dataframe tbody tr th:only-of-type {\n",
       "        vertical-align: middle;\n",
       "    }\n",
       "\n",
       "    .dataframe tbody tr th {\n",
       "        vertical-align: top;\n",
       "    }\n",
       "\n",
       "    .dataframe thead th {\n",
       "        text-align: right;\n",
       "    }\n",
       "</style>\n",
       "<table border=\"1\" class=\"dataframe\">\n",
       "  <thead>\n",
       "    <tr style=\"text-align: right;\">\n",
       "      <th></th>\n",
       "      <th>e</th>\n",
       "      <th>f</th>\n",
       "      <th>g</th>\n",
       "      <th>h</th>\n",
       "    </tr>\n",
       "  </thead>\n",
       "  <tbody>\n",
       "    <tr>\n",
       "      <th>A</th>\n",
       "      <td>1.0</td>\n",
       "      <td>1.0</td>\n",
       "      <td>1.0</td>\n",
       "      <td>1.0</td>\n",
       "    </tr>\n",
       "    <tr>\n",
       "      <th>B</th>\n",
       "      <td>1.0</td>\n",
       "      <td>1.0</td>\n",
       "      <td>1.0</td>\n",
       "      <td>1.0</td>\n",
       "    </tr>\n",
       "    <tr>\n",
       "      <th>C</th>\n",
       "      <td>1.0</td>\n",
       "      <td>1.0</td>\n",
       "      <td>1.0</td>\n",
       "      <td>1.0</td>\n",
       "    </tr>\n",
       "  </tbody>\n",
       "</table>\n",
       "</div>"
      ],
      "text/plain": [
       "     e    f    g    h\n",
       "A  1.0  1.0  1.0  1.0\n",
       "B  1.0  1.0  1.0  1.0\n",
       "C  1.0  1.0  1.0  1.0"
      ]
     },
     "execution_count": 113,
     "metadata": {},
     "output_type": "execute_result"
    }
   ],
   "source": [
    "df1 = pd.DataFrame(np.ones((3,4)), index=list('ABC'), columns=list('efgh'))\n",
    "df1"
   ]
  },
  {
   "cell_type": "code",
   "execution_count": 125,
   "id": "a1c25ace-44e8-4d57-bf84-f4c742d6968d",
   "metadata": {},
   "outputs": [
    {
     "data": {
      "text/html": [
       "<div>\n",
       "<style scoped>\n",
       "    .dataframe tbody tr th:only-of-type {\n",
       "        vertical-align: middle;\n",
       "    }\n",
       "\n",
       "    .dataframe tbody tr th {\n",
       "        vertical-align: top;\n",
       "    }\n",
       "\n",
       "    .dataframe thead th {\n",
       "        text-align: right;\n",
       "    }\n",
       "</style>\n",
       "<table border=\"1\" class=\"dataframe\">\n",
       "  <thead>\n",
       "    <tr style=\"text-align: right;\">\n",
       "      <th></th>\n",
       "      <th>Region</th>\n",
       "      <th>Population</th>\n",
       "      <th>Area (sq. mi.)</th>\n",
       "      <th>Pop. Density (per sq. mi.)</th>\n",
       "      <th>Coastline (coast/area ratio)</th>\n",
       "      <th>Net migration</th>\n",
       "      <th>Infant mortality (per 1000 births)</th>\n",
       "      <th>GDP ($ per capita)</th>\n",
       "      <th>Literacy (%)</th>\n",
       "      <th>Phones (per 1000)</th>\n",
       "      <th>Arable (%)</th>\n",
       "      <th>Crops (%)</th>\n",
       "      <th>Other (%)</th>\n",
       "      <th>Climate</th>\n",
       "      <th>Birthrate</th>\n",
       "      <th>Deathrate</th>\n",
       "      <th>Agriculture</th>\n",
       "      <th>Industry</th>\n",
       "      <th>Service</th>\n",
       "    </tr>\n",
       "    <tr>\n",
       "      <th>Country</th>\n",
       "      <th></th>\n",
       "      <th></th>\n",
       "      <th></th>\n",
       "      <th></th>\n",
       "      <th></th>\n",
       "      <th></th>\n",
       "      <th></th>\n",
       "      <th></th>\n",
       "      <th></th>\n",
       "      <th></th>\n",
       "      <th></th>\n",
       "      <th></th>\n",
       "      <th></th>\n",
       "      <th></th>\n",
       "      <th></th>\n",
       "      <th></th>\n",
       "      <th></th>\n",
       "      <th></th>\n",
       "      <th></th>\n",
       "    </tr>\n",
       "  </thead>\n",
       "  <tbody>\n",
       "    <tr>\n",
       "      <th>Afghanistan</th>\n",
       "      <td>ASIA (EX. NEAR EAST)</td>\n",
       "      <td>31056997</td>\n",
       "      <td>647500</td>\n",
       "      <td>48,0</td>\n",
       "      <td>0,00</td>\n",
       "      <td>23,06</td>\n",
       "      <td>163,07</td>\n",
       "      <td>700.0</td>\n",
       "      <td>36,0</td>\n",
       "      <td>3,2</td>\n",
       "      <td>12,13</td>\n",
       "      <td>0,22</td>\n",
       "      <td>87,65</td>\n",
       "      <td>1</td>\n",
       "      <td>46,6</td>\n",
       "      <td>20,34</td>\n",
       "      <td>0,38</td>\n",
       "      <td>0,24</td>\n",
       "      <td>0,38</td>\n",
       "    </tr>\n",
       "    <tr>\n",
       "      <th>Albania</th>\n",
       "      <td>EASTERN EUROPE</td>\n",
       "      <td>3581655</td>\n",
       "      <td>28748</td>\n",
       "      <td>124,6</td>\n",
       "      <td>1,26</td>\n",
       "      <td>-4,93</td>\n",
       "      <td>21,52</td>\n",
       "      <td>4500.0</td>\n",
       "      <td>86,5</td>\n",
       "      <td>71,2</td>\n",
       "      <td>21,09</td>\n",
       "      <td>4,42</td>\n",
       "      <td>74,49</td>\n",
       "      <td>3</td>\n",
       "      <td>15,11</td>\n",
       "      <td>5,22</td>\n",
       "      <td>0,232</td>\n",
       "      <td>0,188</td>\n",
       "      <td>0,579</td>\n",
       "    </tr>\n",
       "    <tr>\n",
       "      <th>Algeria</th>\n",
       "      <td>NORTHERN AFRICA</td>\n",
       "      <td>32930091</td>\n",
       "      <td>2381740</td>\n",
       "      <td>13,8</td>\n",
       "      <td>0,04</td>\n",
       "      <td>-0,39</td>\n",
       "      <td>31</td>\n",
       "      <td>6000.0</td>\n",
       "      <td>70,0</td>\n",
       "      <td>78,1</td>\n",
       "      <td>3,22</td>\n",
       "      <td>0,25</td>\n",
       "      <td>96,53</td>\n",
       "      <td>1</td>\n",
       "      <td>17,14</td>\n",
       "      <td>4,61</td>\n",
       "      <td>0,101</td>\n",
       "      <td>0,6</td>\n",
       "      <td>0,298</td>\n",
       "    </tr>\n",
       "    <tr>\n",
       "      <th>American Samoa</th>\n",
       "      <td>OCEANIA</td>\n",
       "      <td>57794</td>\n",
       "      <td>199</td>\n",
       "      <td>290,4</td>\n",
       "      <td>58,29</td>\n",
       "      <td>-20,71</td>\n",
       "      <td>9,27</td>\n",
       "      <td>8000.0</td>\n",
       "      <td>97,0</td>\n",
       "      <td>259,5</td>\n",
       "      <td>10</td>\n",
       "      <td>15</td>\n",
       "      <td>75</td>\n",
       "      <td>2</td>\n",
       "      <td>22,46</td>\n",
       "      <td>3,27</td>\n",
       "      <td>NaN</td>\n",
       "      <td>NaN</td>\n",
       "      <td>NaN</td>\n",
       "    </tr>\n",
       "    <tr>\n",
       "      <th>Andorra</th>\n",
       "      <td>WESTERN EUROPE</td>\n",
       "      <td>71201</td>\n",
       "      <td>468</td>\n",
       "      <td>152,1</td>\n",
       "      <td>0,00</td>\n",
       "      <td>6,6</td>\n",
       "      <td>4,05</td>\n",
       "      <td>19000.0</td>\n",
       "      <td>100,0</td>\n",
       "      <td>497,2</td>\n",
       "      <td>2,22</td>\n",
       "      <td>0</td>\n",
       "      <td>97,78</td>\n",
       "      <td>3</td>\n",
       "      <td>8,71</td>\n",
       "      <td>6,25</td>\n",
       "      <td>NaN</td>\n",
       "      <td>NaN</td>\n",
       "      <td>NaN</td>\n",
       "    </tr>\n",
       "    <tr>\n",
       "      <th>...</th>\n",
       "      <td>...</td>\n",
       "      <td>...</td>\n",
       "      <td>...</td>\n",
       "      <td>...</td>\n",
       "      <td>...</td>\n",
       "      <td>...</td>\n",
       "      <td>...</td>\n",
       "      <td>...</td>\n",
       "      <td>...</td>\n",
       "      <td>...</td>\n",
       "      <td>...</td>\n",
       "      <td>...</td>\n",
       "      <td>...</td>\n",
       "      <td>...</td>\n",
       "      <td>...</td>\n",
       "      <td>...</td>\n",
       "      <td>...</td>\n",
       "      <td>...</td>\n",
       "      <td>...</td>\n",
       "    </tr>\n",
       "    <tr>\n",
       "      <th>Wallis And Futuna</th>\n",
       "      <td>OCEANIA</td>\n",
       "      <td>16025</td>\n",
       "      <td>274</td>\n",
       "      <td>58,5</td>\n",
       "      <td>47,08</td>\n",
       "      <td>NaN</td>\n",
       "      <td>NaN</td>\n",
       "      <td>3700.0</td>\n",
       "      <td>50,0</td>\n",
       "      <td>118,6</td>\n",
       "      <td>5</td>\n",
       "      <td>25</td>\n",
       "      <td>70</td>\n",
       "      <td>2</td>\n",
       "      <td>NaN</td>\n",
       "      <td>NaN</td>\n",
       "      <td>NaN</td>\n",
       "      <td>NaN</td>\n",
       "      <td>NaN</td>\n",
       "    </tr>\n",
       "    <tr>\n",
       "      <th>Western Sahara</th>\n",
       "      <td>NORTHERN AFRICA</td>\n",
       "      <td>273008</td>\n",
       "      <td>266000</td>\n",
       "      <td>1,0</td>\n",
       "      <td>0,42</td>\n",
       "      <td>NaN</td>\n",
       "      <td>NaN</td>\n",
       "      <td>NaN</td>\n",
       "      <td>NaN</td>\n",
       "      <td>NaN</td>\n",
       "      <td>0,02</td>\n",
       "      <td>0</td>\n",
       "      <td>99,98</td>\n",
       "      <td>1</td>\n",
       "      <td>NaN</td>\n",
       "      <td>NaN</td>\n",
       "      <td>NaN</td>\n",
       "      <td>NaN</td>\n",
       "      <td>0,4</td>\n",
       "    </tr>\n",
       "    <tr>\n",
       "      <th>Yemen</th>\n",
       "      <td>NEAR EAST</td>\n",
       "      <td>21456188</td>\n",
       "      <td>527970</td>\n",
       "      <td>40,6</td>\n",
       "      <td>0,36</td>\n",
       "      <td>0</td>\n",
       "      <td>61,5</td>\n",
       "      <td>800.0</td>\n",
       "      <td>50,2</td>\n",
       "      <td>37,2</td>\n",
       "      <td>2,78</td>\n",
       "      <td>0,24</td>\n",
       "      <td>96,98</td>\n",
       "      <td>1</td>\n",
       "      <td>42,89</td>\n",
       "      <td>8,3</td>\n",
       "      <td>0,135</td>\n",
       "      <td>0,472</td>\n",
       "      <td>0,393</td>\n",
       "    </tr>\n",
       "    <tr>\n",
       "      <th>Zambia</th>\n",
       "      <td>SUB-SAHARAN AFRICA</td>\n",
       "      <td>11502010</td>\n",
       "      <td>752614</td>\n",
       "      <td>15,3</td>\n",
       "      <td>0,00</td>\n",
       "      <td>0</td>\n",
       "      <td>88,29</td>\n",
       "      <td>800.0</td>\n",
       "      <td>80,6</td>\n",
       "      <td>8,2</td>\n",
       "      <td>7,08</td>\n",
       "      <td>0,03</td>\n",
       "      <td>92,9</td>\n",
       "      <td>2</td>\n",
       "      <td>41</td>\n",
       "      <td>19,93</td>\n",
       "      <td>0,22</td>\n",
       "      <td>0,29</td>\n",
       "      <td>0,489</td>\n",
       "    </tr>\n",
       "    <tr>\n",
       "      <th>Zimbabwe</th>\n",
       "      <td>SUB-SAHARAN AFRICA</td>\n",
       "      <td>12236805</td>\n",
       "      <td>390580</td>\n",
       "      <td>31,3</td>\n",
       "      <td>0,00</td>\n",
       "      <td>0</td>\n",
       "      <td>67,69</td>\n",
       "      <td>1900.0</td>\n",
       "      <td>90,7</td>\n",
       "      <td>26,8</td>\n",
       "      <td>8,32</td>\n",
       "      <td>0,34</td>\n",
       "      <td>91,34</td>\n",
       "      <td>2</td>\n",
       "      <td>28,01</td>\n",
       "      <td>21,84</td>\n",
       "      <td>0,179</td>\n",
       "      <td>0,243</td>\n",
       "      <td>0,579</td>\n",
       "    </tr>\n",
       "  </tbody>\n",
       "</table>\n",
       "<p>216 rows × 19 columns</p>\n",
       "</div>"
      ],
      "text/plain": [
       "                                                Region  Population  \\\n",
       "Country                                                              \n",
       "Afghanistan              ASIA (EX. NEAR EAST)             31056997   \n",
       "Albania            EASTERN EUROPE                          3581655   \n",
       "Algeria            NORTHERN AFRICA                        32930091   \n",
       "American Samoa     OCEANIA                                   57794   \n",
       "Andorra            WESTERN EUROPE                            71201   \n",
       "...                                                ...         ...   \n",
       "Wallis And Futuna  OCEANIA                                   16025   \n",
       "Western Sahara     NORTHERN AFRICA                          273008   \n",
       "Yemen              NEAR EAST                              21456188   \n",
       "Zambia             SUB-SAHARAN AFRICA                     11502010   \n",
       "Zimbabwe           SUB-SAHARAN AFRICA                     12236805   \n",
       "\n",
       "                   Area (sq. mi.) Pop. Density (per sq. mi.)  \\\n",
       "Country                                                        \n",
       "Afghanistan                647500                       48,0   \n",
       "Albania                     28748                      124,6   \n",
       "Algeria                   2381740                       13,8   \n",
       "American Samoa                199                      290,4   \n",
       "Andorra                       468                      152,1   \n",
       "...                           ...                        ...   \n",
       "Wallis And Futuna             274                       58,5   \n",
       "Western Sahara             266000                        1,0   \n",
       "Yemen                      527970                       40,6   \n",
       "Zambia                     752614                       15,3   \n",
       "Zimbabwe                   390580                       31,3   \n",
       "\n",
       "                  Coastline (coast/area ratio) Net migration  \\\n",
       "Country                                                        \n",
       "Afghanistan                               0,00         23,06   \n",
       "Albania                                   1,26         -4,93   \n",
       "Algeria                                   0,04         -0,39   \n",
       "American Samoa                           58,29        -20,71   \n",
       "Andorra                                   0,00           6,6   \n",
       "...                                        ...           ...   \n",
       "Wallis And Futuna                        47,08           NaN   \n",
       "Western Sahara                            0,42           NaN   \n",
       "Yemen                                     0,36             0   \n",
       "Zambia                                    0,00             0   \n",
       "Zimbabwe                                  0,00             0   \n",
       "\n",
       "                  Infant mortality (per 1000 births)  GDP ($ per capita)  \\\n",
       "Country                                                                    \n",
       "Afghanistan                                   163,07               700.0   \n",
       "Albania                                        21,52              4500.0   \n",
       "Algeria                                           31              6000.0   \n",
       "American Samoa                                  9,27              8000.0   \n",
       "Andorra                                         4,05             19000.0   \n",
       "...                                              ...                 ...   \n",
       "Wallis And Futuna                                NaN              3700.0   \n",
       "Western Sahara                                   NaN                 NaN   \n",
       "Yemen                                           61,5               800.0   \n",
       "Zambia                                         88,29               800.0   \n",
       "Zimbabwe                                       67,69              1900.0   \n",
       "\n",
       "                  Literacy (%) Phones (per 1000) Arable (%) Crops (%)  \\\n",
       "Country                                                                 \n",
       "Afghanistan               36,0               3,2      12,13      0,22   \n",
       "Albania                   86,5              71,2      21,09      4,42   \n",
       "Algeria                   70,0              78,1       3,22      0,25   \n",
       "American Samoa            97,0             259,5         10        15   \n",
       "Andorra                  100,0             497,2       2,22         0   \n",
       "...                        ...               ...        ...       ...   \n",
       "Wallis And Futuna         50,0             118,6          5        25   \n",
       "Western Sahara             NaN               NaN       0,02         0   \n",
       "Yemen                     50,2              37,2       2,78      0,24   \n",
       "Zambia                    80,6               8,2       7,08      0,03   \n",
       "Zimbabwe                  90,7              26,8       8,32      0,34   \n",
       "\n",
       "                  Other (%) Climate Birthrate Deathrate Agriculture Industry  \\\n",
       "Country                                                                        \n",
       "Afghanistan           87,65       1      46,6     20,34        0,38     0,24   \n",
       "Albania               74,49       3     15,11      5,22       0,232    0,188   \n",
       "Algeria               96,53       1     17,14      4,61       0,101      0,6   \n",
       "American Samoa           75       2     22,46      3,27         NaN      NaN   \n",
       "Andorra               97,78       3      8,71      6,25         NaN      NaN   \n",
       "...                     ...     ...       ...       ...         ...      ...   \n",
       "Wallis And Futuna        70       2       NaN       NaN         NaN      NaN   \n",
       "Western Sahara        99,98       1       NaN       NaN         NaN      NaN   \n",
       "Yemen                 96,98       1     42,89       8,3       0,135    0,472   \n",
       "Zambia                 92,9       2        41     19,93        0,22     0,29   \n",
       "Zimbabwe              91,34       2     28,01     21,84       0,179    0,243   \n",
       "\n",
       "                  Service  \n",
       "Country                    \n",
       "Afghanistan          0,38  \n",
       "Albania             0,579  \n",
       "Algeria             0,298  \n",
       "American Samoa        NaN  \n",
       "Andorra               NaN  \n",
       "...                   ...  \n",
       "Wallis And Futuna     NaN  \n",
       "Western Sahara        0,4  \n",
       "Yemen               0,393  \n",
       "Zambia              0,489  \n",
       "Zimbabwe            0,579  \n",
       "\n",
       "[216 rows x 19 columns]"
      ]
     },
     "execution_count": 125,
     "metadata": {},
     "output_type": "execute_result"
    }
   ],
   "source": [
    "df = pd.read_csv(\"countries.csv\", delimiter = \",\", index_col = 0)\n",
    "df"
   ]
  },
  {
   "cell_type": "markdown",
   "id": "f6aaff4a-5ca7-496a-a446-a1c08f26e443",
   "metadata": {},
   "source": [
    "Lecture 12 Example 3 : Create the Pandas dataframe, pdnums (shown below), created from this nested list: [[1,2],[3,4],[5,6]].  "
   ]
  },
  {
   "cell_type": "code",
   "execution_count": 136,
   "id": "ee05191f-beae-41e8-a30d-affc1b2c109d",
   "metadata": {},
   "outputs": [
    {
     "data": {
      "text/html": [
       "<div>\n",
       "<style scoped>\n",
       "    .dataframe tbody tr th:only-of-type {\n",
       "        vertical-align: middle;\n",
       "    }\n",
       "\n",
       "    .dataframe tbody tr th {\n",
       "        vertical-align: top;\n",
       "    }\n",
       "\n",
       "    .dataframe thead th {\n",
       "        text-align: right;\n",
       "    }\n",
       "</style>\n",
       "<table border=\"1\" class=\"dataframe\">\n",
       "  <thead>\n",
       "    <tr style=\"text-align: right;\">\n",
       "      <th></th>\n",
       "      <th>1</th>\n",
       "      <th>2</th>\n",
       "    </tr>\n",
       "  </thead>\n",
       "  <tbody>\n",
       "    <tr>\n",
       "      <th>A</th>\n",
       "      <td>1</td>\n",
       "      <td>2</td>\n",
       "    </tr>\n",
       "    <tr>\n",
       "      <th>B</th>\n",
       "      <td>3</td>\n",
       "      <td>4</td>\n",
       "    </tr>\n",
       "    <tr>\n",
       "      <th>C</th>\n",
       "      <td>5</td>\n",
       "      <td>6</td>\n",
       "    </tr>\n",
       "  </tbody>\n",
       "</table>\n",
       "</div>"
      ],
      "text/plain": [
       "   1  2\n",
       "A  1  2\n",
       "B  3  4\n",
       "C  5  6"
      ]
     },
     "execution_count": 136,
     "metadata": {},
     "output_type": "execute_result"
    }
   ],
   "source": [
    "pdnums = pd.DataFrame([[1,2],[3,4],[5,6]],index = ['A','B','C'], columns = ['1','2'])\n",
    "pdnums"
   ]
  },
  {
   "cell_type": "code",
   "execution_count": 13,
   "id": "20285b36-9e67-4d7e-8312-69e3e14f0d37",
   "metadata": {},
   "outputs": [
    {
     "data": {
      "text/html": [
       "<div>\n",
       "<style scoped>\n",
       "    .dataframe tbody tr th:only-of-type {\n",
       "        vertical-align: middle;\n",
       "    }\n",
       "\n",
       "    .dataframe tbody tr th {\n",
       "        vertical-align: top;\n",
       "    }\n",
       "\n",
       "    .dataframe thead th {\n",
       "        text-align: right;\n",
       "    }\n",
       "</style>\n",
       "<table border=\"1\" class=\"dataframe\">\n",
       "  <thead>\n",
       "    <tr style=\"text-align: right;\">\n",
       "      <th></th>\n",
       "      <th>hi</th>\n",
       "    </tr>\n",
       "  </thead>\n",
       "  <tbody>\n",
       "    <tr>\n",
       "      <th>0</th>\n",
       "      <td>0</td>\n",
       "    </tr>\n",
       "    <tr>\n",
       "      <th>1</th>\n",
       "      <td>2</td>\n",
       "    </tr>\n",
       "    <tr>\n",
       "      <th>2</th>\n",
       "      <td>4</td>\n",
       "    </tr>\n",
       "    <tr>\n",
       "      <th>3</th>\n",
       "      <td>6</td>\n",
       "    </tr>\n",
       "    <tr>\n",
       "      <th>4</th>\n",
       "      <td>8</td>\n",
       "    </tr>\n",
       "  </tbody>\n",
       "</table>\n",
       "</div>"
      ],
      "text/plain": [
       "   hi\n",
       "0   0\n",
       "1   2\n",
       "2   4\n",
       "3   6\n",
       "4   8"
      ]
     },
     "execution_count": 13,
     "metadata": {},
     "output_type": "execute_result"
    }
   ],
   "source": []
  }
 ],
 "metadata": {
  "kernelspec": {
   "display_name": "Python 3 (ipykernel)",
   "language": "python",
   "name": "python3"
  },
  "language_info": {
   "codemirror_mode": {
    "name": "ipython",
    "version": 3
   },
   "file_extension": ".py",
   "mimetype": "text/x-python",
   "name": "python",
   "nbconvert_exporter": "python",
   "pygments_lexer": "ipython3",
   "version": "3.12.4"
  }
 },
 "nbformat": 4,
 "nbformat_minor": 5
}
