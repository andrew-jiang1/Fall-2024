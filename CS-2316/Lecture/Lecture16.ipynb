{
 "cells": [
  {
   "cell_type": "code",
   "execution_count": 54,
   "id": "5b89aa39-fbda-4cd2-95db-4dfb324bb9d2",
   "metadata": {},
   "outputs": [],
   "source": [
    "# Example from previous class\n",
    "import random\n",
    "class GTStudent:\n",
    "\tdef __init__(self, gtid, fname, lname): #initialize all the attributes\n",
    "\t\tself.gtid = gtid\n",
    "\t\tself.fname = fname\n",
    "\t\tself.lname = lname\n",
    "\t\tself.course_list = []\n",
    "\tdef add_course(self, course_name):   # a method for the GTStudent class\n",
    "\t\tself.course_list.append(course_name)\n",
    "\tdef __str__(self): # returns a str representation of a GTStudent\n",
    "\t\treturn f\"{self.gtid} is taking {len(self.course_list)}.\"\n",
    "\tdef __repr__(self): # returns a str representation of a GTStudent\n",
    "\t\treturn f\"{self.gtid}:{len(self.course_list)}\"\n",
    "\tdef __eq__(self,other):\n",
    "\t\treturn self.gtid == other.gtid\n",
    "\tdef __lt__(self,other):  # called when sorting\n",
    "\t\tif self.lname == other.lname:\n",
    "\t\t\treturn self.fname < other.fname\n",
    "\t\telse:\n",
    "\t\t\treturn self.lname < other.lname"
   ]
  },
  {
   "cell_type": "code",
   "execution_count": 17,
   "id": "f107fec7-d8b9-4343-bf21-9ec39d8005be",
   "metadata": {},
   "outputs": [
    {
     "name": "stdout",
     "output_type": "stream",
     "text": [
      "[[1, 2], [3, 4], [5, 6]]\n",
      "[[1, 2], [3, 4], [5, 6]]\n",
      "[[1, 22], [3, 4], [5, 6]]\n",
      "[[1, 22], [3, 4], [5, 6]]\n",
      "[[1, 2], [3, 4], [5, 6]]\n"
     ]
    }
   ],
   "source": [
    "mylists = [[1,2],[3,4]]\n",
    "yourlists = mylists\n",
    "mylists.append([5,6])\n",
    "print(mylists)\n",
    "print(yourlists)\n",
    "\n",
    "import copy\n",
    "hislists = copy.deepcopy(mylists)\n",
    "\n",
    "mylists[0][1] = 22\n",
    "print(mylists)\n",
    "print(yourlists)\n",
    "print(hislists)"
   ]
  },
  {
   "cell_type": "code",
   "execution_count": 37,
   "id": "438ecf03-e31a-491b-9ea0-04783a5b49ed",
   "metadata": {},
   "outputs": [
    {
     "name": "stdout",
     "output_type": "stream",
     "text": [
      "This card is a Five of Clubs\n",
      "[Three of Hearts, Five of Clubs]\n"
     ]
    }
   ],
   "source": [
    "class Card:\n",
    "        def __init__(self,rank,suit):\n",
    "                self.rank = rank\n",
    "                self.suit = suit\n",
    "        def __str__(self):\n",
    "                ranks = [\"Two\",\"Three\",\"Four\",\"Five\",\"Six\",\"Seven\",\"Eight\",\"Nine\", \"Ten\",\"Jack\",\"Queen\",\"King\",\"Ace\"]\n",
    "                suits = [\"Clubs\",\"Diamonds\",\"Hearts\",\"Spades\"]\n",
    "                return f\"This card is a {ranks[self.rank]} of {suits[self.suit]}\"\n",
    "\n",
    "        def __repr__(self):\n",
    "                ranks = [\"Two\",\"Three\",\"Four\",\"Five\",\"Six\",\"Seven\",\"Eight\",\n",
    "                         \"Nine\", \"Ten\",\"Jack\",\"Queen\",\"King\",\"Ace\"]\n",
    "                suits = [\"Clubs\",\"Diamonds\",\"Hearts\",\"Spades\"]\n",
    "                return f\"{ranks[self.rank]} of {suits[self.suit]}\"\n",
    "\n",
    "        def __eq__(self,other):\n",
    "                return self.rank==other.rank and self.suit == other.suit\n",
    "\n",
    "        def __lt__(self,other):\n",
    "                if self.rank == other.rank:\n",
    "                        return self.suit < other.suit\n",
    "                else:\n",
    "                        return self.rank < other.rank\n",
    "acard = Card(3,0)\n",
    "print(acard) # calls __str__ if there is one, if not calls __repr__\n",
    "print([Card(1,2),Card(3,0)]) # calls repr if there is one, if not uses memory locations\n"
   ]
  },
  {
   "cell_type": "markdown",
   "id": "cceb4b5a-d9e2-4f52-8dc0-b486bcd67bfd",
   "metadata": {},
   "source": [
    "# Lecture 16 Example 1\n",
    "\n",
    "Create a new class called Deck that only has one attribute, self.cards (a list of Card objects representing all 52 cards in a deck of cards). Write the __repr__ method for the Deck class too.\n"
   ]
  },
  {
   "cell_type": "code",
   "execution_count": 130,
   "id": "b50af9d9-78b9-4029-84fc-e9688703e276",
   "metadata": {},
   "outputs": [
    {
     "name": "stdout",
     "output_type": "stream",
     "text": [
      "[Two of Clubs, Two of Diamonds, Two of Hearts, Two of Spades, Three of Clubs, Three of Diamonds, Three of Hearts, Three of Spades, Four of Clubs, Four of Diamonds, Four of Hearts, Four of Spades, Five of Clubs, Five of Diamonds, Five of Hearts, Five of Spades, Six of Clubs, Six of Diamonds, Six of Hearts, Six of Spades, Seven of Clubs, Seven of Diamonds, Seven of Hearts, Seven of Spades, Eight of Clubs, Eight of Diamonds, Eight of Hearts, Eight of Spades, Nine of Clubs, Nine of Diamonds, Nine of Hearts, Nine of Spades, Ten of Clubs, Ten of Diamonds, Ten of Hearts, Ten of Spades, Jack of Clubs, Jack of Diamonds, Jack of Hearts, Jack of Spades, Queen of Clubs, Queen of Diamonds, Queen of Hearts, Queen of Spades, King of Clubs, King of Diamonds, King of Hearts, King of Spades, Ace of Clubs, Ace of Diamonds, Ace of Hearts, Ace of Spades]\n"
     ]
    }
   ],
   "source": [
    "class Deck:\n",
    "    def __init__(self):\n",
    "        self.cards = [Card(rank,suit) for rank in range(13)for suit in range(4)] # list comprehension\n",
    "\n",
    "\n",
    "    def __repr__(self):\n",
    "        return str(self.cards)\n",
    "\n",
    "    def deal_random(self):       # removes card after dealing\n",
    "        random_place = random.randint(0, len(self.cards)-1)\n",
    "        dealt_card = self.cards[random_place]\n",
    "        del self.cards[random_place]\n",
    "        return dealt_card\n",
    "    def shuffle(self):\n",
    "        num_cards = len(self.cards)\n",
    "        for i in range(num_cards):\n",
    "            j = random.randint(0, num_cards-1)\n",
    "            (self.cards[i], self.cards[j]) = (self.cards[j], self.cards[i])\n",
    "\n",
    "        \n",
    "\n",
    "\n",
    "\n",
    "d = Deck()\n",
    "print(d)\n"
   ]
  },
  {
   "cell_type": "code",
   "execution_count": null,
   "id": "14c7da67-3019-46de-a0a6-bd572232df7b",
   "metadata": {},
   "outputs": [],
   "source": []
  },
  {
   "cell_type": "markdown",
   "id": "a970a5b2-1e56-4823-ac63-64ec2c5a3716",
   "metadata": {},
   "source": [
    "Lecture 16 Example 2:\n",
    "\n",
    "Write a method for the Deck class called deal_random that returns a random Card object from self.cards of the Deck class and removes that Card object from the list of cards."
   ]
  },
  {
   "cell_type": "code",
   "execution_count": 70,
   "id": "4145f9ad-2374-4e40-9767-04bb0504109f",
   "metadata": {},
   "outputs": [
    {
     "name": "stdout",
     "output_type": "stream",
     "text": [
      "This card is a Seven of Hearts\n"
     ]
    }
   ],
   "source": [
    "print(d.deal_random())"
   ]
  },
  {
   "cell_type": "markdown",
   "id": "7ea2734b-e213-41af-b54c-7a0e230deb6f",
   "metadata": {},
   "source": [
    "Lecture 16 Example 3:\n",
    "\n",
    "Write a shuffle method for the Deck class that randomizes the self.cards list. Do not return anything."
   ]
  },
  {
   "cell_type": "code",
   "execution_count": null,
   "id": "5265bc28-91c0-4524-94a8-ae053957ccaa",
   "metadata": {},
   "outputs": [],
   "source": []
  },
  {
   "cell_type": "markdown",
   "id": "e021a003-8770-40f8-b180-88719a9c58f8",
   "metadata": {},
   "source": [
    "Lecture 16 Coding Exercise:\n",
    "\n",
    "Create a deck of cards called mydeck.\n",
    "Shuffle the deck of cards called mydeck. \n",
    "Print out the first card in the deck of cards called mydeck.\n",
    "Randomly deal one card called mycard from the deck of cards. \n",
    "Randomly deal one card called yourcard from the deck of cards.\n",
    "Print “YOU WIN” if yourcard is higher otherwise print “I WIN”\n",
    "Create a hand of 5 cards called myhand (hint: use a list comprehension that includes the deal_random method)\n",
    "\n"
   ]
  },
  {
   "cell_type": "code",
   "execution_count": 174,
   "id": "e8493cf6-baeb-4683-8209-bd0be9f99088",
   "metadata": {},
   "outputs": [
    {
     "name": "stdout",
     "output_type": "stream",
     "text": [
      "This card is a Five of Diamonds\n",
      "This card is a Nine of Clubs\n",
      "This card is a Ace of Diamonds\n",
      "I WIN\n"
     ]
    }
   ],
   "source": [
    "mydeck = Deck()\n",
    "mydeck.shuffle()\n",
    "fcard = mydeck.cards[0]\n",
    "yourcard = mydeck.deal_random()\n",
    "mycard = mydeck.deal_random()\n",
    "print(\"YOU WIN\" if yourcard > mycard else \"I WIN\")\n",
    "myhand = [\n",
    "\n",
    "print(fcard)\n",
    "print(yourcard)\n",
    "print(mycard)\n",
    "print(\"YOU WIN\" if yourcard > mycard else \"I WIN\")\n"
   ]
  },
  {
   "cell_type": "code",
   "execution_count": 180,
   "id": "a94754a1-d6c3-4568-b369-12b9257e18b0",
   "metadata": {},
   "outputs": [
    {
     "name": "stdout",
     "output_type": "stream",
     "text": [
      "False\n"
     ]
    }
   ],
   "source": [
    "class GTStudent:\n",
    "     def __init__(self, gtid, fname, lname):\n",
    "        self.gtid = gtid\n",
    "        self.fname = fname\n",
    "        self.lname = lname\n",
    "        self.course_list = []\n",
    "     def __str__(self):\n",
    "         return self.fname\n",
    "     def __repr__(self):\n",
    "         return self.lname\n",
    "\n",
    "athena = GTStudent(\"903121234\",\"Athena\",\"Malek\")\n",
    "\n",
    "alist = [athena, GTStudent(\"903121234\",\"Athena\",\"Malek\")]\n",
    "\n",
    "print(alist[1] == athena)"
   ]
  },
  {
   "cell_type": "code",
   "execution_count": null,
   "id": "4a109ccb-33c2-41a8-b058-5330ccacd812",
   "metadata": {},
   "outputs": [],
   "source": []
  }
 ],
 "metadata": {
  "kernelspec": {
   "display_name": "Python 3 (ipykernel)",
   "language": "python",
   "name": "python3"
  },
  "language_info": {
   "codemirror_mode": {
    "name": "ipython",
    "version": 3
   },
   "file_extension": ".py",
   "mimetype": "text/x-python",
   "name": "python",
   "nbconvert_exporter": "python",
   "pygments_lexer": "ipython3",
   "version": "3.12.4"
  }
 },
 "nbformat": 4,
 "nbformat_minor": 5
}
