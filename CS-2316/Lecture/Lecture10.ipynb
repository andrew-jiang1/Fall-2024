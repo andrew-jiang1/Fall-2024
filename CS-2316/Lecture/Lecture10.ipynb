{
 "cells": [
  {
   "cell_type": "code",
   "execution_count": 3,
   "id": "5c0856d8-c6e9-4d97-92a1-ae05a611abc7",
   "metadata": {},
   "outputs": [],
   "source": [
    "import numpy as np"
   ]
  },
  {
   "cell_type": "code",
   "execution_count": 19,
   "id": "5a6ec1a7-8428-4745-8478-652bb230cd41",
   "metadata": {},
   "outputs": [
    {
     "name": "stdout",
     "output_type": "stream",
     "text": [
      "[[1. 2.]\n",
      " [2. 1.]\n",
      " [1. 1.]]\n"
     ]
    }
   ],
   "source": [
    "arr = np.array([[1,2],[2,1],[1,1,]],dtype = float, ndmin = 2)\n",
    "print(arr)"
   ]
  },
  {
   "cell_type": "markdown",
   "id": "225e744c-8e3b-4ccb-9a5a-6fb3d07a976e",
   "metadata": {},
   "source": [
    "Create a Numpy Array that contains exactly 20 values evenly spaced from -1.0 to 1.0 inclusive."
   ]
  },
  {
   "cell_type": "code",
   "execution_count": 44,
   "id": "e221d691-580f-469f-b794-22560171125d",
   "metadata": {},
   "outputs": [
    {
     "name": "stdout",
     "output_type": "stream",
     "text": [
      "[-1.         -0.89473684 -0.78947368 -0.68421053 -0.57894737 -0.47368421\n",
      " -0.36842105 -0.26315789 -0.15789474 -0.05263158  0.05263158  0.15789474\n",
      "  0.26315789  0.36842105  0.47368421  0.57894737  0.68421053  0.78947368\n",
      "  0.89473684  1.        ]\n"
     ]
    }
   ],
   "source": [
    "err = np.linspace(-1,1,20)\n",
    "print(err)"
   ]
  },
  {
   "cell_type": "code",
   "execution_count": 58,
   "id": "70d560bc-1b2e-40d1-92ee-cc7e6a39ac68",
   "metadata": {},
   "outputs": [
    {
     "data": {
      "text/plain": [
       "6"
      ]
     },
     "execution_count": 58,
     "metadata": {},
     "output_type": "execute_result"
    }
   ],
   "source": [
    "a1 = np.array([[1,2,3],[4,5,6]])\n",
    "a1[1,2]\n"
   ]
  },
  {
   "cell_type": "code",
   "execution_count": 74,
   "id": "4ba1e3fa-80df-4d67-93d0-3df94754de24",
   "metadata": {},
   "outputs": [
    {
     "data": {
      "text/plain": [
       "array([[2],\n",
       "       [5]])"
      ]
     },
     "execution_count": 74,
     "metadata": {},
     "output_type": "execute_result"
    }
   ],
   "source": [
    "a1 = np.array([[1,2,3],[4,5,6]])\n",
    "a1[0:2,1:2]\n",
    "\n"
   ]
  },
  {
   "cell_type": "markdown",
   "id": "6872a50c-0b00-405a-a542-f425c7a13d36",
   "metadata": {},
   "source": [
    " Example 2: "
   ]
  },
  {
   "cell_type": "code",
   "execution_count": 90,
   "id": "4e5587cc-5259-4128-bd7c-8e00d01ba089",
   "metadata": {},
   "outputs": [
    {
     "name": "stdout",
     "output_type": "stream",
     "text": [
      "[[ 2  3  4]\n",
      " [ 5  6  7]\n",
      " [ 8  9 10]\n",
      " [ 2  3 13]]\n"
     ]
    }
   ],
   "source": [
    "arr1 = np.array([[1,2,3],[4,5,6],[7,8,9],[1,2,12]])\n",
    "arr2 = arr1 + 1\n",
    "print(arr2)"
   ]
  },
  {
   "cell_type": "markdown",
   "id": "b9889918-8d90-4b69-8daa-4663af685200",
   "metadata": {},
   "source": [
    "Example 3:"
   ]
  },
  {
   "cell_type": "code",
   "execution_count": 102,
   "id": "b0e685a4-d196-41b4-81a2-08bf45aff4cd",
   "metadata": {},
   "outputs": [
    {
     "data": {
      "text/plain": [
       "array([ 5, 10, 60])"
      ]
     },
     "execution_count": 102,
     "metadata": {},
     "output_type": "execute_result"
    }
   ],
   "source": [
    "arr2 = arr1[-1] * 5\n",
    "arr2\n"
   ]
  },
  {
   "cell_type": "code",
   "execution_count": 106,
   "id": "439e10b6-8917-4b49-ac0e-95f1e4f16386",
   "metadata": {},
   "outputs": [
    {
     "data": {
      "text/plain": [
       "array([ 5, 10, 60])"
      ]
     },
     "execution_count": 106,
     "metadata": {},
     "output_type": "execute_result"
    }
   ],
   "source": [
    "arr3 = arr2.copy()\n",
    "arr3\n"
   ]
  },
  {
   "cell_type": "code",
   "execution_count": 108,
   "id": "4cf7498b-37c4-4f6b-bdb0-e84aa021e8ea",
   "metadata": {},
   "outputs": [
    {
     "data": {
      "text/plain": [
       "array([[ 5],\n",
       "       [10],\n",
       "       [60]])"
      ]
     },
     "execution_count": 108,
     "metadata": {},
     "output_type": "execute_result"
    }
   ],
   "source": [
    "arr4 = arr3.reshape(3,1)\n",
    "arr4"
   ]
  },
  {
   "cell_type": "code",
   "execution_count": null,
   "id": "e1620ad9-0be6-4ad8-9a88-b7f0b63dab34",
   "metadata": {},
   "outputs": [],
   "source": []
  },
  {
   "cell_type": "code",
   "execution_count": 174,
   "id": "6d2672fd-081d-4a61-a956-f6343e81a26d",
   "metadata": {},
   "outputs": [
    {
     "data": {
      "text/plain": [
       "array([[0.85851333, 0.0591563 , 0.98222809, 0.86500924],\n",
       "       [0.71711718, 0.56823941, 0.16454823, 0.26653598],\n",
       "       [0.65525973, 0.39573076, 0.91162973, 0.15367719]])"
      ]
     },
     "execution_count": 174,
     "metadata": {},
     "output_type": "execute_result"
    }
   ],
   "source": [
    "arr1 = np.random.random((3,4))\n",
    "arr1"
   ]
  },
  {
   "cell_type": "code",
   "execution_count": 118,
   "id": "97b7fea7-41f4-4171-838c-cfa9d1402b0a",
   "metadata": {},
   "outputs": [
    {
     "data": {
      "text/plain": [
       "array([10.        , 10.90909091, 11.81818182, 12.72727273, 13.63636364,\n",
       "       14.54545455, 15.45454545, 16.36363636, 17.27272727, 18.18181818,\n",
       "       19.09090909, 20.        ])"
      ]
     },
     "execution_count": 118,
     "metadata": {},
     "output_type": "execute_result"
    }
   ],
   "source": [
    "arr2 = np.linspace(10,20,12)\n",
    "arr2"
   ]
  },
  {
   "cell_type": "code",
   "execution_count": 120,
   "id": "a2b5c12a-5e1e-4261-80cb-37b07ad1920c",
   "metadata": {},
   "outputs": [
    {
     "data": {
      "text/plain": [
       "array([[10.        , 10.90909091, 11.81818182, 12.72727273],\n",
       "       [13.63636364, 14.54545455, 15.45454545, 16.36363636],\n",
       "       [17.27272727, 18.18181818, 19.09090909, 20.        ]])"
      ]
     },
     "execution_count": 120,
     "metadata": {},
     "output_type": "execute_result"
    }
   ],
   "source": [
    "arr2 = arr2.reshape(3,4)\n",
    "arr2"
   ]
  },
  {
   "cell_type": "code",
   "execution_count": 180,
   "id": "b207bd62-a355-4a8e-bc8c-cf0afcc45528",
   "metadata": {},
   "outputs": [
    {
     "data": {
      "text/plain": [
       "array([[10.85851333],\n",
       "       [14.35348081],\n",
       "       [17.92798701]])"
      ]
     },
     "execution_count": 180,
     "metadata": {},
     "output_type": "execute_result"
    }
   ],
   "source": [
    "arr3 = arr1 + arr2\n",
    "arr3\n",
    "arr3[0:3,0:1]"
   ]
  },
  {
   "cell_type": "code",
   "execution_count": 194,
   "id": "c2186385-85c5-4ab0-bf50-2e774bea43fa",
   "metadata": {},
   "outputs": [
    {
     "data": {
      "text/plain": [
       "array([1, 2, 5, 1, 2])"
      ]
     },
     "execution_count": 194,
     "metadata": {},
     "output_type": "execute_result"
    }
   ],
   "source": [
    "a1 = np.array([[1,2,3,4,5],[3,3,4,1,2]]) \n",
    "a1[(a1 != 3) & (a1 != 4)]"
   ]
  },
  {
   "cell_type": "markdown",
   "id": "b2c55037-2879-4875-9f0e-042398ecec53",
   "metadata": {},
   "source": [
    "Lecture 10 Example 4"
   ]
  },
  {
   "cell_type": "code",
   "execution_count": 198,
   "id": "ceab2290-344a-4ec0-afc4-039cef1eaa54",
   "metadata": {},
   "outputs": [],
   "source": [
    "arr1 = np.array([[1,2,3],[4,5,6],[7,8,9],[1,2,12]])"
   ]
  },
  {
   "cell_type": "code",
   "execution_count": 202,
   "id": "a5bec730-8e41-424d-a532-b53782ac4d48",
   "metadata": {},
   "outputs": [
    {
     "data": {
      "text/plain": [
       "array([3, 4, 5, 6, 7, 8])"
      ]
     },
     "execution_count": 202,
     "metadata": {},
     "output_type": "execute_result"
    }
   ],
   "source": [
    "arr1[(arr1>2) & (arr1<9)]"
   ]
  },
  {
   "cell_type": "code",
   "execution_count": 25,
   "id": "7652db43-61a6-47e5-a4ea-4dce5ea76ee8",
   "metadata": {},
   "outputs": [
    {
     "data": {
      "text/plain": [
       "array([0, 6, 9])"
      ]
     },
     "execution_count": 25,
     "metadata": {},
     "output_type": "execute_result"
    }
   ],
   "source": [
    "arr = np.arange(0,20,3)\n",
    "arr[(arr != 3) & (arr <12)]"
   ]
  },
  {
   "cell_type": "code",
   "execution_count": 27,
   "id": "82650ab9-0609-4954-867b-f7473fe1f061",
   "metadata": {},
   "outputs": [
    {
     "ename": "ValueError",
     "evalue": "cannot reshape array of size 6 into shape (4,4)",
     "output_type": "error",
     "traceback": [
      "\u001b[0;31m---------------------------------------------------------------------------\u001b[0m",
      "\u001b[0;31mValueError\u001b[0m                                Traceback (most recent call last)",
      "Cell \u001b[0;32mIn[27], line 2\u001b[0m\n\u001b[1;32m      1\u001b[0m arr \u001b[38;5;241m=\u001b[39m np\u001b[38;5;241m.\u001b[39marray([\u001b[38;5;241m1\u001b[39m, \u001b[38;5;241m2\u001b[39m, \u001b[38;5;241m3\u001b[39m, \u001b[38;5;241m4\u001b[39m, \u001b[38;5;241m5\u001b[39m, \u001b[38;5;241m6\u001b[39m])\n\u001b[0;32m----> 2\u001b[0m arr\u001b[38;5;241m.\u001b[39mreshape((\u001b[38;5;241m4\u001b[39m,\u001b[38;5;241m4\u001b[39m))\n",
      "\u001b[0;31mValueError\u001b[0m: cannot reshape array of size 6 into shape (4,4)"
     ]
    }
   ],
   "source": [
    "arr = np.array([1, 2, 3, 4, 5, 6])"
   ]
  }
 ],
 "metadata": {
  "kernelspec": {
   "display_name": "Python 3 (ipykernel)",
   "language": "python",
   "name": "python3"
  },
  "language_info": {
   "codemirror_mode": {
    "name": "ipython",
    "version": 3
   },
   "file_extension": ".py",
   "mimetype": "text/x-python",
   "name": "python",
   "nbconvert_exporter": "python",
   "pygments_lexer": "ipython3",
   "version": "3.12.4"
  }
 },
 "nbformat": 4,
 "nbformat_minor": 5
}
